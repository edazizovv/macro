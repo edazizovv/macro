{
 "cells": [
  {
   "cell_type": "code",
   "execution_count": 270,
   "id": "1d9aa238-dd18-4491-be38-afe001d7cf65",
   "metadata": {},
   "outputs": [],
   "source": [
    "#\n",
    "import pandas\n",
    "from statsmodels.tsa.seasonal import MSTL\n",
    "from matplotlib import pyplot\n",
    "from scipy import stats\n",
    "import seaborn\n",
    "#\n",
    "import numpy\n",
    "from sklearn.ensemble import RandomForestRegressor\n",
    "\n",
    "#\n",
    "from sklearn.preprocessing import KBinsDiscretizer\n",
    "from sklearn.feature_selection import mutual_info_regression\n",
    "from sklearn.metrics import mutual_info_score\n",
    "from scipy.stats import kendalltau\n",
    "from sklearn.preprocessing import TargetEncoder\n",
    "from sklearn.preprocessing import PowerTransformer\n",
    "\n",
    "import umap\n",
    "import hdbscan\n",
    "# from umap.parametric_umap import ParametricUMAP\n",
    "from sklearn.decomposition import PCA, SparsePCA, KernelPCA"
   ]
  },
  {
   "cell_type": "code",
   "execution_count": 192,
   "id": "d85a12a8-f654-4808-89dc-a5aff56cb3c5",
   "metadata": {},
   "outputs": [
    {
     "data": {
      "text/html": [
       "<div>\n",
       "<style scoped>\n",
       "    .dataframe tbody tr th:only-of-type {\n",
       "        vertical-align: middle;\n",
       "    }\n",
       "\n",
       "    .dataframe tbody tr th {\n",
       "        vertical-align: top;\n",
       "    }\n",
       "\n",
       "    .dataframe thead th {\n",
       "        text-align: right;\n",
       "    }\n",
       "</style>\n",
       "<table border=\"1\" class=\"dataframe\">\n",
       "  <thead>\n",
       "    <tr style=\"text-align: right;\">\n",
       "      <th></th>\n",
       "      <th>DATE</th>\n",
       "      <th>TSIFRGHT</th>\n",
       "    </tr>\n",
       "  </thead>\n",
       "  <tbody>\n",
       "    <tr>\n",
       "      <th>0</th>\n",
       "      <td>2000-01-01</td>\n",
       "      <td>105.1</td>\n",
       "    </tr>\n",
       "    <tr>\n",
       "      <th>1</th>\n",
       "      <td>2000-02-01</td>\n",
       "      <td>103.3</td>\n",
       "    </tr>\n",
       "    <tr>\n",
       "      <th>2</th>\n",
       "      <td>2000-03-01</td>\n",
       "      <td>99.7</td>\n",
       "    </tr>\n",
       "    <tr>\n",
       "      <th>3</th>\n",
       "      <td>2000-04-01</td>\n",
       "      <td>97.9</td>\n",
       "    </tr>\n",
       "    <tr>\n",
       "      <th>4</th>\n",
       "      <td>2000-05-01</td>\n",
       "      <td>98.8</td>\n",
       "    </tr>\n",
       "    <tr>\n",
       "      <th>...</th>\n",
       "      <td>...</td>\n",
       "      <td>...</td>\n",
       "    </tr>\n",
       "    <tr>\n",
       "      <th>279</th>\n",
       "      <td>2023-04-01</td>\n",
       "      <td>136.0</td>\n",
       "    </tr>\n",
       "    <tr>\n",
       "      <th>280</th>\n",
       "      <td>2023-05-01</td>\n",
       "      <td>136.8</td>\n",
       "    </tr>\n",
       "    <tr>\n",
       "      <th>281</th>\n",
       "      <td>2023-06-01</td>\n",
       "      <td>136.8</td>\n",
       "    </tr>\n",
       "    <tr>\n",
       "      <th>282</th>\n",
       "      <td>2023-07-01</td>\n",
       "      <td>138.2</td>\n",
       "    </tr>\n",
       "    <tr>\n",
       "      <th>283</th>\n",
       "      <td>2023-08-01</td>\n",
       "      <td>138.5</td>\n",
       "    </tr>\n",
       "  </tbody>\n",
       "</table>\n",
       "<p>284 rows × 2 columns</p>\n",
       "</div>"
      ],
      "text/plain": [
       "          DATE  TSIFRGHT\n",
       "0   2000-01-01     105.1\n",
       "1   2000-02-01     103.3\n",
       "2   2000-03-01      99.7\n",
       "3   2000-04-01      97.9\n",
       "4   2000-05-01      98.8\n",
       "..         ...       ...\n",
       "279 2023-04-01     136.0\n",
       "280 2023-05-01     136.8\n",
       "281 2023-06-01     136.8\n",
       "282 2023-07-01     138.2\n",
       "283 2023-08-01     138.5\n",
       "\n",
       "[284 rows x 2 columns]"
      ]
     },
     "execution_count": 192,
     "metadata": {},
     "output_type": "execute_result"
    }
   ],
   "source": [
    "# driver = 'JTU5300QUL'\n",
    "# driver = 'QUSR628BIS'\n",
    "# driver = 'RAILFRTCARLOADSD11'\n",
    "# driver = 'FRGSHPUSM649NCIS'\n",
    "driver = 'TSIFRGHT'\n",
    "# driver = 'AIRRTMFMD11'\n",
    "# driver = 'CUUR0000SEHA'\n",
    "series = pandas.read_csv('./data/{0}.csv'.format(driver))\n",
    "# series = data[[driver]].copy()\n",
    "# series = series.reset_index().rename(columns={'jx': 'ds', driver: 'y'})\n",
    "series = series.rename(columns={'DATE': 'ds', driver: 'y'})\n",
    "series['ds'] = pandas.to_datetime(series['ds'])\n",
    "series['y'] = series['y'].apply(func=lambda x: pandas.NA if x == '.' else x)\n",
    "series['y'] = series['y'].ffill()\n",
    "series['y'] = pandas.to_numeric(series['y'])\n",
    "series = series[series['ds'] > '1970-01-01']\n",
    "series = series.rename(columns={'ds': 'DATE', 'y': driver})\n",
    "# series['y'] = series['y'].pct_change()\n",
    "# series = series[series['ds'] > '2000-01-01']\n",
    "series"
   ]
  },
  {
   "cell_type": "code",
   "execution_count": 193,
   "id": "0a212d4f-e341-4b4e-941e-0698acf0e0bb",
   "metadata": {},
   "outputs": [
    {
     "data": {
      "text/html": [
       "<div>\n",
       "<style scoped>\n",
       "    .dataframe tbody tr th:only-of-type {\n",
       "        vertical-align: middle;\n",
       "    }\n",
       "\n",
       "    .dataframe tbody tr th {\n",
       "        vertical-align: top;\n",
       "    }\n",
       "\n",
       "    .dataframe thead th {\n",
       "        text-align: right;\n",
       "    }\n",
       "</style>\n",
       "<table border=\"1\" class=\"dataframe\">\n",
       "  <thead>\n",
       "    <tr style=\"text-align: right;\">\n",
       "      <th></th>\n",
       "      <th>jx</th>\n",
       "      <th>A091RC1Q027SBEA</th>\n",
       "      <th>A229RX0</th>\n",
       "      <th>A824RL1Q225SBEA</th>\n",
       "      <th>AAA</th>\n",
       "      <th>AIRRTMFMD11</th>\n",
       "      <th>AWHAERT</th>\n",
       "      <th>AWHMAN</th>\n",
       "      <th>BAA</th>\n",
       "      <th>BAMLC0A0CM</th>\n",
       "      <th>...</th>\n",
       "      <th>TERMCBCCINTNS__full_binners_20_smile</th>\n",
       "      <th>TLT__full_binners_20_smile</th>\n",
       "      <th>TLT_MEAN__full_binners_20_smile</th>\n",
       "      <th>TOTALSA__full_binners_20_smile</th>\n",
       "      <th>TSIFRGHT__full_binners_20_smile</th>\n",
       "      <th>UNRATE__full_binners_20_smile</th>\n",
       "      <th>USACPIALLMINMEI__full_binners_20_smile</th>\n",
       "      <th>USEPUINDXM__full_binners_20_smile</th>\n",
       "      <th>USTRADE__full_binners_20_smile</th>\n",
       "      <th>W006RC1Q027SBEA__full_binners_20_smile</th>\n",
       "    </tr>\n",
       "  </thead>\n",
       "  <tbody>\n",
       "    <tr>\n",
       "      <th>0</th>\n",
       "      <td>2007-01-31</td>\n",
       "      <td>376.299</td>\n",
       "      <td>37850.0</td>\n",
       "      <td>-7.8</td>\n",
       "      <td>5.32</td>\n",
       "      <td>3289635.0</td>\n",
       "      <td>31.7</td>\n",
       "      <td>41.1</td>\n",
       "      <td>6.20</td>\n",
       "      <td>1.297937</td>\n",
       "      <td>...</td>\n",
       "      <td>0.006515</td>\n",
       "      <td>0.575604</td>\n",
       "      <td>0.000000</td>\n",
       "      <td>0.584821</td>\n",
       "      <td>0.007228</td>\n",
       "      <td>0.294118</td>\n",
       "      <td>1.0</td>\n",
       "      <td>0.340586</td>\n",
       "      <td>0.000570</td>\n",
       "      <td>0.001303</td>\n",
       "    </tr>\n",
       "    <tr>\n",
       "      <th>1</th>\n",
       "      <td>2007-02-28</td>\n",
       "      <td>386.925</td>\n",
       "      <td>38000.0</td>\n",
       "      <td>12.8</td>\n",
       "      <td>5.40</td>\n",
       "      <td>3374429.0</td>\n",
       "      <td>31.7</td>\n",
       "      <td>41.0</td>\n",
       "      <td>6.22</td>\n",
       "      <td>1.297937</td>\n",
       "      <td>...</td>\n",
       "      <td>0.006515</td>\n",
       "      <td>0.000000</td>\n",
       "      <td>0.000000</td>\n",
       "      <td>0.760267</td>\n",
       "      <td>0.021684</td>\n",
       "      <td>0.352941</td>\n",
       "      <td>1.0</td>\n",
       "      <td>0.000000</td>\n",
       "      <td>0.000570</td>\n",
       "      <td>0.001628</td>\n",
       "    </tr>\n",
       "    <tr>\n",
       "      <th>2</th>\n",
       "      <td>2007-03-30</td>\n",
       "      <td>386.925</td>\n",
       "      <td>37962.0</td>\n",
       "      <td>12.8</td>\n",
       "      <td>5.39</td>\n",
       "      <td>3356636.0</td>\n",
       "      <td>31.5</td>\n",
       "      <td>40.9</td>\n",
       "      <td>6.34</td>\n",
       "      <td>1.297937</td>\n",
       "      <td>...</td>\n",
       "      <td>0.006515</td>\n",
       "      <td>0.575604</td>\n",
       "      <td>0.000000</td>\n",
       "      <td>0.643303</td>\n",
       "      <td>0.014456</td>\n",
       "      <td>0.294118</td>\n",
       "      <td>1.0</td>\n",
       "      <td>0.340586</td>\n",
       "      <td>0.000570</td>\n",
       "      <td>0.001628</td>\n",
       "    </tr>\n",
       "    <tr>\n",
       "      <th>3</th>\n",
       "      <td>2007-04-30</td>\n",
       "      <td>386.925</td>\n",
       "      <td>38055.0</td>\n",
       "      <td>12.8</td>\n",
       "      <td>5.30</td>\n",
       "      <td>3332574.0</td>\n",
       "      <td>31.7</td>\n",
       "      <td>41.3</td>\n",
       "      <td>6.28</td>\n",
       "      <td>1.297937</td>\n",
       "      <td>...</td>\n",
       "      <td>0.005429</td>\n",
       "      <td>0.000000</td>\n",
       "      <td>0.582306</td>\n",
       "      <td>0.760267</td>\n",
       "      <td>0.021684</td>\n",
       "      <td>0.294118</td>\n",
       "      <td>1.0</td>\n",
       "      <td>0.340586</td>\n",
       "      <td>0.000697</td>\n",
       "      <td>0.001628</td>\n",
       "    </tr>\n",
       "    <tr>\n",
       "      <th>4</th>\n",
       "      <td>2007-05-31</td>\n",
       "      <td>396.009</td>\n",
       "      <td>38145.0</td>\n",
       "      <td>-3.3</td>\n",
       "      <td>5.47</td>\n",
       "      <td>3374477.0</td>\n",
       "      <td>31.6</td>\n",
       "      <td>41.3</td>\n",
       "      <td>6.27</td>\n",
       "      <td>1.297937</td>\n",
       "      <td>...</td>\n",
       "      <td>0.005429</td>\n",
       "      <td>0.575604</td>\n",
       "      <td>0.582306</td>\n",
       "      <td>0.526339</td>\n",
       "      <td>0.036140</td>\n",
       "      <td>0.294118</td>\n",
       "      <td>1.0</td>\n",
       "      <td>0.340586</td>\n",
       "      <td>0.000633</td>\n",
       "      <td>0.001954</td>\n",
       "    </tr>\n",
       "    <tr>\n",
       "      <th>...</th>\n",
       "      <td>...</td>\n",
       "      <td>...</td>\n",
       "      <td>...</td>\n",
       "      <td>...</td>\n",
       "      <td>...</td>\n",
       "      <td>...</td>\n",
       "      <td>...</td>\n",
       "      <td>...</td>\n",
       "      <td>...</td>\n",
       "      <td>...</td>\n",
       "      <td>...</td>\n",
       "      <td>...</td>\n",
       "      <td>...</td>\n",
       "      <td>...</td>\n",
       "      <td>...</td>\n",
       "      <td>...</td>\n",
       "      <td>...</td>\n",
       "      <td>...</td>\n",
       "      <td>...</td>\n",
       "      <td>...</td>\n",
       "      <td>...</td>\n",
       "    </tr>\n",
       "    <tr>\n",
       "      <th>199</th>\n",
       "      <td>2023-08-31</td>\n",
       "      <td>909.584</td>\n",
       "      <td>46795.0</td>\n",
       "      <td>2.3</td>\n",
       "      <td>4.66</td>\n",
       "      <td>3901916.0</td>\n",
       "      <td>29.9</td>\n",
       "      <td>40.6</td>\n",
       "      <td>5.75</td>\n",
       "      <td>1.220000</td>\n",
       "      <td>...</td>\n",
       "      <td>1.000000</td>\n",
       "      <td>0.019759</td>\n",
       "      <td>0.020056</td>\n",
       "      <td>0.584821</td>\n",
       "      <td>0.108421</td>\n",
       "      <td>0.000000</td>\n",
       "      <td>0.0</td>\n",
       "      <td>0.057293</td>\n",
       "      <td>0.000824</td>\n",
       "      <td>0.005536</td>\n",
       "    </tr>\n",
       "    <tr>\n",
       "      <th>200</th>\n",
       "      <td>2023-09-29</td>\n",
       "      <td>909.584</td>\n",
       "      <td>46795.0</td>\n",
       "      <td>2.3</td>\n",
       "      <td>4.66</td>\n",
       "      <td>3980447.0</td>\n",
       "      <td>29.9</td>\n",
       "      <td>40.6</td>\n",
       "      <td>5.74</td>\n",
       "      <td>1.240000</td>\n",
       "      <td>...</td>\n",
       "      <td>1.000000</td>\n",
       "      <td>0.019759</td>\n",
       "      <td>0.013371</td>\n",
       "      <td>0.526339</td>\n",
       "      <td>0.122877</td>\n",
       "      <td>0.000000</td>\n",
       "      <td>0.0</td>\n",
       "      <td>0.057293</td>\n",
       "      <td>0.000824</td>\n",
       "      <td>0.005536</td>\n",
       "    </tr>\n",
       "    <tr>\n",
       "      <th>201</th>\n",
       "      <td>2023-10-31</td>\n",
       "      <td>909.584</td>\n",
       "      <td>46795.0</td>\n",
       "      <td>2.3</td>\n",
       "      <td>4.66</td>\n",
       "      <td>3978655.0</td>\n",
       "      <td>29.8</td>\n",
       "      <td>40.6</td>\n",
       "      <td>5.74</td>\n",
       "      <td>1.320000</td>\n",
       "      <td>...</td>\n",
       "      <td>1.000000</td>\n",
       "      <td>0.019759</td>\n",
       "      <td>0.582306</td>\n",
       "      <td>0.467857</td>\n",
       "      <td>0.122877</td>\n",
       "      <td>0.000000</td>\n",
       "      <td>0.0</td>\n",
       "      <td>0.057293</td>\n",
       "      <td>0.000887</td>\n",
       "      <td>0.005536</td>\n",
       "    </tr>\n",
       "    <tr>\n",
       "      <th>202</th>\n",
       "      <td>2023-11-30</td>\n",
       "      <td>981.305</td>\n",
       "      <td>46795.0</td>\n",
       "      <td>8.0</td>\n",
       "      <td>4.66</td>\n",
       "      <td>3978655.0</td>\n",
       "      <td>29.8</td>\n",
       "      <td>40.6</td>\n",
       "      <td>5.74</td>\n",
       "      <td>1.320000</td>\n",
       "      <td>...</td>\n",
       "      <td>1.000000</td>\n",
       "      <td>0.019759</td>\n",
       "      <td>0.000000</td>\n",
       "      <td>0.526339</td>\n",
       "      <td>0.122877</td>\n",
       "      <td>0.000000</td>\n",
       "      <td>0.0</td>\n",
       "      <td>0.057293</td>\n",
       "      <td>0.000887</td>\n",
       "      <td>0.005536</td>\n",
       "    </tr>\n",
       "    <tr>\n",
       "      <th>203</th>\n",
       "      <td>2023-12-15</td>\n",
       "      <td>981.305</td>\n",
       "      <td>46795.0</td>\n",
       "      <td>8.0</td>\n",
       "      <td>4.66</td>\n",
       "      <td>3978655.0</td>\n",
       "      <td>29.8</td>\n",
       "      <td>40.6</td>\n",
       "      <td>5.74</td>\n",
       "      <td>1.320000</td>\n",
       "      <td>...</td>\n",
       "      <td>1.000000</td>\n",
       "      <td>0.019759</td>\n",
       "      <td>0.020056</td>\n",
       "      <td>0.526339</td>\n",
       "      <td>0.122877</td>\n",
       "      <td>0.000000</td>\n",
       "      <td>0.0</td>\n",
       "      <td>0.057293</td>\n",
       "      <td>0.000887</td>\n",
       "      <td>0.005536</td>\n",
       "    </tr>\n",
       "  </tbody>\n",
       "</table>\n",
       "<p>204 rows × 8171 columns</p>\n",
       "</div>"
      ],
      "text/plain": [
       "             jx  A091RC1Q027SBEA  A229RX0  A824RL1Q225SBEA   AAA  AIRRTMFMD11  \\\n",
       "0    2007-01-31          376.299  37850.0             -7.8  5.32    3289635.0   \n",
       "1    2007-02-28          386.925  38000.0             12.8  5.40    3374429.0   \n",
       "2    2007-03-30          386.925  37962.0             12.8  5.39    3356636.0   \n",
       "3    2007-04-30          386.925  38055.0             12.8  5.30    3332574.0   \n",
       "4    2007-05-31          396.009  38145.0             -3.3  5.47    3374477.0   \n",
       "..          ...              ...      ...              ...   ...          ...   \n",
       "199  2023-08-31          909.584  46795.0              2.3  4.66    3901916.0   \n",
       "200  2023-09-29          909.584  46795.0              2.3  4.66    3980447.0   \n",
       "201  2023-10-31          909.584  46795.0              2.3  4.66    3978655.0   \n",
       "202  2023-11-30          981.305  46795.0              8.0  4.66    3978655.0   \n",
       "203  2023-12-15          981.305  46795.0              8.0  4.66    3978655.0   \n",
       "\n",
       "     AWHAERT  AWHMAN   BAA  BAMLC0A0CM  ...  \\\n",
       "0       31.7    41.1  6.20    1.297937  ...   \n",
       "1       31.7    41.0  6.22    1.297937  ...   \n",
       "2       31.5    40.9  6.34    1.297937  ...   \n",
       "3       31.7    41.3  6.28    1.297937  ...   \n",
       "4       31.6    41.3  6.27    1.297937  ...   \n",
       "..       ...     ...   ...         ...  ...   \n",
       "199     29.9    40.6  5.75    1.220000  ...   \n",
       "200     29.9    40.6  5.74    1.240000  ...   \n",
       "201     29.8    40.6  5.74    1.320000  ...   \n",
       "202     29.8    40.6  5.74    1.320000  ...   \n",
       "203     29.8    40.6  5.74    1.320000  ...   \n",
       "\n",
       "     TERMCBCCINTNS__full_binners_20_smile  TLT__full_binners_20_smile  \\\n",
       "0                                0.006515                    0.575604   \n",
       "1                                0.006515                    0.000000   \n",
       "2                                0.006515                    0.575604   \n",
       "3                                0.005429                    0.000000   \n",
       "4                                0.005429                    0.575604   \n",
       "..                                    ...                         ...   \n",
       "199                              1.000000                    0.019759   \n",
       "200                              1.000000                    0.019759   \n",
       "201                              1.000000                    0.019759   \n",
       "202                              1.000000                    0.019759   \n",
       "203                              1.000000                    0.019759   \n",
       "\n",
       "     TLT_MEAN__full_binners_20_smile  TOTALSA__full_binners_20_smile  \\\n",
       "0                           0.000000                        0.584821   \n",
       "1                           0.000000                        0.760267   \n",
       "2                           0.000000                        0.643303   \n",
       "3                           0.582306                        0.760267   \n",
       "4                           0.582306                        0.526339   \n",
       "..                               ...                             ...   \n",
       "199                         0.020056                        0.584821   \n",
       "200                         0.013371                        0.526339   \n",
       "201                         0.582306                        0.467857   \n",
       "202                         0.000000                        0.526339   \n",
       "203                         0.020056                        0.526339   \n",
       "\n",
       "     TSIFRGHT__full_binners_20_smile  UNRATE__full_binners_20_smile  \\\n",
       "0                           0.007228                       0.294118   \n",
       "1                           0.021684                       0.352941   \n",
       "2                           0.014456                       0.294118   \n",
       "3                           0.021684                       0.294118   \n",
       "4                           0.036140                       0.294118   \n",
       "..                               ...                            ...   \n",
       "199                         0.108421                       0.000000   \n",
       "200                         0.122877                       0.000000   \n",
       "201                         0.122877                       0.000000   \n",
       "202                         0.122877                       0.000000   \n",
       "203                         0.122877                       0.000000   \n",
       "\n",
       "     USACPIALLMINMEI__full_binners_20_smile  \\\n",
       "0                                       1.0   \n",
       "1                                       1.0   \n",
       "2                                       1.0   \n",
       "3                                       1.0   \n",
       "4                                       1.0   \n",
       "..                                      ...   \n",
       "199                                     0.0   \n",
       "200                                     0.0   \n",
       "201                                     0.0   \n",
       "202                                     0.0   \n",
       "203                                     0.0   \n",
       "\n",
       "     USEPUINDXM__full_binners_20_smile  USTRADE__full_binners_20_smile  \\\n",
       "0                             0.340586                        0.000570   \n",
       "1                             0.000000                        0.000570   \n",
       "2                             0.340586                        0.000570   \n",
       "3                             0.340586                        0.000697   \n",
       "4                             0.340586                        0.000633   \n",
       "..                                 ...                             ...   \n",
       "199                           0.057293                        0.000824   \n",
       "200                           0.057293                        0.000824   \n",
       "201                           0.057293                        0.000887   \n",
       "202                           0.057293                        0.000887   \n",
       "203                           0.057293                        0.000887   \n",
       "\n",
       "     W006RC1Q027SBEA__full_binners_20_smile  \n",
       "0                                  0.001303  \n",
       "1                                  0.001628  \n",
       "2                                  0.001628  \n",
       "3                                  0.001628  \n",
       "4                                  0.001954  \n",
       "..                                      ...  \n",
       "199                                0.005536  \n",
       "200                                0.005536  \n",
       "201                                0.005536  \n",
       "202                                0.005536  \n",
       "203                                0.005536  \n",
       "\n",
       "[204 rows x 8171 columns]"
      ]
     },
     "execution_count": 193,
     "metadata": {},
     "output_type": "execute_result"
    }
   ],
   "source": [
    "d = './result_model_medieval.csv'\n",
    "data = pandas.read_csv(d)\n",
    "data"
   ]
  },
  {
   "cell_type": "code",
   "execution_count": 194,
   "id": "1bbaabf9-2196-4280-8bd8-974bebfd9eb5",
   "metadata": {},
   "outputs": [],
   "source": [
    "# series.set_index('ds').iloc[80:120, :].plot(style='.')  # '.-'"
   ]
  },
  {
   "cell_type": "code",
   "execution_count": 195,
   "id": "9263c257-89cd-436b-9597-649c2cbb524d",
   "metadata": {},
   "outputs": [
    {
     "data": {
      "text/plain": [
       "<Axes: >"
      ]
     },
     "execution_count": 195,
     "metadata": {},
     "output_type": "execute_result"
    },
    {
     "data": {
      "image/png": "[encoded data removed]",
      "text/plain": [
       "<Figure size 640x480 with 1 Axes>"
      ]
     },
     "metadata": {},
     "output_type": "display_data"
    }
   ],
   "source": [
    "data[driver].plot()"
   ]
  },
  {
   "cell_type": "code",
   "execution_count": 196,
   "id": "fbec7102-a620-4990-81d7-c65d36c6b6a8",
   "metadata": {},
   "outputs": [
    {
     "data": {
      "text/plain": [
       "<Axes: >"
      ]
     },
     "execution_count": 196,
     "metadata": {},
     "output_type": "execute_result"
    },
    {
     "data": {
      "image/png": "[encoded data removed]",
      "text/plain": [
       "<Figure size 640x480 with 1 Axes>"
      ]
     },
     "metadata": {},
     "output_type": "display_data"
    }
   ],
   "source": [
    "data[driver].pct_change().plot()"
   ]
  },
  {
   "cell_type": "code",
   "execution_count": 197,
   "id": "af1c30c9-88e6-46ee-90c6-4feb0150de11",
   "metadata": {},
   "outputs": [],
   "source": [
    "def make_lags(frame, nl):\n",
    "    cols = frame.columns.values\n",
    "    for j in range(nl):\n",
    "        cols_lagged = ['{0}_LAG{1}'.format(c, j+1) for c in cols]\n",
    "        frame[cols_lagged] = frame[cols].shift(j+1)\n",
    "    return frame"
   ]
  },
  {
   "cell_type": "code",
   "execution_count": 302,
   "id": "b803649e-e023-40d4-8f3e-1e3459d5a3b7",
   "metadata": {},
   "outputs": [
    {
     "data": {
      "text/plain": [
       "array([[  6.15938888,  -2.2970297 ,  -3.62871287, ...,  13.53465347,\n",
       "         15.04950495,  14.38778878],\n",
       "       [  6.20628494,  -2.0990099 ,  -2.34158416, ...,  14.42574257,\n",
       "         13.96039604,  12.20957096],\n",
       "       [  4.81033833,  -3.58415842,  -4.12376238, ...,  14.22772277,\n",
       "         11.78217822,  11.41749175],\n",
       "       ...,\n",
       "       [ -4.76124609,  -5.56435644,  -4.61881188, ...,  -8.14851485,\n",
       "         -7.72277228,  -9.17656766],\n",
       "       [ -6.39360597,  -6.45544554,  -4.71782178, ...,  -6.56435644,\n",
       "         -9.6039604 ,  -9.67161716],\n",
       "       [ -4.66320784,  -6.05940594,  -6.7970297 , ...,  -8.54455446,\n",
       "        -10.0990099 , -10.16666667]])"
      ]
     },
     "execution_count": 302,
     "metadata": {},
     "output_type": "execute_result"
    }
   ],
   "source": [
    "f = driver\n",
    "l = 40\n",
    "target = 'IVV_MEAN__pct'\n",
    "data_lag = data.iloc[:100, :].loc[:, [f, target]].copy()\n",
    "data_app = data.iloc[100:, :].loc[:, [f, target]].copy()\n",
    "\n",
    "data_joint = pandas.concat((data_lag, data_app), axis=0, ignore_index=True)\n",
    "data_joint = make_lags(frame=data_joint, nl=l)\n",
    "\n",
    "data_joint[driver] = data_joint[driver].pct_change()\n",
    "\n",
    "# .iloc[data_lag.shape[0]:, :]\n",
    "\n",
    "x_factors = [c for c in data_joint.columns if ((f in c) and ('LAG' in c))]\n",
    "\n",
    "sub_train = data_joint.iloc[l:data_lag.shape[0], :].copy()\n",
    "x_sub_train = sub_train[[f]].values\n",
    "\"\"\"\n",
    "# disc = KBinsDiscretizer(n_bins=2, strategy='quantile', encode='ordinal')\n",
    "# disc = KBinsDiscretizer(n_bins=7, strategy='kmeans', encode='ordinal', subsample=None)\n",
    "te = TargetEncoder(target_type='continuous')\n",
    "tar_ts = PowerTransformer()\n",
    "x_ts = PowerTransformer()\n",
    "# tar_transformed = sub_train[target].values\n",
    "# tar_transformed = tar_ts.fit_transform(X=sub_train[[target]].values)[:, 0]\n",
    "# x_sub_train = x_ts.fit_transform(X=x_sub_train)\n",
    "# x_sub_train_transformed = disc.fit_transform(X=x_sub_train)\n",
    "x_sub_train_transformed = disc.fit_transform(X=x_sub_train, y=tar_transformed)\n",
    "x_sub_train_transformed\n",
    "\"\"\"\n",
    "\n",
    "\"\"\"\n",
    "tar_transformed = sub_train[target].values\n",
    "clusterable_embedding = umap.UMAP(\n",
    "    n_neighbors=30,\n",
    "    min_dist=0.0,\n",
    "    n_components=12,\n",
    "    random_state=42,\n",
    ").fit_transform(X=x_sub_train, y=tar_transformed)\n",
    "# ).fit_transform(X=x_sub_train)\n",
    "x_sub_train_transformed = hdbscan.HDBSCAN(\n",
    "    min_samples=10,\n",
    "    min_cluster_size=10,\n",
    ").fit_predict(clusterable_embedding).reshape(-1, 1)\n",
    "x_sub_train_transformed\n",
    "\"\"\"\n",
    "\n",
    "disc = PCA(n_components=0.99, whiten=True)\n",
    "# disc = PCA(n_components='mle', whiten=True)\n",
    "x_sub_train_transformed = disc.fit_transform(X=sub_train[x_factors])\n",
    "len(x_factors), x_sub_train_transformed.shape[1]"
   ]
  },
  {
   "cell_type": "code",
   "execution_count": 279,
   "id": "d9feb601-c8fd-4c40-b407-e370de024f74",
   "metadata": {},
   "outputs": [
    {
     "data": {
      "text/plain": [
       "-1.164088    1\n",
       "-1.217642    1\n",
       " 0.261511    1\n",
       " 0.300901    1\n",
       " 0.337432    1\n",
       " 0.384431    1\n",
       " 0.435569    1\n",
       " 0.485779    1\n",
       " 0.525752    1\n",
       " 0.571496    1\n",
       " 0.620800    1\n",
       " 0.664975    1\n",
       " 0.712156    1\n",
       " 0.756723    1\n",
       " 0.799859    1\n",
       " 0.857086    1\n",
       " 0.904097    1\n",
       " 0.939922    1\n",
       " 0.989202    1\n",
       " 1.049275    1\n",
       " 1.114192    1\n",
       " 1.182546    1\n",
       " 1.239817    1\n",
       " 1.303491    1\n",
       " 1.366620    1\n",
       " 1.433573    1\n",
       " 1.506773    1\n",
       " 1.582578    1\n",
       " 1.656165    1\n",
       " 0.231079    1\n",
       " 0.185524    1\n",
       " 0.129117    1\n",
       "-1.117328    1\n",
       "-1.259369    1\n",
       "-1.298684    1\n",
       "-1.329771    1\n",
       "-1.349508    1\n",
       "-1.365583    1\n",
       "-1.370355    1\n",
       "-1.364676    1\n",
       "-1.356732    1\n",
       "-1.330104    1\n",
       "-1.288011    1\n",
       "-1.241558    1\n",
       "-1.180673    1\n",
       "-1.057661    1\n",
       " 0.061754    1\n",
       "-0.984739    1\n",
       "-0.912062    1\n",
       "-0.830026    1\n",
       "-0.742345    1\n",
       "-0.652324    1\n",
       "-0.555876    1\n",
       "-0.440730    1\n",
       "-0.352274    1\n",
       "-0.260380    1\n",
       "-0.175754    1\n",
       "-0.098246    1\n",
       "-0.021171    1\n",
       " 1.727476    1\n",
       "Name: count, dtype: int64"
      ]
     },
     "execution_count": 279,
     "metadata": {},
     "output_type": "execute_result"
    }
   ],
   "source": [
    "pandas.Series(x_sub_train_transformed[:, 0]).value_counts()"
   ]
  },
  {
   "cell_type": "code",
   "execution_count": 280,
   "id": "b3dfebd3-fcbc-4306-aaa8-cc1f0a251885",
   "metadata": {},
   "outputs": [
    {
     "data": {
      "text/plain": [
       "<Axes: >"
      ]
     },
     "execution_count": 280,
     "metadata": {},
     "output_type": "execute_result"
    },
    {
     "data": {
      "image/png": "[encoded data removed]",
      "text/plain": [
       "<Figure size 640x480 with 1 Axes>"
      ]
     },
     "metadata": {},
     "output_type": "display_data"
    }
   ],
   "source": [
    "pandas.Series(tar_transformed).hist(bins=20)"
   ]
  },
  {
   "cell_type": "code",
   "execution_count": 281,
   "id": "8d4b2248-ebc0-41fd-adcd-6a67c0913ea6",
   "metadata": {},
   "outputs": [
    {
     "data": {
      "text/plain": [
       "<Axes: >"
      ]
     },
     "execution_count": 281,
     "metadata": {},
     "output_type": "execute_result"
    },
    {
     "data": {
      "image/png": "[encoded data removed]",
      "text/plain": [
       "<Figure size 640x480 with 1 Axes>"
      ]
     },
     "metadata": {},
     "output_type": "display_data"
    }
   ],
   "source": [
    "pandas.Series(x_sub_train[:, 0]).hist(bins=20)"
   ]
  },
  {
   "cell_type": "code",
   "execution_count": 275,
   "id": "82a74cac-4e55-4167-9a19-f86a4a7f8872",
   "metadata": {},
   "outputs": [
    {
     "data": {
      "text/plain": [
       "<Axes: >"
      ]
     },
     "execution_count": 275,
     "metadata": {},
     "output_type": "execute_result"
    },
    {
     "data": {
      "image/png": "[encoded data removed]",
      "text/plain": [
       "<Figure size 640x480 with 1 Axes>"
      ]
     },
     "metadata": {},
     "output_type": "display_data"
    }
   ],
   "source": [
    "fs = pandas.DataFrame(data={'x': x_sub_train_transformed[:, 0], 'y': sub_train[target].values, 'o': sub_train[f].values})\n",
    "# pyplot.scatter(fs['x'].values, fs['y'].values)\n",
    "seaborn.boxplot(data=fs, x=fs['x'].values, y=fs['y'].values, fill=False)"
   ]
  },
  {
   "cell_type": "code",
   "execution_count": 297,
   "id": "74ce2255-497e-4288-86c9-8f865465189f",
   "metadata": {},
   "outputs": [
    {
     "data": {
      "text/plain": [
       "[-0.0576271186440678,\n",
       " 0.0384180790960452,\n",
       " -0.012429378531073447,\n",
       " -0.11412429378531072,\n",
       " -0.16271186440677965,\n",
       " 0.16497175141242937,\n",
       " 0.08248587570621468,\n",
       " -0.0011299435028248588,\n",
       " 0.21694915254237288,\n",
       " -0.029378531073446325,\n",
       " -0.1310734463276836,\n",
       " 0.04293785310734463,\n",
       " 0.04067796610169491,\n",
       " -0.16158192090395482,\n",
       " 0.12090395480225988,\n",
       " 0.07344632768361582,\n",
       " 0.05084745762711864,\n",
       " -0.11864406779661017]"
      ]
     },
     "execution_count": 297,
     "metadata": {},
     "output_type": "execute_result"
    }
   ],
   "source": [
    "# mutual_info_regression(X=fs[['x']].values, y=fs['y'].values)\n",
    "# mutual_info_score(labels_pred=fs['x'].values, labels_true=fs['y'].values)\n",
    "\n",
    "\n",
    "# kendalltau(x=fs['x'].values, y=fs['y'].values).statistic\n",
    "[kendalltau(x=x_sub_train_transformed[:, j], y=fs['y'].values).statistic for j in range(x_sub_train_transformed.shape[1])]"
   ]
  },
  {
   "cell_type": "code",
   "execution_count": 290,
   "id": "72eb1f77-2c5a-48ef-a507-ad1a8c112bac",
   "metadata": {},
   "outputs": [
    {
     "name": "stdout",
     "output_type": "stream",
     "text": [
      "26\n"
     ]
    },
    {
     "data": {
      "text/plain": [
       "[<matplotlib.lines.Line2D at 0x2bc3805d960>]"
      ]
     },
     "execution_count": 290,
     "metadata": {},
     "output_type": "execute_result"
    },
    {
     "data": {
      "image/png": "[encoded data removed]",
      "text/plain": [
       "<Figure size 640x480 with 1 Axes>"
      ]
     },
     "metadata": {},
     "output_type": "display_data"
    }
   ],
   "source": [
    "f = driver\n",
    "l = 40\n",
    "target = 'IVV_MEAN__pct'\n",
    "data_lag = data.iloc[:100, :].loc[:, [f, target]].copy()\n",
    "data_app = data.iloc[100:, :].loc[:, [f, target]].copy()\n",
    "\n",
    "data_joint = pandas.concat((data_lag, data_app), axis=0, ignore_index=True)\n",
    "data_joint = make_lags(frame=data_joint, nl=l)\n",
    "\n",
    "data_joint[driver] = data_joint[driver].pct_change()\n",
    "\n",
    "# .iloc[data_lag.shape[0]:, :]\n",
    "\n",
    "x_factors = [c for c in data_joint.columns if ((f in c) and ('LAG' in c))]\n",
    "\n",
    "sub_train = data_joint.iloc[l:data_lag.shape[0], :].copy()\n",
    "x_sub_train = sub_train[[f]].values\n",
    "\n",
    "nex = []\n",
    "for j in range(30):\n",
    "    \"\"\"\n",
    "    disc = KBinsDiscretizer(n_bins=j+2, strategy='quantile', encode='ordinal')\n",
    "    # disc = KBinsDiscretizer(n_bins=j+2, strategy='kmeans', encode='ordinal', subsample=None)\n",
    "    x_sub_train_transformed = disc.fit_transform(X=x_sub_train)\n",
    "    \"\"\"\n",
    "    \"\"\"\n",
    "    tar_transformed = sub_train[target].values\n",
    "    clusterable_embedding = umap.UMAP(\n",
    "        n_neighbors=30,\n",
    "        min_dist=0.0,\n",
    "        n_components=j+2,\n",
    "        random_state=42,\n",
    "        densmap=False\n",
    "    ).fit_transform(X=x_sub_train, y=tar_transformed)\n",
    "    x_sub_train_transformed = hdbscan.HDBSCAN(\n",
    "        min_samples=10,\n",
    "        min_cluster_size=10,\n",
    "    ).fit_predict(clusterable_embedding).reshape(-1, 1)\n",
    "    \"\"\"\n",
    "\n",
    "    disc = PCA(n_components=j+2, whiten=True)\n",
    "    x_sub_train_transformed = disc.fit_transform(X=sub_train[x_factors])\n",
    "\n",
    "    ens = RandomForestRegressor()\n",
    "    ens.fit(X=x_sub_train_transformed, y=sub_train[target].values)\n",
    "    x_sub_train_transformed = ens.predict(X=x_sub_train_transformed).reshape(-1, 1)\n",
    "\n",
    "    fs = pandas.DataFrame(data={'x': x_sub_train_transformed[:, 0], 'y': sub_train[target].values, 'o': sub_train[f].values})\n",
    "    \n",
    "    nex.append(kendalltau(x=fs['x'].values, y=fs['y'].values).statistic)\n",
    "print(numpy.argmax(numpy.abs(nex)) + 2)\n",
    "pyplot.plot(range(len(nex)), nex)"
   ]
  },
  {
   "cell_type": "code",
   "execution_count": 238,
   "id": "23f6168c-f787-49ef-a732-f9f25f945ae9",
   "metadata": {},
   "outputs": [
    {
     "data": {
      "text/html": [
       "<div>\n",
       "<style scoped>\n",
       "    .dataframe tbody tr th:only-of-type {\n",
       "        vertical-align: middle;\n",
       "    }\n",
       "\n",
       "    .dataframe tbody tr th {\n",
       "        vertical-align: top;\n",
       "    }\n",
       "\n",
       "    .dataframe thead th {\n",
       "        text-align: right;\n",
       "    }\n",
       "</style>\n",
       "<table border=\"1\" class=\"dataframe\">\n",
       "  <thead>\n",
       "    <tr style=\"text-align: right;\">\n",
       "      <th></th>\n",
       "      <th>x</th>\n",
       "      <th>y</th>\n",
       "      <th>o</th>\n",
       "    </tr>\n",
       "  </thead>\n",
       "  <tbody>\n",
       "    <tr>\n",
       "      <th>0</th>\n",
       "      <td>-1</td>\n",
       "      <td>-0.058968</td>\n",
       "      <td>0.000948</td>\n",
       "    </tr>\n",
       "    <tr>\n",
       "      <th>1</th>\n",
       "      <td>-1</td>\n",
       "      <td>-0.036089</td>\n",
       "      <td>0.008523</td>\n",
       "    </tr>\n",
       "    <tr>\n",
       "      <th>2</th>\n",
       "      <td>-1</td>\n",
       "      <td>-0.005211</td>\n",
       "      <td>0.000000</td>\n",
       "    </tr>\n",
       "    <tr>\n",
       "      <th>3</th>\n",
       "      <td>-1</td>\n",
       "      <td>0.008829</td>\n",
       "      <td>0.001878</td>\n",
       "    </tr>\n",
       "    <tr>\n",
       "      <th>4</th>\n",
       "      <td>-1</td>\n",
       "      <td>0.032517</td>\n",
       "      <td>0.003749</td>\n",
       "    </tr>\n",
       "    <tr>\n",
       "      <th>5</th>\n",
       "      <td>-1</td>\n",
       "      <td>0.040841</td>\n",
       "      <td>-0.001867</td>\n",
       "    </tr>\n",
       "    <tr>\n",
       "      <th>6</th>\n",
       "      <td>-1</td>\n",
       "      <td>0.024830</td>\n",
       "      <td>0.004677</td>\n",
       "    </tr>\n",
       "    <tr>\n",
       "      <th>7</th>\n",
       "      <td>-1</td>\n",
       "      <td>0.036416</td>\n",
       "      <td>0.005587</td>\n",
       "    </tr>\n",
       "    <tr>\n",
       "      <th>8</th>\n",
       "      <td>-1</td>\n",
       "      <td>0.030605</td>\n",
       "      <td>-0.004630</td>\n",
       "    </tr>\n",
       "    <tr>\n",
       "      <th>9</th>\n",
       "      <td>-1</td>\n",
       "      <td>0.031383</td>\n",
       "      <td>0.013953</td>\n",
       "    </tr>\n",
       "    <tr>\n",
       "      <th>10</th>\n",
       "      <td>-1</td>\n",
       "      <td>-0.011719</td>\n",
       "      <td>0.011927</td>\n",
       "    </tr>\n",
       "    <tr>\n",
       "      <th>11</th>\n",
       "      <td>-1</td>\n",
       "      <td>0.018372</td>\n",
       "      <td>-0.005440</td>\n",
       "    </tr>\n",
       "    <tr>\n",
       "      <th>12</th>\n",
       "      <td>-1</td>\n",
       "      <td>0.006603</td>\n",
       "      <td>0.012762</td>\n",
       "    </tr>\n",
       "    <tr>\n",
       "      <th>13</th>\n",
       "      <td>-1</td>\n",
       "      <td>-0.037346</td>\n",
       "      <td>-0.004500</td>\n",
       "    </tr>\n",
       "    <tr>\n",
       "      <th>14</th>\n",
       "      <td>-1</td>\n",
       "      <td>0.027424</td>\n",
       "      <td>-0.017179</td>\n",
       "    </tr>\n",
       "    <tr>\n",
       "      <th>15</th>\n",
       "      <td>-1</td>\n",
       "      <td>-0.103983</td>\n",
       "      <td>0.017479</td>\n",
       "    </tr>\n",
       "    <tr>\n",
       "      <th>16</th>\n",
       "      <td>-1</td>\n",
       "      <td>-0.009073</td>\n",
       "      <td>-0.001808</td>\n",
       "    </tr>\n",
       "    <tr>\n",
       "      <th>17</th>\n",
       "      <td>-1</td>\n",
       "      <td>0.025934</td>\n",
       "      <td>0.004529</td>\n",
       "    </tr>\n",
       "    <tr>\n",
       "      <th>18</th>\n",
       "      <td>-1</td>\n",
       "      <td>0.017825</td>\n",
       "      <td>0.004509</td>\n",
       "    </tr>\n",
       "    <tr>\n",
       "      <th>19</th>\n",
       "      <td>-1</td>\n",
       "      <td>0.013981</td>\n",
       "      <td>0.002693</td>\n",
       "    </tr>\n",
       "    <tr>\n",
       "      <th>20</th>\n",
       "      <td>-1</td>\n",
       "      <td>0.043281</td>\n",
       "      <td>0.002686</td>\n",
       "    </tr>\n",
       "    <tr>\n",
       "      <th>21</th>\n",
       "      <td>-1</td>\n",
       "      <td>0.041520</td>\n",
       "      <td>0.027679</td>\n",
       "    </tr>\n",
       "    <tr>\n",
       "      <th>22</th>\n",
       "      <td>-1</td>\n",
       "      <td>0.028167</td>\n",
       "      <td>-0.031277</td>\n",
       "    </tr>\n",
       "    <tr>\n",
       "      <th>23</th>\n",
       "      <td>-1</td>\n",
       "      <td>-0.004139</td>\n",
       "      <td>0.004484</td>\n",
       "    </tr>\n",
       "    <tr>\n",
       "      <th>24</th>\n",
       "      <td>-1</td>\n",
       "      <td>-0.030849</td>\n",
       "      <td>-0.000893</td>\n",
       "    </tr>\n",
       "    <tr>\n",
       "      <th>25</th>\n",
       "      <td>-1</td>\n",
       "      <td>-0.012996</td>\n",
       "      <td>0.002681</td>\n",
       "    </tr>\n",
       "    <tr>\n",
       "      <th>26</th>\n",
       "      <td>-1</td>\n",
       "      <td>0.026015</td>\n",
       "      <td>0.007130</td>\n",
       "    </tr>\n",
       "    <tr>\n",
       "      <th>27</th>\n",
       "      <td>-1</td>\n",
       "      <td>0.034465</td>\n",
       "      <td>0.007965</td>\n",
       "    </tr>\n",
       "    <tr>\n",
       "      <th>28</th>\n",
       "      <td>-1</td>\n",
       "      <td>0.029165</td>\n",
       "      <td>-0.003512</td>\n",
       "    </tr>\n",
       "    <tr>\n",
       "      <th>29</th>\n",
       "      <td>-1</td>\n",
       "      <td>-0.006950</td>\n",
       "      <td>-0.005286</td>\n",
       "    </tr>\n",
       "    <tr>\n",
       "      <th>30</th>\n",
       "      <td>-1</td>\n",
       "      <td>-0.028082</td>\n",
       "      <td>-0.006200</td>\n",
       "    </tr>\n",
       "    <tr>\n",
       "      <th>31</th>\n",
       "      <td>-1</td>\n",
       "      <td>0.019908</td>\n",
       "      <td>-0.014260</td>\n",
       "    </tr>\n",
       "    <tr>\n",
       "      <th>32</th>\n",
       "      <td>-1</td>\n",
       "      <td>0.038404</td>\n",
       "      <td>0.014467</td>\n",
       "    </tr>\n",
       "    <tr>\n",
       "      <th>33</th>\n",
       "      <td>-1</td>\n",
       "      <td>0.023421</td>\n",
       "      <td>0.000891</td>\n",
       "    </tr>\n",
       "    <tr>\n",
       "      <th>34</th>\n",
       "      <td>-1</td>\n",
       "      <td>0.026605</td>\n",
       "      <td>0.018700</td>\n",
       "    </tr>\n",
       "    <tr>\n",
       "      <th>35</th>\n",
       "      <td>-1</td>\n",
       "      <td>0.010163</td>\n",
       "      <td>0.013986</td>\n",
       "    </tr>\n",
       "    <tr>\n",
       "      <th>36</th>\n",
       "      <td>-1</td>\n",
       "      <td>0.046077</td>\n",
       "      <td>0.000000</td>\n",
       "    </tr>\n",
       "    <tr>\n",
       "      <th>37</th>\n",
       "      <td>-1</td>\n",
       "      <td>-0.011721</td>\n",
       "      <td>-0.008621</td>\n",
       "    </tr>\n",
       "    <tr>\n",
       "      <th>38</th>\n",
       "      <td>-1</td>\n",
       "      <td>0.028005</td>\n",
       "      <td>0.008696</td>\n",
       "    </tr>\n",
       "    <tr>\n",
       "      <th>39</th>\n",
       "      <td>-1</td>\n",
       "      <td>0.002646</td>\n",
       "      <td>0.004310</td>\n",
       "    </tr>\n",
       "    <tr>\n",
       "      <th>40</th>\n",
       "      <td>-1</td>\n",
       "      <td>0.011085</td>\n",
       "      <td>-0.003433</td>\n",
       "    </tr>\n",
       "    <tr>\n",
       "      <th>41</th>\n",
       "      <td>-1</td>\n",
       "      <td>0.017133</td>\n",
       "      <td>0.005168</td>\n",
       "    </tr>\n",
       "    <tr>\n",
       "      <th>42</th>\n",
       "      <td>-1</td>\n",
       "      <td>0.038856</td>\n",
       "      <td>0.000000</td>\n",
       "    </tr>\n",
       "    <tr>\n",
       "      <th>43</th>\n",
       "      <td>-1</td>\n",
       "      <td>0.013913</td>\n",
       "      <td>0.000000</td>\n",
       "    </tr>\n",
       "    <tr>\n",
       "      <th>44</th>\n",
       "      <td>-1</td>\n",
       "      <td>0.005596</td>\n",
       "      <td>0.019709</td>\n",
       "    </tr>\n",
       "    <tr>\n",
       "      <th>45</th>\n",
       "      <td>-1</td>\n",
       "      <td>-0.001101</td>\n",
       "      <td>-0.010084</td>\n",
       "    </tr>\n",
       "    <tr>\n",
       "      <th>46</th>\n",
       "      <td>-1</td>\n",
       "      <td>0.026532</td>\n",
       "      <td>-0.013582</td>\n",
       "    </tr>\n",
       "    <tr>\n",
       "      <th>47</th>\n",
       "      <td>-1</td>\n",
       "      <td>-0.001689</td>\n",
       "      <td>0.017212</td>\n",
       "    </tr>\n",
       "    <tr>\n",
       "      <th>48</th>\n",
       "      <td>-1</td>\n",
       "      <td>0.015410</td>\n",
       "      <td>0.016074</td>\n",
       "    </tr>\n",
       "    <tr>\n",
       "      <th>49</th>\n",
       "      <td>-1</td>\n",
       "      <td>0.031055</td>\n",
       "      <td>0.004163</td>\n",
       "    </tr>\n",
       "    <tr>\n",
       "      <th>50</th>\n",
       "      <td>-1</td>\n",
       "      <td>0.011204</td>\n",
       "      <td>0.004146</td>\n",
       "    </tr>\n",
       "    <tr>\n",
       "      <th>51</th>\n",
       "      <td>-1</td>\n",
       "      <td>-0.004193</td>\n",
       "      <td>-0.010735</td>\n",
       "    </tr>\n",
       "    <tr>\n",
       "      <th>52</th>\n",
       "      <td>-1</td>\n",
       "      <td>0.016974</td>\n",
       "      <td>0.005843</td>\n",
       "    </tr>\n",
       "    <tr>\n",
       "      <th>53</th>\n",
       "      <td>-1</td>\n",
       "      <td>-0.030268</td>\n",
       "      <td>0.002490</td>\n",
       "    </tr>\n",
       "    <tr>\n",
       "      <th>54</th>\n",
       "      <td>-1</td>\n",
       "      <td>0.057226</td>\n",
       "      <td>0.009934</td>\n",
       "    </tr>\n",
       "    <tr>\n",
       "      <th>55</th>\n",
       "      <td>-1</td>\n",
       "      <td>0.005441</td>\n",
       "      <td>0.005738</td>\n",
       "    </tr>\n",
       "    <tr>\n",
       "      <th>56</th>\n",
       "      <td>-1</td>\n",
       "      <td>-0.015220</td>\n",
       "      <td>0.005705</td>\n",
       "    </tr>\n",
       "    <tr>\n",
       "      <th>57</th>\n",
       "      <td>-1</td>\n",
       "      <td>0.028244</td>\n",
       "      <td>-0.001621</td>\n",
       "    </tr>\n",
       "    <tr>\n",
       "      <th>58</th>\n",
       "      <td>-1</td>\n",
       "      <td>-0.000147</td>\n",
       "      <td>-0.001623</td>\n",
       "    </tr>\n",
       "    <tr>\n",
       "      <th>59</th>\n",
       "      <td>-1</td>\n",
       "      <td>0.004749</td>\n",
       "      <td>-0.006504</td>\n",
       "    </tr>\n",
       "  </tbody>\n",
       "</table>\n",
       "</div>"
      ],
      "text/plain": [
       "    x         y         o\n",
       "0  -1 -0.058968  0.000948\n",
       "1  -1 -0.036089  0.008523\n",
       "2  -1 -0.005211  0.000000\n",
       "3  -1  0.008829  0.001878\n",
       "4  -1  0.032517  0.003749\n",
       "5  -1  0.040841 -0.001867\n",
       "6  -1  0.024830  0.004677\n",
       "7  -1  0.036416  0.005587\n",
       "8  -1  0.030605 -0.004630\n",
       "9  -1  0.031383  0.013953\n",
       "10 -1 -0.011719  0.011927\n",
       "11 -1  0.018372 -0.005440\n",
       "12 -1  0.006603  0.012762\n",
       "13 -1 -0.037346 -0.004500\n",
       "14 -1  0.027424 -0.017179\n",
       "15 -1 -0.103983  0.017479\n",
       "16 -1 -0.009073 -0.001808\n",
       "17 -1  0.025934  0.004529\n",
       "18 -1  0.017825  0.004509\n",
       "19 -1  0.013981  0.002693\n",
       "20 -1  0.043281  0.002686\n",
       "21 -1  0.041520  0.027679\n",
       "22 -1  0.028167 -0.031277\n",
       "23 -1 -0.004139  0.004484\n",
       "24 -1 -0.030849 -0.000893\n",
       "25 -1 -0.012996  0.002681\n",
       "26 -1  0.026015  0.007130\n",
       "27 -1  0.034465  0.007965\n",
       "28 -1  0.029165 -0.003512\n",
       "29 -1 -0.006950 -0.005286\n",
       "30 -1 -0.028082 -0.006200\n",
       "31 -1  0.019908 -0.014260\n",
       "32 -1  0.038404  0.014467\n",
       "33 -1  0.023421  0.000891\n",
       "34 -1  0.026605  0.018700\n",
       "35 -1  0.010163  0.013986\n",
       "36 -1  0.046077  0.000000\n",
       "37 -1 -0.011721 -0.008621\n",
       "38 -1  0.028005  0.008696\n",
       "39 -1  0.002646  0.004310\n",
       "40 -1  0.011085 -0.003433\n",
       "41 -1  0.017133  0.005168\n",
       "42 -1  0.038856  0.000000\n",
       "43 -1  0.013913  0.000000\n",
       "44 -1  0.005596  0.019709\n",
       "45 -1 -0.001101 -0.010084\n",
       "46 -1  0.026532 -0.013582\n",
       "47 -1 -0.001689  0.017212\n",
       "48 -1  0.015410  0.016074\n",
       "49 -1  0.031055  0.004163\n",
       "50 -1  0.011204  0.004146\n",
       "51 -1 -0.004193 -0.010735\n",
       "52 -1  0.016974  0.005843\n",
       "53 -1 -0.030268  0.002490\n",
       "54 -1  0.057226  0.009934\n",
       "55 -1  0.005441  0.005738\n",
       "56 -1 -0.015220  0.005705\n",
       "57 -1  0.028244 -0.001621\n",
       "58 -1 -0.000147 -0.001623\n",
       "59 -1  0.004749 -0.006504"
      ]
     },
     "execution_count": 238,
     "metadata": {},
     "output_type": "execute_result"
    }
   ],
   "source": [
    "fs"
   ]
  },
  {
   "cell_type": "code",
   "execution_count": null,
   "id": "333a51f3-7375-41dc-bc15-2ee7ad5a0639",
   "metadata": {},
   "outputs": [],
   "source": [
    "\n",
    "model = RandomForestRegressor()\n",
    "model.fit(X=x_sub_train, y=y_sub_train)\n",
    "\n",
    "preds = data_joint.iloc[data_lag.shape[0]:, :].copy()\n",
    "preds['{0}_rf_hat'.format(f)] = model.predict(X=preds[x_factors].values)\n",
    "stds = numpy.concatenate([model.predict(preds[x_factors].values).reshape(-1, 1) for tree in model.estimators_], axis=1).std(axis=1, ddof=1) / numpy.power(len(model.estimators_), 0.5)\n",
    "preds['{0}_rf_hat_upper'.format(f)] = preds['{0}_rf_hat'.format(f)] + stats.t.ppf(q=0.975, df=(len(model.estimators_)-1)) * stds\n",
    "preds['{0}_rf_hat_lower'.format(f)] = preds['{0}_rf_hat'.format(f)] + stats.t.ppf(q=0.025, df=(len(model.estimators_)-1)) * stds\n",
    "jets = preds[['DATE', '{0}_rf_hat'.format(f), '{0}_rf_hat_upper'.format(f), '{0}_rf_hat_lower'.format(f), f]].copy()"
   ]
  },
  {
   "cell_type": "code",
   "execution_count": 46,
   "id": "cdcfc87c-bc0e-4802-91c2-cc2595029163",
   "metadata": {},
   "outputs": [
    {
     "data": {
      "text/html": [
       "<div>\n",
       "<style scoped>\n",
       "    .dataframe tbody tr th:only-of-type {\n",
       "        vertical-align: middle;\n",
       "    }\n",
       "\n",
       "    .dataframe tbody tr th {\n",
       "        vertical-align: top;\n",
       "    }\n",
       "\n",
       "    .dataframe thead th {\n",
       "        text-align: right;\n",
       "    }\n",
       "</style>\n",
       "<table border=\"1\" class=\"dataframe\">\n",
       "  <thead>\n",
       "    <tr style=\"text-align: right;\">\n",
       "      <th></th>\n",
       "      <th>DATE</th>\n",
       "      <th>JTU5300QUL_rf_hat</th>\n",
       "      <th>JTU5300QUL_rf_hat_upper</th>\n",
       "      <th>JTU5300QUL_rf_hat_lower</th>\n",
       "      <th>JTU5300QUL</th>\n",
       "    </tr>\n",
       "  </thead>\n",
       "  <tbody>\n",
       "    <tr>\n",
       "      <th>200</th>\n",
       "      <td>2017-08-01</td>\n",
       "      <td>36.85</td>\n",
       "      <td>36.85</td>\n",
       "      <td>36.85</td>\n",
       "      <td>46</td>\n",
       "    </tr>\n",
       "    <tr>\n",
       "      <th>201</th>\n",
       "      <td>2017-09-01</td>\n",
       "      <td>35.64</td>\n",
       "      <td>35.64</td>\n",
       "      <td>35.64</td>\n",
       "      <td>31</td>\n",
       "    </tr>\n",
       "    <tr>\n",
       "      <th>202</th>\n",
       "      <td>2017-10-01</td>\n",
       "      <td>32.79</td>\n",
       "      <td>32.79</td>\n",
       "      <td>32.79</td>\n",
       "      <td>46</td>\n",
       "    </tr>\n",
       "    <tr>\n",
       "      <th>203</th>\n",
       "      <td>2017-11-01</td>\n",
       "      <td>33.08</td>\n",
       "      <td>33.08</td>\n",
       "      <td>33.08</td>\n",
       "      <td>23</td>\n",
       "    </tr>\n",
       "    <tr>\n",
       "      <th>204</th>\n",
       "      <td>2017-12-01</td>\n",
       "      <td>27.69</td>\n",
       "      <td>27.69</td>\n",
       "      <td>27.69</td>\n",
       "      <td>28</td>\n",
       "    </tr>\n",
       "    <tr>\n",
       "      <th>...</th>\n",
       "      <td>...</td>\n",
       "      <td>...</td>\n",
       "      <td>...</td>\n",
       "      <td>...</td>\n",
       "      <td>...</td>\n",
       "    </tr>\n",
       "    <tr>\n",
       "      <th>266</th>\n",
       "      <td>2023-02-01</td>\n",
       "      <td>37.09</td>\n",
       "      <td>37.09</td>\n",
       "      <td>37.09</td>\n",
       "      <td>42</td>\n",
       "    </tr>\n",
       "    <tr>\n",
       "      <th>267</th>\n",
       "      <td>2023-03-01</td>\n",
       "      <td>33.36</td>\n",
       "      <td>33.36</td>\n",
       "      <td>33.36</td>\n",
       "      <td>44</td>\n",
       "    </tr>\n",
       "    <tr>\n",
       "      <th>268</th>\n",
       "      <td>2023-04-01</td>\n",
       "      <td>39.95</td>\n",
       "      <td>39.95</td>\n",
       "      <td>39.95</td>\n",
       "      <td>56</td>\n",
       "    </tr>\n",
       "    <tr>\n",
       "      <th>269</th>\n",
       "      <td>2023-05-01</td>\n",
       "      <td>44.19</td>\n",
       "      <td>44.19</td>\n",
       "      <td>44.19</td>\n",
       "      <td>39</td>\n",
       "    </tr>\n",
       "    <tr>\n",
       "      <th>270</th>\n",
       "      <td>2023-06-01</td>\n",
       "      <td>45.27</td>\n",
       "      <td>45.27</td>\n",
       "      <td>45.27</td>\n",
       "      <td>52</td>\n",
       "    </tr>\n",
       "  </tbody>\n",
       "</table>\n",
       "<p>71 rows × 5 columns</p>\n",
       "</div>"
      ],
      "text/plain": [
       "          DATE  JTU5300QUL_rf_hat  JTU5300QUL_rf_hat_upper  \\\n",
       "200 2017-08-01              36.85                    36.85   \n",
       "201 2017-09-01              35.64                    35.64   \n",
       "202 2017-10-01              32.79                    32.79   \n",
       "203 2017-11-01              33.08                    33.08   \n",
       "204 2017-12-01              27.69                    27.69   \n",
       "..         ...                ...                      ...   \n",
       "266 2023-02-01              37.09                    37.09   \n",
       "267 2023-03-01              33.36                    33.36   \n",
       "268 2023-04-01              39.95                    39.95   \n",
       "269 2023-05-01              44.19                    44.19   \n",
       "270 2023-06-01              45.27                    45.27   \n",
       "\n",
       "     JTU5300QUL_rf_hat_lower  JTU5300QUL  \n",
       "200                    36.85          46  \n",
       "201                    35.64          31  \n",
       "202                    32.79          46  \n",
       "203                    33.08          23  \n",
       "204                    27.69          28  \n",
       "..                       ...         ...  \n",
       "266                    37.09          42  \n",
       "267                    33.36          44  \n",
       "268                    39.95          56  \n",
       "269                    44.19          39  \n",
       "270                    45.27          52  \n",
       "\n",
       "[71 rows x 5 columns]"
      ]
     },
     "execution_count": 46,
     "metadata": {},
     "output_type": "execute_result"
    }
   ],
   "source": [
    "jets"
   ]
  },
  {
   "cell_type": "code",
   "execution_count": 37,
   "id": "033c660e-ee05-4aca-a30c-00d2840ff6cf",
   "metadata": {},
   "outputs": [
    {
     "data": {
      "text/plain": [
       "(71,)"
      ]
     },
     "execution_count": 37,
     "metadata": {},
     "output_type": "execute_result"
    }
   ],
   "source": [
    "beds.shape"
   ]
  },
  {
   "cell_type": "code",
   "execution_count": 27,
   "id": "cafbd436-0fbf-4668-81c6-5a27006bda1a",
   "metadata": {},
   "outputs": [
    {
     "data": {
      "text/html": [
       "<div>\n",
       "<style scoped>\n",
       "    .dataframe tbody tr th:only-of-type {\n",
       "        vertical-align: middle;\n",
       "    }\n",
       "\n",
       "    .dataframe tbody tr th {\n",
       "        vertical-align: top;\n",
       "    }\n",
       "\n",
       "    .dataframe thead th {\n",
       "        text-align: right;\n",
       "    }\n",
       "</style>\n",
       "<table border=\"1\" class=\"dataframe\">\n",
       "  <thead>\n",
       "    <tr style=\"text-align: right;\">\n",
       "      <th></th>\n",
       "      <th>DATE</th>\n",
       "      <th>JTU5300QUL</th>\n",
       "      <th>DATE_LAG1</th>\n",
       "      <th>JTU5300QUL_LAG1</th>\n",
       "      <th>DATE_LAG2</th>\n",
       "      <th>JTU5300QUL_LAG2</th>\n",
       "      <th>DATE_LAG3</th>\n",
       "      <th>JTU5300QUL_LAG3</th>\n",
       "      <th>DATE_LAG4</th>\n",
       "      <th>JTU5300QUL_LAG4</th>\n",
       "      <th>...</th>\n",
       "      <th>DATE_LAG36</th>\n",
       "      <th>JTU5300QUL_LAG36</th>\n",
       "      <th>DATE_LAG37</th>\n",
       "      <th>JTU5300QUL_LAG37</th>\n",
       "      <th>DATE_LAG38</th>\n",
       "      <th>JTU5300QUL_LAG38</th>\n",
       "      <th>DATE_LAG39</th>\n",
       "      <th>JTU5300QUL_LAG39</th>\n",
       "      <th>DATE_LAG40</th>\n",
       "      <th>JTU5300QUL_LAG40</th>\n",
       "    </tr>\n",
       "  </thead>\n",
       "  <tbody>\n",
       "    <tr>\n",
       "      <th>0</th>\n",
       "      <td>2000-12-01</td>\n",
       "      <td>50</td>\n",
       "      <td>NaT</td>\n",
       "      <td>NaN</td>\n",
       "      <td>NaT</td>\n",
       "      <td>NaN</td>\n",
       "      <td>NaT</td>\n",
       "      <td>NaN</td>\n",
       "      <td>NaT</td>\n",
       "      <td>NaN</td>\n",
       "      <td>...</td>\n",
       "      <td>NaT</td>\n",
       "      <td>NaN</td>\n",
       "      <td>NaT</td>\n",
       "      <td>NaN</td>\n",
       "      <td>NaT</td>\n",
       "      <td>NaN</td>\n",
       "      <td>NaT</td>\n",
       "      <td>NaN</td>\n",
       "      <td>NaT</td>\n",
       "      <td>NaN</td>\n",
       "    </tr>\n",
       "    <tr>\n",
       "      <th>1</th>\n",
       "      <td>2001-01-01</td>\n",
       "      <td>80</td>\n",
       "      <td>2000-12-01</td>\n",
       "      <td>50.0</td>\n",
       "      <td>NaT</td>\n",
       "      <td>NaN</td>\n",
       "      <td>NaT</td>\n",
       "      <td>NaN</td>\n",
       "      <td>NaT</td>\n",
       "      <td>NaN</td>\n",
       "      <td>...</td>\n",
       "      <td>NaT</td>\n",
       "      <td>NaN</td>\n",
       "      <td>NaT</td>\n",
       "      <td>NaN</td>\n",
       "      <td>NaT</td>\n",
       "      <td>NaN</td>\n",
       "      <td>NaT</td>\n",
       "      <td>NaN</td>\n",
       "      <td>NaT</td>\n",
       "      <td>NaN</td>\n",
       "    </tr>\n",
       "    <tr>\n",
       "      <th>2</th>\n",
       "      <td>2001-02-01</td>\n",
       "      <td>29</td>\n",
       "      <td>2001-01-01</td>\n",
       "      <td>80.0</td>\n",
       "      <td>2000-12-01</td>\n",
       "      <td>50.0</td>\n",
       "      <td>NaT</td>\n",
       "      <td>NaN</td>\n",
       "      <td>NaT</td>\n",
       "      <td>NaN</td>\n",
       "      <td>...</td>\n",
       "      <td>NaT</td>\n",
       "      <td>NaN</td>\n",
       "      <td>NaT</td>\n",
       "      <td>NaN</td>\n",
       "      <td>NaT</td>\n",
       "      <td>NaN</td>\n",
       "      <td>NaT</td>\n",
       "      <td>NaN</td>\n",
       "      <td>NaT</td>\n",
       "      <td>NaN</td>\n",
       "    </tr>\n",
       "    <tr>\n",
       "      <th>3</th>\n",
       "      <td>2001-03-01</td>\n",
       "      <td>28</td>\n",
       "      <td>2001-02-01</td>\n",
       "      <td>29.0</td>\n",
       "      <td>2001-01-01</td>\n",
       "      <td>80.0</td>\n",
       "      <td>2000-12-01</td>\n",
       "      <td>50.0</td>\n",
       "      <td>NaT</td>\n",
       "      <td>NaN</td>\n",
       "      <td>...</td>\n",
       "      <td>NaT</td>\n",
       "      <td>NaN</td>\n",
       "      <td>NaT</td>\n",
       "      <td>NaN</td>\n",
       "      <td>NaT</td>\n",
       "      <td>NaN</td>\n",
       "      <td>NaT</td>\n",
       "      <td>NaN</td>\n",
       "      <td>NaT</td>\n",
       "      <td>NaN</td>\n",
       "    </tr>\n",
       "    <tr>\n",
       "      <th>4</th>\n",
       "      <td>2001-04-01</td>\n",
       "      <td>52</td>\n",
       "      <td>2001-03-01</td>\n",
       "      <td>28.0</td>\n",
       "      <td>2001-02-01</td>\n",
       "      <td>29.0</td>\n",
       "      <td>2001-01-01</td>\n",
       "      <td>80.0</td>\n",
       "      <td>2000-12-01</td>\n",
       "      <td>50.0</td>\n",
       "      <td>...</td>\n",
       "      <td>NaT</td>\n",
       "      <td>NaN</td>\n",
       "      <td>NaT</td>\n",
       "      <td>NaN</td>\n",
       "      <td>NaT</td>\n",
       "      <td>NaN</td>\n",
       "      <td>NaT</td>\n",
       "      <td>NaN</td>\n",
       "      <td>NaT</td>\n",
       "      <td>NaN</td>\n",
       "    </tr>\n",
       "    <tr>\n",
       "      <th>...</th>\n",
       "      <td>...</td>\n",
       "      <td>...</td>\n",
       "      <td>...</td>\n",
       "      <td>...</td>\n",
       "      <td>...</td>\n",
       "      <td>...</td>\n",
       "      <td>...</td>\n",
       "      <td>...</td>\n",
       "      <td>...</td>\n",
       "      <td>...</td>\n",
       "      <td>...</td>\n",
       "      <td>...</td>\n",
       "      <td>...</td>\n",
       "      <td>...</td>\n",
       "      <td>...</td>\n",
       "      <td>...</td>\n",
       "      <td>...</td>\n",
       "      <td>...</td>\n",
       "      <td>...</td>\n",
       "      <td>...</td>\n",
       "      <td>...</td>\n",
       "    </tr>\n",
       "    <tr>\n",
       "      <th>266</th>\n",
       "      <td>2023-02-01</td>\n",
       "      <td>42</td>\n",
       "      <td>2023-01-01</td>\n",
       "      <td>52.0</td>\n",
       "      <td>2022-12-01</td>\n",
       "      <td>35.0</td>\n",
       "      <td>2022-11-01</td>\n",
       "      <td>48.0</td>\n",
       "      <td>2022-10-01</td>\n",
       "      <td>53.0</td>\n",
       "      <td>...</td>\n",
       "      <td>2020-02-01</td>\n",
       "      <td>31.0</td>\n",
       "      <td>2020-01-01</td>\n",
       "      <td>52.0</td>\n",
       "      <td>2019-12-01</td>\n",
       "      <td>38.0</td>\n",
       "      <td>2019-11-01</td>\n",
       "      <td>46.0</td>\n",
       "      <td>2019-10-01</td>\n",
       "      <td>43.0</td>\n",
       "    </tr>\n",
       "    <tr>\n",
       "      <th>267</th>\n",
       "      <td>2023-03-01</td>\n",
       "      <td>44</td>\n",
       "      <td>2023-02-01</td>\n",
       "      <td>42.0</td>\n",
       "      <td>2023-01-01</td>\n",
       "      <td>52.0</td>\n",
       "      <td>2022-12-01</td>\n",
       "      <td>35.0</td>\n",
       "      <td>2022-11-01</td>\n",
       "      <td>48.0</td>\n",
       "      <td>...</td>\n",
       "      <td>2020-03-01</td>\n",
       "      <td>28.0</td>\n",
       "      <td>2020-02-01</td>\n",
       "      <td>31.0</td>\n",
       "      <td>2020-01-01</td>\n",
       "      <td>52.0</td>\n",
       "      <td>2019-12-01</td>\n",
       "      <td>38.0</td>\n",
       "      <td>2019-11-01</td>\n",
       "      <td>46.0</td>\n",
       "    </tr>\n",
       "    <tr>\n",
       "      <th>268</th>\n",
       "      <td>2023-04-01</td>\n",
       "      <td>56</td>\n",
       "      <td>2023-03-01</td>\n",
       "      <td>44.0</td>\n",
       "      <td>2023-02-01</td>\n",
       "      <td>42.0</td>\n",
       "      <td>2023-01-01</td>\n",
       "      <td>52.0</td>\n",
       "      <td>2022-12-01</td>\n",
       "      <td>35.0</td>\n",
       "      <td>...</td>\n",
       "      <td>2020-04-01</td>\n",
       "      <td>25.0</td>\n",
       "      <td>2020-03-01</td>\n",
       "      <td>28.0</td>\n",
       "      <td>2020-02-01</td>\n",
       "      <td>31.0</td>\n",
       "      <td>2020-01-01</td>\n",
       "      <td>52.0</td>\n",
       "      <td>2019-12-01</td>\n",
       "      <td>38.0</td>\n",
       "    </tr>\n",
       "    <tr>\n",
       "      <th>269</th>\n",
       "      <td>2023-05-01</td>\n",
       "      <td>39</td>\n",
       "      <td>2023-04-01</td>\n",
       "      <td>56.0</td>\n",
       "      <td>2023-03-01</td>\n",
       "      <td>44.0</td>\n",
       "      <td>2023-02-01</td>\n",
       "      <td>42.0</td>\n",
       "      <td>2023-01-01</td>\n",
       "      <td>52.0</td>\n",
       "      <td>...</td>\n",
       "      <td>2020-05-01</td>\n",
       "      <td>19.0</td>\n",
       "      <td>2020-04-01</td>\n",
       "      <td>25.0</td>\n",
       "      <td>2020-03-01</td>\n",
       "      <td>28.0</td>\n",
       "      <td>2020-02-01</td>\n",
       "      <td>31.0</td>\n",
       "      <td>2020-01-01</td>\n",
       "      <td>52.0</td>\n",
       "    </tr>\n",
       "    <tr>\n",
       "      <th>270</th>\n",
       "      <td>2023-06-01</td>\n",
       "      <td>52</td>\n",
       "      <td>2023-05-01</td>\n",
       "      <td>39.0</td>\n",
       "      <td>2023-04-01</td>\n",
       "      <td>56.0</td>\n",
       "      <td>2023-03-01</td>\n",
       "      <td>44.0</td>\n",
       "      <td>2023-02-01</td>\n",
       "      <td>42.0</td>\n",
       "      <td>...</td>\n",
       "      <td>2020-06-01</td>\n",
       "      <td>28.0</td>\n",
       "      <td>2020-05-01</td>\n",
       "      <td>19.0</td>\n",
       "      <td>2020-04-01</td>\n",
       "      <td>25.0</td>\n",
       "      <td>2020-03-01</td>\n",
       "      <td>28.0</td>\n",
       "      <td>2020-02-01</td>\n",
       "      <td>31.0</td>\n",
       "    </tr>\n",
       "  </tbody>\n",
       "</table>\n",
       "<p>271 rows × 82 columns</p>\n",
       "</div>"
      ],
      "text/plain": [
       "          DATE  JTU5300QUL  DATE_LAG1  JTU5300QUL_LAG1  DATE_LAG2  \\\n",
       "0   2000-12-01          50        NaT              NaN        NaT   \n",
       "1   2001-01-01          80 2000-12-01             50.0        NaT   \n",
       "2   2001-02-01          29 2001-01-01             80.0 2000-12-01   \n",
       "3   2001-03-01          28 2001-02-01             29.0 2001-01-01   \n",
       "4   2001-04-01          52 2001-03-01             28.0 2001-02-01   \n",
       "..         ...         ...        ...              ...        ...   \n",
       "266 2023-02-01          42 2023-01-01             52.0 2022-12-01   \n",
       "267 2023-03-01          44 2023-02-01             42.0 2023-01-01   \n",
       "268 2023-04-01          56 2023-03-01             44.0 2023-02-01   \n",
       "269 2023-05-01          39 2023-04-01             56.0 2023-03-01   \n",
       "270 2023-06-01          52 2023-05-01             39.0 2023-04-01   \n",
       "\n",
       "     JTU5300QUL_LAG2  DATE_LAG3  JTU5300QUL_LAG3  DATE_LAG4  JTU5300QUL_LAG4  \\\n",
       "0                NaN        NaT              NaN        NaT              NaN   \n",
       "1                NaN        NaT              NaN        NaT              NaN   \n",
       "2               50.0        NaT              NaN        NaT              NaN   \n",
       "3               80.0 2000-12-01             50.0        NaT              NaN   \n",
       "4               29.0 2001-01-01             80.0 2000-12-01             50.0   \n",
       "..               ...        ...              ...        ...              ...   \n",
       "266             35.0 2022-11-01             48.0 2022-10-01             53.0   \n",
       "267             52.0 2022-12-01             35.0 2022-11-01             48.0   \n",
       "268             42.0 2023-01-01             52.0 2022-12-01             35.0   \n",
       "269             44.0 2023-02-01             42.0 2023-01-01             52.0   \n",
       "270             56.0 2023-03-01             44.0 2023-02-01             42.0   \n",
       "\n",
       "     ... DATE_LAG36  JTU5300QUL_LAG36 DATE_LAG37  JTU5300QUL_LAG37 DATE_LAG38  \\\n",
       "0    ...        NaT               NaN        NaT               NaN        NaT   \n",
       "1    ...        NaT               NaN        NaT               NaN        NaT   \n",
       "2    ...        NaT               NaN        NaT               NaN        NaT   \n",
       "3    ...        NaT               NaN        NaT               NaN        NaT   \n",
       "4    ...        NaT               NaN        NaT               NaN        NaT   \n",
       "..   ...        ...               ...        ...               ...        ...   \n",
       "266  ... 2020-02-01              31.0 2020-01-01              52.0 2019-12-01   \n",
       "267  ... 2020-03-01              28.0 2020-02-01              31.0 2020-01-01   \n",
       "268  ... 2020-04-01              25.0 2020-03-01              28.0 2020-02-01   \n",
       "269  ... 2020-05-01              19.0 2020-04-01              25.0 2020-03-01   \n",
       "270  ... 2020-06-01              28.0 2020-05-01              19.0 2020-04-01   \n",
       "\n",
       "     JTU5300QUL_LAG38 DATE_LAG39  JTU5300QUL_LAG39 DATE_LAG40  \\\n",
       "0                 NaN        NaT               NaN        NaT   \n",
       "1                 NaN        NaT               NaN        NaT   \n",
       "2                 NaN        NaT               NaN        NaT   \n",
       "3                 NaN        NaT               NaN        NaT   \n",
       "4                 NaN        NaT               NaN        NaT   \n",
       "..                ...        ...               ...        ...   \n",
       "266              38.0 2019-11-01              46.0 2019-10-01   \n",
       "267              52.0 2019-12-01              38.0 2019-11-01   \n",
       "268              31.0 2020-01-01              52.0 2019-12-01   \n",
       "269              28.0 2020-02-01              31.0 2020-01-01   \n",
       "270              25.0 2020-03-01              28.0 2020-02-01   \n",
       "\n",
       "     JTU5300QUL_LAG40  \n",
       "0                 NaN  \n",
       "1                 NaN  \n",
       "2                 NaN  \n",
       "3                 NaN  \n",
       "4                 NaN  \n",
       "..                ...  \n",
       "266              43.0  \n",
       "267              46.0  \n",
       "268              38.0  \n",
       "269              52.0  \n",
       "270              31.0  \n",
       "\n",
       "[271 rows x 82 columns]"
      ]
     },
     "execution_count": 27,
     "metadata": {},
     "output_type": "execute_result"
    }
   ],
   "source": [
    "data_joint"
   ]
  },
  {
   "cell_type": "code",
   "execution_count": 28,
   "id": "c86516a7-17a6-407a-8dc5-6b33c55e8f04",
   "metadata": {},
   "outputs": [
    {
     "data": {
      "text/plain": [
       "[<matplotlib.lines.Line2D at 0x24354e6cfd0>]"
      ]
     },
     "execution_count": 28,
     "metadata": {},
     "output_type": "execute_result"
    },
    {
     "data": {
      "image/png": "[encoded data removed]",
      "text/plain": [
       "<Figure size 640x480 with 1 Axes>"
      ]
     },
     "metadata": {},
     "output_type": "display_data"
    }
   ],
   "source": [
    "pyplot.plot(preds['DATE'].values, preds[f].values, 'black')\n",
    "pyplot.plot(preds['DATE'].values, preds['{0}_rf_hat'.format(f)].values, 'navy')"
   ]
  },
  {
   "cell_type": "code",
   "execution_count": null,
   "id": "0b57d96a-0fe4-45b9-8a30-4c63a66da289",
   "metadata": {},
   "outputs": [],
   "source": []
  },
  {
   "cell_type": "code",
   "execution_count": null,
   "id": "52bff6a3-885d-41e4-bc2c-fa745427aedf",
   "metadata": {},
   "outputs": [],
   "source": []
  },
  {
   "cell_type": "code",
   "execution_count": 10,
   "id": "d164c8b3-4a92-4179-aa1c-101a7cd068c4",
   "metadata": {},
   "outputs": [
    {
     "data": {
      "image/png": "[encoded data removed]",
      "text/plain": [
       "<Figure size 640x480 with 4 Axes>"
      ]
     },
     "execution_count": 10,
     "metadata": {},
     "output_type": "execute_result"
    }
   ],
   "source": [
    "fig"
   ]
  },
  {
   "cell_type": "code",
   "execution_count": 11,
   "id": "358129b2-3df2-4dfb-8f28-66910f962b66",
   "metadata": {},
   "outputs": [
    {
     "data": {
      "text/html": [
       "<div>\n",
       "<style scoped>\n",
       "    .dataframe tbody tr th:only-of-type {\n",
       "        vertical-align: middle;\n",
       "    }\n",
       "\n",
       "    .dataframe tbody tr th {\n",
       "        vertical-align: top;\n",
       "    }\n",
       "\n",
       "    .dataframe thead th {\n",
       "        text-align: right;\n",
       "    }\n",
       "</style>\n",
       "<table border=\"1\" class=\"dataframe\">\n",
       "  <thead>\n",
       "    <tr style=\"text-align: right;\">\n",
       "      <th></th>\n",
       "      <th>ds</th>\n",
       "      <th>y</th>\n",
       "    </tr>\n",
       "  </thead>\n",
       "  <tbody>\n",
       "    <tr>\n",
       "      <th>662</th>\n",
       "      <td>1970-02-01</td>\n",
       "      <td>45.8</td>\n",
       "    </tr>\n",
       "    <tr>\n",
       "      <th>663</th>\n",
       "      <td>1970-03-01</td>\n",
       "      <td>46.0</td>\n",
       "    </tr>\n",
       "    <tr>\n",
       "      <th>664</th>\n",
       "      <td>1970-04-01</td>\n",
       "      <td>46.1</td>\n",
       "    </tr>\n",
       "    <tr>\n",
       "      <th>665</th>\n",
       "      <td>1970-05-01</td>\n",
       "      <td>46.2</td>\n",
       "    </tr>\n",
       "    <tr>\n",
       "      <th>666</th>\n",
       "      <td>1970-06-01</td>\n",
       "      <td>46.4</td>\n",
       "    </tr>\n",
       "    <tr>\n",
       "      <th>...</th>\n",
       "      <td>...</td>\n",
       "      <td>...</td>\n",
       "    </tr>\n",
       "    <tr>\n",
       "      <th>978</th>\n",
       "      <td>1996-06-01</td>\n",
       "      <td>161.7</td>\n",
       "    </tr>\n",
       "    <tr>\n",
       "      <th>979</th>\n",
       "      <td>1996-07-01</td>\n",
       "      <td>162.2</td>\n",
       "    </tr>\n",
       "    <tr>\n",
       "      <th>980</th>\n",
       "      <td>1996-08-01</td>\n",
       "      <td>162.5</td>\n",
       "    </tr>\n",
       "    <tr>\n",
       "      <th>981</th>\n",
       "      <td>1996-09-01</td>\n",
       "      <td>162.9</td>\n",
       "    </tr>\n",
       "    <tr>\n",
       "      <th>982</th>\n",
       "      <td>1996-10-01</td>\n",
       "      <td>163.3</td>\n",
       "    </tr>\n",
       "  </tbody>\n",
       "</table>\n",
       "<p>321 rows × 2 columns</p>\n",
       "</div>"
      ],
      "text/plain": [
       "            ds      y\n",
       "662 1970-02-01   45.8\n",
       "663 1970-03-01   46.0\n",
       "664 1970-04-01   46.1\n",
       "665 1970-05-01   46.2\n",
       "666 1970-06-01   46.4\n",
       "..         ...    ...\n",
       "978 1996-06-01  161.7\n",
       "979 1996-07-01  162.2\n",
       "980 1996-08-01  162.5\n",
       "981 1996-09-01  162.9\n",
       "982 1996-10-01  163.3\n",
       "\n",
       "[321 rows x 2 columns]"
      ]
     },
     "execution_count": 11,
     "metadata": {},
     "output_type": "execute_result"
    }
   ],
   "source": [
    "y_dev"
   ]
  },
  {
   "cell_type": "code",
   "execution_count": 29,
   "id": "da164ee6-3665-4d83-a937-8e203223a733",
   "metadata": {},
   "outputs": [
    {
     "data": {
      "text/html": [
       "<div>\n",
       "<style scoped>\n",
       "    .dataframe tbody tr th:only-of-type {\n",
       "        vertical-align: middle;\n",
       "    }\n",
       "\n",
       "    .dataframe tbody tr th {\n",
       "        vertical-align: top;\n",
       "    }\n",
       "\n",
       "    .dataframe thead th {\n",
       "        text-align: right;\n",
       "    }\n",
       "</style>\n",
       "<table border=\"1\" class=\"dataframe\">\n",
       "  <thead>\n",
       "    <tr style=\"text-align: right;\">\n",
       "      <th></th>\n",
       "      <th>DATE</th>\n",
       "      <th>JTU5300QUL_rf_hat_lower</th>\n",
       "      <th>JTU5300QUL_rf_hat_upper</th>\n",
       "      <th>JTU5300QUL_rf_hat</th>\n",
       "      <th>JTU5300QUL</th>\n",
       "      <th>DATE_LAG1</th>\n",
       "      <th>JTU5300QUL_LAG1</th>\n",
       "      <th>DATE_LAG2</th>\n",
       "      <th>JTU5300QUL_LAG2</th>\n",
       "      <th>DATE_LAG3</th>\n",
       "      <th>...</th>\n",
       "      <th>DATE_LAG36</th>\n",
       "      <th>JTU5300QUL_LAG36</th>\n",
       "      <th>DATE_LAG37</th>\n",
       "      <th>JTU5300QUL_LAG37</th>\n",
       "      <th>DATE_LAG38</th>\n",
       "      <th>JTU5300QUL_LAG38</th>\n",
       "      <th>DATE_LAG39</th>\n",
       "      <th>JTU5300QUL_LAG39</th>\n",
       "      <th>DATE_LAG40</th>\n",
       "      <th>JTU5300QUL_LAG40</th>\n",
       "    </tr>\n",
       "  </thead>\n",
       "  <tbody>\n",
       "    <tr>\n",
       "      <th>0</th>\n",
       "      <td>2017-08-01</td>\n",
       "      <td>NaN</td>\n",
       "      <td>NaN</td>\n",
       "      <td>37.91</td>\n",
       "      <td>46</td>\n",
       "      <td>2017-07-01</td>\n",
       "      <td>38.0</td>\n",
       "      <td>2017-06-01</td>\n",
       "      <td>47.0</td>\n",
       "      <td>2017-05-01</td>\n",
       "      <td>...</td>\n",
       "      <td>2014-08-01</td>\n",
       "      <td>49.0</td>\n",
       "      <td>2014-07-01</td>\n",
       "      <td>38.0</td>\n",
       "      <td>2014-06-01</td>\n",
       "      <td>29.0</td>\n",
       "      <td>2014-05-01</td>\n",
       "      <td>35.0</td>\n",
       "      <td>2014-04-01</td>\n",
       "      <td>34.0</td>\n",
       "    </tr>\n",
       "    <tr>\n",
       "      <th>1</th>\n",
       "      <td>2017-09-01</td>\n",
       "      <td>NaN</td>\n",
       "      <td>NaN</td>\n",
       "      <td>34.28</td>\n",
       "      <td>31</td>\n",
       "      <td>2017-08-01</td>\n",
       "      <td>46.0</td>\n",
       "      <td>2017-07-01</td>\n",
       "      <td>38.0</td>\n",
       "      <td>2017-06-01</td>\n",
       "      <td>...</td>\n",
       "      <td>2014-09-01</td>\n",
       "      <td>37.0</td>\n",
       "      <td>2014-08-01</td>\n",
       "      <td>49.0</td>\n",
       "      <td>2014-07-01</td>\n",
       "      <td>38.0</td>\n",
       "      <td>2014-06-01</td>\n",
       "      <td>29.0</td>\n",
       "      <td>2014-05-01</td>\n",
       "      <td>35.0</td>\n",
       "    </tr>\n",
       "    <tr>\n",
       "      <th>2</th>\n",
       "      <td>2017-10-01</td>\n",
       "      <td>NaN</td>\n",
       "      <td>NaN</td>\n",
       "      <td>33.10</td>\n",
       "      <td>46</td>\n",
       "      <td>2017-09-01</td>\n",
       "      <td>31.0</td>\n",
       "      <td>2017-08-01</td>\n",
       "      <td>46.0</td>\n",
       "      <td>2017-07-01</td>\n",
       "      <td>...</td>\n",
       "      <td>2014-10-01</td>\n",
       "      <td>35.0</td>\n",
       "      <td>2014-09-01</td>\n",
       "      <td>37.0</td>\n",
       "      <td>2014-08-01</td>\n",
       "      <td>49.0</td>\n",
       "      <td>2014-07-01</td>\n",
       "      <td>38.0</td>\n",
       "      <td>2014-06-01</td>\n",
       "      <td>29.0</td>\n",
       "    </tr>\n",
       "    <tr>\n",
       "      <th>3</th>\n",
       "      <td>2017-11-01</td>\n",
       "      <td>NaN</td>\n",
       "      <td>NaN</td>\n",
       "      <td>32.96</td>\n",
       "      <td>23</td>\n",
       "      <td>2017-10-01</td>\n",
       "      <td>46.0</td>\n",
       "      <td>2017-09-01</td>\n",
       "      <td>31.0</td>\n",
       "      <td>2017-08-01</td>\n",
       "      <td>...</td>\n",
       "      <td>2014-11-01</td>\n",
       "      <td>41.0</td>\n",
       "      <td>2014-10-01</td>\n",
       "      <td>35.0</td>\n",
       "      <td>2014-09-01</td>\n",
       "      <td>37.0</td>\n",
       "      <td>2014-08-01</td>\n",
       "      <td>49.0</td>\n",
       "      <td>2014-07-01</td>\n",
       "      <td>38.0</td>\n",
       "    </tr>\n",
       "    <tr>\n",
       "      <th>4</th>\n",
       "      <td>2017-12-01</td>\n",
       "      <td>NaN</td>\n",
       "      <td>NaN</td>\n",
       "      <td>28.51</td>\n",
       "      <td>28</td>\n",
       "      <td>2017-11-01</td>\n",
       "      <td>23.0</td>\n",
       "      <td>2017-10-01</td>\n",
       "      <td>46.0</td>\n",
       "      <td>2017-09-01</td>\n",
       "      <td>...</td>\n",
       "      <td>2014-12-01</td>\n",
       "      <td>26.0</td>\n",
       "      <td>2014-11-01</td>\n",
       "      <td>41.0</td>\n",
       "      <td>2014-10-01</td>\n",
       "      <td>35.0</td>\n",
       "      <td>2014-09-01</td>\n",
       "      <td>37.0</td>\n",
       "      <td>2014-08-01</td>\n",
       "      <td>49.0</td>\n",
       "    </tr>\n",
       "    <tr>\n",
       "      <th>...</th>\n",
       "      <td>...</td>\n",
       "      <td>...</td>\n",
       "      <td>...</td>\n",
       "      <td>...</td>\n",
       "      <td>...</td>\n",
       "      <td>...</td>\n",
       "      <td>...</td>\n",
       "      <td>...</td>\n",
       "      <td>...</td>\n",
       "      <td>...</td>\n",
       "      <td>...</td>\n",
       "      <td>...</td>\n",
       "      <td>...</td>\n",
       "      <td>...</td>\n",
       "      <td>...</td>\n",
       "      <td>...</td>\n",
       "      <td>...</td>\n",
       "      <td>...</td>\n",
       "      <td>...</td>\n",
       "      <td>...</td>\n",
       "      <td>...</td>\n",
       "    </tr>\n",
       "    <tr>\n",
       "      <th>66</th>\n",
       "      <td>2023-02-01</td>\n",
       "      <td>NaN</td>\n",
       "      <td>NaN</td>\n",
       "      <td>37.09</td>\n",
       "      <td>42</td>\n",
       "      <td>2023-01-01</td>\n",
       "      <td>52.0</td>\n",
       "      <td>2022-12-01</td>\n",
       "      <td>35.0</td>\n",
       "      <td>2022-11-01</td>\n",
       "      <td>...</td>\n",
       "      <td>2020-02-01</td>\n",
       "      <td>31.0</td>\n",
       "      <td>2020-01-01</td>\n",
       "      <td>52.0</td>\n",
       "      <td>2019-12-01</td>\n",
       "      <td>38.0</td>\n",
       "      <td>2019-11-01</td>\n",
       "      <td>46.0</td>\n",
       "      <td>2019-10-01</td>\n",
       "      <td>43.0</td>\n",
       "    </tr>\n",
       "    <tr>\n",
       "      <th>67</th>\n",
       "      <td>2023-03-01</td>\n",
       "      <td>NaN</td>\n",
       "      <td>NaN</td>\n",
       "      <td>34.61</td>\n",
       "      <td>44</td>\n",
       "      <td>2023-02-01</td>\n",
       "      <td>42.0</td>\n",
       "      <td>2023-01-01</td>\n",
       "      <td>52.0</td>\n",
       "      <td>2022-12-01</td>\n",
       "      <td>...</td>\n",
       "      <td>2020-03-01</td>\n",
       "      <td>28.0</td>\n",
       "      <td>2020-02-01</td>\n",
       "      <td>31.0</td>\n",
       "      <td>2020-01-01</td>\n",
       "      <td>52.0</td>\n",
       "      <td>2019-12-01</td>\n",
       "      <td>38.0</td>\n",
       "      <td>2019-11-01</td>\n",
       "      <td>46.0</td>\n",
       "    </tr>\n",
       "    <tr>\n",
       "      <th>68</th>\n",
       "      <td>2023-04-01</td>\n",
       "      <td>NaN</td>\n",
       "      <td>NaN</td>\n",
       "      <td>44.50</td>\n",
       "      <td>56</td>\n",
       "      <td>2023-03-01</td>\n",
       "      <td>44.0</td>\n",
       "      <td>2023-02-01</td>\n",
       "      <td>42.0</td>\n",
       "      <td>2023-01-01</td>\n",
       "      <td>...</td>\n",
       "      <td>2020-04-01</td>\n",
       "      <td>25.0</td>\n",
       "      <td>2020-03-01</td>\n",
       "      <td>28.0</td>\n",
       "      <td>2020-02-01</td>\n",
       "      <td>31.0</td>\n",
       "      <td>2020-01-01</td>\n",
       "      <td>52.0</td>\n",
       "      <td>2019-12-01</td>\n",
       "      <td>38.0</td>\n",
       "    </tr>\n",
       "    <tr>\n",
       "      <th>69</th>\n",
       "      <td>2023-05-01</td>\n",
       "      <td>NaN</td>\n",
       "      <td>NaN</td>\n",
       "      <td>45.64</td>\n",
       "      <td>39</td>\n",
       "      <td>2023-04-01</td>\n",
       "      <td>56.0</td>\n",
       "      <td>2023-03-01</td>\n",
       "      <td>44.0</td>\n",
       "      <td>2023-02-01</td>\n",
       "      <td>...</td>\n",
       "      <td>2020-05-01</td>\n",
       "      <td>19.0</td>\n",
       "      <td>2020-04-01</td>\n",
       "      <td>25.0</td>\n",
       "      <td>2020-03-01</td>\n",
       "      <td>28.0</td>\n",
       "      <td>2020-02-01</td>\n",
       "      <td>31.0</td>\n",
       "      <td>2020-01-01</td>\n",
       "      <td>52.0</td>\n",
       "    </tr>\n",
       "    <tr>\n",
       "      <th>70</th>\n",
       "      <td>2023-06-01</td>\n",
       "      <td>NaN</td>\n",
       "      <td>NaN</td>\n",
       "      <td>44.91</td>\n",
       "      <td>52</td>\n",
       "      <td>2023-05-01</td>\n",
       "      <td>39.0</td>\n",
       "      <td>2023-04-01</td>\n",
       "      <td>56.0</td>\n",
       "      <td>2023-03-01</td>\n",
       "      <td>...</td>\n",
       "      <td>2020-06-01</td>\n",
       "      <td>28.0</td>\n",
       "      <td>2020-05-01</td>\n",
       "      <td>19.0</td>\n",
       "      <td>2020-04-01</td>\n",
       "      <td>25.0</td>\n",
       "      <td>2020-03-01</td>\n",
       "      <td>28.0</td>\n",
       "      <td>2020-02-01</td>\n",
       "      <td>31.0</td>\n",
       "    </tr>\n",
       "  </tbody>\n",
       "</table>\n",
       "<p>71 rows × 85 columns</p>\n",
       "</div>"
      ],
      "text/plain": [
       "         DATE  JTU5300QUL_rf_hat_lower  JTU5300QUL_rf_hat_upper  \\\n",
       "0  2017-08-01                      NaN                      NaN   \n",
       "1  2017-09-01                      NaN                      NaN   \n",
       "2  2017-10-01                      NaN                      NaN   \n",
       "3  2017-11-01                      NaN                      NaN   \n",
       "4  2017-12-01                      NaN                      NaN   \n",
       "..        ...                      ...                      ...   \n",
       "66 2023-02-01                      NaN                      NaN   \n",
       "67 2023-03-01                      NaN                      NaN   \n",
       "68 2023-04-01                      NaN                      NaN   \n",
       "69 2023-05-01                      NaN                      NaN   \n",
       "70 2023-06-01                      NaN                      NaN   \n",
       "\n",
       "    JTU5300QUL_rf_hat  JTU5300QUL  DATE_LAG1  JTU5300QUL_LAG1  DATE_LAG2  \\\n",
       "0               37.91          46 2017-07-01             38.0 2017-06-01   \n",
       "1               34.28          31 2017-08-01             46.0 2017-07-01   \n",
       "2               33.10          46 2017-09-01             31.0 2017-08-01   \n",
       "3               32.96          23 2017-10-01             46.0 2017-09-01   \n",
       "4               28.51          28 2017-11-01             23.0 2017-10-01   \n",
       "..                ...         ...        ...              ...        ...   \n",
       "66              37.09          42 2023-01-01             52.0 2022-12-01   \n",
       "67              34.61          44 2023-02-01             42.0 2023-01-01   \n",
       "68              44.50          56 2023-03-01             44.0 2023-02-01   \n",
       "69              45.64          39 2023-04-01             56.0 2023-03-01   \n",
       "70              44.91          52 2023-05-01             39.0 2023-04-01   \n",
       "\n",
       "    JTU5300QUL_LAG2  DATE_LAG3  ...  DATE_LAG36 JTU5300QUL_LAG36  DATE_LAG37  \\\n",
       "0              47.0 2017-05-01  ...  2014-08-01             49.0  2014-07-01   \n",
       "1              38.0 2017-06-01  ...  2014-09-01             37.0  2014-08-01   \n",
       "2              46.0 2017-07-01  ...  2014-10-01             35.0  2014-09-01   \n",
       "3              31.0 2017-08-01  ...  2014-11-01             41.0  2014-10-01   \n",
       "4              46.0 2017-09-01  ...  2014-12-01             26.0  2014-11-01   \n",
       "..              ...        ...  ...         ...              ...         ...   \n",
       "66             35.0 2022-11-01  ...  2020-02-01             31.0  2020-01-01   \n",
       "67             52.0 2022-12-01  ...  2020-03-01             28.0  2020-02-01   \n",
       "68             42.0 2023-01-01  ...  2020-04-01             25.0  2020-03-01   \n",
       "69             44.0 2023-02-01  ...  2020-05-01             19.0  2020-04-01   \n",
       "70             56.0 2023-03-01  ...  2020-06-01             28.0  2020-05-01   \n",
       "\n",
       "   JTU5300QUL_LAG37  DATE_LAG38 JTU5300QUL_LAG38  DATE_LAG39 JTU5300QUL_LAG39  \\\n",
       "0              38.0  2014-06-01             29.0  2014-05-01             35.0   \n",
       "1              49.0  2014-07-01             38.0  2014-06-01             29.0   \n",
       "2              37.0  2014-08-01             49.0  2014-07-01             38.0   \n",
       "3              35.0  2014-09-01             37.0  2014-08-01             49.0   \n",
       "4              41.0  2014-10-01             35.0  2014-09-01             37.0   \n",
       "..              ...         ...              ...         ...              ...   \n",
       "66             52.0  2019-12-01             38.0  2019-11-01             46.0   \n",
       "67             31.0  2020-01-01             52.0  2019-12-01             38.0   \n",
       "68             28.0  2020-02-01             31.0  2020-01-01             52.0   \n",
       "69             25.0  2020-03-01             28.0  2020-02-01             31.0   \n",
       "70             19.0  2020-04-01             25.0  2020-03-01             28.0   \n",
       "\n",
       "    DATE_LAG40 JTU5300QUL_LAG40  \n",
       "0   2014-04-01             34.0  \n",
       "1   2014-05-01             35.0  \n",
       "2   2014-06-01             29.0  \n",
       "3   2014-07-01             38.0  \n",
       "4   2014-08-01             49.0  \n",
       "..         ...              ...  \n",
       "66  2019-10-01             43.0  \n",
       "67  2019-11-01             46.0  \n",
       "68  2019-12-01             38.0  \n",
       "69  2020-01-01             52.0  \n",
       "70  2020-02-01             31.0  \n",
       "\n",
       "[71 rows x 85 columns]"
      ]
     },
     "execution_count": 29,
     "metadata": {},
     "output_type": "execute_result"
    }
   ],
   "source": [
    "jets = preds[['DATE', '{0}_rf_hat_lower'.format(f), '{0}_rf_hat_upper'.format(f), '{0}_rf_hat'.format(f)]].copy()\n",
    "jets = jets.merge(right=data_joint, left_on='DATE', right_on='DATE', how='left')\n",
    "jets"
   ]
  },
  {
   "cell_type": "code",
   "execution_count": 30,
   "id": "03e9e843-75a8-49d4-984b-634596b78434",
   "metadata": {},
   "outputs": [
    {
     "data": {
      "text/plain": [
       "<matplotlib.collections.PolyCollection at 0x24354f00220>"
      ]
     },
     "execution_count": 30,
     "metadata": {},
     "output_type": "execute_result"
    },
    {
     "data": {
      "image/png": "[encoded data removed]",
      "text/plain": [
       "<Figure size 640x480 with 1 Axes>"
      ]
     },
     "metadata": {},
     "output_type": "display_data"
    }
   ],
   "source": [
    "fig, ax = pyplot.subplots()\n",
    "ax.plot(jets['DATE'].values, jets['{0}'.format(f)].values, 'black')\n",
    "ax.plot(jets['DATE'].values, jets['{0}_rf_hat'.format(f)].values, 'navy')\n",
    "ax.fill_between(jets['DATE'].values, jets['{0}_rf_hat_lower'.format(f)].values, jets['{0}_rf_hat_upper'.format(f)].values, alpha=0.2)"
   ]
  },
  {
   "cell_type": "code",
   "execution_count": null,
   "id": "8d237f49-68e2-45df-af85-e77b090b2fbd",
   "metadata": {},
   "outputs": [],
   "source": []
  },
  {
   "cell_type": "code",
   "execution_count": null,
   "id": "238feca5-740e-421d-bfe2-269836fbe698",
   "metadata": {},
   "outputs": [],
   "source": []
  },
  {
   "cell_type": "code",
   "execution_count": null,
   "id": "79999cf9-9be4-4003-8378-6e212f5cb496",
   "metadata": {},
   "outputs": [
    {
     "name": "stderr",
     "output_type": "stream",
     "text": [
      "04:28:15 - cmdstanpy - INFO - CmdStan start processing\n"
     ]
    },
    {
     "data": {
      "application/vnd.jupyter.widget-view+json": {
       "model_id": "4e42764d04ea44db92733d1c3ca2ae02",
       "version_major": 2,
       "version_minor": 0
      },
      "text/plain": [
       "chain 1 |          | 00:00 Status"
      ]
     },
     "metadata": {},
     "output_type": "display_data"
    },
    {
     "data": {
      "application/vnd.jupyter.widget-view+json": {
       "model_id": "ddc33b2e5e814e758b255fcd3d29e817",
       "version_major": 2,
       "version_minor": 0
      },
      "text/plain": [
       "chain 2 |          | 00:00 Status"
      ]
     },
     "metadata": {},
     "output_type": "display_data"
    },
    {
     "data": {
      "application/vnd.jupyter.widget-view+json": {
       "model_id": "6bf44a6127b74cef960b284a6570a201",
       "version_major": 2,
       "version_minor": 0
      },
      "text/plain": [
       "chain 3 |          | 00:00 Status"
      ]
     },
     "metadata": {},
     "output_type": "display_data"
    },
    {
     "data": {
      "application/vnd.jupyter.widget-view+json": {
       "model_id": "cdf340fc1cb4490fa0fd51507216903a",
       "version_major": 2,
       "version_minor": 0
      },
      "text/plain": [
       "chain 4 |          | 00:00 Status"
      ]
     },
     "metadata": {},
     "output_type": "display_data"
    },
    {
     "name": "stdout",
     "output_type": "stream",
     "text": [
      "                                                                                                                                                                                                                                                                                                                                                                                                                                                                                                "
     ]
    },
    {
     "name": "stderr",
     "output_type": "stream",
     "text": [
      "04:28:21 - cmdstanpy - INFO - CmdStan done processing.\n",
      "04:28:21 - cmdstanpy - WARNING - Non-fatal error during sampling:\n",
      "Exception: normal_id_glm_lpdf: Scale vector is 0, but must be positive finite! (in 'prophet.stan', line 137, column 2 to line 142, column 4)\n",
      "Exception: normal_id_glm_lpdf: Scale vector is 0, but must be positive finite! (in 'prophet.stan', line 137, column 2 to line 142, column 4)\n",
      "Exception: normal_id_glm_lpdf: Scale vector is 0, but must be positive finite! (in 'prophet.stan', line 137, column 2 to line 142, column 4)\n",
      "\tException: normal_id_glm_lpdf: Matrix of independent variables is inf, but must be finite! (in 'prophet.stan', line 137, column 2 to line 142, column 4)\n",
      "Exception: normal_id_glm_lpdf: Scale vector is 0, but must be positive finite! (in 'prophet.stan', line 137, column 2 to line 142, column 4)\n",
      "\tException: normal_id_glm_lpdf: Matrix of independent variables is inf, but must be finite! (in 'prophet.stan', line 137, column 2 to line 142, column 4)\n",
      "Consider re-running with show_console=True if the above output is unclear!\n",
      "04:28:21 - cmdstanpy - WARNING - Some chains may have failed to converge.\n",
      "\tChain 1 had 117 iterations at max treedepth (78.0%)\n",
      "\tChain 2 had 106 iterations at max treedepth (70.7%)\n",
      "\tChain 3 had 132 iterations at max treedepth (88.0%)\n",
      "\tChain 4 had 121 iterations at max treedepth (80.7%)\n",
      "\tUse the \"diagnose()\" method on the CmdStanMCMC object to see further information.\n"
     ]
    },
    {
     "name": "stdout",
     "output_type": "stream",
     "text": [
      "\n"
     ]
    },
    {
     "name": "stderr",
     "output_type": "stream",
     "text": [
      "04:28:21 - cmdstanpy - INFO - CmdStan start processing\n"
     ]
    },
    {
     "data": {
      "application/vnd.jupyter.widget-view+json": {
       "model_id": "881a768656cf4abf94d30f98e6fdda0a",
       "version_major": 2,
       "version_minor": 0
      },
      "text/plain": [
       "chain 1 |          | 00:00 Status"
      ]
     },
     "metadata": {},
     "output_type": "display_data"
    },
    {
     "data": {
      "application/vnd.jupyter.widget-view+json": {
       "model_id": "1a5f2d47eabb4c34820cd64aeec413a1",
       "version_major": 2,
       "version_minor": 0
      },
      "text/plain": [
       "chain 2 |          | 00:00 Status"
      ]
     },
     "metadata": {},
     "output_type": "display_data"
    },
    {
     "data": {
      "application/vnd.jupyter.widget-view+json": {
       "model_id": "42561471e9604812b52f43c7e90f382e",
       "version_major": 2,
       "version_minor": 0
      },
      "text/plain": [
       "chain 3 |          | 00:00 Status"
      ]
     },
     "metadata": {},
     "output_type": "display_data"
    },
    {
     "data": {
      "application/vnd.jupyter.widget-view+json": {
       "model_id": "2451c13f4c7d48b1860388261db80d7e",
       "version_major": 2,
       "version_minor": 0
      },
      "text/plain": [
       "chain 4 |          | 00:00 Status"
      ]
     },
     "metadata": {},
     "output_type": "display_data"
    },
    {
     "name": "stdout",
     "output_type": "stream",
     "text": [
      "                                                                                                                                                                                                                                                                                                                                                                                                                                                                                                "
     ]
    },
    {
     "name": "stderr",
     "output_type": "stream",
     "text": [
      "04:28:27 - cmdstanpy - INFO - CmdStan done processing.\n",
      "04:28:27 - cmdstanpy - WARNING - Non-fatal error during sampling:\n",
      "Exception: normal_id_glm_lpdf: Scale vector is 0, but must be positive finite! (in 'prophet.stan', line 137, column 2 to line 142, column 4)\n",
      "Exception: normal_id_glm_lpdf: Scale vector is 0, but must be positive finite! (in 'prophet.stan', line 137, column 2 to line 142, column 4)\n",
      "Exception: normal_id_glm_lpdf: Scale vector is 0, but must be positive finite! (in 'prophet.stan', line 137, column 2 to line 142, column 4)\n",
      "Exception: normal_id_glm_lpdf: Scale vector is 0, but must be positive finite! (in 'prophet.stan', line 137, column 2 to line 142, column 4)\n",
      "Consider re-running with show_console=True if the above output is unclear!\n",
      "04:28:27 - cmdstanpy - WARNING - Some chains may have failed to converge.\n",
      "\tChain 1 had 106 iterations at max treedepth (70.7%)\n",
      "\tChain 2 had 103 iterations at max treedepth (68.7%)\n",
      "\tChain 3 had 112 iterations at max treedepth (74.7%)\n",
      "\tChain 4 had 126 iterations at max treedepth (84.0%)\n",
      "\tUse the \"diagnose()\" method on the CmdStanMCMC object to see further information.\n"
     ]
    },
    {
     "name": "stdout",
     "output_type": "stream",
     "text": [
      "\n"
     ]
    },
    {
     "name": "stderr",
     "output_type": "stream",
     "text": [
      "04:28:28 - cmdstanpy - INFO - CmdStan start processing\n"
     ]
    },
    {
     "data": {
      "application/vnd.jupyter.widget-view+json": {
       "model_id": "592cf5076a794eb586718cc2f964d062",
       "version_major": 2,
       "version_minor": 0
      },
      "text/plain": [
       "chain 1 |          | 00:00 Status"
      ]
     },
     "metadata": {},
     "output_type": "display_data"
    },
    {
     "data": {
      "application/vnd.jupyter.widget-view+json": {
       "model_id": "d2e1489e177449638d50fb7c34dd0e0c",
       "version_major": 2,
       "version_minor": 0
      },
      "text/plain": [
       "chain 2 |          | 00:00 Status"
      ]
     },
     "metadata": {},
     "output_type": "display_data"
    },
    {
     "data": {
      "application/vnd.jupyter.widget-view+json": {
       "model_id": "b10edd62030f41579b6888455c26246e",
       "version_major": 2,
       "version_minor": 0
      },
      "text/plain": [
       "chain 3 |          | 00:00 Status"
      ]
     },
     "metadata": {},
     "output_type": "display_data"
    },
    {
     "data": {
      "application/vnd.jupyter.widget-view+json": {
       "model_id": "b1394c013741450e8383c3cc180edbe4",
       "version_major": 2,
       "version_minor": 0
      },
      "text/plain": [
       "chain 4 |          | 00:00 Status"
      ]
     },
     "metadata": {},
     "output_type": "display_data"
    },
    {
     "name": "stdout",
     "output_type": "stream",
     "text": [
      "                                                                                                                                                                                                                                                                                                                                                                                                                                                                                                "
     ]
    },
    {
     "name": "stderr",
     "output_type": "stream",
     "text": [
      "04:28:34 - cmdstanpy - INFO - CmdStan done processing.\n",
      "04:28:34 - cmdstanpy - WARNING - Non-fatal error during sampling:\n",
      "Exception: normal_id_glm_lpdf: Scale vector is 0, but must be positive finite! (in 'prophet.stan', line 137, column 2 to line 142, column 4)\n",
      "Exception: normal_id_glm_lpdf: Scale vector is 0, but must be positive finite! (in 'prophet.stan', line 137, column 2 to line 142, column 4)\n",
      "Exception: normal_id_glm_lpdf: Scale vector is 0, but must be positive finite! (in 'prophet.stan', line 137, column 2 to line 142, column 4)\n",
      "\tException: normal_id_glm_lpdf: Matrix of independent variables is inf, but must be finite! (in 'prophet.stan', line 137, column 2 to line 142, column 4)\n",
      "Exception: normal_id_glm_lpdf: Scale vector is 0, but must be positive finite! (in 'prophet.stan', line 137, column 2 to line 142, column 4)\n",
      "Consider re-running with show_console=True if the above output is unclear!\n",
      "04:28:34 - cmdstanpy - WARNING - Some chains may have failed to converge.\n",
      "\tChain 1 had 123 iterations at max treedepth (82.0%)\n",
      "\tChain 2 had 107 iterations at max treedepth (71.3%)\n",
      "\tChain 3 had 111 iterations at max treedepth (74.0%)\n",
      "\tChain 4 had 110 iterations at max treedepth (73.3%)\n",
      "\tUse the \"diagnose()\" method on the CmdStanMCMC object to see further information.\n"
     ]
    },
    {
     "name": "stdout",
     "output_type": "stream",
     "text": [
      "\n"
     ]
    },
    {
     "name": "stderr",
     "output_type": "stream",
     "text": [
      "04:28:35 - cmdstanpy - INFO - CmdStan start processing\n"
     ]
    },
    {
     "data": {
      "application/vnd.jupyter.widget-view+json": {
       "model_id": "7423b53338b74b09bfed56b3040476a1",
       "version_major": 2,
       "version_minor": 0
      },
      "text/plain": [
       "chain 1 |          | 00:00 Status"
      ]
     },
     "metadata": {},
     "output_type": "display_data"
    },
    {
     "data": {
      "application/vnd.jupyter.widget-view+json": {
       "model_id": "566cccd09a304c65a843dd6ba032027d",
       "version_major": 2,
       "version_minor": 0
      },
      "text/plain": [
       "chain 2 |          | 00:00 Status"
      ]
     },
     "metadata": {},
     "output_type": "display_data"
    },
    {
     "data": {
      "application/vnd.jupyter.widget-view+json": {
       "model_id": "c90a7bb373524a24843c793fd82c0110",
       "version_major": 2,
       "version_minor": 0
      },
      "text/plain": [
       "chain 3 |          | 00:00 Status"
      ]
     },
     "metadata": {},
     "output_type": "display_data"
    },
    {
     "data": {
      "application/vnd.jupyter.widget-view+json": {
       "model_id": "ed9f13f3c672411d8690c66e0b867c8f",
       "version_major": 2,
       "version_minor": 0
      },
      "text/plain": [
       "chain 4 |          | 00:00 Status"
      ]
     },
     "metadata": {},
     "output_type": "display_data"
    },
    {
     "name": "stdout",
     "output_type": "stream",
     "text": [
      "                                                                                                                                                                                                                                                                                                                                                                                                                                                                                                "
     ]
    },
    {
     "name": "stderr",
     "output_type": "stream",
     "text": [
      "04:28:41 - cmdstanpy - INFO - CmdStan done processing.\n",
      "04:28:41 - cmdstanpy - WARNING - Non-fatal error during sampling:\n",
      "Exception: normal_id_glm_lpdf: Scale vector is 0, but must be positive finite! (in 'prophet.stan', line 137, column 2 to line 142, column 4)\n",
      "\tException: normal_id_glm_lpdf: Matrix of independent variables is inf, but must be finite! (in 'prophet.stan', line 137, column 2 to line 142, column 4)\n",
      "Exception: normal_id_glm_lpdf: Scale vector is 0, but must be positive finite! (in 'prophet.stan', line 137, column 2 to line 142, column 4)\n",
      "Exception: normal_id_glm_lpdf: Scale vector is 0, but must be positive finite! (in 'prophet.stan', line 137, column 2 to line 142, column 4)\n",
      "Exception: normal_id_glm_lpdf: Scale vector is 0, but must be positive finite! (in 'prophet.stan', line 137, column 2 to line 142, column 4)\n",
      "Consider re-running with show_console=True if the above output is unclear!\n",
      "04:28:41 - cmdstanpy - WARNING - Some chains may have failed to converge.\n",
      "\tChain 1 had 104 iterations at max treedepth (69.3%)\n",
      "\tChain 2 had 118 iterations at max treedepth (78.7%)\n",
      "\tChain 3 had 121 iterations at max treedepth (80.7%)\n",
      "\tChain 4 had 113 iterations at max treedepth (75.3%)\n",
      "\tUse the \"diagnose()\" method on the CmdStanMCMC object to see further information.\n"
     ]
    },
    {
     "name": "stdout",
     "output_type": "stream",
     "text": [
      "\n"
     ]
    },
    {
     "name": "stderr",
     "output_type": "stream",
     "text": [
      "04:28:42 - cmdstanpy - INFO - CmdStan start processing\n"
     ]
    },
    {
     "data": {
      "application/vnd.jupyter.widget-view+json": {
       "model_id": "e8009e4f209c458ca905ba023f4ed02a",
       "version_major": 2,
       "version_minor": 0
      },
      "text/plain": [
       "chain 1 |          | 00:00 Status"
      ]
     },
     "metadata": {},
     "output_type": "display_data"
    },
    {
     "data": {
      "application/vnd.jupyter.widget-view+json": {
       "model_id": "f8b7fd25340042fa8fe0184a41d16fe6",
       "version_major": 2,
       "version_minor": 0
      },
      "text/plain": [
       "chain 2 |          | 00:00 Status"
      ]
     },
     "metadata": {},
     "output_type": "display_data"
    },
    {
     "data": {
      "application/vnd.jupyter.widget-view+json": {
       "model_id": "a617129708cf45dbbf28c1ce0f2f15e6",
       "version_major": 2,
       "version_minor": 0
      },
      "text/plain": [
       "chain 3 |          | 00:00 Status"
      ]
     },
     "metadata": {},
     "output_type": "display_data"
    },
    {
     "data": {
      "application/vnd.jupyter.widget-view+json": {
       "model_id": "e70f8c5b785c480a8dddff8d9ed9b1e8",
       "version_major": 2,
       "version_minor": 0
      },
      "text/plain": [
       "chain 4 |          | 00:00 Status"
      ]
     },
     "metadata": {},
     "output_type": "display_data"
    },
    {
     "name": "stdout",
     "output_type": "stream",
     "text": [
      "                                                                                                                                                                                                                                                                                                                                                                                                                                                                                                "
     ]
    },
    {
     "name": "stderr",
     "output_type": "stream",
     "text": [
      "04:28:49 - cmdstanpy - INFO - CmdStan done processing.\n",
      "04:28:49 - cmdstanpy - WARNING - Non-fatal error during sampling:\n",
      "Exception: normal_id_glm_lpdf: Scale vector is 0, but must be positive finite! (in 'prophet.stan', line 137, column 2 to line 142, column 4)\n",
      "Exception: normal_id_glm_lpdf: Scale vector is 0, but must be positive finite! (in 'prophet.stan', line 137, column 2 to line 142, column 4)\n",
      "Exception: normal_id_glm_lpdf: Scale vector is 0, but must be positive finite! (in 'prophet.stan', line 137, column 2 to line 142, column 4)\n",
      "\tException: normal_id_glm_lpdf: Matrix of independent variables is inf, but must be finite! (in 'prophet.stan', line 137, column 2 to line 142, column 4)\n",
      "Exception: normal_id_glm_lpdf: Scale vector is 0, but must be positive finite! (in 'prophet.stan', line 137, column 2 to line 142, column 4)\n",
      "\tException: normal_id_glm_lpdf: Matrix of independent variables is inf, but must be finite! (in 'prophet.stan', line 137, column 2 to line 142, column 4)\n",
      "Consider re-running with show_console=True if the above output is unclear!\n",
      "04:28:49 - cmdstanpy - WARNING - Some chains may have failed to converge.\n",
      "\tChain 1 had 116 iterations at max treedepth (77.3%)\n",
      "\tChain 2 had 117 iterations at max treedepth (78.0%)\n",
      "\tChain 3 had 116 iterations at max treedepth (77.3%)\n",
      "\tChain 4 had 123 iterations at max treedepth (82.0%)\n",
      "\tUse the \"diagnose()\" method on the CmdStanMCMC object to see further information.\n"
     ]
    },
    {
     "name": "stdout",
     "output_type": "stream",
     "text": [
      "\n"
     ]
    },
    {
     "name": "stderr",
     "output_type": "stream",
     "text": [
      "04:28:49 - cmdstanpy - INFO - CmdStan start processing\n"
     ]
    },
    {
     "data": {
      "application/vnd.jupyter.widget-view+json": {
       "model_id": "bb546f579426482f86b30d11eeb7757a",
       "version_major": 2,
       "version_minor": 0
      },
      "text/plain": [
       "chain 1 |          | 00:00 Status"
      ]
     },
     "metadata": {},
     "output_type": "display_data"
    },
    {
     "data": {
      "application/vnd.jupyter.widget-view+json": {
       "model_id": "5e98ff493a3148a78fdc29415ec09507",
       "version_major": 2,
       "version_minor": 0
      },
      "text/plain": [
       "chain 2 |          | 00:00 Status"
      ]
     },
     "metadata": {},
     "output_type": "display_data"
    },
    {
     "data": {
      "application/vnd.jupyter.widget-view+json": {
       "model_id": "bc553a3dd2864bf2bc4e3f375c9b4299",
       "version_major": 2,
       "version_minor": 0
      },
      "text/plain": [
       "chain 3 |          | 00:00 Status"
      ]
     },
     "metadata": {},
     "output_type": "display_data"
    },
    {
     "data": {
      "application/vnd.jupyter.widget-view+json": {
       "model_id": "99a76934b82849479a959e0da27a5974",
       "version_major": 2,
       "version_minor": 0
      },
      "text/plain": [
       "chain 4 |          | 00:00 Status"
      ]
     },
     "metadata": {},
     "output_type": "display_data"
    },
    {
     "name": "stdout",
     "output_type": "stream",
     "text": [
      "                                                                                                                                                                                                                                                                                                                                                                                                                                                                                                "
     ]
    },
    {
     "name": "stderr",
     "output_type": "stream",
     "text": [
      "04:28:56 - cmdstanpy - INFO - CmdStan done processing.\n",
      "04:28:56 - cmdstanpy - WARNING - Non-fatal error during sampling:\n",
      "Exception: normal_id_glm_lpdf: Scale vector is 0, but must be positive finite! (in 'prophet.stan', line 137, column 2 to line 142, column 4)\n",
      "Exception: normal_id_glm_lpdf: Scale vector is 0, but must be positive finite! (in 'prophet.stan', line 137, column 2 to line 142, column 4)\n",
      "Exception: normal_id_glm_lpdf: Scale vector is 0, but must be positive finite! (in 'prophet.stan', line 137, column 2 to line 142, column 4)\n",
      "\tException: normal_id_glm_lpdf: Matrix of independent variables is inf, but must be finite! (in 'prophet.stan', line 137, column 2 to line 142, column 4)\n",
      "Exception: normal_id_glm_lpdf: Scale vector is 0, but must be positive finite! (in 'prophet.stan', line 137, column 2 to line 142, column 4)\n",
      "Consider re-running with show_console=True if the above output is unclear!\n",
      "04:28:56 - cmdstanpy - WARNING - Some chains may have failed to converge.\n",
      "\tChain 1 had 103 iterations at max treedepth (68.7%)\n",
      "\tChain 2 had 113 iterations at max treedepth (75.3%)\n",
      "\tChain 3 had 129 iterations at max treedepth (86.0%)\n",
      "\tChain 4 had 108 iterations at max treedepth (72.0%)\n",
      "\tUse the \"diagnose()\" method on the CmdStanMCMC object to see further information.\n"
     ]
    },
    {
     "name": "stdout",
     "output_type": "stream",
     "text": [
      "\n"
     ]
    },
    {
     "name": "stderr",
     "output_type": "stream",
     "text": [
      "04:28:56 - cmdstanpy - INFO - CmdStan start processing\n"
     ]
    },
    {
     "data": {
      "application/vnd.jupyter.widget-view+json": {
       "model_id": "3994338c0dc94a1f8d9674a5ac9b629c",
       "version_major": 2,
       "version_minor": 0
      },
      "text/plain": [
       "chain 1 |          | 00:00 Status"
      ]
     },
     "metadata": {},
     "output_type": "display_data"
    },
    {
     "data": {
      "application/vnd.jupyter.widget-view+json": {
       "model_id": "25e5f369d24e4a81820ecac9fdaf600e",
       "version_major": 2,
       "version_minor": 0
      },
      "text/plain": [
       "chain 2 |          | 00:00 Status"
      ]
     },
     "metadata": {},
     "output_type": "display_data"
    },
    {
     "data": {
      "application/vnd.jupyter.widget-view+json": {
       "model_id": "7497a1f6c3054f3aa2bb0f3e1a194338",
       "version_major": 2,
       "version_minor": 0
      },
      "text/plain": [
       "chain 3 |          | 00:00 Status"
      ]
     },
     "metadata": {},
     "output_type": "display_data"
    },
    {
     "data": {
      "application/vnd.jupyter.widget-view+json": {
       "model_id": "bbb8d2268b3f45568071166506a18b5d",
       "version_major": 2,
       "version_minor": 0
      },
      "text/plain": [
       "chain 4 |          | 00:00 Status"
      ]
     },
     "metadata": {},
     "output_type": "display_data"
    },
    {
     "name": "stdout",
     "output_type": "stream",
     "text": [
      "                                                                                                                                                                                                                                                                                                                                                                                                                                                                                                "
     ]
    },
    {
     "name": "stderr",
     "output_type": "stream",
     "text": [
      "04:29:03 - cmdstanpy - INFO - CmdStan done processing.\n",
      "04:29:03 - cmdstanpy - WARNING - Non-fatal error during sampling:\n",
      "Exception: normal_id_glm_lpdf: Scale vector is 0, but must be positive finite! (in 'prophet.stan', line 137, column 2 to line 142, column 4)\n",
      "Exception: normal_id_glm_lpdf: Scale vector is 0, but must be positive finite! (in 'prophet.stan', line 137, column 2 to line 142, column 4)\n",
      "Exception: normal_id_glm_lpdf: Scale vector is 0, but must be positive finite! (in 'prophet.stan', line 137, column 2 to line 142, column 4)\n",
      "Exception: normal_id_glm_lpdf: Scale vector is 0, but must be positive finite! (in 'prophet.stan', line 137, column 2 to line 142, column 4)\n",
      "Consider re-running with show_console=True if the above output is unclear!\n",
      "04:29:03 - cmdstanpy - WARNING - Some chains may have failed to converge.\n",
      "\tChain 1 had 125 iterations at max treedepth (83.3%)\n",
      "\tChain 2 had 120 iterations at max treedepth (80.0%)\n",
      "\tChain 3 had 105 iterations at max treedepth (70.0%)\n",
      "\tChain 4 had 124 iterations at max treedepth (82.7%)\n",
      "\tUse the \"diagnose()\" method on the CmdStanMCMC object to see further information.\n"
     ]
    },
    {
     "name": "stdout",
     "output_type": "stream",
     "text": [
      "\n"
     ]
    },
    {
     "name": "stderr",
     "output_type": "stream",
     "text": [
      "04:29:03 - cmdstanpy - INFO - CmdStan start processing\n"
     ]
    },
    {
     "data": {
      "application/vnd.jupyter.widget-view+json": {
       "model_id": "724bceececd347409b305202ef4d4651",
       "version_major": 2,
       "version_minor": 0
      },
      "text/plain": [
       "chain 1 |          | 00:00 Status"
      ]
     },
     "metadata": {},
     "output_type": "display_data"
    },
    {
     "data": {
      "application/vnd.jupyter.widget-view+json": {
       "model_id": "1a82188602cc495cb794667b548be272",
       "version_major": 2,
       "version_minor": 0
      },
      "text/plain": [
       "chain 2 |          | 00:00 Status"
      ]
     },
     "metadata": {},
     "output_type": "display_data"
    },
    {
     "data": {
      "application/vnd.jupyter.widget-view+json": {
       "model_id": "8005f0fa02b647a3bc865e8f704fda2d",
       "version_major": 2,
       "version_minor": 0
      },
      "text/plain": [
       "chain 3 |          | 00:00 Status"
      ]
     },
     "metadata": {},
     "output_type": "display_data"
    },
    {
     "data": {
      "application/vnd.jupyter.widget-view+json": {
       "model_id": "def7e6abcb9748f9902a40303f7a6320",
       "version_major": 2,
       "version_minor": 0
      },
      "text/plain": [
       "chain 4 |          | 00:00 Status"
      ]
     },
     "metadata": {},
     "output_type": "display_data"
    },
    {
     "name": "stdout",
     "output_type": "stream",
     "text": [
      "                                                                                                                                                                                                                                                                                                                                                                                                                                                                                                "
     ]
    },
    {
     "name": "stderr",
     "output_type": "stream",
     "text": [
      "04:29:10 - cmdstanpy - INFO - CmdStan done processing.\n",
      "04:29:10 - cmdstanpy - WARNING - Non-fatal error during sampling:\n",
      "Exception: normal_id_glm_lpdf: Scale vector is 0, but must be positive finite! (in 'prophet.stan', line 137, column 2 to line 142, column 4)\n",
      "Exception: normal_id_glm_lpdf: Scale vector is 0, but must be positive finite! (in 'prophet.stan', line 137, column 2 to line 142, column 4)\n",
      "Exception: normal_id_glm_lpdf: Scale vector is 0, but must be positive finite! (in 'prophet.stan', line 137, column 2 to line 142, column 4)\n",
      "Exception: normal_id_glm_lpdf: Scale vector is 0, but must be positive finite! (in 'prophet.stan', line 137, column 2 to line 142, column 4)\n",
      "\tException: normal_id_glm_lpdf: Matrix of independent variables is inf, but must be finite! (in 'prophet.stan', line 137, column 2 to line 142, column 4)\n",
      "Consider re-running with show_console=True if the above output is unclear!\n",
      "04:29:10 - cmdstanpy - WARNING - Some chains may have failed to converge.\n",
      "\tChain 1 had 119 iterations at max treedepth (79.3%)\n",
      "\tChain 2 had 106 iterations at max treedepth (70.7%)\n",
      "\tChain 3 had 118 iterations at max treedepth (78.7%)\n",
      "\tChain 4 had 117 iterations at max treedepth (78.0%)\n",
      "\tUse the \"diagnose()\" method on the CmdStanMCMC object to see further information.\n"
     ]
    },
    {
     "name": "stdout",
     "output_type": "stream",
     "text": [
      "\n"
     ]
    },
    {
     "name": "stderr",
     "output_type": "stream",
     "text": [
      "04:29:10 - cmdstanpy - INFO - CmdStan start processing\n"
     ]
    },
    {
     "data": {
      "application/vnd.jupyter.widget-view+json": {
       "model_id": "7d830f12fc6b41f1a7f8dc1ebccb51c4",
       "version_major": 2,
       "version_minor": 0
      },
      "text/plain": [
       "chain 1 |          | 00:00 Status"
      ]
     },
     "metadata": {},
     "output_type": "display_data"
    },
    {
     "data": {
      "application/vnd.jupyter.widget-view+json": {
       "model_id": "2dfe62affccc46c38c7e1551869691e4",
       "version_major": 2,
       "version_minor": 0
      },
      "text/plain": [
       "chain 2 |          | 00:00 Status"
      ]
     },
     "metadata": {},
     "output_type": "display_data"
    },
    {
     "data": {
      "application/vnd.jupyter.widget-view+json": {
       "model_id": "245567c589984fbf83c7c7c59db5b219",
       "version_major": 2,
       "version_minor": 0
      },
      "text/plain": [
       "chain 3 |          | 00:00 Status"
      ]
     },
     "metadata": {},
     "output_type": "display_data"
    },
    {
     "data": {
      "application/vnd.jupyter.widget-view+json": {
       "model_id": "6011a7f00cd34d5cb1bdafdaa1c826c2",
       "version_major": 2,
       "version_minor": 0
      },
      "text/plain": [
       "chain 4 |          | 00:00 Status"
      ]
     },
     "metadata": {},
     "output_type": "display_data"
    },
    {
     "name": "stdout",
     "output_type": "stream",
     "text": [
      "                                                                                                                                                                                                                                                                                                                                                                                                                                                                                                "
     ]
    },
    {
     "name": "stderr",
     "output_type": "stream",
     "text": [
      "04:29:17 - cmdstanpy - INFO - CmdStan done processing.\n",
      "04:29:17 - cmdstanpy - WARNING - Non-fatal error during sampling:\n",
      "Exception: normal_id_glm_lpdf: Scale vector is 0, but must be positive finite! (in 'prophet.stan', line 137, column 2 to line 142, column 4)\n",
      "\tException: normal_id_glm_lpdf: Matrix of independent variables is inf, but must be finite! (in 'prophet.stan', line 137, column 2 to line 142, column 4)\n",
      "Exception: normal_id_glm_lpdf: Scale vector is 0, but must be positive finite! (in 'prophet.stan', line 137, column 2 to line 142, column 4)\n",
      "Exception: normal_id_glm_lpdf: Scale vector is 0, but must be positive finite! (in 'prophet.stan', line 137, column 2 to line 142, column 4)\n",
      "Exception: normal_id_glm_lpdf: Scale vector is 0, but must be positive finite! (in 'prophet.stan', line 137, column 2 to line 142, column 4)\n",
      "\tException: normal_id_glm_lpdf: Matrix of independent variables is inf, but must be finite! (in 'prophet.stan', line 137, column 2 to line 142, column 4)\n",
      "Consider re-running with show_console=True if the above output is unclear!\n",
      "04:29:17 - cmdstanpy - WARNING - Some chains may have failed to converge.\n",
      "\tChain 1 had 109 iterations at max treedepth (72.7%)\n",
      "\tChain 2 had 123 iterations at max treedepth (82.0%)\n",
      "\tChain 3 had 127 iterations at max treedepth (84.7%)\n",
      "\tChain 4 had 115 iterations at max treedepth (76.7%)\n",
      "\tUse the \"diagnose()\" method on the CmdStanMCMC object to see further information.\n"
     ]
    },
    {
     "name": "stdout",
     "output_type": "stream",
     "text": [
      "\n"
     ]
    },
    {
     "name": "stderr",
     "output_type": "stream",
     "text": [
      "04:29:17 - cmdstanpy - INFO - CmdStan start processing\n"
     ]
    },
    {
     "data": {
      "application/vnd.jupyter.widget-view+json": {
       "model_id": "9a35b08e50d6493a8718bbc58058edd9",
       "version_major": 2,
       "version_minor": 0
      },
      "text/plain": [
       "chain 1 |          | 00:00 Status"
      ]
     },
     "metadata": {},
     "output_type": "display_data"
    },
    {
     "data": {
      "application/vnd.jupyter.widget-view+json": {
       "model_id": "b60580dc6b2d4cecb5b960910bbc25cb",
       "version_major": 2,
       "version_minor": 0
      },
      "text/plain": [
       "chain 2 |          | 00:00 Status"
      ]
     },
     "metadata": {},
     "output_type": "display_data"
    },
    {
     "data": {
      "application/vnd.jupyter.widget-view+json": {
       "model_id": "1cf9c0f4935d407e84a804b16b207ce2",
       "version_major": 2,
       "version_minor": 0
      },
      "text/plain": [
       "chain 3 |          | 00:00 Status"
      ]
     },
     "metadata": {},
     "output_type": "display_data"
    },
    {
     "data": {
      "application/vnd.jupyter.widget-view+json": {
       "model_id": "d42f3546005549e2888c75c4428cb21f",
       "version_major": 2,
       "version_minor": 0
      },
      "text/plain": [
       "chain 4 |          | 00:00 Status"
      ]
     },
     "metadata": {},
     "output_type": "display_data"
    },
    {
     "name": "stdout",
     "output_type": "stream",
     "text": [
      "                                                                                                                                                                                                                                                                                                                                                                                                                                                                                                "
     ]
    },
    {
     "name": "stderr",
     "output_type": "stream",
     "text": [
      "04:29:24 - cmdstanpy - INFO - CmdStan done processing.\n",
      "04:29:24 - cmdstanpy - WARNING - Non-fatal error during sampling:\n",
      "Exception: normal_id_glm_lpdf: Scale vector is 0, but must be positive finite! (in 'prophet.stan', line 137, column 2 to line 142, column 4)\n",
      "\tException: normal_id_glm_lpdf: Matrix of independent variables is inf, but must be finite! (in 'prophet.stan', line 137, column 2 to line 142, column 4)\n",
      "Exception: normal_id_glm_lpdf: Scale vector is 0, but must be positive finite! (in 'prophet.stan', line 137, column 2 to line 142, column 4)\n",
      "Exception: normal_id_glm_lpdf: Scale vector is 0, but must be positive finite! (in 'prophet.stan', line 137, column 2 to line 142, column 4)\n",
      "Exception: normal_id_glm_lpdf: Scale vector is 0, but must be positive finite! (in 'prophet.stan', line 137, column 2 to line 142, column 4)\n",
      "Consider re-running with show_console=True if the above output is unclear!\n",
      "04:29:24 - cmdstanpy - WARNING - Some chains may have failed to converge.\n",
      "\tChain 1 had 118 iterations at max treedepth (78.7%)\n",
      "\tChain 2 had 117 iterations at max treedepth (78.0%)\n",
      "\tChain 3 had 125 iterations at max treedepth (83.3%)\n",
      "\tChain 4 had 123 iterations at max treedepth (82.0%)\n",
      "\tUse the \"diagnose()\" method on the CmdStanMCMC object to see further information.\n"
     ]
    },
    {
     "name": "stdout",
     "output_type": "stream",
     "text": [
      "\n"
     ]
    },
    {
     "name": "stderr",
     "output_type": "stream",
     "text": [
      "04:29:25 - cmdstanpy - INFO - CmdStan start processing\n"
     ]
    },
    {
     "data": {
      "application/vnd.jupyter.widget-view+json": {
       "model_id": "888e4f6b02704aad9664b0c6e9eae60c",
       "version_major": 2,
       "version_minor": 0
      },
      "text/plain": [
       "chain 1 |          | 00:00 Status"
      ]
     },
     "metadata": {},
     "output_type": "display_data"
    },
    {
     "data": {
      "application/vnd.jupyter.widget-view+json": {
       "model_id": "5b1213e776db49078f20afa72b1ba390",
       "version_major": 2,
       "version_minor": 0
      },
      "text/plain": [
       "chain 2 |          | 00:00 Status"
      ]
     },
     "metadata": {},
     "output_type": "display_data"
    },
    {
     "data": {
      "application/vnd.jupyter.widget-view+json": {
       "model_id": "e3de1ef30e4d4daf9a0bff3b7d54d777",
       "version_major": 2,
       "version_minor": 0
      },
      "text/plain": [
       "chain 3 |          | 00:00 Status"
      ]
     },
     "metadata": {},
     "output_type": "display_data"
    },
    {
     "data": {
      "application/vnd.jupyter.widget-view+json": {
       "model_id": "84aaec4fd4714e30b8e78542cf2f2799",
       "version_major": 2,
       "version_minor": 0
      },
      "text/plain": [
       "chain 4 |          | 00:00 Status"
      ]
     },
     "metadata": {},
     "output_type": "display_data"
    },
    {
     "name": "stdout",
     "output_type": "stream",
     "text": [
      "                                                                                                                                                                                                                                                                                                                                                                                                                                                                                                "
     ]
    },
    {
     "name": "stderr",
     "output_type": "stream",
     "text": [
      "04:29:32 - cmdstanpy - INFO - CmdStan done processing.\n",
      "04:29:32 - cmdstanpy - WARNING - Non-fatal error during sampling:\n",
      "Exception: normal_id_glm_lpdf: Scale vector is 0, but must be positive finite! (in 'prophet.stan', line 137, column 2 to line 142, column 4)\n",
      "Exception: normal_id_glm_lpdf: Scale vector is 0, but must be positive finite! (in 'prophet.stan', line 137, column 2 to line 142, column 4)\n",
      "Exception: normal_id_glm_lpdf: Scale vector is 0, but must be positive finite! (in 'prophet.stan', line 137, column 2 to line 142, column 4)\n",
      "Exception: normal_id_glm_lpdf: Scale vector is 0, but must be positive finite! (in 'prophet.stan', line 137, column 2 to line 142, column 4)\n",
      "Consider re-running with show_console=True if the above output is unclear!\n",
      "04:29:32 - cmdstanpy - WARNING - Some chains may have failed to converge.\n",
      "\tChain 1 had 119 iterations at max treedepth (79.3%)\n",
      "\tChain 2 had 128 iterations at max treedepth (85.3%)\n",
      "\tChain 3 had 127 iterations at max treedepth (84.7%)\n",
      "\tChain 4 had 130 iterations at max treedepth (86.7%)\n",
      "\tUse the \"diagnose()\" method on the CmdStanMCMC object to see further information.\n"
     ]
    },
    {
     "name": "stdout",
     "output_type": "stream",
     "text": [
      "\n"
     ]
    },
    {
     "name": "stderr",
     "output_type": "stream",
     "text": [
      "04:29:32 - cmdstanpy - INFO - CmdStan start processing\n"
     ]
    },
    {
     "data": {
      "application/vnd.jupyter.widget-view+json": {
       "model_id": "e77e9af6badd4ef89dd52f79c60d2d60",
       "version_major": 2,
       "version_minor": 0
      },
      "text/plain": [
       "chain 1 |          | 00:00 Status"
      ]
     },
     "metadata": {},
     "output_type": "display_data"
    },
    {
     "data": {
      "application/vnd.jupyter.widget-view+json": {
       "model_id": "deafcccf43d24431b68c6253e99e0f05",
       "version_major": 2,
       "version_minor": 0
      },
      "text/plain": [
       "chain 2 |          | 00:00 Status"
      ]
     },
     "metadata": {},
     "output_type": "display_data"
    },
    {
     "data": {
      "application/vnd.jupyter.widget-view+json": {
       "model_id": "3de49374b3854a778d3adb33483f0ec0",
       "version_major": 2,
       "version_minor": 0
      },
      "text/plain": [
       "chain 3 |          | 00:00 Status"
      ]
     },
     "metadata": {},
     "output_type": "display_data"
    },
    {
     "data": {
      "application/vnd.jupyter.widget-view+json": {
       "model_id": "726d402c2b2946f383dc341880b9ad6c",
       "version_major": 2,
       "version_minor": 0
      },
      "text/plain": [
       "chain 4 |          | 00:00 Status"
      ]
     },
     "metadata": {},
     "output_type": "display_data"
    },
    {
     "name": "stdout",
     "output_type": "stream",
     "text": [
      "                                                                                                                                                                                                                                                                                                                                                                                                                                                                                                "
     ]
    },
    {
     "name": "stderr",
     "output_type": "stream",
     "text": [
      "04:29:39 - cmdstanpy - INFO - CmdStan done processing.\n",
      "04:29:39 - cmdstanpy - WARNING - Non-fatal error during sampling:\n",
      "Exception: normal_id_glm_lpdf: Scale vector is 0, but must be positive finite! (in 'prophet.stan', line 137, column 2 to line 142, column 4)\n",
      "\tException: normal_id_glm_lpdf: Matrix of independent variables is inf, but must be finite! (in 'prophet.stan', line 137, column 2 to line 142, column 4)\n",
      "Exception: normal_id_glm_lpdf: Scale vector is 0, but must be positive finite! (in 'prophet.stan', line 137, column 2 to line 142, column 4)\n",
      "Exception: normal_id_glm_lpdf: Scale vector is 0, but must be positive finite! (in 'prophet.stan', line 137, column 2 to line 142, column 4)\n",
      "Exception: normal_id_glm_lpdf: Scale vector is 0, but must be positive finite! (in 'prophet.stan', line 137, column 2 to line 142, column 4)\n",
      "\tException: normal_id_glm_lpdf: Matrix of independent variables is inf, but must be finite! (in 'prophet.stan', line 137, column 2 to line 142, column 4)\n",
      "Consider re-running with show_console=True if the above output is unclear!\n",
      "04:29:39 - cmdstanpy - WARNING - Some chains may have failed to converge.\n",
      "\tChain 1 had 125 iterations at max treedepth (83.3%)\n",
      "\tChain 2 had 132 iterations at max treedepth (88.0%)\n",
      "\tChain 3 had 111 iterations at max treedepth (74.0%)\n",
      "\tChain 4 had 115 iterations at max treedepth (76.7%)\n",
      "\tUse the \"diagnose()\" method on the CmdStanMCMC object to see further information.\n"
     ]
    },
    {
     "name": "stdout",
     "output_type": "stream",
     "text": [
      "\n"
     ]
    },
    {
     "name": "stderr",
     "output_type": "stream",
     "text": [
      "04:29:40 - cmdstanpy - INFO - CmdStan start processing\n"
     ]
    },
    {
     "data": {
      "application/vnd.jupyter.widget-view+json": {
       "model_id": "7b134deb8867496d984187935510e683",
       "version_major": 2,
       "version_minor": 0
      },
      "text/plain": [
       "chain 1 |          | 00:00 Status"
      ]
     },
     "metadata": {},
     "output_type": "display_data"
    },
    {
     "data": {
      "application/vnd.jupyter.widget-view+json": {
       "model_id": "7cb44c4fd955427a8ceb09712ae15e60",
       "version_major": 2,
       "version_minor": 0
      },
      "text/plain": [
       "chain 2 |          | 00:00 Status"
      ]
     },
     "metadata": {},
     "output_type": "display_data"
    },
    {
     "data": {
      "application/vnd.jupyter.widget-view+json": {
       "model_id": "b22a4dac96634b98802d0bdeb5f7fa4d",
       "version_major": 2,
       "version_minor": 0
      },
      "text/plain": [
       "chain 3 |          | 00:00 Status"
      ]
     },
     "metadata": {},
     "output_type": "display_data"
    },
    {
     "data": {
      "application/vnd.jupyter.widget-view+json": {
       "model_id": "f3b15d5920dc4e0f992d7074c3aa37f2",
       "version_major": 2,
       "version_minor": 0
      },
      "text/plain": [
       "chain 4 |          | 00:00 Status"
      ]
     },
     "metadata": {},
     "output_type": "display_data"
    },
    {
     "name": "stdout",
     "output_type": "stream",
     "text": [
      "                                                                                                                                                                                                                                                                                                                                                                                                                                                                                                "
     ]
    },
    {
     "name": "stderr",
     "output_type": "stream",
     "text": [
      "04:29:46 - cmdstanpy - INFO - CmdStan done processing.\n",
      "04:29:46 - cmdstanpy - WARNING - Non-fatal error during sampling:\n",
      "Exception: normal_id_glm_lpdf: Scale vector is 0, but must be positive finite! (in 'prophet.stan', line 137, column 2 to line 142, column 4)\n",
      "Exception: normal_id_glm_lpdf: Scale vector is 0, but must be positive finite! (in 'prophet.stan', line 137, column 2 to line 142, column 4)\n",
      "\tException: normal_id_glm_lpdf: Matrix of independent variables is inf, but must be finite! (in 'prophet.stan', line 137, column 2 to line 142, column 4)\n",
      "Exception: normal_id_glm_lpdf: Scale vector is 0, but must be positive finite! (in 'prophet.stan', line 137, column 2 to line 142, column 4)\n",
      "\tException: normal_id_glm_lpdf: Matrix of independent variables is inf, but must be finite! (in 'prophet.stan', line 137, column 2 to line 142, column 4)\n",
      "Exception: normal_id_glm_lpdf: Scale vector is 0, but must be positive finite! (in 'prophet.stan', line 137, column 2 to line 142, column 4)\n",
      "Consider re-running with show_console=True if the above output is unclear!\n",
      "04:29:46 - cmdstanpy - WARNING - Some chains may have failed to converge.\n",
      "\tChain 1 had 110 iterations at max treedepth (73.3%)\n",
      "\tChain 2 had 119 iterations at max treedepth (79.3%)\n",
      "\tChain 3 had 127 iterations at max treedepth (84.7%)\n",
      "\tChain 4 had 120 iterations at max treedepth (80.0%)\n",
      "\tUse the \"diagnose()\" method on the CmdStanMCMC object to see further information.\n"
     ]
    },
    {
     "name": "stdout",
     "output_type": "stream",
     "text": [
      "\n"
     ]
    },
    {
     "name": "stderr",
     "output_type": "stream",
     "text": [
      "04:29:47 - cmdstanpy - INFO - CmdStan start processing\n"
     ]
    },
    {
     "data": {
      "application/vnd.jupyter.widget-view+json": {
       "model_id": "263d09baa6c54a65830ba18f46bfb815",
       "version_major": 2,
       "version_minor": 0
      },
      "text/plain": [
       "chain 1 |          | 00:00 Status"
      ]
     },
     "metadata": {},
     "output_type": "display_data"
    },
    {
     "data": {
      "application/vnd.jupyter.widget-view+json": {
       "model_id": "52584a15eef243eeaffe82d0c1755625",
       "version_major": 2,
       "version_minor": 0
      },
      "text/plain": [
       "chain 2 |          | 00:00 Status"
      ]
     },
     "metadata": {},
     "output_type": "display_data"
    },
    {
     "data": {
      "application/vnd.jupyter.widget-view+json": {
       "model_id": "e70748adb4884505866da3ba90531424",
       "version_major": 2,
       "version_minor": 0
      },
      "text/plain": [
       "chain 3 |          | 00:00 Status"
      ]
     },
     "metadata": {},
     "output_type": "display_data"
    },
    {
     "data": {
      "application/vnd.jupyter.widget-view+json": {
       "model_id": "589bb06533ee438ca5f2f128b74f2a04",
       "version_major": 2,
       "version_minor": 0
      },
      "text/plain": [
       "chain 4 |          | 00:00 Status"
      ]
     },
     "metadata": {},
     "output_type": "display_data"
    },
    {
     "name": "stdout",
     "output_type": "stream",
     "text": [
      "                                                                                                                                                                                                                                                                                                                                                                                                                                                                                                "
     ]
    },
    {
     "name": "stderr",
     "output_type": "stream",
     "text": [
      "04:29:53 - cmdstanpy - INFO - CmdStan done processing.\n",
      "04:29:53 - cmdstanpy - WARNING - Non-fatal error during sampling:\n",
      "Exception: normal_id_glm_lpdf: Scale vector is 0, but must be positive finite! (in 'prophet.stan', line 137, column 2 to line 142, column 4)\n",
      "\tException: normal_id_glm_lpdf: Matrix of independent variables is inf, but must be finite! (in 'prophet.stan', line 137, column 2 to line 142, column 4)\n",
      "Exception: normal_id_glm_lpdf: Scale vector is 0, but must be positive finite! (in 'prophet.stan', line 137, column 2 to line 142, column 4)\n",
      "\tException: normal_id_glm_lpdf: Matrix of independent variables is inf, but must be finite! (in 'prophet.stan', line 137, column 2 to line 142, column 4)\n",
      "Exception: normal_id_glm_lpdf: Scale vector is 0, but must be positive finite! (in 'prophet.stan', line 137, column 2 to line 142, column 4)\n",
      "Exception: normal_id_glm_lpdf: Scale vector is 0, but must be positive finite! (in 'prophet.stan', line 137, column 2 to line 142, column 4)\n",
      "Consider re-running with show_console=True if the above output is unclear!\n",
      "04:29:53 - cmdstanpy - WARNING - Some chains may have failed to converge.\n",
      "\tChain 1 had 108 iterations at max treedepth (72.0%)\n",
      "\tChain 2 had 104 iterations at max treedepth (69.3%)\n",
      "\tChain 3 had 119 iterations at max treedepth (79.3%)\n",
      "\tChain 4 had 120 iterations at max treedepth (80.0%)\n",
      "\tUse the \"diagnose()\" method on the CmdStanMCMC object to see further information.\n"
     ]
    },
    {
     "name": "stdout",
     "output_type": "stream",
     "text": [
      "\n"
     ]
    },
    {
     "name": "stderr",
     "output_type": "stream",
     "text": [
      "04:29:54 - cmdstanpy - INFO - CmdStan start processing\n"
     ]
    },
    {
     "data": {
      "application/vnd.jupyter.widget-view+json": {
       "model_id": "35b2ecf2cfc945e18f919bbab9c6003b",
       "version_major": 2,
       "version_minor": 0
      },
      "text/plain": [
       "chain 1 |          | 00:00 Status"
      ]
     },
     "metadata": {},
     "output_type": "display_data"
    },
    {
     "data": {
      "application/vnd.jupyter.widget-view+json": {
       "model_id": "f6b4973f6e794c59b76b714d4cbad44f",
       "version_major": 2,
       "version_minor": 0
      },
      "text/plain": [
       "chain 2 |          | 00:00 Status"
      ]
     },
     "metadata": {},
     "output_type": "display_data"
    },
    {
     "data": {
      "application/vnd.jupyter.widget-view+json": {
       "model_id": "9e5852d38be24137ac28b48a3df88657",
       "version_major": 2,
       "version_minor": 0
      },
      "text/plain": [
       "chain 3 |          | 00:00 Status"
      ]
     },
     "metadata": {},
     "output_type": "display_data"
    },
    {
     "data": {
      "application/vnd.jupyter.widget-view+json": {
       "model_id": "b2ae51cf96bb4a00b09299ba0e0f30cf",
       "version_major": 2,
       "version_minor": 0
      },
      "text/plain": [
       "chain 4 |          | 00:00 Status"
      ]
     },
     "metadata": {},
     "output_type": "display_data"
    },
    {
     "name": "stdout",
     "output_type": "stream",
     "text": [
      "                                                                                                                                                                                                                                                                                                                                                                                                                                                                                                "
     ]
    },
    {
     "name": "stderr",
     "output_type": "stream",
     "text": [
      "04:30:00 - cmdstanpy - INFO - CmdStan done processing.\n",
      "04:30:00 - cmdstanpy - WARNING - Non-fatal error during sampling:\n",
      "Exception: normal_id_glm_lpdf: Scale vector is 0, but must be positive finite! (in 'prophet.stan', line 137, column 2 to line 142, column 4)\n",
      "Exception: normal_id_glm_lpdf: Scale vector is 0, but must be positive finite! (in 'prophet.stan', line 137, column 2 to line 142, column 4)\n",
      "Exception: normal_id_glm_lpdf: Scale vector is 0, but must be positive finite! (in 'prophet.stan', line 137, column 2 to line 142, column 4)\n",
      "Exception: normal_id_glm_lpdf: Scale vector is 0, but must be positive finite! (in 'prophet.stan', line 137, column 2 to line 142, column 4)\n",
      "\tException: normal_id_glm_lpdf: Matrix of independent variables is inf, but must be finite! (in 'prophet.stan', line 137, column 2 to line 142, column 4)\n",
      "Consider re-running with show_console=True if the above output is unclear!\n",
      "04:30:00 - cmdstanpy - WARNING - Some chains may have failed to converge.\n",
      "\tChain 1 had 127 iterations at max treedepth (84.7%)\n",
      "\tChain 2 had 103 iterations at max treedepth (68.7%)\n",
      "\tChain 3 had 124 iterations at max treedepth (82.7%)\n",
      "\tChain 4 had 128 iterations at max treedepth (85.3%)\n",
      "\tUse the \"diagnose()\" method on the CmdStanMCMC object to see further information.\n"
     ]
    },
    {
     "name": "stdout",
     "output_type": "stream",
     "text": [
      "\n"
     ]
    },
    {
     "name": "stderr",
     "output_type": "stream",
     "text": [
      "04:30:01 - cmdstanpy - INFO - CmdStan start processing\n"
     ]
    },
    {
     "data": {
      "application/vnd.jupyter.widget-view+json": {
       "model_id": "15917931580f4e78b3ce5aec64d05946",
       "version_major": 2,
       "version_minor": 0
      },
      "text/plain": [
       "chain 1 |          | 00:00 Status"
      ]
     },
     "metadata": {},
     "output_type": "display_data"
    },
    {
     "data": {
      "application/vnd.jupyter.widget-view+json": {
       "model_id": "66fce711746c419982b1de42dfa486b8",
       "version_major": 2,
       "version_minor": 0
      },
      "text/plain": [
       "chain 2 |          | 00:00 Status"
      ]
     },
     "metadata": {},
     "output_type": "display_data"
    },
    {
     "data": {
      "application/vnd.jupyter.widget-view+json": {
       "model_id": "12b3b32362534699bfee9bfab4a38c19",
       "version_major": 2,
       "version_minor": 0
      },
      "text/plain": [
       "chain 3 |          | 00:00 Status"
      ]
     },
     "metadata": {},
     "output_type": "display_data"
    },
    {
     "data": {
      "application/vnd.jupyter.widget-view+json": {
       "model_id": "3caf4bd1ddb04a89bb8923102e6b3131",
       "version_major": 2,
       "version_minor": 0
      },
      "text/plain": [
       "chain 4 |          | 00:00 Status"
      ]
     },
     "metadata": {},
     "output_type": "display_data"
    },
    {
     "name": "stdout",
     "output_type": "stream",
     "text": [
      "                                                                                                                                                                                                                                                                                                                                                                                                                                                                                                "
     ]
    },
    {
     "name": "stderr",
     "output_type": "stream",
     "text": [
      "04:30:08 - cmdstanpy - INFO - CmdStan done processing.\n",
      "04:30:08 - cmdstanpy - WARNING - Non-fatal error during sampling:\n",
      "Exception: normal_id_glm_lpdf: Scale vector is 0, but must be positive finite! (in 'prophet.stan', line 137, column 2 to line 142, column 4)\n",
      "Exception: normal_id_glm_lpdf: Scale vector is 0, but must be positive finite! (in 'prophet.stan', line 137, column 2 to line 142, column 4)\n",
      "\tException: normal_id_glm_lpdf: Matrix of independent variables is inf, but must be finite! (in 'prophet.stan', line 137, column 2 to line 142, column 4)\n",
      "Exception: normal_id_glm_lpdf: Scale vector is 0, but must be positive finite! (in 'prophet.stan', line 137, column 2 to line 142, column 4)\n",
      "Exception: normal_id_glm_lpdf: Scale vector is 0, but must be positive finite! (in 'prophet.stan', line 137, column 2 to line 142, column 4)\n",
      "\tException: normal_id_glm_lpdf: Matrix of independent variables is inf, but must be finite! (in 'prophet.stan', line 137, column 2 to line 142, column 4)\n",
      "Consider re-running with show_console=True if the above output is unclear!\n",
      "04:30:08 - cmdstanpy - WARNING - Some chains may have failed to converge.\n",
      "\tChain 1 had 121 iterations at max treedepth (80.7%)\n",
      "\tChain 2 had 104 iterations at max treedepth (69.3%)\n",
      "\tChain 3 had 124 iterations at max treedepth (82.7%)\n",
      "\tChain 4 had 114 iterations at max treedepth (76.0%)\n",
      "\tUse the \"diagnose()\" method on the CmdStanMCMC object to see further information.\n"
     ]
    },
    {
     "name": "stdout",
     "output_type": "stream",
     "text": [
      "\n"
     ]
    },
    {
     "name": "stderr",
     "output_type": "stream",
     "text": [
      "04:30:09 - cmdstanpy - INFO - CmdStan start processing\n"
     ]
    },
    {
     "data": {
      "application/vnd.jupyter.widget-view+json": {
       "model_id": "02a9c140baf94c52917cad338ce31f77",
       "version_major": 2,
       "version_minor": 0
      },
      "text/plain": [
       "chain 1 |          | 00:00 Status"
      ]
     },
     "metadata": {},
     "output_type": "display_data"
    },
    {
     "data": {
      "application/vnd.jupyter.widget-view+json": {
       "model_id": "9660ed8f63f3449a81e8c5ff61252297",
       "version_major": 2,
       "version_minor": 0
      },
      "text/plain": [
       "chain 2 |          | 00:00 Status"
      ]
     },
     "metadata": {},
     "output_type": "display_data"
    },
    {
     "data": {
      "application/vnd.jupyter.widget-view+json": {
       "model_id": "964831750c3d4eb2bd9babdc09a750f5",
       "version_major": 2,
       "version_minor": 0
      },
      "text/plain": [
       "chain 3 |          | 00:00 Status"
      ]
     },
     "metadata": {},
     "output_type": "display_data"
    },
    {
     "data": {
      "application/vnd.jupyter.widget-view+json": {
       "model_id": "738fb440073b42279b2316e457000449",
       "version_major": 2,
       "version_minor": 0
      },
      "text/plain": [
       "chain 4 |          | 00:00 Status"
      ]
     },
     "metadata": {},
     "output_type": "display_data"
    },
    {
     "name": "stdout",
     "output_type": "stream",
     "text": [
      "                                                                                                                                                                                                                                                                                                                                                                                                                                                                                                "
     ]
    },
    {
     "name": "stderr",
     "output_type": "stream",
     "text": [
      "04:30:15 - cmdstanpy - INFO - CmdStan done processing.\n",
      "04:30:15 - cmdstanpy - WARNING - Non-fatal error during sampling:\n",
      "Exception: normal_id_glm_lpdf: Scale vector is 0, but must be positive finite! (in 'prophet.stan', line 137, column 2 to line 142, column 4)\n",
      "Exception: normal_id_glm_lpdf: Scale vector is 0, but must be positive finite! (in 'prophet.stan', line 137, column 2 to line 142, column 4)\n",
      "Exception: normal_id_glm_lpdf: Scale vector is 0, but must be positive finite! (in 'prophet.stan', line 137, column 2 to line 142, column 4)\n",
      "Exception: normal_id_glm_lpdf: Scale vector is 0, but must be positive finite! (in 'prophet.stan', line 137, column 2 to line 142, column 4)\n",
      "\tException: normal_id_glm_lpdf: Matrix of independent variables is inf, but must be finite! (in 'prophet.stan', line 137, column 2 to line 142, column 4)\n",
      "Consider re-running with show_console=True if the above output is unclear!\n",
      "04:30:15 - cmdstanpy - WARNING - Some chains may have failed to converge.\n",
      "\tChain 1 had 127 iterations at max treedepth (84.7%)\n",
      "\tChain 2 had 115 iterations at max treedepth (76.7%)\n",
      "\tChain 3 had 114 iterations at max treedepth (76.0%)\n",
      "\tChain 4 had 126 iterations at max treedepth (84.0%)\n",
      "\tUse the \"diagnose()\" method on the CmdStanMCMC object to see further information.\n"
     ]
    },
    {
     "name": "stdout",
     "output_type": "stream",
     "text": [
      "\n"
     ]
    },
    {
     "name": "stderr",
     "output_type": "stream",
     "text": [
      "04:30:16 - cmdstanpy - INFO - CmdStan start processing\n"
     ]
    },
    {
     "data": {
      "application/vnd.jupyter.widget-view+json": {
       "model_id": "e83467d803614bf69d83819b55924bea",
       "version_major": 2,
       "version_minor": 0
      },
      "text/plain": [
       "chain 1 |          | 00:00 Status"
      ]
     },
     "metadata": {},
     "output_type": "display_data"
    },
    {
     "data": {
      "application/vnd.jupyter.widget-view+json": {
       "model_id": "8ebffc9b038943fb89daae7574d79588",
       "version_major": 2,
       "version_minor": 0
      },
      "text/plain": [
       "chain 2 |          | 00:00 Status"
      ]
     },
     "metadata": {},
     "output_type": "display_data"
    },
    {
     "data": {
      "application/vnd.jupyter.widget-view+json": {
       "model_id": "e3aed695fe9f468d894a23abbfff0a1d",
       "version_major": 2,
       "version_minor": 0
      },
      "text/plain": [
       "chain 3 |          | 00:00 Status"
      ]
     },
     "metadata": {},
     "output_type": "display_data"
    },
    {
     "data": {
      "application/vnd.jupyter.widget-view+json": {
       "model_id": "8f6ab6daa61f495797f27cf180834889",
       "version_major": 2,
       "version_minor": 0
      },
      "text/plain": [
       "chain 4 |          | 00:00 Status"
      ]
     },
     "metadata": {},
     "output_type": "display_data"
    },
    {
     "name": "stdout",
     "output_type": "stream",
     "text": [
      "                                                                                                                                                                                                                                                                                                                                                                                                                                                                                                "
     ]
    },
    {
     "name": "stderr",
     "output_type": "stream",
     "text": [
      "04:30:22 - cmdstanpy - INFO - CmdStan done processing.\n",
      "04:30:22 - cmdstanpy - WARNING - Non-fatal error during sampling:\n",
      "Exception: normal_id_glm_lpdf: Scale vector is 0, but must be positive finite! (in 'prophet.stan', line 137, column 2 to line 142, column 4)\n",
      "Exception: normal_id_glm_lpdf: Scale vector is 0, but must be positive finite! (in 'prophet.stan', line 137, column 2 to line 142, column 4)\n",
      "\tException: normal_id_glm_lpdf: Matrix of independent variables is inf, but must be finite! (in 'prophet.stan', line 137, column 2 to line 142, column 4)\n",
      "Exception: normal_id_glm_lpdf: Scale vector is 0, but must be positive finite! (in 'prophet.stan', line 137, column 2 to line 142, column 4)\n",
      "\tException: normal_id_glm_lpdf: Matrix of independent variables is inf, but must be finite! (in 'prophet.stan', line 137, column 2 to line 142, column 4)\n",
      "Exception: normal_id_glm_lpdf: Scale vector is 0, but must be positive finite! (in 'prophet.stan', line 137, column 2 to line 142, column 4)\n",
      "Consider re-running with show_console=True if the above output is unclear!\n",
      "04:30:22 - cmdstanpy - WARNING - Some chains may have failed to converge.\n",
      "\tChain 1 had 117 iterations at max treedepth (78.0%)\n",
      "\tChain 2 had 116 iterations at max treedepth (77.3%)\n",
      "\tChain 3 had 102 iterations at max treedepth (68.0%)\n",
      "\tChain 4 had 93 iterations at max treedepth (62.0%)\n",
      "\tUse the \"diagnose()\" method on the CmdStanMCMC object to see further information.\n"
     ]
    },
    {
     "name": "stdout",
     "output_type": "stream",
     "text": [
      "\n"
     ]
    },
    {
     "name": "stderr",
     "output_type": "stream",
     "text": [
      "04:30:23 - cmdstanpy - INFO - CmdStan start processing\n"
     ]
    },
    {
     "data": {
      "application/vnd.jupyter.widget-view+json": {
       "model_id": "1dea3ec953654042a2050b020ebebedc",
       "version_major": 2,
       "version_minor": 0
      },
      "text/plain": [
       "chain 1 |          | 00:00 Status"
      ]
     },
     "metadata": {},
     "output_type": "display_data"
    },
    {
     "data": {
      "application/vnd.jupyter.widget-view+json": {
       "model_id": "402bfb32bf9d478fa24fd8e05ea4bd3b",
       "version_major": 2,
       "version_minor": 0
      },
      "text/plain": [
       "chain 2 |          | 00:00 Status"
      ]
     },
     "metadata": {},
     "output_type": "display_data"
    },
    {
     "data": {
      "application/vnd.jupyter.widget-view+json": {
       "model_id": "304a713cbc4146d6a9170d194ed90a57",
       "version_major": 2,
       "version_minor": 0
      },
      "text/plain": [
       "chain 3 |          | 00:00 Status"
      ]
     },
     "metadata": {},
     "output_type": "display_data"
    },
    {
     "data": {
      "application/vnd.jupyter.widget-view+json": {
       "model_id": "a3a597018d924781b52e605c7fafea1d",
       "version_major": 2,
       "version_minor": 0
      },
      "text/plain": [
       "chain 4 |          | 00:00 Status"
      ]
     },
     "metadata": {},
     "output_type": "display_data"
    },
    {
     "name": "stdout",
     "output_type": "stream",
     "text": [
      "                                                                                                                                                                                                                                                                                                                                                                                                                                                                                                "
     ]
    },
    {
     "name": "stderr",
     "output_type": "stream",
     "text": [
      "04:30:29 - cmdstanpy - INFO - CmdStan done processing.\n",
      "04:30:29 - cmdstanpy - WARNING - Non-fatal error during sampling:\n",
      "Exception: normal_id_glm_lpdf: Scale vector is 0, but must be positive finite! (in 'prophet.stan', line 137, column 2 to line 142, column 4)\n",
      "\tException: normal_id_glm_lpdf: Matrix of independent variables is inf, but must be finite! (in 'prophet.stan', line 137, column 2 to line 142, column 4)\n",
      "Exception: normal_id_glm_lpdf: Scale vector is 0, but must be positive finite! (in 'prophet.stan', line 137, column 2 to line 142, column 4)\n",
      "Exception: normal_id_glm_lpdf: Scale vector is 0, but must be positive finite! (in 'prophet.stan', line 137, column 2 to line 142, column 4)\n",
      "Exception: normal_id_glm_lpdf: Scale vector is 0, but must be positive finite! (in 'prophet.stan', line 137, column 2 to line 142, column 4)\n",
      "Consider re-running with show_console=True if the above output is unclear!\n",
      "04:30:29 - cmdstanpy - WARNING - Some chains may have failed to converge.\n",
      "\tChain 1 had 114 iterations at max treedepth (76.0%)\n",
      "\tChain 2 had 115 iterations at max treedepth (76.7%)\n",
      "\tChain 3 had 120 iterations at max treedepth (80.0%)\n",
      "\tChain 4 had 111 iterations at max treedepth (74.0%)\n",
      "\tUse the \"diagnose()\" method on the CmdStanMCMC object to see further information.\n"
     ]
    },
    {
     "name": "stdout",
     "output_type": "stream",
     "text": [
      "\n"
     ]
    },
    {
     "name": "stderr",
     "output_type": "stream",
     "text": [
      "04:30:30 - cmdstanpy - INFO - CmdStan start processing\n"
     ]
    },
    {
     "data": {
      "application/vnd.jupyter.widget-view+json": {
       "model_id": "5c061aae18fe4abe8da0155c1fe91f44",
       "version_major": 2,
       "version_minor": 0
      },
      "text/plain": [
       "chain 1 |          | 00:00 Status"
      ]
     },
     "metadata": {},
     "output_type": "display_data"
    },
    {
     "data": {
      "application/vnd.jupyter.widget-view+json": {
       "model_id": "dc459745dc1d4eb684dfe57807b2748f",
       "version_major": 2,
       "version_minor": 0
      },
      "text/plain": [
       "chain 2 |          | 00:00 Status"
      ]
     },
     "metadata": {},
     "output_type": "display_data"
    },
    {
     "data": {
      "application/vnd.jupyter.widget-view+json": {
       "model_id": "0b9ee0fb4d3c408ca64ccde1a7c7d051",
       "version_major": 2,
       "version_minor": 0
      },
      "text/plain": [
       "chain 3 |          | 00:00 Status"
      ]
     },
     "metadata": {},
     "output_type": "display_data"
    },
    {
     "data": {
      "application/vnd.jupyter.widget-view+json": {
       "model_id": "da5fcec0875a426ebd9d2c5a1beca213",
       "version_major": 2,
       "version_minor": 0
      },
      "text/plain": [
       "chain 4 |          | 00:00 Status"
      ]
     },
     "metadata": {},
     "output_type": "display_data"
    },
    {
     "name": "stdout",
     "output_type": "stream",
     "text": [
      "                                                                                                                                                                                                                                                                                                                                                                                                                                                                                                "
     ]
    },
    {
     "name": "stderr",
     "output_type": "stream",
     "text": [
      "04:30:36 - cmdstanpy - INFO - CmdStan done processing.\n",
      "04:30:36 - cmdstanpy - WARNING - Non-fatal error during sampling:\n",
      "Exception: normal_id_glm_lpdf: Scale vector is 0, but must be positive finite! (in 'prophet.stan', line 137, column 2 to line 142, column 4)\n",
      "\tException: normal_id_glm_lpdf: Matrix of independent variables is inf, but must be finite! (in 'prophet.stan', line 137, column 2 to line 142, column 4)\n",
      "Exception: normal_id_glm_lpdf: Scale vector is 0, but must be positive finite! (in 'prophet.stan', line 137, column 2 to line 142, column 4)\n",
      "Exception: normal_id_glm_lpdf: Scale vector is 0, but must be positive finite! (in 'prophet.stan', line 137, column 2 to line 142, column 4)\n",
      "\tException: normal_id_glm_lpdf: Matrix of independent variables is inf, but must be finite! (in 'prophet.stan', line 137, column 2 to line 142, column 4)\n",
      "Exception: normal_id_glm_lpdf: Scale vector is 0, but must be positive finite! (in 'prophet.stan', line 137, column 2 to line 142, column 4)\n",
      "\tException: normal_id_glm_lpdf: Matrix of independent variables is inf, but must be finite! (in 'prophet.stan', line 137, column 2 to line 142, column 4)\n",
      "Consider re-running with show_console=True if the above output is unclear!\n",
      "04:30:37 - cmdstanpy - WARNING - Some chains may have failed to converge.\n",
      "\tChain 1 had 112 iterations at max treedepth (74.7%)\n",
      "\tChain 2 had 115 iterations at max treedepth (76.7%)\n",
      "\tChain 3 had 119 iterations at max treedepth (79.3%)\n",
      "\tChain 4 had 120 iterations at max treedepth (80.0%)\n",
      "\tUse the \"diagnose()\" method on the CmdStanMCMC object to see further information.\n"
     ]
    },
    {
     "name": "stdout",
     "output_type": "stream",
     "text": [
      "\n"
     ]
    },
    {
     "name": "stderr",
     "output_type": "stream",
     "text": [
      "04:30:37 - cmdstanpy - INFO - CmdStan start processing\n"
     ]
    },
    {
     "data": {
      "application/vnd.jupyter.widget-view+json": {
       "model_id": "a47aae32af5941c0b953470358d5455d",
       "version_major": 2,
       "version_minor": 0
      },
      "text/plain": [
       "chain 1 |          | 00:00 Status"
      ]
     },
     "metadata": {},
     "output_type": "display_data"
    },
    {
     "data": {
      "application/vnd.jupyter.widget-view+json": {
       "model_id": "2a8b8b3117f54472aa6a7157a4222df6",
       "version_major": 2,
       "version_minor": 0
      },
      "text/plain": [
       "chain 2 |          | 00:00 Status"
      ]
     },
     "metadata": {},
     "output_type": "display_data"
    },
    {
     "data": {
      "application/vnd.jupyter.widget-view+json": {
       "model_id": "0c49005553eb4668ae0c0bf68a33a157",
       "version_major": 2,
       "version_minor": 0
      },
      "text/plain": [
       "chain 3 |          | 00:00 Status"
      ]
     },
     "metadata": {},
     "output_type": "display_data"
    },
    {
     "data": {
      "application/vnd.jupyter.widget-view+json": {
       "model_id": "493085be9b8a4622b0cd48569ca92d91",
       "version_major": 2,
       "version_minor": 0
      },
      "text/plain": [
       "chain 4 |          | 00:00 Status"
      ]
     },
     "metadata": {},
     "output_type": "display_data"
    },
    {
     "name": "stdout",
     "output_type": "stream",
     "text": [
      "                                                                                                                                                                                                                                                                                                                                                                                                                                                                                                "
     ]
    },
    {
     "name": "stderr",
     "output_type": "stream",
     "text": [
      "04:30:44 - cmdstanpy - INFO - CmdStan done processing.\n",
      "04:30:44 - cmdstanpy - WARNING - Non-fatal error during sampling:\n",
      "Exception: normal_id_glm_lpdf: Scale vector is 0, but must be positive finite! (in 'prophet.stan', line 137, column 2 to line 142, column 4)\n",
      "Exception: normal_id_glm_lpdf: Scale vector is 0, but must be positive finite! (in 'prophet.stan', line 137, column 2 to line 142, column 4)\n",
      "Exception: normal_id_glm_lpdf: Scale vector is 0, but must be positive finite! (in 'prophet.stan', line 137, column 2 to line 142, column 4)\n",
      "Exception: normal_id_glm_lpdf: Scale vector is 0, but must be positive finite! (in 'prophet.stan', line 137, column 2 to line 142, column 4)\n",
      "Consider re-running with show_console=True if the above output is unclear!\n",
      "04:30:44 - cmdstanpy - WARNING - Some chains may have failed to converge.\n",
      "\tChain 1 had 111 iterations at max treedepth (74.0%)\n",
      "\tChain 2 had 91 iterations at max treedepth (60.7%)\n",
      "\tChain 3 had 94 iterations at max treedepth (62.7%)\n",
      "\tChain 4 had 114 iterations at max treedepth (76.0%)\n",
      "\tUse the \"diagnose()\" method on the CmdStanMCMC object to see further information.\n"
     ]
    },
    {
     "name": "stdout",
     "output_type": "stream",
     "text": [
      "\n"
     ]
    },
    {
     "name": "stderr",
     "output_type": "stream",
     "text": [
      "04:30:45 - cmdstanpy - INFO - CmdStan start processing\n"
     ]
    },
    {
     "data": {
      "application/vnd.jupyter.widget-view+json": {
       "model_id": "52d172492aba489e8948707ae82d3634",
       "version_major": 2,
       "version_minor": 0
      },
      "text/plain": [
       "chain 1 |          | 00:00 Status"
      ]
     },
     "metadata": {},
     "output_type": "display_data"
    },
    {
     "data": {
      "application/vnd.jupyter.widget-view+json": {
       "model_id": "6b5ed4beb9794991878d51b4b32469b9",
       "version_major": 2,
       "version_minor": 0
      },
      "text/plain": [
       "chain 2 |          | 00:00 Status"
      ]
     },
     "metadata": {},
     "output_type": "display_data"
    },
    {
     "data": {
      "application/vnd.jupyter.widget-view+json": {
       "model_id": "8c275e84003c4ab58a3894ca9e45a50f",
       "version_major": 2,
       "version_minor": 0
      },
      "text/plain": [
       "chain 3 |          | 00:00 Status"
      ]
     },
     "metadata": {},
     "output_type": "display_data"
    },
    {
     "data": {
      "application/vnd.jupyter.widget-view+json": {
       "model_id": "c8e0af9027fd480a9fa7036fa7f878ee",
       "version_major": 2,
       "version_minor": 0
      },
      "text/plain": [
       "chain 4 |          | 00:00 Status"
      ]
     },
     "metadata": {},
     "output_type": "display_data"
    },
    {
     "name": "stdout",
     "output_type": "stream",
     "text": [
      "                                                                                                                                                                                                                                                                                                                                                                                                                                                                                                "
     ]
    },
    {
     "name": "stderr",
     "output_type": "stream",
     "text": [
      "04:30:52 - cmdstanpy - INFO - CmdStan done processing.\n",
      "04:30:52 - cmdstanpy - WARNING - Non-fatal error during sampling:\n",
      "Exception: normal_id_glm_lpdf: Scale vector is 0, but must be positive finite! (in 'prophet.stan', line 137, column 2 to line 142, column 4)\n",
      "Exception: normal_id_glm_lpdf: Scale vector is 0, but must be positive finite! (in 'prophet.stan', line 137, column 2 to line 142, column 4)\n",
      "\tException: normal_id_glm_lpdf: Matrix of independent variables is inf, but must be finite! (in 'prophet.stan', line 137, column 2 to line 142, column 4)\n",
      "Exception: normal_id_glm_lpdf: Scale vector is 0, but must be positive finite! (in 'prophet.stan', line 137, column 2 to line 142, column 4)\n",
      "\tException: normal_id_glm_lpdf: Matrix of independent variables is inf, but must be finite! (in 'prophet.stan', line 137, column 2 to line 142, column 4)\n",
      "Exception: normal_id_glm_lpdf: Scale vector is 0, but must be positive finite! (in 'prophet.stan', line 137, column 2 to line 142, column 4)\n",
      "Consider re-running with show_console=True if the above output is unclear!\n",
      "04:30:52 - cmdstanpy - WARNING - Some chains may have failed to converge.\n",
      "\tChain 1 had 118 iterations at max treedepth (78.7%)\n",
      "\tChain 2 had 117 iterations at max treedepth (78.0%)\n",
      "\tChain 3 had 111 iterations at max treedepth (74.0%)\n",
      "\tChain 4 had 127 iterations at max treedepth (84.7%)\n",
      "\tUse the \"diagnose()\" method on the CmdStanMCMC object to see further information.\n"
     ]
    },
    {
     "name": "stdout",
     "output_type": "stream",
     "text": [
      "\n"
     ]
    },
    {
     "name": "stderr",
     "output_type": "stream",
     "text": [
      "04:30:53 - cmdstanpy - INFO - CmdStan start processing\n"
     ]
    },
    {
     "data": {
      "application/vnd.jupyter.widget-view+json": {
       "model_id": "99dd4e52817a449b969d3c0619330ae9",
       "version_major": 2,
       "version_minor": 0
      },
      "text/plain": [
       "chain 1 |          | 00:00 Status"
      ]
     },
     "metadata": {},
     "output_type": "display_data"
    },
    {
     "data": {
      "application/vnd.jupyter.widget-view+json": {
       "model_id": "e072d10660db46d9a61ababcc30031d8",
       "version_major": 2,
       "version_minor": 0
      },
      "text/plain": [
       "chain 2 |          | 00:00 Status"
      ]
     },
     "metadata": {},
     "output_type": "display_data"
    },
    {
     "data": {
      "application/vnd.jupyter.widget-view+json": {
       "model_id": "bd0d54a08e9544b889f2d94cfbeb06dd",
       "version_major": 2,
       "version_minor": 0
      },
      "text/plain": [
       "chain 3 |          | 00:00 Status"
      ]
     },
     "metadata": {},
     "output_type": "display_data"
    },
    {
     "data": {
      "application/vnd.jupyter.widget-view+json": {
       "model_id": "073c8029c2d84525a0df4887b828c535",
       "version_major": 2,
       "version_minor": 0
      },
      "text/plain": [
       "chain 4 |          | 00:00 Status"
      ]
     },
     "metadata": {},
     "output_type": "display_data"
    },
    {
     "name": "stdout",
     "output_type": "stream",
     "text": [
      "                                                                                                                                                                                                                                                                                                                                                                                                                                                                                                "
     ]
    },
    {
     "name": "stderr",
     "output_type": "stream",
     "text": [
      "04:31:00 - cmdstanpy - INFO - CmdStan done processing.\n",
      "04:31:00 - cmdstanpy - WARNING - Non-fatal error during sampling:\n",
      "Exception: normal_id_glm_lpdf: Scale vector is 0, but must be positive finite! (in 'prophet.stan', line 137, column 2 to line 142, column 4)\n",
      "Exception: normal_id_glm_lpdf: Scale vector is 0, but must be positive finite! (in 'prophet.stan', line 137, column 2 to line 142, column 4)\n",
      "Exception: normal_id_glm_lpdf: Scale vector is 0, but must be positive finite! (in 'prophet.stan', line 137, column 2 to line 142, column 4)\n",
      "Exception: normal_id_glm_lpdf: Scale vector is 0, but must be positive finite! (in 'prophet.stan', line 137, column 2 to line 142, column 4)\n",
      "Consider re-running with show_console=True if the above output is unclear!\n",
      "04:31:00 - cmdstanpy - WARNING - Some chains may have failed to converge.\n",
      "\tChain 1 had 116 iterations at max treedepth (77.3%)\n",
      "\tChain 2 had 112 iterations at max treedepth (74.7%)\n",
      "\tChain 3 had 116 iterations at max treedepth (77.3%)\n",
      "\tChain 4 had 124 iterations at max treedepth (82.7%)\n",
      "\tUse the \"diagnose()\" method on the CmdStanMCMC object to see further information.\n"
     ]
    },
    {
     "name": "stdout",
     "output_type": "stream",
     "text": [
      "\n"
     ]
    },
    {
     "name": "stderr",
     "output_type": "stream",
     "text": [
      "04:31:01 - cmdstanpy - INFO - CmdStan start processing\n"
     ]
    },
    {
     "data": {
      "application/vnd.jupyter.widget-view+json": {
       "model_id": "12a2d764fcfb4882aa4d02d86d04f752",
       "version_major": 2,
       "version_minor": 0
      },
      "text/plain": [
       "chain 1 |          | 00:00 Status"
      ]
     },
     "metadata": {},
     "output_type": "display_data"
    },
    {
     "data": {
      "application/vnd.jupyter.widget-view+json": {
       "model_id": "80ea810a121f437687732176823386ee",
       "version_major": 2,
       "version_minor": 0
      },
      "text/plain": [
       "chain 2 |          | 00:00 Status"
      ]
     },
     "metadata": {},
     "output_type": "display_data"
    },
    {
     "data": {
      "application/vnd.jupyter.widget-view+json": {
       "model_id": "090a2f2ff5d2431bbe16031e0477148e",
       "version_major": 2,
       "version_minor": 0
      },
      "text/plain": [
       "chain 3 |          | 00:00 Status"
      ]
     },
     "metadata": {},
     "output_type": "display_data"
    },
    {
     "data": {
      "application/vnd.jupyter.widget-view+json": {
       "model_id": "2bf994bab0ab4d56a03ac7436bff292b",
       "version_major": 2,
       "version_minor": 0
      },
      "text/plain": [
       "chain 4 |          | 00:00 Status"
      ]
     },
     "metadata": {},
     "output_type": "display_data"
    },
    {
     "name": "stdout",
     "output_type": "stream",
     "text": [
      "                                                                                                                                                                                                                                                                                                                                                                                                                                                                                                "
     ]
    },
    {
     "name": "stderr",
     "output_type": "stream",
     "text": [
      "04:31:07 - cmdstanpy - INFO - CmdStan done processing.\n",
      "04:31:08 - cmdstanpy - WARNING - Non-fatal error during sampling:\n",
      "Exception: normal_id_glm_lpdf: Scale vector is 0, but must be positive finite! (in 'prophet.stan', line 137, column 2 to line 142, column 4)\n",
      "\tException: normal_id_glm_lpdf: Matrix of independent variables is inf, but must be finite! (in 'prophet.stan', line 137, column 2 to line 142, column 4)\n",
      "Exception: normal_id_glm_lpdf: Scale vector is 0, but must be positive finite! (in 'prophet.stan', line 137, column 2 to line 142, column 4)\n",
      "Exception: normal_id_glm_lpdf: Scale vector is 0, but must be positive finite! (in 'prophet.stan', line 137, column 2 to line 142, column 4)\n",
      "\tException: normal_id_glm_lpdf: Matrix of independent variables is inf, but must be finite! (in 'prophet.stan', line 137, column 2 to line 142, column 4)\n",
      "Exception: normal_id_glm_lpdf: Scale vector is 0, but must be positive finite! (in 'prophet.stan', line 137, column 2 to line 142, column 4)\n",
      "\tException: normal_id_glm_lpdf: Matrix of independent variables is inf, but must be finite! (in 'prophet.stan', line 137, column 2 to line 142, column 4)\n",
      "Consider re-running with show_console=True if the above output is unclear!\n",
      "04:31:08 - cmdstanpy - WARNING - Some chains may have failed to converge.\n",
      "\tChain 1 had 126 iterations at max treedepth (84.0%)\n",
      "\tChain 2 had 107 iterations at max treedepth (71.3%)\n",
      "\tChain 3 had 96 iterations at max treedepth (64.0%)\n",
      "\tChain 4 had 106 iterations at max treedepth (70.7%)\n",
      "\tUse the \"diagnose()\" method on the CmdStanMCMC object to see further information.\n"
     ]
    },
    {
     "name": "stdout",
     "output_type": "stream",
     "text": [
      "\n"
     ]
    },
    {
     "name": "stderr",
     "output_type": "stream",
     "text": [
      "04:31:08 - cmdstanpy - INFO - CmdStan start processing\n"
     ]
    },
    {
     "data": {
      "application/vnd.jupyter.widget-view+json": {
       "model_id": "635ccc6292e340c4be5a7645505d92f7",
       "version_major": 2,
       "version_minor": 0
      },
      "text/plain": [
       "chain 1 |          | 00:00 Status"
      ]
     },
     "metadata": {},
     "output_type": "display_data"
    },
    {
     "data": {
      "application/vnd.jupyter.widget-view+json": {
       "model_id": "41a3c9286ed7461cae3e8b2ebb4a2bf6",
       "version_major": 2,
       "version_minor": 0
      },
      "text/plain": [
       "chain 2 |          | 00:00 Status"
      ]
     },
     "metadata": {},
     "output_type": "display_data"
    },
    {
     "data": {
      "application/vnd.jupyter.widget-view+json": {
       "model_id": "1b11b48063d8470994c458063f646512",
       "version_major": 2,
       "version_minor": 0
      },
      "text/plain": [
       "chain 3 |          | 00:00 Status"
      ]
     },
     "metadata": {},
     "output_type": "display_data"
    },
    {
     "data": {
      "application/vnd.jupyter.widget-view+json": {
       "model_id": "a4d98c2307474275b8d4e8df74f107d6",
       "version_major": 2,
       "version_minor": 0
      },
      "text/plain": [
       "chain 4 |          | 00:00 Status"
      ]
     },
     "metadata": {},
     "output_type": "display_data"
    },
    {
     "name": "stdout",
     "output_type": "stream",
     "text": [
      "                                                                                                                                                                                                                                                                                                                                                                                                                                                                                                "
     ]
    },
    {
     "name": "stderr",
     "output_type": "stream",
     "text": [
      "04:31:15 - cmdstanpy - INFO - CmdStan done processing.\n",
      "04:31:15 - cmdstanpy - WARNING - Non-fatal error during sampling:\n",
      "Exception: normal_id_glm_lpdf: Scale vector is 0, but must be positive finite! (in 'prophet.stan', line 137, column 2 to line 142, column 4)\n",
      "Exception: normal_id_glm_lpdf: Scale vector is 0, but must be positive finite! (in 'prophet.stan', line 137, column 2 to line 142, column 4)\n",
      "Exception: normal_id_glm_lpdf: Scale vector is 0, but must be positive finite! (in 'prophet.stan', line 137, column 2 to line 142, column 4)\n",
      "\tException: normal_id_glm_lpdf: Matrix of independent variables is inf, but must be finite! (in 'prophet.stan', line 137, column 2 to line 142, column 4)\n",
      "Exception: normal_id_glm_lpdf: Scale vector is 0, but must be positive finite! (in 'prophet.stan', line 137, column 2 to line 142, column 4)\n",
      "\tException: normal_id_glm_lpdf: Matrix of independent variables is inf, but must be finite! (in 'prophet.stan', line 137, column 2 to line 142, column 4)\n",
      "Consider re-running with show_console=True if the above output is unclear!\n",
      "04:31:15 - cmdstanpy - WARNING - Some chains may have failed to converge.\n",
      "\tChain 1 had 104 iterations at max treedepth (69.3%)\n",
      "\tChain 2 had 125 iterations at max treedepth (83.3%)\n",
      "\tChain 3 had 114 iterations at max treedepth (76.0%)\n",
      "\tChain 4 had 118 iterations at max treedepth (78.7%)\n",
      "\tUse the \"diagnose()\" method on the CmdStanMCMC object to see further information.\n"
     ]
    },
    {
     "name": "stdout",
     "output_type": "stream",
     "text": [
      "\n"
     ]
    },
    {
     "name": "stderr",
     "output_type": "stream",
     "text": [
      "04:31:16 - cmdstanpy - INFO - CmdStan start processing\n"
     ]
    },
    {
     "data": {
      "application/vnd.jupyter.widget-view+json": {
       "model_id": "16d4994243814e89900a21a626110b69",
       "version_major": 2,
       "version_minor": 0
      },
      "text/plain": [
       "chain 1 |          | 00:00 Status"
      ]
     },
     "metadata": {},
     "output_type": "display_data"
    },
    {
     "data": {
      "application/vnd.jupyter.widget-view+json": {
       "model_id": "75bea1cee9744a6ba2f28f6cf3fe1049",
       "version_major": 2,
       "version_minor": 0
      },
      "text/plain": [
       "chain 2 |          | 00:00 Status"
      ]
     },
     "metadata": {},
     "output_type": "display_data"
    },
    {
     "data": {
      "application/vnd.jupyter.widget-view+json": {
       "model_id": "e6091e0602fe4f43ba415921c896657c",
       "version_major": 2,
       "version_minor": 0
      },
      "text/plain": [
       "chain 3 |          | 00:00 Status"
      ]
     },
     "metadata": {},
     "output_type": "display_data"
    },
    {
     "data": {
      "application/vnd.jupyter.widget-view+json": {
       "model_id": "51a1e7df77cc4ecc87f00fa7f943ceb7",
       "version_major": 2,
       "version_minor": 0
      },
      "text/plain": [
       "chain 4 |          | 00:00 Status"
      ]
     },
     "metadata": {},
     "output_type": "display_data"
    },
    {
     "name": "stdout",
     "output_type": "stream",
     "text": [
      "                                                                                                                                                                                                                                                                                                                                                                                                                                                                                                "
     ]
    },
    {
     "name": "stderr",
     "output_type": "stream",
     "text": [
      "04:31:23 - cmdstanpy - INFO - CmdStan done processing.\n",
      "04:31:23 - cmdstanpy - WARNING - Non-fatal error during sampling:\n",
      "Exception: normal_id_glm_lpdf: Scale vector is 0, but must be positive finite! (in 'prophet.stan', line 137, column 2 to line 142, column 4)\n",
      "Exception: normal_id_glm_lpdf: Scale vector is 0, but must be positive finite! (in 'prophet.stan', line 137, column 2 to line 142, column 4)\n",
      "Exception: normal_id_glm_lpdf: Scale vector is 0, but must be positive finite! (in 'prophet.stan', line 137, column 2 to line 142, column 4)\n",
      "\tException: normal_id_glm_lpdf: Matrix of independent variables is inf, but must be finite! (in 'prophet.stan', line 137, column 2 to line 142, column 4)\n",
      "Exception: normal_id_glm_lpdf: Scale vector is 0, but must be positive finite! (in 'prophet.stan', line 137, column 2 to line 142, column 4)\n",
      "Consider re-running with show_console=True if the above output is unclear!\n",
      "04:31:23 - cmdstanpy - WARNING - Some chains may have failed to converge.\n",
      "\tChain 1 had 108 iterations at max treedepth (72.0%)\n",
      "\tChain 2 had 127 iterations at max treedepth (84.7%)\n",
      "\tChain 3 had 131 iterations at max treedepth (87.3%)\n",
      "\tChain 4 had 121 iterations at max treedepth (80.7%)\n",
      "\tUse the \"diagnose()\" method on the CmdStanMCMC object to see further information.\n"
     ]
    },
    {
     "name": "stdout",
     "output_type": "stream",
     "text": [
      "\n"
     ]
    },
    {
     "name": "stderr",
     "output_type": "stream",
     "text": [
      "04:31:24 - cmdstanpy - INFO - CmdStan start processing\n"
     ]
    },
    {
     "data": {
      "application/vnd.jupyter.widget-view+json": {
       "model_id": "28b81050957a437e9264b189742c3dbb",
       "version_major": 2,
       "version_minor": 0
      },
      "text/plain": [
       "chain 1 |          | 00:00 Status"
      ]
     },
     "metadata": {},
     "output_type": "display_data"
    },
    {
     "data": {
      "application/vnd.jupyter.widget-view+json": {
       "model_id": "84fb5f0d9fce4219ae7636748dff89fc",
       "version_major": 2,
       "version_minor": 0
      },
      "text/plain": [
       "chain 2 |          | 00:00 Status"
      ]
     },
     "metadata": {},
     "output_type": "display_data"
    },
    {
     "data": {
      "application/vnd.jupyter.widget-view+json": {
       "model_id": "3e02a04f3a8e4f54aa3eb707b510025a",
       "version_major": 2,
       "version_minor": 0
      },
      "text/plain": [
       "chain 3 |          | 00:00 Status"
      ]
     },
     "metadata": {},
     "output_type": "display_data"
    },
    {
     "data": {
      "application/vnd.jupyter.widget-view+json": {
       "model_id": "1a5cddf9449448faa2b99c7e6f551bb5",
       "version_major": 2,
       "version_minor": 0
      },
      "text/plain": [
       "chain 4 |          | 00:00 Status"
      ]
     },
     "metadata": {},
     "output_type": "display_data"
    },
    {
     "name": "stdout",
     "output_type": "stream",
     "text": [
      "                                                                                                                                                                                                                                                                                                                                                                                                                                                                                                "
     ]
    },
    {
     "name": "stderr",
     "output_type": "stream",
     "text": [
      "04:31:30 - cmdstanpy - INFO - CmdStan done processing.\n",
      "04:31:30 - cmdstanpy - WARNING - Non-fatal error during sampling:\n",
      "Exception: normal_id_glm_lpdf: Scale vector is 0, but must be positive finite! (in 'prophet.stan', line 137, column 2 to line 142, column 4)\n",
      "Exception: normal_id_glm_lpdf: Scale vector is 0, but must be positive finite! (in 'prophet.stan', line 137, column 2 to line 142, column 4)\n",
      "Exception: normal_id_glm_lpdf: Scale vector is 0, but must be positive finite! (in 'prophet.stan', line 137, column 2 to line 142, column 4)\n",
      "Exception: normal_id_glm_lpdf: Scale vector is 0, but must be positive finite! (in 'prophet.stan', line 137, column 2 to line 142, column 4)\n",
      "\tException: normal_id_glm_lpdf: Matrix of independent variables is inf, but must be finite! (in 'prophet.stan', line 137, column 2 to line 142, column 4)\n",
      "Consider re-running with show_console=True if the above output is unclear!\n",
      "04:31:30 - cmdstanpy - WARNING - Some chains may have failed to converge.\n",
      "\tChain 1 had 116 iterations at max treedepth (77.3%)\n",
      "\tChain 2 had 120 iterations at max treedepth (80.0%)\n",
      "\tChain 3 had 122 iterations at max treedepth (81.3%)\n",
      "\tChain 4 had 111 iterations at max treedepth (74.0%)\n",
      "\tUse the \"diagnose()\" method on the CmdStanMCMC object to see further information.\n"
     ]
    },
    {
     "name": "stdout",
     "output_type": "stream",
     "text": [
      "\n"
     ]
    },
    {
     "name": "stderr",
     "output_type": "stream",
     "text": [
      "04:31:31 - cmdstanpy - INFO - CmdStan start processing\n"
     ]
    },
    {
     "data": {
      "application/vnd.jupyter.widget-view+json": {
       "model_id": "e2767635a03e4d9eafb4888c8ad3e7aa",
       "version_major": 2,
       "version_minor": 0
      },
      "text/plain": [
       "chain 1 |          | 00:00 Status"
      ]
     },
     "metadata": {},
     "output_type": "display_data"
    },
    {
     "data": {
      "application/vnd.jupyter.widget-view+json": {
       "model_id": "d29135c2eba84b0d8dfea1f16addc191",
       "version_major": 2,
       "version_minor": 0
      },
      "text/plain": [
       "chain 2 |          | 00:00 Status"
      ]
     },
     "metadata": {},
     "output_type": "display_data"
    },
    {
     "data": {
      "application/vnd.jupyter.widget-view+json": {
       "model_id": "eb2bf298a3b74581976f2c07ea8f6399",
       "version_major": 2,
       "version_minor": 0
      },
      "text/plain": [
       "chain 3 |          | 00:00 Status"
      ]
     },
     "metadata": {},
     "output_type": "display_data"
    },
    {
     "data": {
      "application/vnd.jupyter.widget-view+json": {
       "model_id": "ed13da419718420ba92ed13a5ce21cc4",
       "version_major": 2,
       "version_minor": 0
      },
      "text/plain": [
       "chain 4 |          | 00:00 Status"
      ]
     },
     "metadata": {},
     "output_type": "display_data"
    },
    {
     "name": "stdout",
     "output_type": "stream",
     "text": [
      "                                                                                                                                                                                                                                                                                                                                                                                                                                                                                                "
     ]
    },
    {
     "name": "stderr",
     "output_type": "stream",
     "text": [
      "04:31:38 - cmdstanpy - INFO - CmdStan done processing.\n",
      "04:31:38 - cmdstanpy - WARNING - Non-fatal error during sampling:\n",
      "Exception: normal_id_glm_lpdf: Scale vector is 0, but must be positive finite! (in 'prophet.stan', line 137, column 2 to line 142, column 4)\n",
      "Exception: normal_id_glm_lpdf: Scale vector is 0, but must be positive finite! (in 'prophet.stan', line 137, column 2 to line 142, column 4)\n",
      "Exception: normal_id_glm_lpdf: Scale vector is 0, but must be positive finite! (in 'prophet.stan', line 137, column 2 to line 142, column 4)\n",
      "Exception: normal_id_glm_lpdf: Scale vector is 0, but must be positive finite! (in 'prophet.stan', line 137, column 2 to line 142, column 4)\n",
      "Consider re-running with show_console=True if the above output is unclear!\n",
      "04:31:38 - cmdstanpy - WARNING - Some chains may have failed to converge.\n",
      "\tChain 1 had 108 iterations at max treedepth (72.0%)\n",
      "\tChain 2 had 115 iterations at max treedepth (76.7%)\n",
      "\tChain 3 had 122 iterations at max treedepth (81.3%)\n",
      "\tChain 4 had 123 iterations at max treedepth (82.0%)\n",
      "\tUse the \"diagnose()\" method on the CmdStanMCMC object to see further information.\n"
     ]
    },
    {
     "name": "stdout",
     "output_type": "stream",
     "text": [
      "\n"
     ]
    },
    {
     "name": "stderr",
     "output_type": "stream",
     "text": [
      "04:31:39 - cmdstanpy - INFO - CmdStan start processing\n"
     ]
    },
    {
     "data": {
      "application/vnd.jupyter.widget-view+json": {
       "model_id": "5188a0c9d4614f83873f792571b81915",
       "version_major": 2,
       "version_minor": 0
      },
      "text/plain": [
       "chain 1 |          | 00:00 Status"
      ]
     },
     "metadata": {},
     "output_type": "display_data"
    },
    {
     "data": {
      "application/vnd.jupyter.widget-view+json": {
       "model_id": "fb8ae894d04c4a3dae12868c90cd5746",
       "version_major": 2,
       "version_minor": 0
      },
      "text/plain": [
       "chain 2 |          | 00:00 Status"
      ]
     },
     "metadata": {},
     "output_type": "display_data"
    },
    {
     "data": {
      "application/vnd.jupyter.widget-view+json": {
       "model_id": "b347d5d22ed146509fbc5dcaa7943d2f",
       "version_major": 2,
       "version_minor": 0
      },
      "text/plain": [
       "chain 3 |          | 00:00 Status"
      ]
     },
     "metadata": {},
     "output_type": "display_data"
    },
    {
     "data": {
      "application/vnd.jupyter.widget-view+json": {
       "model_id": "99b59eb12ccb4ccebc860756081179e4",
       "version_major": 2,
       "version_minor": 0
      },
      "text/plain": [
       "chain 4 |          | 00:00 Status"
      ]
     },
     "metadata": {},
     "output_type": "display_data"
    },
    {
     "name": "stdout",
     "output_type": "stream",
     "text": [
      "                                                                                                                                                                                                                                                                                                                                                                                                                                                                                                "
     ]
    },
    {
     "name": "stderr",
     "output_type": "stream",
     "text": [
      "04:31:46 - cmdstanpy - INFO - CmdStan done processing.\n",
      "04:31:46 - cmdstanpy - WARNING - Non-fatal error during sampling:\n",
      "Exception: normal_id_glm_lpdf: Scale vector is 0, but must be positive finite! (in 'prophet.stan', line 137, column 2 to line 142, column 4)\n",
      "\tException: normal_id_glm_lpdf: Matrix of independent variables is inf, but must be finite! (in 'prophet.stan', line 137, column 2 to line 142, column 4)\n",
      "Exception: normal_id_glm_lpdf: Scale vector is 0, but must be positive finite! (in 'prophet.stan', line 137, column 2 to line 142, column 4)\n",
      "Exception: normal_id_glm_lpdf: Scale vector is 0, but must be positive finite! (in 'prophet.stan', line 137, column 2 to line 142, column 4)\n",
      "Exception: normal_id_glm_lpdf: Scale vector is 0, but must be positive finite! (in 'prophet.stan', line 137, column 2 to line 142, column 4)\n",
      "Consider re-running with show_console=True if the above output is unclear!\n",
      "04:31:46 - cmdstanpy - WARNING - Some chains may have failed to converge.\n",
      "\tChain 1 had 114 iterations at max treedepth (76.0%)\n",
      "\tChain 2 had 127 iterations at max treedepth (84.7%)\n",
      "\tChain 3 had 115 iterations at max treedepth (76.7%)\n",
      "\tChain 4 had 111 iterations at max treedepth (74.0%)\n",
      "\tUse the \"diagnose()\" method on the CmdStanMCMC object to see further information.\n"
     ]
    },
    {
     "name": "stdout",
     "output_type": "stream",
     "text": [
      "\n"
     ]
    },
    {
     "name": "stderr",
     "output_type": "stream",
     "text": [
      "04:31:47 - cmdstanpy - INFO - CmdStan start processing\n"
     ]
    },
    {
     "data": {
      "application/vnd.jupyter.widget-view+json": {
       "model_id": "3cc16811e2bf4046ba986fdbbcc8a5cd",
       "version_major": 2,
       "version_minor": 0
      },
      "text/plain": [
       "chain 1 |          | 00:00 Status"
      ]
     },
     "metadata": {},
     "output_type": "display_data"
    },
    {
     "data": {
      "application/vnd.jupyter.widget-view+json": {
       "model_id": "839d9237273c4d26a3cae10519b79eed",
       "version_major": 2,
       "version_minor": 0
      },
      "text/plain": [
       "chain 2 |          | 00:00 Status"
      ]
     },
     "metadata": {},
     "output_type": "display_data"
    },
    {
     "data": {
      "application/vnd.jupyter.widget-view+json": {
       "model_id": "4744ce76ad4048cd860778b2c081beba",
       "version_major": 2,
       "version_minor": 0
      },
      "text/plain": [
       "chain 3 |          | 00:00 Status"
      ]
     },
     "metadata": {},
     "output_type": "display_data"
    },
    {
     "data": {
      "application/vnd.jupyter.widget-view+json": {
       "model_id": "ab35d99e4d7d4976849afdd702350660",
       "version_major": 2,
       "version_minor": 0
      },
      "text/plain": [
       "chain 4 |          | 00:00 Status"
      ]
     },
     "metadata": {},
     "output_type": "display_data"
    },
    {
     "name": "stdout",
     "output_type": "stream",
     "text": [
      "                                                                                                                                                                                                                                                                                                                                                                                                                                                                                                "
     ]
    },
    {
     "name": "stderr",
     "output_type": "stream",
     "text": [
      "04:31:53 - cmdstanpy - INFO - CmdStan done processing.\n",
      "04:31:53 - cmdstanpy - WARNING - Non-fatal error during sampling:\n",
      "Exception: normal_id_glm_lpdf: Scale vector is 0, but must be positive finite! (in 'prophet.stan', line 137, column 2 to line 142, column 4)\n",
      "\tException: normal_id_glm_lpdf: Matrix of independent variables is inf, but must be finite! (in 'prophet.stan', line 137, column 2 to line 142, column 4)\n",
      "Exception: normal_id_glm_lpdf: Scale vector is 0, but must be positive finite! (in 'prophet.stan', line 137, column 2 to line 142, column 4)\n",
      "Exception: normal_id_glm_lpdf: Scale vector is 0, but must be positive finite! (in 'prophet.stan', line 137, column 2 to line 142, column 4)\n",
      "Exception: normal_id_glm_lpdf: Scale vector is 0, but must be positive finite! (in 'prophet.stan', line 137, column 2 to line 142, column 4)\n",
      "\tException: normal_id_glm_lpdf: Matrix of independent variables is inf, but must be finite! (in 'prophet.stan', line 137, column 2 to line 142, column 4)\n",
      "Consider re-running with show_console=True if the above output is unclear!\n",
      "04:31:53 - cmdstanpy - WARNING - Some chains may have failed to converge.\n",
      "\tChain 1 had 111 iterations at max treedepth (74.0%)\n",
      "\tChain 2 had 108 iterations at max treedepth (72.0%)\n",
      "\tChain 3 had 108 iterations at max treedepth (72.0%)\n",
      "\tChain 4 had 132 iterations at max treedepth (88.0%)\n",
      "\tUse the \"diagnose()\" method on the CmdStanMCMC object to see further information.\n"
     ]
    },
    {
     "name": "stdout",
     "output_type": "stream",
     "text": [
      "\n"
     ]
    },
    {
     "name": "stderr",
     "output_type": "stream",
     "text": [
      "04:31:54 - cmdstanpy - INFO - CmdStan start processing\n"
     ]
    },
    {
     "data": {
      "application/vnd.jupyter.widget-view+json": {
       "model_id": "5741a4b3f57a4bcabda68ecba32cad6c",
       "version_major": 2,
       "version_minor": 0
      },
      "text/plain": [
       "chain 1 |          | 00:00 Status"
      ]
     },
     "metadata": {},
     "output_type": "display_data"
    },
    {
     "data": {
      "application/vnd.jupyter.widget-view+json": {
       "model_id": "35d2874f9af24c7c81362c7f2a2fc4e6",
       "version_major": 2,
       "version_minor": 0
      },
      "text/plain": [
       "chain 2 |          | 00:00 Status"
      ]
     },
     "metadata": {},
     "output_type": "display_data"
    },
    {
     "data": {
      "application/vnd.jupyter.widget-view+json": {
       "model_id": "6b1f63afb3654e20a9cb81f2e6335878",
       "version_major": 2,
       "version_minor": 0
      },
      "text/plain": [
       "chain 3 |          | 00:00 Status"
      ]
     },
     "metadata": {},
     "output_type": "display_data"
    },
    {
     "data": {
      "application/vnd.jupyter.widget-view+json": {
       "model_id": "0d7ab91ff15f4bc4a4b8cd39aee051af",
       "version_major": 2,
       "version_minor": 0
      },
      "text/plain": [
       "chain 4 |          | 00:00 Status"
      ]
     },
     "metadata": {},
     "output_type": "display_data"
    },
    {
     "name": "stdout",
     "output_type": "stream",
     "text": [
      "                                                                                                                                                                                                                                                                                                                                                                                                                                                                                                "
     ]
    },
    {
     "name": "stderr",
     "output_type": "stream",
     "text": [
      "04:32:01 - cmdstanpy - INFO - CmdStan done processing.\n",
      "04:32:01 - cmdstanpy - WARNING - Non-fatal error during sampling:\n",
      "Exception: normal_id_glm_lpdf: Scale vector is 0, but must be positive finite! (in 'prophet.stan', line 137, column 2 to line 142, column 4)\n",
      "Exception: normal_id_glm_lpdf: Scale vector is 0, but must be positive finite! (in 'prophet.stan', line 137, column 2 to line 142, column 4)\n",
      "Exception: normal_id_glm_lpdf: Scale vector is 0, but must be positive finite! (in 'prophet.stan', line 137, column 2 to line 142, column 4)\n",
      "Exception: normal_id_glm_lpdf: Scale vector is 0, but must be positive finite! (in 'prophet.stan', line 137, column 2 to line 142, column 4)\n",
      "Consider re-running with show_console=True if the above output is unclear!\n",
      "04:32:01 - cmdstanpy - WARNING - Some chains may have failed to converge.\n",
      "\tChain 1 had 94 iterations at max treedepth (62.7%)\n",
      "\tChain 2 had 126 iterations at max treedepth (84.0%)\n",
      "\tChain 3 had 115 iterations at max treedepth (76.7%)\n",
      "\tChain 4 had 125 iterations at max treedepth (83.3%)\n",
      "\tUse the \"diagnose()\" method on the CmdStanMCMC object to see further information.\n"
     ]
    },
    {
     "name": "stdout",
     "output_type": "stream",
     "text": [
      "\n"
     ]
    },
    {
     "name": "stderr",
     "output_type": "stream",
     "text": [
      "04:32:01 - cmdstanpy - INFO - CmdStan start processing\n"
     ]
    },
    {
     "data": {
      "application/vnd.jupyter.widget-view+json": {
       "model_id": "64f3c7f3e58e473699124d9c44946145",
       "version_major": 2,
       "version_minor": 0
      },
      "text/plain": [
       "chain 1 |          | 00:00 Status"
      ]
     },
     "metadata": {},
     "output_type": "display_data"
    },
    {
     "data": {
      "application/vnd.jupyter.widget-view+json": {
       "model_id": "b16cc26c21e242cf97538d2d8e7d637f",
       "version_major": 2,
       "version_minor": 0
      },
      "text/plain": [
       "chain 2 |          | 00:00 Status"
      ]
     },
     "metadata": {},
     "output_type": "display_data"
    },
    {
     "data": {
      "application/vnd.jupyter.widget-view+json": {
       "model_id": "e3b43320fd6c4639a910c9ddff5db2e1",
       "version_major": 2,
       "version_minor": 0
      },
      "text/plain": [
       "chain 3 |          | 00:00 Status"
      ]
     },
     "metadata": {},
     "output_type": "display_data"
    },
    {
     "data": {
      "application/vnd.jupyter.widget-view+json": {
       "model_id": "636e1de2dc9440298e7107c06f2110b6",
       "version_major": 2,
       "version_minor": 0
      },
      "text/plain": [
       "chain 4 |          | 00:00 Status"
      ]
     },
     "metadata": {},
     "output_type": "display_data"
    },
    {
     "name": "stdout",
     "output_type": "stream",
     "text": [
      "                                                                                                                                                                                                                                                                                                                                                                                                                                                                                                "
     ]
    },
    {
     "name": "stderr",
     "output_type": "stream",
     "text": [
      "04:32:08 - cmdstanpy - INFO - CmdStan done processing.\n",
      "04:32:08 - cmdstanpy - WARNING - Non-fatal error during sampling:\n",
      "Exception: normal_id_glm_lpdf: Scale vector is 0, but must be positive finite! (in 'prophet.stan', line 137, column 2 to line 142, column 4)\n",
      "Exception: normal_id_glm_lpdf: Scale vector is 0, but must be positive finite! (in 'prophet.stan', line 137, column 2 to line 142, column 4)\n",
      "\tException: normal_id_glm_lpdf: Matrix of independent variables is inf, but must be finite! (in 'prophet.stan', line 137, column 2 to line 142, column 4)\n",
      "Exception: normal_id_glm_lpdf: Scale vector is 0, but must be positive finite! (in 'prophet.stan', line 137, column 2 to line 142, column 4)\n",
      "Exception: normal_id_glm_lpdf: Scale vector is 0, but must be positive finite! (in 'prophet.stan', line 137, column 2 to line 142, column 4)\n",
      "Consider re-running with show_console=True if the above output is unclear!\n",
      "04:32:08 - cmdstanpy - WARNING - Some chains may have failed to converge.\n",
      "\tChain 1 had 133 iterations at max treedepth (88.7%)\n",
      "\tChain 2 had 107 iterations at max treedepth (71.3%)\n",
      "\tChain 3 had 116 iterations at max treedepth (77.3%)\n",
      "\tChain 4 had 118 iterations at max treedepth (78.7%)\n",
      "\tUse the \"diagnose()\" method on the CmdStanMCMC object to see further information.\n"
     ]
    },
    {
     "name": "stdout",
     "output_type": "stream",
     "text": [
      "\n"
     ]
    },
    {
     "name": "stderr",
     "output_type": "stream",
     "text": [
      "04:32:09 - cmdstanpy - INFO - CmdStan start processing\n"
     ]
    },
    {
     "data": {
      "application/vnd.jupyter.widget-view+json": {
       "model_id": "e4005540751d4ed7884691b3603167b6",
       "version_major": 2,
       "version_minor": 0
      },
      "text/plain": [
       "chain 1 |          | 00:00 Status"
      ]
     },
     "metadata": {},
     "output_type": "display_data"
    },
    {
     "data": {
      "application/vnd.jupyter.widget-view+json": {
       "model_id": "cc58f61db6af44ff9cb399bf52daf9c8",
       "version_major": 2,
       "version_minor": 0
      },
      "text/plain": [
       "chain 2 |          | 00:00 Status"
      ]
     },
     "metadata": {},
     "output_type": "display_data"
    },
    {
     "data": {
      "application/vnd.jupyter.widget-view+json": {
       "model_id": "251c0716b162493ba225250676440701",
       "version_major": 2,
       "version_minor": 0
      },
      "text/plain": [
       "chain 3 |          | 00:00 Status"
      ]
     },
     "metadata": {},
     "output_type": "display_data"
    },
    {
     "data": {
      "application/vnd.jupyter.widget-view+json": {
       "model_id": "b354034b67804f9fb9dcd75ef838e910",
       "version_major": 2,
       "version_minor": 0
      },
      "text/plain": [
       "chain 4 |          | 00:00 Status"
      ]
     },
     "metadata": {},
     "output_type": "display_data"
    },
    {
     "name": "stdout",
     "output_type": "stream",
     "text": [
      "                                                                                                                                                                                                                                                                                                                                                                                                                                                                                                "
     ]
    },
    {
     "name": "stderr",
     "output_type": "stream",
     "text": [
      "04:32:16 - cmdstanpy - INFO - CmdStan done processing.\n",
      "04:32:16 - cmdstanpy - WARNING - Non-fatal error during sampling:\n",
      "Exception: normal_id_glm_lpdf: Scale vector is 0, but must be positive finite! (in 'prophet.stan', line 137, column 2 to line 142, column 4)\n",
      "\tException: normal_id_glm_lpdf: Matrix of independent variables is inf, but must be finite! (in 'prophet.stan', line 137, column 2 to line 142, column 4)\n",
      "Exception: normal_id_glm_lpdf: Scale vector is 0, but must be positive finite! (in 'prophet.stan', line 137, column 2 to line 142, column 4)\n",
      "Exception: normal_id_glm_lpdf: Scale vector is 0, but must be positive finite! (in 'prophet.stan', line 137, column 2 to line 142, column 4)\n",
      "\tException: normal_id_glm_lpdf: Matrix of independent variables is inf, but must be finite! (in 'prophet.stan', line 137, column 2 to line 142, column 4)\n",
      "Exception: normal_id_glm_lpdf: Scale vector is 0, but must be positive finite! (in 'prophet.stan', line 137, column 2 to line 142, column 4)\n",
      "Consider re-running with show_console=True if the above output is unclear!\n",
      "04:32:16 - cmdstanpy - WARNING - Some chains may have failed to converge.\n",
      "\tChain 1 had 117 iterations at max treedepth (78.0%)\n",
      "\tChain 2 had 123 iterations at max treedepth (82.0%)\n",
      "\tChain 3 had 123 iterations at max treedepth (82.0%)\n",
      "\tChain 4 had 116 iterations at max treedepth (77.3%)\n",
      "\tUse the \"diagnose()\" method on the CmdStanMCMC object to see further information.\n"
     ]
    },
    {
     "name": "stdout",
     "output_type": "stream",
     "text": [
      "\n"
     ]
    },
    {
     "name": "stderr",
     "output_type": "stream",
     "text": [
      "04:32:17 - cmdstanpy - INFO - CmdStan start processing\n"
     ]
    },
    {
     "data": {
      "application/vnd.jupyter.widget-view+json": {
       "model_id": "c005a4caa1ad4c9ca320fc7c1c03471c",
       "version_major": 2,
       "version_minor": 0
      },
      "text/plain": [
       "chain 1 |          | 00:00 Status"
      ]
     },
     "metadata": {},
     "output_type": "display_data"
    },
    {
     "data": {
      "application/vnd.jupyter.widget-view+json": {
       "model_id": "16eb180cc3384f658216aebbfd28ca6c",
       "version_major": 2,
       "version_minor": 0
      },
      "text/plain": [
       "chain 2 |          | 00:00 Status"
      ]
     },
     "metadata": {},
     "output_type": "display_data"
    },
    {
     "data": {
      "application/vnd.jupyter.widget-view+json": {
       "model_id": "b2cf6e2574074d41b2de7c2a0d92387a",
       "version_major": 2,
       "version_minor": 0
      },
      "text/plain": [
       "chain 3 |          | 00:00 Status"
      ]
     },
     "metadata": {},
     "output_type": "display_data"
    },
    {
     "data": {
      "application/vnd.jupyter.widget-view+json": {
       "model_id": "7160927172f243a28a4fd45896165ed2",
       "version_major": 2,
       "version_minor": 0
      },
      "text/plain": [
       "chain 4 |          | 00:00 Status"
      ]
     },
     "metadata": {},
     "output_type": "display_data"
    },
    {
     "name": "stdout",
     "output_type": "stream",
     "text": [
      "                                                                                                                                                                                                                                                                                                                                                                                                                                                                                                "
     ]
    },
    {
     "name": "stderr",
     "output_type": "stream",
     "text": [
      "04:32:24 - cmdstanpy - INFO - CmdStan done processing.\n",
      "04:32:24 - cmdstanpy - WARNING - Non-fatal error during sampling:\n",
      "Exception: normal_id_glm_lpdf: Scale vector is 0, but must be positive finite! (in 'prophet.stan', line 137, column 2 to line 142, column 4)\n",
      "Exception: normal_id_glm_lpdf: Scale vector is 0, but must be positive finite! (in 'prophet.stan', line 137, column 2 to line 142, column 4)\n",
      "\tException: normal_id_glm_lpdf: Matrix of independent variables is inf, but must be finite! (in 'prophet.stan', line 137, column 2 to line 142, column 4)\n",
      "Exception: normal_id_glm_lpdf: Scale vector is 0, but must be positive finite! (in 'prophet.stan', line 137, column 2 to line 142, column 4)\n",
      "\tException: normal_id_glm_lpdf: Matrix of independent variables is inf, but must be finite! (in 'prophet.stan', line 137, column 2 to line 142, column 4)\n",
      "Exception: normal_id_glm_lpdf: Scale vector is 0, but must be positive finite! (in 'prophet.stan', line 137, column 2 to line 142, column 4)\n",
      "Consider re-running with show_console=True if the above output is unclear!\n",
      "04:32:24 - cmdstanpy - WARNING - Some chains may have failed to converge.\n",
      "\tChain 1 had 119 iterations at max treedepth (79.3%)\n",
      "\tChain 2 had 116 iterations at max treedepth (77.3%)\n",
      "\tChain 3 had 118 iterations at max treedepth (78.7%)\n",
      "\tChain 4 had 118 iterations at max treedepth (78.7%)\n",
      "\tUse the \"diagnose()\" method on the CmdStanMCMC object to see further information.\n"
     ]
    },
    {
     "name": "stdout",
     "output_type": "stream",
     "text": [
      "\n"
     ]
    },
    {
     "name": "stderr",
     "output_type": "stream",
     "text": [
      "04:32:24 - cmdstanpy - INFO - CmdStan start processing\n"
     ]
    },
    {
     "data": {
      "application/vnd.jupyter.widget-view+json": {
       "model_id": "84df9921ce8f468381f0e26597dced19",
       "version_major": 2,
       "version_minor": 0
      },
      "text/plain": [
       "chain 1 |          | 00:00 Status"
      ]
     },
     "metadata": {},
     "output_type": "display_data"
    },
    {
     "data": {
      "application/vnd.jupyter.widget-view+json": {
       "model_id": "0ed2844fec334aa9b2deac5e701d0752",
       "version_major": 2,
       "version_minor": 0
      },
      "text/plain": [
       "chain 2 |          | 00:00 Status"
      ]
     },
     "metadata": {},
     "output_type": "display_data"
    },
    {
     "data": {
      "application/vnd.jupyter.widget-view+json": {
       "model_id": "20f77848a4894403b8ac9606e959e187",
       "version_major": 2,
       "version_minor": 0
      },
      "text/plain": [
       "chain 3 |          | 00:00 Status"
      ]
     },
     "metadata": {},
     "output_type": "display_data"
    },
    {
     "data": {
      "application/vnd.jupyter.widget-view+json": {
       "model_id": "5a17aa3ca3fa432f9a90ff4c3ce2381c",
       "version_major": 2,
       "version_minor": 0
      },
      "text/plain": [
       "chain 4 |          | 00:00 Status"
      ]
     },
     "metadata": {},
     "output_type": "display_data"
    },
    {
     "name": "stdout",
     "output_type": "stream",
     "text": [
      "                                                                                                                                                                                                                                                                                                                                                                                                                                                                                                "
     ]
    },
    {
     "name": "stderr",
     "output_type": "stream",
     "text": [
      "04:32:31 - cmdstanpy - INFO - CmdStan done processing.\n",
      "04:32:31 - cmdstanpy - WARNING - Non-fatal error during sampling:\n",
      "Exception: normal_id_glm_lpdf: Scale vector is 0, but must be positive finite! (in 'prophet.stan', line 137, column 2 to line 142, column 4)\n",
      "\tException: normal_id_glm_lpdf: Matrix of independent variables is inf, but must be finite! (in 'prophet.stan', line 137, column 2 to line 142, column 4)\n",
      "Exception: normal_id_glm_lpdf: Scale vector is 0, but must be positive finite! (in 'prophet.stan', line 137, column 2 to line 142, column 4)\n",
      "Exception: normal_id_glm_lpdf: Scale vector is 0, but must be positive finite! (in 'prophet.stan', line 137, column 2 to line 142, column 4)\n",
      "Exception: normal_id_glm_lpdf: Scale vector is 0, but must be positive finite! (in 'prophet.stan', line 137, column 2 to line 142, column 4)\n",
      "Consider re-running with show_console=True if the above output is unclear!\n",
      "04:32:31 - cmdstanpy - WARNING - Some chains may have failed to converge.\n",
      "\tChain 1 had 100 iterations at max treedepth (66.7%)\n",
      "\tChain 2 had 120 iterations at max treedepth (80.0%)\n",
      "\tChain 3 had 115 iterations at max treedepth (76.7%)\n",
      "\tChain 4 had 116 iterations at max treedepth (77.3%)\n",
      "\tUse the \"diagnose()\" method on the CmdStanMCMC object to see further information.\n"
     ]
    },
    {
     "name": "stdout",
     "output_type": "stream",
     "text": [
      "\n"
     ]
    },
    {
     "name": "stderr",
     "output_type": "stream",
     "text": [
      "04:32:32 - cmdstanpy - INFO - CmdStan start processing\n"
     ]
    },
    {
     "data": {
      "application/vnd.jupyter.widget-view+json": {
       "model_id": "c0523330ac35471bbbc5ab748f9ec465",
       "version_major": 2,
       "version_minor": 0
      },
      "text/plain": [
       "chain 1 |          | 00:00 Status"
      ]
     },
     "metadata": {},
     "output_type": "display_data"
    },
    {
     "data": {
      "application/vnd.jupyter.widget-view+json": {
       "model_id": "cfb6859a1d864718a77ae05036c2e9e8",
       "version_major": 2,
       "version_minor": 0
      },
      "text/plain": [
       "chain 2 |          | 00:00 Status"
      ]
     },
     "metadata": {},
     "output_type": "display_data"
    },
    {
     "data": {
      "application/vnd.jupyter.widget-view+json": {
       "model_id": "686f5234fc7e44b7a7f598b340081118",
       "version_major": 2,
       "version_minor": 0
      },
      "text/plain": [
       "chain 3 |          | 00:00 Status"
      ]
     },
     "metadata": {},
     "output_type": "display_data"
    },
    {
     "data": {
      "application/vnd.jupyter.widget-view+json": {
       "model_id": "c031f50f0aac4934b7720cdad4aa1dd7",
       "version_major": 2,
       "version_minor": 0
      },
      "text/plain": [
       "chain 4 |          | 00:00 Status"
      ]
     },
     "metadata": {},
     "output_type": "display_data"
    },
    {
     "name": "stdout",
     "output_type": "stream",
     "text": [
      "                                                                                                                                                                                                                                                                                                                                                                                                                                                                                                "
     ]
    },
    {
     "name": "stderr",
     "output_type": "stream",
     "text": [
      "04:32:38 - cmdstanpy - INFO - CmdStan done processing.\n",
      "04:32:38 - cmdstanpy - WARNING - Non-fatal error during sampling:\n",
      "Exception: normal_id_glm_lpdf: Scale vector is 0, but must be positive finite! (in 'prophet.stan', line 137, column 2 to line 142, column 4)\n",
      "\tException: normal_id_glm_lpdf: Matrix of independent variables is inf, but must be finite! (in 'prophet.stan', line 137, column 2 to line 142, column 4)\n",
      "Exception: normal_id_glm_lpdf: Scale vector is 0, but must be positive finite! (in 'prophet.stan', line 137, column 2 to line 142, column 4)\n",
      "\tException: normal_id_glm_lpdf: Matrix of independent variables is inf, but must be finite! (in 'prophet.stan', line 137, column 2 to line 142, column 4)\n",
      "Exception: normal_id_glm_lpdf: Scale vector is 0, but must be positive finite! (in 'prophet.stan', line 137, column 2 to line 142, column 4)\n",
      "Exception: normal_id_glm_lpdf: Scale vector is 0, but must be positive finite! (in 'prophet.stan', line 137, column 2 to line 142, column 4)\n",
      "Consider re-running with show_console=True if the above output is unclear!\n",
      "04:32:38 - cmdstanpy - WARNING - Some chains may have failed to converge.\n",
      "\tChain 1 had 130 iterations at max treedepth (86.7%)\n",
      "\tChain 2 had 117 iterations at max treedepth (78.0%)\n",
      "\tChain 3 had 124 iterations at max treedepth (82.7%)\n",
      "\tChain 4 had 124 iterations at max treedepth (82.7%)\n",
      "\tUse the \"diagnose()\" method on the CmdStanMCMC object to see further information.\n"
     ]
    },
    {
     "name": "stdout",
     "output_type": "stream",
     "text": [
      "\n"
     ]
    },
    {
     "name": "stderr",
     "output_type": "stream",
     "text": [
      "04:32:39 - cmdstanpy - INFO - CmdStan start processing\n"
     ]
    },
    {
     "data": {
      "application/vnd.jupyter.widget-view+json": {
       "model_id": "51a6bd5e4ee7450da69c0642a1077d7e",
       "version_major": 2,
       "version_minor": 0
      },
      "text/plain": [
       "chain 1 |          | 00:00 Status"
      ]
     },
     "metadata": {},
     "output_type": "display_data"
    },
    {
     "data": {
      "application/vnd.jupyter.widget-view+json": {
       "model_id": "6d3bbd6ce7f14aa4a3ce4d222cef1056",
       "version_major": 2,
       "version_minor": 0
      },
      "text/plain": [
       "chain 2 |          | 00:00 Status"
      ]
     },
     "metadata": {},
     "output_type": "display_data"
    },
    {
     "data": {
      "application/vnd.jupyter.widget-view+json": {
       "model_id": "b583e72e86864fe5bbdc8e882cc49a2e",
       "version_major": 2,
       "version_minor": 0
      },
      "text/plain": [
       "chain 3 |          | 00:00 Status"
      ]
     },
     "metadata": {},
     "output_type": "display_data"
    },
    {
     "data": {
      "application/vnd.jupyter.widget-view+json": {
       "model_id": "3f53e7bf68bc437e914565c2ad382046",
       "version_major": 2,
       "version_minor": 0
      },
      "text/plain": [
       "chain 4 |          | 00:00 Status"
      ]
     },
     "metadata": {},
     "output_type": "display_data"
    },
    {
     "name": "stdout",
     "output_type": "stream",
     "text": [
      "                                                                                                                                                                                                                                                                                                                                                                                                                                                                                                "
     ]
    },
    {
     "name": "stderr",
     "output_type": "stream",
     "text": [
      "04:32:46 - cmdstanpy - INFO - CmdStan done processing.\n",
      "04:32:46 - cmdstanpy - WARNING - Non-fatal error during sampling:\n",
      "Exception: normal_id_glm_lpdf: Scale vector is 0, but must be positive finite! (in 'prophet.stan', line 137, column 2 to line 142, column 4)\n",
      "Exception: normal_id_glm_lpdf: Scale vector is 0, but must be positive finite! (in 'prophet.stan', line 137, column 2 to line 142, column 4)\n",
      "Exception: normal_id_glm_lpdf: Scale vector is 0, but must be positive finite! (in 'prophet.stan', line 137, column 2 to line 142, column 4)\n",
      "Exception: normal_id_glm_lpdf: Scale vector is 0, but must be positive finite! (in 'prophet.stan', line 137, column 2 to line 142, column 4)\n",
      "Consider re-running with show_console=True if the above output is unclear!\n",
      "04:32:46 - cmdstanpy - WARNING - Some chains may have failed to converge.\n",
      "\tChain 1 had 125 iterations at max treedepth (83.3%)\n",
      "\tChain 2 had 118 iterations at max treedepth (78.7%)\n",
      "\tChain 3 had 111 iterations at max treedepth (74.0%)\n",
      "\tChain 4 had 129 iterations at max treedepth (86.0%)\n",
      "\tUse the \"diagnose()\" method on the CmdStanMCMC object to see further information.\n"
     ]
    },
    {
     "name": "stdout",
     "output_type": "stream",
     "text": [
      "\n"
     ]
    },
    {
     "name": "stderr",
     "output_type": "stream",
     "text": [
      "04:32:47 - cmdstanpy - INFO - CmdStan start processing\n"
     ]
    },
    {
     "data": {
      "application/vnd.jupyter.widget-view+json": {
       "model_id": "c910474c9c9f402f92069b529c3b6ee8",
       "version_major": 2,
       "version_minor": 0
      },
      "text/plain": [
       "chain 1 |          | 00:00 Status"
      ]
     },
     "metadata": {},
     "output_type": "display_data"
    },
    {
     "data": {
      "application/vnd.jupyter.widget-view+json": {
       "model_id": "b625c7b313c44c8192e3673eb41b8034",
       "version_major": 2,
       "version_minor": 0
      },
      "text/plain": [
       "chain 2 |          | 00:00 Status"
      ]
     },
     "metadata": {},
     "output_type": "display_data"
    },
    {
     "data": {
      "application/vnd.jupyter.widget-view+json": {
       "model_id": "cdd6c0f59d4b4b839a8f8295842326dd",
       "version_major": 2,
       "version_minor": 0
      },
      "text/plain": [
       "chain 3 |          | 00:00 Status"
      ]
     },
     "metadata": {},
     "output_type": "display_data"
    },
    {
     "data": {
      "application/vnd.jupyter.widget-view+json": {
       "model_id": "fd548274115a4061a8db32db7110c7d6",
       "version_major": 2,
       "version_minor": 0
      },
      "text/plain": [
       "chain 4 |          | 00:00 Status"
      ]
     },
     "metadata": {},
     "output_type": "display_data"
    },
    {
     "name": "stdout",
     "output_type": "stream",
     "text": [
      "                                                                                                                                                                                                                                                                                                                                                                                                                                                                                                "
     ]
    },
    {
     "name": "stderr",
     "output_type": "stream",
     "text": [
      "04:32:53 - cmdstanpy - INFO - CmdStan done processing.\n",
      "04:32:53 - cmdstanpy - WARNING - Non-fatal error during sampling:\n",
      "Exception: normal_id_glm_lpdf: Scale vector is 0, but must be positive finite! (in 'prophet.stan', line 137, column 2 to line 142, column 4)\n",
      "Exception: normal_id_glm_lpdf: Scale vector is 0, but must be positive finite! (in 'prophet.stan', line 137, column 2 to line 142, column 4)\n",
      "Exception: normal_id_glm_lpdf: Scale vector is 0, but must be positive finite! (in 'prophet.stan', line 137, column 2 to line 142, column 4)\n",
      "Exception: normal_id_glm_lpdf: Scale vector is 0, but must be positive finite! (in 'prophet.stan', line 137, column 2 to line 142, column 4)\n",
      "\tException: normal_id_glm_lpdf: Matrix of independent variables is inf, but must be finite! (in 'prophet.stan', line 137, column 2 to line 142, column 4)\n",
      "Consider re-running with show_console=True if the above output is unclear!\n",
      "04:32:54 - cmdstanpy - WARNING - Some chains may have failed to converge.\n",
      "\tChain 1 had 110 iterations at max treedepth (73.3%)\n",
      "\tChain 2 had 121 iterations at max treedepth (80.7%)\n",
      "\tChain 3 had 113 iterations at max treedepth (75.3%)\n",
      "\tChain 4 had 120 iterations at max treedepth (80.0%)\n",
      "\tUse the \"diagnose()\" method on the CmdStanMCMC object to see further information.\n"
     ]
    },
    {
     "name": "stdout",
     "output_type": "stream",
     "text": [
      "\n"
     ]
    },
    {
     "name": "stderr",
     "output_type": "stream",
     "text": [
      "04:32:54 - cmdstanpy - INFO - CmdStan start processing\n"
     ]
    },
    {
     "data": {
      "application/vnd.jupyter.widget-view+json": {
       "model_id": "c1a8b543570f422b8a1f1621b7912cde",
       "version_major": 2,
       "version_minor": 0
      },
      "text/plain": [
       "chain 1 |          | 00:00 Status"
      ]
     },
     "metadata": {},
     "output_type": "display_data"
    },
    {
     "data": {
      "application/vnd.jupyter.widget-view+json": {
       "model_id": "e45df8b49cb545f6a07966a13a74cc67",
       "version_major": 2,
       "version_minor": 0
      },
      "text/plain": [
       "chain 2 |          | 00:00 Status"
      ]
     },
     "metadata": {},
     "output_type": "display_data"
    },
    {
     "data": {
      "application/vnd.jupyter.widget-view+json": {
       "model_id": "33ddcbb2e9dc4f8b94f81c5b72547273",
       "version_major": 2,
       "version_minor": 0
      },
      "text/plain": [
       "chain 3 |          | 00:00 Status"
      ]
     },
     "metadata": {},
     "output_type": "display_data"
    },
    {
     "data": {
      "application/vnd.jupyter.widget-view+json": {
       "model_id": "057a64e915e34e078893a2c75bf57e72",
       "version_major": 2,
       "version_minor": 0
      },
      "text/plain": [
       "chain 4 |          | 00:00 Status"
      ]
     },
     "metadata": {},
     "output_type": "display_data"
    },
    {
     "name": "stdout",
     "output_type": "stream",
     "text": [
      "                                                                                                                                                                                                                                                                                                                                                                                                                                                                                                "
     ]
    },
    {
     "name": "stderr",
     "output_type": "stream",
     "text": [
      "04:33:01 - cmdstanpy - INFO - CmdStan done processing.\n",
      "04:33:01 - cmdstanpy - WARNING - Non-fatal error during sampling:\n",
      "Exception: normal_id_glm_lpdf: Scale vector is 0, but must be positive finite! (in 'prophet.stan', line 137, column 2 to line 142, column 4)\n",
      "Exception: normal_id_glm_lpdf: Scale vector is 0, but must be positive finite! (in 'prophet.stan', line 137, column 2 to line 142, column 4)\n",
      "Exception: normal_id_glm_lpdf: Scale vector is 0, but must be positive finite! (in 'prophet.stan', line 137, column 2 to line 142, column 4)\n",
      "\tException: normal_id_glm_lpdf: Matrix of independent variables is inf, but must be finite! (in 'prophet.stan', line 137, column 2 to line 142, column 4)\n",
      "Exception: normal_id_glm_lpdf: Scale vector is 0, but must be positive finite! (in 'prophet.stan', line 137, column 2 to line 142, column 4)\n",
      "\tException: normal_id_glm_lpdf: Matrix of independent variables is inf, but must be finite! (in 'prophet.stan', line 137, column 2 to line 142, column 4)\n",
      "Consider re-running with show_console=True if the above output is unclear!\n",
      "04:33:01 - cmdstanpy - WARNING - Some chains may have failed to converge.\n",
      "\tChain 1 had 116 iterations at max treedepth (77.3%)\n",
      "\tChain 2 had 113 iterations at max treedepth (75.3%)\n",
      "\tChain 3 had 118 iterations at max treedepth (78.7%)\n",
      "\tChain 4 had 115 iterations at max treedepth (76.7%)\n",
      "\tUse the \"diagnose()\" method on the CmdStanMCMC object to see further information.\n"
     ]
    },
    {
     "name": "stdout",
     "output_type": "stream",
     "text": [
      "\n"
     ]
    },
    {
     "name": "stderr",
     "output_type": "stream",
     "text": [
      "04:33:02 - cmdstanpy - INFO - CmdStan start processing\n"
     ]
    },
    {
     "data": {
      "application/vnd.jupyter.widget-view+json": {
       "model_id": "c3a135e9a8ca43f980305b6ec9f0797b",
       "version_major": 2,
       "version_minor": 0
      },
      "text/plain": [
       "chain 1 |          | 00:00 Status"
      ]
     },
     "metadata": {},
     "output_type": "display_data"
    },
    {
     "data": {
      "application/vnd.jupyter.widget-view+json": {
       "model_id": "5d49a1b30e0045e8a5d9c3ab237b483f",
       "version_major": 2,
       "version_minor": 0
      },
      "text/plain": [
       "chain 2 |          | 00:00 Status"
      ]
     },
     "metadata": {},
     "output_type": "display_data"
    },
    {
     "data": {
      "application/vnd.jupyter.widget-view+json": {
       "model_id": "b840a37f249346b18b5f92830bdc3a91",
       "version_major": 2,
       "version_minor": 0
      },
      "text/plain": [
       "chain 3 |          | 00:00 Status"
      ]
     },
     "metadata": {},
     "output_type": "display_data"
    },
    {
     "data": {
      "application/vnd.jupyter.widget-view+json": {
       "model_id": "4e7b0833053e42c2b9e7a8fb0099b885",
       "version_major": 2,
       "version_minor": 0
      },
      "text/plain": [
       "chain 4 |          | 00:00 Status"
      ]
     },
     "metadata": {},
     "output_type": "display_data"
    },
    {
     "name": "stdout",
     "output_type": "stream",
     "text": [
      "                                                                                                                                                                                                                                                                                                                                                                                                                                                                                                "
     ]
    },
    {
     "name": "stderr",
     "output_type": "stream",
     "text": [
      "04:33:09 - cmdstanpy - INFO - CmdStan done processing.\n",
      "04:33:09 - cmdstanpy - WARNING - Non-fatal error during sampling:\n",
      "Exception: normal_id_glm_lpdf: Scale vector is 0, but must be positive finite! (in 'prophet.stan', line 137, column 2 to line 142, column 4)\n",
      "Exception: normal_id_glm_lpdf: Scale vector is 0, but must be positive finite! (in 'prophet.stan', line 137, column 2 to line 142, column 4)\n",
      "\tException: normal_id_glm_lpdf: Matrix of independent variables is inf, but must be finite! (in 'prophet.stan', line 137, column 2 to line 142, column 4)\n",
      "Exception: normal_id_glm_lpdf: Scale vector is 0, but must be positive finite! (in 'prophet.stan', line 137, column 2 to line 142, column 4)\n",
      "\tException: normal_id_glm_lpdf: Matrix of independent variables is inf, but must be finite! (in 'prophet.stan', line 137, column 2 to line 142, column 4)\n",
      "Exception: normal_id_glm_lpdf: Scale vector is 0, but must be positive finite! (in 'prophet.stan', line 137, column 2 to line 142, column 4)\n",
      "Consider re-running with show_console=True if the above output is unclear!\n",
      "04:33:09 - cmdstanpy - WARNING - Some chains may have failed to converge.\n",
      "\tChain 1 had 115 iterations at max treedepth (76.7%)\n",
      "\tChain 2 had 112 iterations at max treedepth (74.7%)\n",
      "\tChain 3 had 105 iterations at max treedepth (70.0%)\n",
      "\tChain 4 had 121 iterations at max treedepth (80.7%)\n",
      "\tUse the \"diagnose()\" method on the CmdStanMCMC object to see further information.\n"
     ]
    },
    {
     "name": "stdout",
     "output_type": "stream",
     "text": [
      "\n"
     ]
    },
    {
     "name": "stderr",
     "output_type": "stream",
     "text": [
      "04:33:09 - cmdstanpy - INFO - CmdStan start processing\n"
     ]
    },
    {
     "data": {
      "application/vnd.jupyter.widget-view+json": {
       "model_id": "abed0da7e1f6451b9c1f1e310952acce",
       "version_major": 2,
       "version_minor": 0
      },
      "text/plain": [
       "chain 1 |          | 00:00 Status"
      ]
     },
     "metadata": {},
     "output_type": "display_data"
    },
    {
     "data": {
      "application/vnd.jupyter.widget-view+json": {
       "model_id": "df0cb5c3415447989e17fbed190b5c15",
       "version_major": 2,
       "version_minor": 0
      },
      "text/plain": [
       "chain 2 |          | 00:00 Status"
      ]
     },
     "metadata": {},
     "output_type": "display_data"
    },
    {
     "data": {
      "application/vnd.jupyter.widget-view+json": {
       "model_id": "5de9eb0eceaf43f0a1cf2e11d403af1a",
       "version_major": 2,
       "version_minor": 0
      },
      "text/plain": [
       "chain 3 |          | 00:00 Status"
      ]
     },
     "metadata": {},
     "output_type": "display_data"
    },
    {
     "data": {
      "application/vnd.jupyter.widget-view+json": {
       "model_id": "8f74553fe4084b44919880766e25e4b1",
       "version_major": 2,
       "version_minor": 0
      },
      "text/plain": [
       "chain 4 |          | 00:00 Status"
      ]
     },
     "metadata": {},
     "output_type": "display_data"
    },
    {
     "name": "stdout",
     "output_type": "stream",
     "text": [
      "                                                                                                                                                                                                                                                                                                                                                                                                                                                                                                "
     ]
    },
    {
     "name": "stderr",
     "output_type": "stream",
     "text": [
      "04:33:16 - cmdstanpy - INFO - CmdStan done processing.\n",
      "04:33:16 - cmdstanpy - WARNING - Non-fatal error during sampling:\n",
      "Exception: normal_id_glm_lpdf: Scale vector is 0, but must be positive finite! (in 'prophet.stan', line 137, column 2 to line 142, column 4)\n",
      "Exception: normal_id_glm_lpdf: Scale vector is 0, but must be positive finite! (in 'prophet.stan', line 137, column 2 to line 142, column 4)\n",
      "Exception: normal_id_glm_lpdf: Scale vector is 0, but must be positive finite! (in 'prophet.stan', line 137, column 2 to line 142, column 4)\n",
      "\tException: normal_id_glm_lpdf: Matrix of independent variables is inf, but must be finite! (in 'prophet.stan', line 137, column 2 to line 142, column 4)\n",
      "Exception: normal_id_glm_lpdf: Scale vector is 0, but must be positive finite! (in 'prophet.stan', line 137, column 2 to line 142, column 4)\n",
      "Consider re-running with show_console=True if the above output is unclear!\n",
      "04:33:16 - cmdstanpy - WARNING - Some chains may have failed to converge.\n",
      "\tChain 1 had 124 iterations at max treedepth (82.7%)\n",
      "\tChain 2 had 118 iterations at max treedepth (78.7%)\n",
      "\tChain 3 had 122 iterations at max treedepth (81.3%)\n",
      "\tChain 4 had 117 iterations at max treedepth (78.0%)\n",
      "\tUse the \"diagnose()\" method on the CmdStanMCMC object to see further information.\n"
     ]
    },
    {
     "name": "stdout",
     "output_type": "stream",
     "text": [
      "\n"
     ]
    },
    {
     "name": "stderr",
     "output_type": "stream",
     "text": [
      "04:33:16 - cmdstanpy - INFO - CmdStan start processing\n"
     ]
    },
    {
     "data": {
      "application/vnd.jupyter.widget-view+json": {
       "model_id": "0a8be90b612c446fac6f256ef4c921c5",
       "version_major": 2,
       "version_minor": 0
      },
      "text/plain": [
       "chain 1 |          | 00:00 Status"
      ]
     },
     "metadata": {},
     "output_type": "display_data"
    },
    {
     "data": {
      "application/vnd.jupyter.widget-view+json": {
       "model_id": "72516fef17cc44d6a0e899c5a39aff8d",
       "version_major": 2,
       "version_minor": 0
      },
      "text/plain": [
       "chain 2 |          | 00:00 Status"
      ]
     },
     "metadata": {},
     "output_type": "display_data"
    },
    {
     "data": {
      "application/vnd.jupyter.widget-view+json": {
       "model_id": "ea1ae723872b4c9cb9b44dda84e268bc",
       "version_major": 2,
       "version_minor": 0
      },
      "text/plain": [
       "chain 3 |          | 00:00 Status"
      ]
     },
     "metadata": {},
     "output_type": "display_data"
    },
    {
     "data": {
      "application/vnd.jupyter.widget-view+json": {
       "model_id": "36a83494a8d1424b9ad0ae13df45baea",
       "version_major": 2,
       "version_minor": 0
      },
      "text/plain": [
       "chain 4 |          | 00:00 Status"
      ]
     },
     "metadata": {},
     "output_type": "display_data"
    },
    {
     "name": "stdout",
     "output_type": "stream",
     "text": [
      "                                                                                                                                                                                                                                                                                                                                                                                                                                                                                                "
     ]
    },
    {
     "name": "stderr",
     "output_type": "stream",
     "text": [
      "04:33:23 - cmdstanpy - INFO - CmdStan done processing.\n",
      "04:33:23 - cmdstanpy - WARNING - Non-fatal error during sampling:\n",
      "Exception: normal_id_glm_lpdf: Scale vector is 0, but must be positive finite! (in 'prophet.stan', line 137, column 2 to line 142, column 4)\n",
      "\tException: normal_id_glm_lpdf: Matrix of independent variables is inf, but must be finite! (in 'prophet.stan', line 137, column 2 to line 142, column 4)\n",
      "Exception: normal_id_glm_lpdf: Scale vector is 0, but must be positive finite! (in 'prophet.stan', line 137, column 2 to line 142, column 4)\n",
      "Exception: normal_id_glm_lpdf: Scale vector is 0, but must be positive finite! (in 'prophet.stan', line 137, column 2 to line 142, column 4)\n",
      "Exception: normal_id_glm_lpdf: Scale vector is 0, but must be positive finite! (in 'prophet.stan', line 137, column 2 to line 142, column 4)\n",
      "Consider re-running with show_console=True if the above output is unclear!\n",
      "04:33:23 - cmdstanpy - WARNING - Some chains may have failed to converge.\n",
      "\tChain 1 had 129 iterations at max treedepth (86.0%)\n",
      "\tChain 2 had 123 iterations at max treedepth (82.0%)\n",
      "\tChain 3 had 115 iterations at max treedepth (76.7%)\n",
      "\tChain 4 had 111 iterations at max treedepth (74.0%)\n",
      "\tUse the \"diagnose()\" method on the CmdStanMCMC object to see further information.\n"
     ]
    },
    {
     "name": "stdout",
     "output_type": "stream",
     "text": [
      "\n"
     ]
    },
    {
     "name": "stderr",
     "output_type": "stream",
     "text": [
      "04:33:24 - cmdstanpy - INFO - CmdStan start processing\n"
     ]
    },
    {
     "data": {
      "application/vnd.jupyter.widget-view+json": {
       "model_id": "2eb39eea6e56461c97488fd30d5cfbec",
       "version_major": 2,
       "version_minor": 0
      },
      "text/plain": [
       "chain 1 |          | 00:00 Status"
      ]
     },
     "metadata": {},
     "output_type": "display_data"
    },
    {
     "data": {
      "application/vnd.jupyter.widget-view+json": {
       "model_id": "ae23b1d394674fb48a3faa10833d1f77",
       "version_major": 2,
       "version_minor": 0
      },
      "text/plain": [
       "chain 2 |          | 00:00 Status"
      ]
     },
     "metadata": {},
     "output_type": "display_data"
    },
    {
     "data": {
      "application/vnd.jupyter.widget-view+json": {
       "model_id": "59b6efcabeb14a7f8c41a2ec5f534f27",
       "version_major": 2,
       "version_minor": 0
      },
      "text/plain": [
       "chain 3 |          | 00:00 Status"
      ]
     },
     "metadata": {},
     "output_type": "display_data"
    },
    {
     "data": {
      "application/vnd.jupyter.widget-view+json": {
       "model_id": "290b328d516b483588bb850585fb7f8b",
       "version_major": 2,
       "version_minor": 0
      },
      "text/plain": [
       "chain 4 |          | 00:00 Status"
      ]
     },
     "metadata": {},
     "output_type": "display_data"
    },
    {
     "name": "stdout",
     "output_type": "stream",
     "text": [
      "                                                                                                                                                                                                                                                                                                                                                                                                                                                                                                "
     ]
    },
    {
     "name": "stderr",
     "output_type": "stream",
     "text": [
      "04:33:31 - cmdstanpy - INFO - CmdStan done processing.\n",
      "04:33:31 - cmdstanpy - WARNING - Non-fatal error during sampling:\n",
      "Exception: normal_id_glm_lpdf: Scale vector is 0, but must be positive finite! (in 'prophet.stan', line 137, column 2 to line 142, column 4)\n",
      "Exception: normal_id_glm_lpdf: Scale vector is 0, but must be positive finite! (in 'prophet.stan', line 137, column 2 to line 142, column 4)\n",
      "\tException: normal_id_glm_lpdf: Matrix of independent variables is inf, but must be finite! (in 'prophet.stan', line 137, column 2 to line 142, column 4)\n",
      "Exception: normal_id_glm_lpdf: Scale vector is 0, but must be positive finite! (in 'prophet.stan', line 137, column 2 to line 142, column 4)\n",
      "\tException: normal_id_glm_lpdf: Matrix of independent variables is inf, but must be finite! (in 'prophet.stan', line 137, column 2 to line 142, column 4)\n",
      "Exception: normal_id_glm_lpdf: Scale vector is 0, but must be positive finite! (in 'prophet.stan', line 137, column 2 to line 142, column 4)\n",
      "\tException: normal_id_glm_lpdf: Matrix of independent variables is inf, but must be finite! (in 'prophet.stan', line 137, column 2 to line 142, column 4)\n",
      "Consider re-running with show_console=True if the above output is unclear!\n",
      "04:33:31 - cmdstanpy - WARNING - Some chains may have failed to converge.\n",
      "\tChain 1 had 123 iterations at max treedepth (82.0%)\n",
      "\tChain 2 had 106 iterations at max treedepth (70.7%)\n",
      "\tChain 3 had 117 iterations at max treedepth (78.0%)\n",
      "\tChain 4 had 130 iterations at max treedepth (86.7%)\n",
      "\tUse the \"diagnose()\" method on the CmdStanMCMC object to see further information.\n"
     ]
    },
    {
     "name": "stdout",
     "output_type": "stream",
     "text": [
      "\n"
     ]
    },
    {
     "name": "stderr",
     "output_type": "stream",
     "text": [
      "04:33:32 - cmdstanpy - INFO - CmdStan start processing\n"
     ]
    },
    {
     "data": {
      "application/vnd.jupyter.widget-view+json": {
       "model_id": "4f86d362c8d64a22bc2c0bc905d59cb1",
       "version_major": 2,
       "version_minor": 0
      },
      "text/plain": [
       "chain 1 |          | 00:00 Status"
      ]
     },
     "metadata": {},
     "output_type": "display_data"
    },
    {
     "data": {
      "application/vnd.jupyter.widget-view+json": {
       "model_id": "55530ccc6b914edd82291767fcf7fe99",
       "version_major": 2,
       "version_minor": 0
      },
      "text/plain": [
       "chain 2 |          | 00:00 Status"
      ]
     },
     "metadata": {},
     "output_type": "display_data"
    },
    {
     "data": {
      "application/vnd.jupyter.widget-view+json": {
       "model_id": "c13b8098868d46bda4f296818d4638ff",
       "version_major": 2,
       "version_minor": 0
      },
      "text/plain": [
       "chain 3 |          | 00:00 Status"
      ]
     },
     "metadata": {},
     "output_type": "display_data"
    },
    {
     "data": {
      "application/vnd.jupyter.widget-view+json": {
       "model_id": "746fd25ea7cd47c989ae3afe508a18d9",
       "version_major": 2,
       "version_minor": 0
      },
      "text/plain": [
       "chain 4 |          | 00:00 Status"
      ]
     },
     "metadata": {},
     "output_type": "display_data"
    },
    {
     "name": "stdout",
     "output_type": "stream",
     "text": [
      "                                                                                                                                                                                                                                                                                                                                                                                                                                                                                                "
     ]
    },
    {
     "name": "stderr",
     "output_type": "stream",
     "text": [
      "04:33:38 - cmdstanpy - INFO - CmdStan done processing.\n",
      "04:33:38 - cmdstanpy - WARNING - Non-fatal error during sampling:\n",
      "Exception: normal_id_glm_lpdf: Scale vector is 0, but must be positive finite! (in 'prophet.stan', line 137, column 2 to line 142, column 4)\n",
      "Exception: normal_id_glm_lpdf: Scale vector is 0, but must be positive finite! (in 'prophet.stan', line 137, column 2 to line 142, column 4)\n",
      "\tException: normal_id_glm_lpdf: Matrix of independent variables is inf, but must be finite! (in 'prophet.stan', line 137, column 2 to line 142, column 4)\n",
      "Exception: normal_id_glm_lpdf: Scale vector is 0, but must be positive finite! (in 'prophet.stan', line 137, column 2 to line 142, column 4)\n",
      "Exception: normal_id_glm_lpdf: Scale vector is 0, but must be positive finite! (in 'prophet.stan', line 137, column 2 to line 142, column 4)\n",
      "Consider re-running with show_console=True if the above output is unclear!\n",
      "04:33:38 - cmdstanpy - WARNING - Some chains may have failed to converge.\n",
      "\tChain 1 had 124 iterations at max treedepth (82.7%)\n",
      "\tChain 2 had 127 iterations at max treedepth (84.7%)\n",
      "\tChain 3 had 125 iterations at max treedepth (83.3%)\n",
      "\tChain 4 had 115 iterations at max treedepth (76.7%)\n",
      "\tUse the \"diagnose()\" method on the CmdStanMCMC object to see further information.\n"
     ]
    },
    {
     "name": "stdout",
     "output_type": "stream",
     "text": [
      "\n"
     ]
    },
    {
     "name": "stderr",
     "output_type": "stream",
     "text": [
      "04:33:39 - cmdstanpy - INFO - CmdStan start processing\n"
     ]
    },
    {
     "data": {
      "application/vnd.jupyter.widget-view+json": {
       "model_id": "772cde2ad9ee4abab197339ac556dc01",
       "version_major": 2,
       "version_minor": 0
      },
      "text/plain": [
       "chain 1 |          | 00:00 Status"
      ]
     },
     "metadata": {},
     "output_type": "display_data"
    },
    {
     "data": {
      "application/vnd.jupyter.widget-view+json": {
       "model_id": "93d3c87f171649828678af6a90cc1b7e",
       "version_major": 2,
       "version_minor": 0
      },
      "text/plain": [
       "chain 2 |          | 00:00 Status"
      ]
     },
     "metadata": {},
     "output_type": "display_data"
    },
    {
     "data": {
      "application/vnd.jupyter.widget-view+json": {
       "model_id": "85db5a9a22a24dfbacf2917d32a84701",
       "version_major": 2,
       "version_minor": 0
      },
      "text/plain": [
       "chain 3 |          | 00:00 Status"
      ]
     },
     "metadata": {},
     "output_type": "display_data"
    },
    {
     "data": {
      "application/vnd.jupyter.widget-view+json": {
       "model_id": "5da330436d534722bc69a37841715f10",
       "version_major": 2,
       "version_minor": 0
      },
      "text/plain": [
       "chain 4 |          | 00:00 Status"
      ]
     },
     "metadata": {},
     "output_type": "display_data"
    },
    {
     "name": "stdout",
     "output_type": "stream",
     "text": [
      "                                                                                                                                                                                                                                                                                                                                                                                                                                                                                                "
     ]
    },
    {
     "name": "stderr",
     "output_type": "stream",
     "text": [
      "04:33:45 - cmdstanpy - INFO - CmdStan done processing.\n",
      "04:33:45 - cmdstanpy - WARNING - Non-fatal error during sampling:\n",
      "Exception: normal_id_glm_lpdf: Scale vector is 0, but must be positive finite! (in 'prophet.stan', line 137, column 2 to line 142, column 4)\n",
      "\tException: normal_id_glm_lpdf: Matrix of independent variables is inf, but must be finite! (in 'prophet.stan', line 137, column 2 to line 142, column 4)\n",
      "Exception: normal_id_glm_lpdf: Scale vector is 0, but must be positive finite! (in 'prophet.stan', line 137, column 2 to line 142, column 4)\n",
      "Exception: normal_id_glm_lpdf: Scale vector is 0, but must be positive finite! (in 'prophet.stan', line 137, column 2 to line 142, column 4)\n",
      "Exception: normal_id_glm_lpdf: Scale vector is 0, but must be positive finite! (in 'prophet.stan', line 137, column 2 to line 142, column 4)\n",
      "Consider re-running with show_console=True if the above output is unclear!\n",
      "04:33:45 - cmdstanpy - WARNING - Some chains may have failed to converge.\n",
      "\tChain 1 had 114 iterations at max treedepth (76.0%)\n",
      "\tChain 2 had 117 iterations at max treedepth (78.0%)\n",
      "\tChain 3 had 102 iterations at max treedepth (68.0%)\n",
      "\tChain 4 had 104 iterations at max treedepth (69.3%)\n",
      "\tUse the \"diagnose()\" method on the CmdStanMCMC object to see further information.\n"
     ]
    },
    {
     "name": "stdout",
     "output_type": "stream",
     "text": [
      "\n"
     ]
    },
    {
     "name": "stderr",
     "output_type": "stream",
     "text": [
      "04:33:46 - cmdstanpy - INFO - CmdStan start processing\n"
     ]
    },
    {
     "data": {
      "application/vnd.jupyter.widget-view+json": {
       "model_id": "874ff827904444809f453ff16f28aaf3",
       "version_major": 2,
       "version_minor": 0
      },
      "text/plain": [
       "chain 1 |          | 00:00 Status"
      ]
     },
     "metadata": {},
     "output_type": "display_data"
    },
    {
     "data": {
      "application/vnd.jupyter.widget-view+json": {
       "model_id": "6ccd22b7d82c49d9940633175b657b09",
       "version_major": 2,
       "version_minor": 0
      },
      "text/plain": [
       "chain 2 |          | 00:00 Status"
      ]
     },
     "metadata": {},
     "output_type": "display_data"
    },
    {
     "data": {
      "application/vnd.jupyter.widget-view+json": {
       "model_id": "16674da6e0e34f74a00627cb8d0c7732",
       "version_major": 2,
       "version_minor": 0
      },
      "text/plain": [
       "chain 3 |          | 00:00 Status"
      ]
     },
     "metadata": {},
     "output_type": "display_data"
    },
    {
     "data": {
      "application/vnd.jupyter.widget-view+json": {
       "model_id": "ce51b47972064777add66c3c95e4f1eb",
       "version_major": 2,
       "version_minor": 0
      },
      "text/plain": [
       "chain 4 |          | 00:00 Status"
      ]
     },
     "metadata": {},
     "output_type": "display_data"
    },
    {
     "name": "stdout",
     "output_type": "stream",
     "text": [
      "                                                                                                                                                                                                                                                                                                                                                                                                                                                                                                "
     ]
    },
    {
     "name": "stderr",
     "output_type": "stream",
     "text": [
      "04:33:53 - cmdstanpy - INFO - CmdStan done processing.\n",
      "04:33:53 - cmdstanpy - WARNING - Non-fatal error during sampling:\n",
      "Exception: normal_id_glm_lpdf: Scale vector is 0, but must be positive finite! (in 'prophet.stan', line 137, column 2 to line 142, column 4)\n",
      "Exception: normal_id_glm_lpdf: Scale vector is 0, but must be positive finite! (in 'prophet.stan', line 137, column 2 to line 142, column 4)\n",
      "Exception: normal_id_glm_lpdf: Scale vector is 0, but must be positive finite! (in 'prophet.stan', line 137, column 2 to line 142, column 4)\n",
      "Exception: normal_id_glm_lpdf: Scale vector is 0, but must be positive finite! (in 'prophet.stan', line 137, column 2 to line 142, column 4)\n",
      "\tException: normal_id_glm_lpdf: Matrix of independent variables is inf, but must be finite! (in 'prophet.stan', line 137, column 2 to line 142, column 4)\n",
      "Consider re-running with show_console=True if the above output is unclear!\n",
      "04:33:53 - cmdstanpy - WARNING - Some chains may have failed to converge.\n",
      "\tChain 1 had 103 iterations at max treedepth (68.7%)\n",
      "\tChain 2 had 109 iterations at max treedepth (72.7%)\n",
      "\tChain 3 had 102 iterations at max treedepth (68.0%)\n",
      "\tChain 4 had 120 iterations at max treedepth (80.0%)\n",
      "\tUse the \"diagnose()\" method on the CmdStanMCMC object to see further information.\n"
     ]
    },
    {
     "name": "stdout",
     "output_type": "stream",
     "text": [
      "\n"
     ]
    },
    {
     "name": "stderr",
     "output_type": "stream",
     "text": [
      "04:33:54 - cmdstanpy - INFO - CmdStan start processing\n"
     ]
    },
    {
     "data": {
      "application/vnd.jupyter.widget-view+json": {
       "model_id": "4ac8e6ae0c244f3c82956751ab8a4f00",
       "version_major": 2,
       "version_minor": 0
      },
      "text/plain": [
       "chain 1 |          | 00:00 Status"
      ]
     },
     "metadata": {},
     "output_type": "display_data"
    },
    {
     "data": {
      "application/vnd.jupyter.widget-view+json": {
       "model_id": "a7e9683acb3c408f8d7a39f7395129f5",
       "version_major": 2,
       "version_minor": 0
      },
      "text/plain": [
       "chain 2 |          | 00:00 Status"
      ]
     },
     "metadata": {},
     "output_type": "display_data"
    },
    {
     "data": {
      "application/vnd.jupyter.widget-view+json": {
       "model_id": "fc7ab704e5d04d20bf38338f7cfb828b",
       "version_major": 2,
       "version_minor": 0
      },
      "text/plain": [
       "chain 3 |          | 00:00 Status"
      ]
     },
     "metadata": {},
     "output_type": "display_data"
    },
    {
     "data": {
      "application/vnd.jupyter.widget-view+json": {
       "model_id": "a2e9b2affe9747b8a6ce7529b036f033",
       "version_major": 2,
       "version_minor": 0
      },
      "text/plain": [
       "chain 4 |          | 00:00 Status"
      ]
     },
     "metadata": {},
     "output_type": "display_data"
    },
    {
     "name": "stdout",
     "output_type": "stream",
     "text": [
      "                                                                                                                                                                                                                                                                                                                                                                                                                                                                                                "
     ]
    },
    {
     "name": "stderr",
     "output_type": "stream",
     "text": [
      "04:34:00 - cmdstanpy - INFO - CmdStan done processing.\n",
      "04:34:00 - cmdstanpy - WARNING - Non-fatal error during sampling:\n",
      "Exception: normal_id_glm_lpdf: Scale vector is 0, but must be positive finite! (in 'prophet.stan', line 137, column 2 to line 142, column 4)\n",
      "Exception: normal_id_glm_lpdf: Scale vector is 0, but must be positive finite! (in 'prophet.stan', line 137, column 2 to line 142, column 4)\n",
      "\tException: normal_id_glm_lpdf: Matrix of independent variables is inf, but must be finite! (in 'prophet.stan', line 137, column 2 to line 142, column 4)\n",
      "Exception: normal_id_glm_lpdf: Scale vector is 0, but must be positive finite! (in 'prophet.stan', line 137, column 2 to line 142, column 4)\n",
      "Exception: normal_id_glm_lpdf: Scale vector is 0, but must be positive finite! (in 'prophet.stan', line 137, column 2 to line 142, column 4)\n",
      "Consider re-running with show_console=True if the above output is unclear!\n",
      "04:34:00 - cmdstanpy - WARNING - Some chains may have failed to converge.\n",
      "\tChain 1 had 102 iterations at max treedepth (68.0%)\n",
      "\tChain 2 had 118 iterations at max treedepth (78.7%)\n",
      "\tChain 3 had 114 iterations at max treedepth (76.0%)\n",
      "\tChain 4 had 125 iterations at max treedepth (83.3%)\n",
      "\tUse the \"diagnose()\" method on the CmdStanMCMC object to see further information.\n"
     ]
    },
    {
     "name": "stdout",
     "output_type": "stream",
     "text": [
      "\n"
     ]
    },
    {
     "name": "stderr",
     "output_type": "stream",
     "text": [
      "04:34:01 - cmdstanpy - INFO - CmdStan start processing\n"
     ]
    },
    {
     "data": {
      "application/vnd.jupyter.widget-view+json": {
       "model_id": "fe5b56e9d4794b52ad4a683ff7319d2e",
       "version_major": 2,
       "version_minor": 0
      },
      "text/plain": [
       "chain 1 |          | 00:00 Status"
      ]
     },
     "metadata": {},
     "output_type": "display_data"
    },
    {
     "data": {
      "application/vnd.jupyter.widget-view+json": {
       "model_id": "970ab7c4ae654e60beb40110b755a5d0",
       "version_major": 2,
       "version_minor": 0
      },
      "text/plain": [
       "chain 2 |          | 00:00 Status"
      ]
     },
     "metadata": {},
     "output_type": "display_data"
    },
    {
     "data": {
      "application/vnd.jupyter.widget-view+json": {
       "model_id": "0d66b557c9d046f3acdb44a198a56143",
       "version_major": 2,
       "version_minor": 0
      },
      "text/plain": [
       "chain 3 |          | 00:00 Status"
      ]
     },
     "metadata": {},
     "output_type": "display_data"
    },
    {
     "data": {
      "application/vnd.jupyter.widget-view+json": {
       "model_id": "dedd8e782a8c4fa59427432c898ad29e",
       "version_major": 2,
       "version_minor": 0
      },
      "text/plain": [
       "chain 4 |          | 00:00 Status"
      ]
     },
     "metadata": {},
     "output_type": "display_data"
    },
    {
     "name": "stdout",
     "output_type": "stream",
     "text": [
      "                                                                                                                                                                                                                                                                                                                                                                                                                                                                                                "
     ]
    },
    {
     "name": "stderr",
     "output_type": "stream",
     "text": [
      "04:34:08 - cmdstanpy - INFO - CmdStan done processing.\n",
      "04:34:08 - cmdstanpy - WARNING - Non-fatal error during sampling:\n",
      "Exception: normal_id_glm_lpdf: Scale vector is 0, but must be positive finite! (in 'prophet.stan', line 137, column 2 to line 142, column 4)\n",
      "Exception: normal_id_glm_lpdf: Scale vector is 0, but must be positive finite! (in 'prophet.stan', line 137, column 2 to line 142, column 4)\n",
      "Exception: normal_id_glm_lpdf: Scale vector is 0, but must be positive finite! (in 'prophet.stan', line 137, column 2 to line 142, column 4)\n",
      "Exception: normal_id_glm_lpdf: Scale vector is 0, but must be positive finite! (in 'prophet.stan', line 137, column 2 to line 142, column 4)\n",
      "Consider re-running with show_console=True if the above output is unclear!\n",
      "04:34:08 - cmdstanpy - WARNING - Some chains may have failed to converge.\n",
      "\tChain 1 had 110 iterations at max treedepth (73.3%)\n",
      "\tChain 2 had 126 iterations at max treedepth (84.0%)\n",
      "\tChain 3 had 114 iterations at max treedepth (76.0%)\n",
      "\tChain 4 had 90 iterations at max treedepth (60.0%)\n",
      "\tUse the \"diagnose()\" method on the CmdStanMCMC object to see further information.\n"
     ]
    },
    {
     "name": "stdout",
     "output_type": "stream",
     "text": [
      "\n"
     ]
    },
    {
     "name": "stderr",
     "output_type": "stream",
     "text": [
      "04:34:08 - cmdstanpy - INFO - CmdStan start processing\n"
     ]
    },
    {
     "data": {
      "application/vnd.jupyter.widget-view+json": {
       "model_id": "9d2b71c021b242e1a2d70f9e3f3b5b1d",
       "version_major": 2,
       "version_minor": 0
      },
      "text/plain": [
       "chain 1 |          | 00:00 Status"
      ]
     },
     "metadata": {},
     "output_type": "display_data"
    },
    {
     "data": {
      "application/vnd.jupyter.widget-view+json": {
       "model_id": "b4f2414d655c443aac7d4cc141e807fa",
       "version_major": 2,
       "version_minor": 0
      },
      "text/plain": [
       "chain 2 |          | 00:00 Status"
      ]
     },
     "metadata": {},
     "output_type": "display_data"
    },
    {
     "data": {
      "application/vnd.jupyter.widget-view+json": {
       "model_id": "f36c356b56ea4d6a85b240ba4dbf5ddf",
       "version_major": 2,
       "version_minor": 0
      },
      "text/plain": [
       "chain 3 |          | 00:00 Status"
      ]
     },
     "metadata": {},
     "output_type": "display_data"
    },
    {
     "data": {
      "application/vnd.jupyter.widget-view+json": {
       "model_id": "93243e8e0f75408ba7338256ec6f2383",
       "version_major": 2,
       "version_minor": 0
      },
      "text/plain": [
       "chain 4 |          | 00:00 Status"
      ]
     },
     "metadata": {},
     "output_type": "display_data"
    },
    {
     "name": "stdout",
     "output_type": "stream",
     "text": [
      "                                                                                                                                                                                                                                                                                                                                                                                                                                                                                                "
     ]
    },
    {
     "name": "stderr",
     "output_type": "stream",
     "text": [
      "04:34:15 - cmdstanpy - INFO - CmdStan done processing.\n",
      "04:34:15 - cmdstanpy - WARNING - Non-fatal error during sampling:\n",
      "Exception: normal_id_glm_lpdf: Scale vector is 0, but must be positive finite! (in 'prophet.stan', line 137, column 2 to line 142, column 4)\n",
      "Exception: normal_id_glm_lpdf: Scale vector is 0, but must be positive finite! (in 'prophet.stan', line 137, column 2 to line 142, column 4)\n",
      "\tException: normal_id_glm_lpdf: Matrix of independent variables is inf, but must be finite! (in 'prophet.stan', line 137, column 2 to line 142, column 4)\n",
      "Exception: normal_id_glm_lpdf: Scale vector is 0, but must be positive finite! (in 'prophet.stan', line 137, column 2 to line 142, column 4)\n",
      "Exception: normal_id_glm_lpdf: Scale vector is 0, but must be positive finite! (in 'prophet.stan', line 137, column 2 to line 142, column 4)\n",
      "Consider re-running with show_console=True if the above output is unclear!\n",
      "04:34:15 - cmdstanpy - WARNING - Some chains may have failed to converge.\n",
      "\tChain 1 had 120 iterations at max treedepth (80.0%)\n",
      "\tChain 2 had 112 iterations at max treedepth (74.7%)\n",
      "\tChain 3 had 119 iterations at max treedepth (79.3%)\n",
      "\tChain 4 had 113 iterations at max treedepth (75.3%)\n",
      "\tUse the \"diagnose()\" method on the CmdStanMCMC object to see further information.\n"
     ]
    },
    {
     "name": "stdout",
     "output_type": "stream",
     "text": [
      "\n"
     ]
    },
    {
     "name": "stderr",
     "output_type": "stream",
     "text": [
      "04:34:16 - cmdstanpy - INFO - CmdStan start processing\n"
     ]
    },
    {
     "data": {
      "application/vnd.jupyter.widget-view+json": {
       "model_id": "8b2cbe01bc444faeafe29d87a1c69d3f",
       "version_major": 2,
       "version_minor": 0
      },
      "text/plain": [
       "chain 1 |          | 00:00 Status"
      ]
     },
     "metadata": {},
     "output_type": "display_data"
    },
    {
     "data": {
      "application/vnd.jupyter.widget-view+json": {
       "model_id": "8f86e8e923174f0280926769538bd61d",
       "version_major": 2,
       "version_minor": 0
      },
      "text/plain": [
       "chain 2 |          | 00:00 Status"
      ]
     },
     "metadata": {},
     "output_type": "display_data"
    },
    {
     "data": {
      "application/vnd.jupyter.widget-view+json": {
       "model_id": "a53ac85d49e04a6692d9e99250b574b3",
       "version_major": 2,
       "version_minor": 0
      },
      "text/plain": [
       "chain 3 |          | 00:00 Status"
      ]
     },
     "metadata": {},
     "output_type": "display_data"
    },
    {
     "data": {
      "application/vnd.jupyter.widget-view+json": {
       "model_id": "ac5e415f303f4e999a5bedd509f3836a",
       "version_major": 2,
       "version_minor": 0
      },
      "text/plain": [
       "chain 4 |          | 00:00 Status"
      ]
     },
     "metadata": {},
     "output_type": "display_data"
    },
    {
     "name": "stdout",
     "output_type": "stream",
     "text": [
      "                                                                                                                                                                                                                                                                                                                                                                                                                                                                                                "
     ]
    },
    {
     "name": "stderr",
     "output_type": "stream",
     "text": [
      "04:34:23 - cmdstanpy - INFO - CmdStan done processing.\n",
      "04:34:23 - cmdstanpy - WARNING - Non-fatal error during sampling:\n",
      "Exception: normal_id_glm_lpdf: Scale vector is 0, but must be positive finite! (in 'prophet.stan', line 137, column 2 to line 142, column 4)\n",
      "Exception: normal_id_glm_lpdf: Scale vector is 0, but must be positive finite! (in 'prophet.stan', line 137, column 2 to line 142, column 4)\n",
      "Exception: normal_id_glm_lpdf: Scale vector is 0, but must be positive finite! (in 'prophet.stan', line 137, column 2 to line 142, column 4)\n",
      "Exception: normal_id_glm_lpdf: Scale vector is 0, but must be positive finite! (in 'prophet.stan', line 137, column 2 to line 142, column 4)\n",
      "\tException: normal_id_glm_lpdf: Matrix of independent variables is inf, but must be finite! (in 'prophet.stan', line 137, column 2 to line 142, column 4)\n",
      "Consider re-running with show_console=True if the above output is unclear!\n",
      "04:34:23 - cmdstanpy - WARNING - Some chains may have failed to converge.\n",
      "\tChain 1 had 118 iterations at max treedepth (78.7%)\n",
      "\tChain 2 had 110 iterations at max treedepth (73.3%)\n",
      "\tChain 3 had 118 iterations at max treedepth (78.7%)\n",
      "\tChain 4 had 130 iterations at max treedepth (86.7%)\n",
      "\tUse the \"diagnose()\" method on the CmdStanMCMC object to see further information.\n"
     ]
    },
    {
     "name": "stdout",
     "output_type": "stream",
     "text": [
      "\n"
     ]
    },
    {
     "name": "stderr",
     "output_type": "stream",
     "text": [
      "04:34:24 - cmdstanpy - INFO - CmdStan start processing\n"
     ]
    },
    {
     "data": {
      "application/vnd.jupyter.widget-view+json": {
       "model_id": "44510f7f2f5a43f6a11fd2d50916eac0",
       "version_major": 2,
       "version_minor": 0
      },
      "text/plain": [
       "chain 1 |          | 00:00 Status"
      ]
     },
     "metadata": {},
     "output_type": "display_data"
    },
    {
     "data": {
      "application/vnd.jupyter.widget-view+json": {
       "model_id": "3eb3bce44b114474af58c20f343f2421",
       "version_major": 2,
       "version_minor": 0
      },
      "text/plain": [
       "chain 2 |          | 00:00 Status"
      ]
     },
     "metadata": {},
     "output_type": "display_data"
    },
    {
     "data": {
      "application/vnd.jupyter.widget-view+json": {
       "model_id": "5448da27b7d64338ab9b5d6bdced8bde",
       "version_major": 2,
       "version_minor": 0
      },
      "text/plain": [
       "chain 3 |          | 00:00 Status"
      ]
     },
     "metadata": {},
     "output_type": "display_data"
    },
    {
     "data": {
      "application/vnd.jupyter.widget-view+json": {
       "model_id": "6058f2cee74f44c7bc23b3692229e6d8",
       "version_major": 2,
       "version_minor": 0
      },
      "text/plain": [
       "chain 4 |          | 00:00 Status"
      ]
     },
     "metadata": {},
     "output_type": "display_data"
    },
    {
     "name": "stdout",
     "output_type": "stream",
     "text": [
      "                                                                                                                                                                                                                                                                                                                                                                                                                                                                                                "
     ]
    },
    {
     "name": "stderr",
     "output_type": "stream",
     "text": [
      "04:34:31 - cmdstanpy - INFO - CmdStan done processing.\n",
      "04:34:31 - cmdstanpy - WARNING - Non-fatal error during sampling:\n",
      "Exception: normal_id_glm_lpdf: Scale vector is 0, but must be positive finite! (in 'prophet.stan', line 137, column 2 to line 142, column 4)\n",
      "\tException: normal_id_glm_lpdf: Matrix of independent variables is inf, but must be finite! (in 'prophet.stan', line 137, column 2 to line 142, column 4)\n",
      "Exception: normal_id_glm_lpdf: Scale vector is 0, but must be positive finite! (in 'prophet.stan', line 137, column 2 to line 142, column 4)\n",
      "Exception: normal_id_glm_lpdf: Scale vector is 0, but must be positive finite! (in 'prophet.stan', line 137, column 2 to line 142, column 4)\n",
      "Exception: normal_id_glm_lpdf: Scale vector is 0, but must be positive finite! (in 'prophet.stan', line 137, column 2 to line 142, column 4)\n",
      "\tException: normal_id_glm_lpdf: Matrix of independent variables is inf, but must be finite! (in 'prophet.stan', line 137, column 2 to line 142, column 4)\n",
      "Consider re-running with show_console=True if the above output is unclear!\n",
      "04:34:31 - cmdstanpy - WARNING - Some chains may have failed to converge.\n",
      "\tChain 1 had 108 iterations at max treedepth (72.0%)\n",
      "\tChain 2 had 102 iterations at max treedepth (68.0%)\n",
      "\tChain 3 had 112 iterations at max treedepth (74.7%)\n",
      "\tChain 4 had 113 iterations at max treedepth (75.3%)\n",
      "\tUse the \"diagnose()\" method on the CmdStanMCMC object to see further information.\n"
     ]
    },
    {
     "name": "stdout",
     "output_type": "stream",
     "text": [
      "\n"
     ]
    },
    {
     "name": "stderr",
     "output_type": "stream",
     "text": [
      "04:34:31 - cmdstanpy - INFO - CmdStan start processing\n"
     ]
    },
    {
     "data": {
      "application/vnd.jupyter.widget-view+json": {
       "model_id": "2c4c7258a75c401a85643402b4f14f2f",
       "version_major": 2,
       "version_minor": 0
      },
      "text/plain": [
       "chain 1 |          | 00:00 Status"
      ]
     },
     "metadata": {},
     "output_type": "display_data"
    },
    {
     "data": {
      "application/vnd.jupyter.widget-view+json": {
       "model_id": "1e062a586c8347c9b6c8d09909a23a65",
       "version_major": 2,
       "version_minor": 0
      },
      "text/plain": [
       "chain 2 |          | 00:00 Status"
      ]
     },
     "metadata": {},
     "output_type": "display_data"
    },
    {
     "data": {
      "application/vnd.jupyter.widget-view+json": {
       "model_id": "6c5852e404284fddac943095cd056bde",
       "version_major": 2,
       "version_minor": 0
      },
      "text/plain": [
       "chain 3 |          | 00:00 Status"
      ]
     },
     "metadata": {},
     "output_type": "display_data"
    },
    {
     "data": {
      "application/vnd.jupyter.widget-view+json": {
       "model_id": "89d1276c668e4701a2c2010d0fbaca93",
       "version_major": 2,
       "version_minor": 0
      },
      "text/plain": [
       "chain 4 |          | 00:00 Status"
      ]
     },
     "metadata": {},
     "output_type": "display_data"
    },
    {
     "name": "stdout",
     "output_type": "stream",
     "text": [
      "                                                                                                                                                                                                                                                                                                                                                                                                                                                                                                "
     ]
    },
    {
     "name": "stderr",
     "output_type": "stream",
     "text": [
      "04:34:38 - cmdstanpy - INFO - CmdStan done processing.\n",
      "04:34:38 - cmdstanpy - WARNING - Non-fatal error during sampling:\n",
      "Exception: normal_id_glm_lpdf: Scale vector is 0, but must be positive finite! (in 'prophet.stan', line 137, column 2 to line 142, column 4)\n",
      "Exception: normal_id_glm_lpdf: Scale vector is 0, but must be positive finite! (in 'prophet.stan', line 137, column 2 to line 142, column 4)\n",
      "Exception: normal_id_glm_lpdf: Scale vector is 0, but must be positive finite! (in 'prophet.stan', line 137, column 2 to line 142, column 4)\n",
      "Exception: normal_id_glm_lpdf: Scale vector is 0, but must be positive finite! (in 'prophet.stan', line 137, column 2 to line 142, column 4)\n",
      "\tException: normal_id_glm_lpdf: Matrix of independent variables is inf, but must be finite! (in 'prophet.stan', line 137, column 2 to line 142, column 4)\n",
      "Consider re-running with show_console=True if the above output is unclear!\n",
      "04:34:38 - cmdstanpy - WARNING - Some chains may have failed to converge.\n",
      "\tChain 1 had 119 iterations at max treedepth (79.3%)\n",
      "\tChain 2 had 112 iterations at max treedepth (74.7%)\n",
      "\tChain 3 had 123 iterations at max treedepth (82.0%)\n",
      "\tChain 4 had 108 iterations at max treedepth (72.0%)\n",
      "\tUse the \"diagnose()\" method on the CmdStanMCMC object to see further information.\n"
     ]
    },
    {
     "name": "stdout",
     "output_type": "stream",
     "text": [
      "\n"
     ]
    },
    {
     "name": "stderr",
     "output_type": "stream",
     "text": [
      "04:34:39 - cmdstanpy - INFO - CmdStan start processing\n"
     ]
    },
    {
     "data": {
      "application/vnd.jupyter.widget-view+json": {
       "model_id": "7b2c9d01e15a4a56916dcebbdff59af4",
       "version_major": 2,
       "version_minor": 0
      },
      "text/plain": [
       "chain 1 |          | 00:00 Status"
      ]
     },
     "metadata": {},
     "output_type": "display_data"
    },
    {
     "data": {
      "application/vnd.jupyter.widget-view+json": {
       "model_id": "887590bc092f445a81cf634504b3b783",
       "version_major": 2,
       "version_minor": 0
      },
      "text/plain": [
       "chain 2 |          | 00:00 Status"
      ]
     },
     "metadata": {},
     "output_type": "display_data"
    },
    {
     "data": {
      "application/vnd.jupyter.widget-view+json": {
       "model_id": "ed377aba8cc94f94a376f59196b64922",
       "version_major": 2,
       "version_minor": 0
      },
      "text/plain": [
       "chain 3 |          | 00:00 Status"
      ]
     },
     "metadata": {},
     "output_type": "display_data"
    },
    {
     "data": {
      "application/vnd.jupyter.widget-view+json": {
       "model_id": "9844ce6379e64afcb8ef8821c8ba00a2",
       "version_major": 2,
       "version_minor": 0
      },
      "text/plain": [
       "chain 4 |          | 00:00 Status"
      ]
     },
     "metadata": {},
     "output_type": "display_data"
    },
    {
     "name": "stdout",
     "output_type": "stream",
     "text": [
      "                                                                                                                                                                                                                                                                                                                                                                                                                                                                                                "
     ]
    },
    {
     "name": "stderr",
     "output_type": "stream",
     "text": [
      "04:34:46 - cmdstanpy - INFO - CmdStan done processing.\n",
      "04:34:46 - cmdstanpy - WARNING - Non-fatal error during sampling:\n",
      "Exception: normal_id_glm_lpdf: Scale vector is 0, but must be positive finite! (in 'prophet.stan', line 137, column 2 to line 142, column 4)\n",
      "Exception: normal_id_glm_lpdf: Scale vector is 0, but must be positive finite! (in 'prophet.stan', line 137, column 2 to line 142, column 4)\n",
      "\tException: normal_id_glm_lpdf: Matrix of independent variables is inf, but must be finite! (in 'prophet.stan', line 137, column 2 to line 142, column 4)\n",
      "Exception: normal_id_glm_lpdf: Scale vector is 0, but must be positive finite! (in 'prophet.stan', line 137, column 2 to line 142, column 4)\n",
      "Exception: normal_id_glm_lpdf: Scale vector is 0, but must be positive finite! (in 'prophet.stan', line 137, column 2 to line 142, column 4)\n",
      "\tException: normal_id_glm_lpdf: Matrix of independent variables is inf, but must be finite! (in 'prophet.stan', line 137, column 2 to line 142, column 4)\n",
      "Consider re-running with show_console=True if the above output is unclear!\n",
      "04:34:46 - cmdstanpy - WARNING - Some chains may have failed to converge.\n",
      "\tChain 1 had 127 iterations at max treedepth (84.7%)\n",
      "\tChain 2 had 118 iterations at max treedepth (78.7%)\n",
      "\tChain 3 had 98 iterations at max treedepth (65.3%)\n",
      "\tChain 4 had 106 iterations at max treedepth (70.7%)\n",
      "\tUse the \"diagnose()\" method on the CmdStanMCMC object to see further information.\n"
     ]
    },
    {
     "name": "stdout",
     "output_type": "stream",
     "text": [
      "\n"
     ]
    },
    {
     "name": "stderr",
     "output_type": "stream",
     "text": [
      "04:34:46 - cmdstanpy - INFO - CmdStan start processing\n"
     ]
    },
    {
     "data": {
      "application/vnd.jupyter.widget-view+json": {
       "model_id": "3961a766c6454fdea3e236625ad94dc7",
       "version_major": 2,
       "version_minor": 0
      },
      "text/plain": [
       "chain 1 |          | 00:00 Status"
      ]
     },
     "metadata": {},
     "output_type": "display_data"
    },
    {
     "data": {
      "application/vnd.jupyter.widget-view+json": {
       "model_id": "bf15ffcd977c444da0b3473abc9614ef",
       "version_major": 2,
       "version_minor": 0
      },
      "text/plain": [
       "chain 2 |          | 00:00 Status"
      ]
     },
     "metadata": {},
     "output_type": "display_data"
    },
    {
     "data": {
      "application/vnd.jupyter.widget-view+json": {
       "model_id": "490ea5f3b8024b8087e2e64c6174a77e",
       "version_major": 2,
       "version_minor": 0
      },
      "text/plain": [
       "chain 3 |          | 00:00 Status"
      ]
     },
     "metadata": {},
     "output_type": "display_data"
    },
    {
     "data": {
      "application/vnd.jupyter.widget-view+json": {
       "model_id": "422ef03f40834d0a8a442c95d69bdfa2",
       "version_major": 2,
       "version_minor": 0
      },
      "text/plain": [
       "chain 4 |          | 00:00 Status"
      ]
     },
     "metadata": {},
     "output_type": "display_data"
    },
    {
     "name": "stdout",
     "output_type": "stream",
     "text": [
      "                                                                                                                                                                                                                                                                                                                                                                                                                                                                                                "
     ]
    },
    {
     "name": "stderr",
     "output_type": "stream",
     "text": [
      "04:34:53 - cmdstanpy - INFO - CmdStan done processing.\n",
      "04:34:53 - cmdstanpy - WARNING - Non-fatal error during sampling:\n",
      "Exception: normal_id_glm_lpdf: Scale vector is 0, but must be positive finite! (in 'prophet.stan', line 137, column 2 to line 142, column 4)\n",
      "Exception: normal_id_glm_lpdf: Scale vector is 0, but must be positive finite! (in 'prophet.stan', line 137, column 2 to line 142, column 4)\n",
      "Exception: normal_id_glm_lpdf: Scale vector is 0, but must be positive finite! (in 'prophet.stan', line 137, column 2 to line 142, column 4)\n",
      "Exception: normal_id_glm_lpdf: Scale vector is 0, but must be positive finite! (in 'prophet.stan', line 137, column 2 to line 142, column 4)\n",
      "Consider re-running with show_console=True if the above output is unclear!\n",
      "04:34:53 - cmdstanpy - WARNING - Some chains may have failed to converge.\n",
      "\tChain 1 had 122 iterations at max treedepth (81.3%)\n",
      "\tChain 2 had 122 iterations at max treedepth (81.3%)\n",
      "\tChain 3 had 131 iterations at max treedepth (87.3%)\n",
      "\tChain 4 had 118 iterations at max treedepth (78.7%)\n",
      "\tUse the \"diagnose()\" method on the CmdStanMCMC object to see further information.\n"
     ]
    },
    {
     "name": "stdout",
     "output_type": "stream",
     "text": [
      "\n"
     ]
    },
    {
     "name": "stderr",
     "output_type": "stream",
     "text": [
      "04:34:54 - cmdstanpy - INFO - CmdStan start processing\n"
     ]
    },
    {
     "data": {
      "application/vnd.jupyter.widget-view+json": {
       "model_id": "e9c43707ce334fc5bad236849d342454",
       "version_major": 2,
       "version_minor": 0
      },
      "text/plain": [
       "chain 1 |          | 00:00 Status"
      ]
     },
     "metadata": {},
     "output_type": "display_data"
    },
    {
     "data": {
      "application/vnd.jupyter.widget-view+json": {
       "model_id": "4252774ff18a4adabb4f9707dbd49fbd",
       "version_major": 2,
       "version_minor": 0
      },
      "text/plain": [
       "chain 2 |          | 00:00 Status"
      ]
     },
     "metadata": {},
     "output_type": "display_data"
    },
    {
     "data": {
      "application/vnd.jupyter.widget-view+json": {
       "model_id": "caee5828c235480ebdaabdec49a6df7d",
       "version_major": 2,
       "version_minor": 0
      },
      "text/plain": [
       "chain 3 |          | 00:00 Status"
      ]
     },
     "metadata": {},
     "output_type": "display_data"
    },
    {
     "data": {
      "application/vnd.jupyter.widget-view+json": {
       "model_id": "e6bd924cd4094f36b55612a24a0ad52f",
       "version_major": 2,
       "version_minor": 0
      },
      "text/plain": [
       "chain 4 |          | 00:00 Status"
      ]
     },
     "metadata": {},
     "output_type": "display_data"
    },
    {
     "name": "stdout",
     "output_type": "stream",
     "text": [
      "                                                                                                                                                                                                                                                                                                                                                                                                                                                                                                "
     ]
    },
    {
     "name": "stderr",
     "output_type": "stream",
     "text": [
      "04:35:01 - cmdstanpy - INFO - CmdStan done processing.\n",
      "04:35:01 - cmdstanpy - WARNING - Non-fatal error during sampling:\n",
      "Exception: normal_id_glm_lpdf: Scale vector is 0, but must be positive finite! (in 'prophet.stan', line 137, column 2 to line 142, column 4)\n",
      "\tException: normal_id_glm_lpdf: Matrix of independent variables is inf, but must be finite! (in 'prophet.stan', line 137, column 2 to line 142, column 4)\n",
      "Exception: normal_id_glm_lpdf: Scale vector is 0, but must be positive finite! (in 'prophet.stan', line 137, column 2 to line 142, column 4)\n",
      "Exception: normal_id_glm_lpdf: Scale vector is 0, but must be positive finite! (in 'prophet.stan', line 137, column 2 to line 142, column 4)\n",
      "Exception: normal_id_glm_lpdf: Scale vector is 0, but must be positive finite! (in 'prophet.stan', line 137, column 2 to line 142, column 4)\n",
      "Consider re-running with show_console=True if the above output is unclear!\n",
      "04:35:01 - cmdstanpy - WARNING - Some chains may have failed to converge.\n",
      "\tChain 1 had 115 iterations at max treedepth (76.7%)\n",
      "\tChain 2 had 125 iterations at max treedepth (83.3%)\n",
      "\tChain 3 had 130 iterations at max treedepth (86.7%)\n",
      "\tChain 4 had 95 iterations at max treedepth (63.3%)\n",
      "\tUse the \"diagnose()\" method on the CmdStanMCMC object to see further information.\n"
     ]
    },
    {
     "name": "stdout",
     "output_type": "stream",
     "text": [
      "\n"
     ]
    },
    {
     "name": "stderr",
     "output_type": "stream",
     "text": [
      "04:35:01 - cmdstanpy - INFO - CmdStan start processing\n"
     ]
    },
    {
     "data": {
      "application/vnd.jupyter.widget-view+json": {
       "model_id": "37ce580d6fb9466d970af52862af0a86",
       "version_major": 2,
       "version_minor": 0
      },
      "text/plain": [
       "chain 1 |          | 00:00 Status"
      ]
     },
     "metadata": {},
     "output_type": "display_data"
    },
    {
     "data": {
      "application/vnd.jupyter.widget-view+json": {
       "model_id": "ae4a678828974c3381092a8534232680",
       "version_major": 2,
       "version_minor": 0
      },
      "text/plain": [
       "chain 2 |          | 00:00 Status"
      ]
     },
     "metadata": {},
     "output_type": "display_data"
    },
    {
     "data": {
      "application/vnd.jupyter.widget-view+json": {
       "model_id": "6b53602e03f74d368a0573239836d87f",
       "version_major": 2,
       "version_minor": 0
      },
      "text/plain": [
       "chain 3 |          | 00:00 Status"
      ]
     },
     "metadata": {},
     "output_type": "display_data"
    },
    {
     "data": {
      "application/vnd.jupyter.widget-view+json": {
       "model_id": "4a99f81bfe614139ac323b7b3ce55a5a",
       "version_major": 2,
       "version_minor": 0
      },
      "text/plain": [
       "chain 4 |          | 00:00 Status"
      ]
     },
     "metadata": {},
     "output_type": "display_data"
    },
    {
     "name": "stdout",
     "output_type": "stream",
     "text": [
      "                                                                                                                                                                                                                                                                                                                                                                                                                                                                                                "
     ]
    },
    {
     "name": "stderr",
     "output_type": "stream",
     "text": [
      "04:35:09 - cmdstanpy - INFO - CmdStan done processing.\n",
      "04:35:09 - cmdstanpy - WARNING - Non-fatal error during sampling:\n",
      "Exception: normal_id_glm_lpdf: Scale vector is 0, but must be positive finite! (in 'prophet.stan', line 137, column 2 to line 142, column 4)\n",
      "Exception: normal_id_glm_lpdf: Scale vector is 0, but must be positive finite! (in 'prophet.stan', line 137, column 2 to line 142, column 4)\n",
      "Exception: normal_id_glm_lpdf: Scale vector is 0, but must be positive finite! (in 'prophet.stan', line 137, column 2 to line 142, column 4)\n",
      "\tException: normal_id_glm_lpdf: Matrix of independent variables is inf, but must be finite! (in 'prophet.stan', line 137, column 2 to line 142, column 4)\n",
      "Exception: normal_id_glm_lpdf: Scale vector is 0, but must be positive finite! (in 'prophet.stan', line 137, column 2 to line 142, column 4)\n",
      "\tException: normal_id_glm_lpdf: Matrix of independent variables is inf, but must be finite! (in 'prophet.stan', line 137, column 2 to line 142, column 4)\n",
      "Consider re-running with show_console=True if the above output is unclear!\n",
      "04:35:09 - cmdstanpy - WARNING - Some chains may have failed to converge.\n",
      "\tChain 1 had 126 iterations at max treedepth (84.0%)\n",
      "\tChain 2 had 104 iterations at max treedepth (69.3%)\n",
      "\tChain 3 had 124 iterations at max treedepth (82.7%)\n",
      "\tChain 4 had 124 iterations at max treedepth (82.7%)\n",
      "\tUse the \"diagnose()\" method on the CmdStanMCMC object to see further information.\n"
     ]
    },
    {
     "name": "stdout",
     "output_type": "stream",
     "text": [
      "\n"
     ]
    },
    {
     "name": "stderr",
     "output_type": "stream",
     "text": [
      "04:35:09 - cmdstanpy - INFO - CmdStan start processing\n"
     ]
    },
    {
     "data": {
      "application/vnd.jupyter.widget-view+json": {
       "model_id": "8fd96b39c79e48f9b3bb4d3c1eff2174",
       "version_major": 2,
       "version_minor": 0
      },
      "text/plain": [
       "chain 1 |          | 00:00 Status"
      ]
     },
     "metadata": {},
     "output_type": "display_data"
    },
    {
     "data": {
      "application/vnd.jupyter.widget-view+json": {
       "model_id": "63b72216601e42afaf754218a33436ee",
       "version_major": 2,
       "version_minor": 0
      },
      "text/plain": [
       "chain 2 |          | 00:00 Status"
      ]
     },
     "metadata": {},
     "output_type": "display_data"
    },
    {
     "data": {
      "application/vnd.jupyter.widget-view+json": {
       "model_id": "45c57d3015d44eb797823dddab12179f",
       "version_major": 2,
       "version_minor": 0
      },
      "text/plain": [
       "chain 3 |          | 00:00 Status"
      ]
     },
     "metadata": {},
     "output_type": "display_data"
    },
    {
     "data": {
      "application/vnd.jupyter.widget-view+json": {
       "model_id": "d9003a6d9ee24223ac2eb5b6ae552742",
       "version_major": 2,
       "version_minor": 0
      },
      "text/plain": [
       "chain 4 |          | 00:00 Status"
      ]
     },
     "metadata": {},
     "output_type": "display_data"
    },
    {
     "name": "stdout",
     "output_type": "stream",
     "text": [
      "                                                                                                                                                                                                                                                                                                                                                                                                                                                                                                "
     ]
    },
    {
     "name": "stderr",
     "output_type": "stream",
     "text": [
      "04:35:16 - cmdstanpy - INFO - CmdStan done processing.\n",
      "04:35:16 - cmdstanpy - WARNING - Non-fatal error during sampling:\n",
      "Exception: normal_id_glm_lpdf: Scale vector is 0, but must be positive finite! (in 'prophet.stan', line 137, column 2 to line 142, column 4)\n",
      "Exception: normal_id_glm_lpdf: Scale vector is 0, but must be positive finite! (in 'prophet.stan', line 137, column 2 to line 142, column 4)\n",
      "Exception: normal_id_glm_lpdf: Scale vector is 0, but must be positive finite! (in 'prophet.stan', line 137, column 2 to line 142, column 4)\n",
      "\tException: normal_id_glm_lpdf: Matrix of independent variables is inf, but must be finite! (in 'prophet.stan', line 137, column 2 to line 142, column 4)\n",
      "Exception: normal_id_glm_lpdf: Scale vector is 0, but must be positive finite! (in 'prophet.stan', line 137, column 2 to line 142, column 4)\n",
      "Consider re-running with show_console=True if the above output is unclear!\n",
      "04:35:16 - cmdstanpy - WARNING - Some chains may have failed to converge.\n",
      "\tChain 1 had 121 iterations at max treedepth (80.7%)\n",
      "\tChain 2 had 94 iterations at max treedepth (62.7%)\n",
      "\tChain 3 had 100 iterations at max treedepth (66.7%)\n",
      "\tChain 4 had 123 iterations at max treedepth (82.0%)\n",
      "\tUse the \"diagnose()\" method on the CmdStanMCMC object to see further information.\n"
     ]
    },
    {
     "name": "stdout",
     "output_type": "stream",
     "text": [
      "\n"
     ]
    },
    {
     "name": "stderr",
     "output_type": "stream",
     "text": [
      "04:35:17 - cmdstanpy - INFO - CmdStan start processing\n"
     ]
    },
    {
     "data": {
      "application/vnd.jupyter.widget-view+json": {
       "model_id": "c2fd6297ab0d46fdbd5aea851f30a6cd",
       "version_major": 2,
       "version_minor": 0
      },
      "text/plain": [
       "chain 1 |          | 00:00 Status"
      ]
     },
     "metadata": {},
     "output_type": "display_data"
    },
    {
     "data": {
      "application/vnd.jupyter.widget-view+json": {
       "model_id": "8ac257a54f5d4a8384e0417833cf5f76",
       "version_major": 2,
       "version_minor": 0
      },
      "text/plain": [
       "chain 2 |          | 00:00 Status"
      ]
     },
     "metadata": {},
     "output_type": "display_data"
    },
    {
     "data": {
      "application/vnd.jupyter.widget-view+json": {
       "model_id": "bac30e43e6db432980452d67e82023fb",
       "version_major": 2,
       "version_minor": 0
      },
      "text/plain": [
       "chain 3 |          | 00:00 Status"
      ]
     },
     "metadata": {},
     "output_type": "display_data"
    },
    {
     "data": {
      "application/vnd.jupyter.widget-view+json": {
       "model_id": "26a56c5d6a2e45d7a3b708efd8c363c6",
       "version_major": 2,
       "version_minor": 0
      },
      "text/plain": [
       "chain 4 |          | 00:00 Status"
      ]
     },
     "metadata": {},
     "output_type": "display_data"
    },
    {
     "name": "stdout",
     "output_type": "stream",
     "text": [
      "                                                                                                                                                                                                                                                                                                                                                                                                                                                                                                "
     ]
    },
    {
     "name": "stderr",
     "output_type": "stream",
     "text": [
      "04:35:24 - cmdstanpy - INFO - CmdStan done processing.\n",
      "04:35:24 - cmdstanpy - WARNING - Non-fatal error during sampling:\n",
      "Exception: normal_id_glm_lpdf: Scale vector is 0, but must be positive finite! (in 'prophet.stan', line 137, column 2 to line 142, column 4)\n",
      "\tException: normal_id_glm_lpdf: Matrix of independent variables is inf, but must be finite! (in 'prophet.stan', line 137, column 2 to line 142, column 4)\n",
      "Exception: normal_id_glm_lpdf: Scale vector is 0, but must be positive finite! (in 'prophet.stan', line 137, column 2 to line 142, column 4)\n",
      "\tException: normal_id_glm_lpdf: Matrix of independent variables is inf, but must be finite! (in 'prophet.stan', line 137, column 2 to line 142, column 4)\n",
      "Exception: normal_id_glm_lpdf: Scale vector is 0, but must be positive finite! (in 'prophet.stan', line 137, column 2 to line 142, column 4)\n",
      "Exception: normal_id_glm_lpdf: Scale vector is 0, but must be positive finite! (in 'prophet.stan', line 137, column 2 to line 142, column 4)\n",
      "Consider re-running with show_console=True if the above output is unclear!\n",
      "04:35:24 - cmdstanpy - WARNING - Some chains may have failed to converge.\n",
      "\tChain 1 had 121 iterations at max treedepth (80.7%)\n",
      "\tChain 2 had 125 iterations at max treedepth (83.3%)\n",
      "\tChain 3 had 121 iterations at max treedepth (80.7%)\n",
      "\tChain 4 had 130 iterations at max treedepth (86.7%)\n",
      "\tUse the \"diagnose()\" method on the CmdStanMCMC object to see further information.\n"
     ]
    },
    {
     "name": "stdout",
     "output_type": "stream",
     "text": [
      "\n"
     ]
    },
    {
     "name": "stderr",
     "output_type": "stream",
     "text": [
      "04:35:25 - cmdstanpy - INFO - CmdStan start processing\n"
     ]
    },
    {
     "data": {
      "application/vnd.jupyter.widget-view+json": {
       "model_id": "a155264f5cbe44e1a681a866d93777bd",
       "version_major": 2,
       "version_minor": 0
      },
      "text/plain": [
       "chain 1 |          | 00:00 Status"
      ]
     },
     "metadata": {},
     "output_type": "display_data"
    },
    {
     "data": {
      "application/vnd.jupyter.widget-view+json": {
       "model_id": "e8e1b78c1cec4baeb122afca171263dd",
       "version_major": 2,
       "version_minor": 0
      },
      "text/plain": [
       "chain 2 |          | 00:00 Status"
      ]
     },
     "metadata": {},
     "output_type": "display_data"
    },
    {
     "data": {
      "application/vnd.jupyter.widget-view+json": {
       "model_id": "b27fa92103844c738c673c3f2d270a85",
       "version_major": 2,
       "version_minor": 0
      },
      "text/plain": [
       "chain 3 |          | 00:00 Status"
      ]
     },
     "metadata": {},
     "output_type": "display_data"
    },
    {
     "data": {
      "application/vnd.jupyter.widget-view+json": {
       "model_id": "edaa5a7c10394d75a71eb115bb00d082",
       "version_major": 2,
       "version_minor": 0
      },
      "text/plain": [
       "chain 4 |          | 00:00 Status"
      ]
     },
     "metadata": {},
     "output_type": "display_data"
    },
    {
     "name": "stdout",
     "output_type": "stream",
     "text": [
      "                                                                                                                                                                                                                                                                                                                                                                                                                                                                                                "
     ]
    },
    {
     "name": "stderr",
     "output_type": "stream",
     "text": [
      "04:35:31 - cmdstanpy - INFO - CmdStan done processing.\n",
      "04:35:31 - cmdstanpy - WARNING - Non-fatal error during sampling:\n",
      "Exception: normal_id_glm_lpdf: Scale vector is 0, but must be positive finite! (in 'prophet.stan', line 137, column 2 to line 142, column 4)\n",
      "Exception: normal_id_glm_lpdf: Scale vector is 0, but must be positive finite! (in 'prophet.stan', line 137, column 2 to line 142, column 4)\n",
      "Exception: normal_id_glm_lpdf: Scale vector is 0, but must be positive finite! (in 'prophet.stan', line 137, column 2 to line 142, column 4)\n",
      "\tException: normal_id_glm_lpdf: Matrix of independent variables is inf, but must be finite! (in 'prophet.stan', line 137, column 2 to line 142, column 4)\n",
      "Exception: normal_id_glm_lpdf: Scale vector is 0, but must be positive finite! (in 'prophet.stan', line 137, column 2 to line 142, column 4)\n",
      "Consider re-running with show_console=True if the above output is unclear!\n",
      "04:35:31 - cmdstanpy - WARNING - Some chains may have failed to converge.\n",
      "\tChain 1 had 101 iterations at max treedepth (67.3%)\n",
      "\tChain 2 had 117 iterations at max treedepth (78.0%)\n",
      "\tChain 3 had 128 iterations at max treedepth (85.3%)\n",
      "\tChain 4 had 116 iterations at max treedepth (77.3%)\n",
      "\tUse the \"diagnose()\" method on the CmdStanMCMC object to see further information.\n"
     ]
    },
    {
     "name": "stdout",
     "output_type": "stream",
     "text": [
      "\n"
     ]
    },
    {
     "name": "stderr",
     "output_type": "stream",
     "text": [
      "04:35:32 - cmdstanpy - INFO - CmdStan start processing\n"
     ]
    },
    {
     "data": {
      "application/vnd.jupyter.widget-view+json": {
       "model_id": "1e480436abb744c2b4c0a6edec61d090",
       "version_major": 2,
       "version_minor": 0
      },
      "text/plain": [
       "chain 1 |          | 00:00 Status"
      ]
     },
     "metadata": {},
     "output_type": "display_data"
    },
    {
     "data": {
      "application/vnd.jupyter.widget-view+json": {
       "model_id": "d0dfed2dbc8b4700a6c1241af01b102b",
       "version_major": 2,
       "version_minor": 0
      },
      "text/plain": [
       "chain 2 |          | 00:00 Status"
      ]
     },
     "metadata": {},
     "output_type": "display_data"
    },
    {
     "data": {
      "application/vnd.jupyter.widget-view+json": {
       "model_id": "f2c8bd178bb647dc8c4e481d683fa7ed",
       "version_major": 2,
       "version_minor": 0
      },
      "text/plain": [
       "chain 3 |          | 00:00 Status"
      ]
     },
     "metadata": {},
     "output_type": "display_data"
    },
    {
     "data": {
      "application/vnd.jupyter.widget-view+json": {
       "model_id": "47ca66422884457395bf05eab1d7efa4",
       "version_major": 2,
       "version_minor": 0
      },
      "text/plain": [
       "chain 4 |          | 00:00 Status"
      ]
     },
     "metadata": {},
     "output_type": "display_data"
    },
    {
     "name": "stdout",
     "output_type": "stream",
     "text": [
      "                                                                                                                                                                                                                                                                                                                                                                                                                                                                                                "
     ]
    },
    {
     "name": "stderr",
     "output_type": "stream",
     "text": [
      "04:35:39 - cmdstanpy - INFO - CmdStan done processing.\n",
      "04:35:39 - cmdstanpy - WARNING - Non-fatal error during sampling:\n",
      "Exception: normal_id_glm_lpdf: Scale vector is 0, but must be positive finite! (in 'prophet.stan', line 137, column 2 to line 142, column 4)\n",
      "\tException: normal_id_glm_lpdf: Matrix of independent variables is inf, but must be finite! (in 'prophet.stan', line 137, column 2 to line 142, column 4)\n",
      "Exception: normal_id_glm_lpdf: Scale vector is 0, but must be positive finite! (in 'prophet.stan', line 137, column 2 to line 142, column 4)\n",
      "Exception: normal_id_glm_lpdf: Scale vector is 0, but must be positive finite! (in 'prophet.stan', line 137, column 2 to line 142, column 4)\n",
      "Exception: normal_id_glm_lpdf: Scale vector is 0, but must be positive finite! (in 'prophet.stan', line 137, column 2 to line 142, column 4)\n",
      "Consider re-running with show_console=True if the above output is unclear!\n",
      "04:35:39 - cmdstanpy - WARNING - Some chains may have failed to converge.\n",
      "\tChain 1 had 128 iterations at max treedepth (85.3%)\n",
      "\tChain 2 had 113 iterations at max treedepth (75.3%)\n",
      "\tChain 3 had 109 iterations at max treedepth (72.7%)\n",
      "\tChain 4 had 107 iterations at max treedepth (71.3%)\n",
      "\tUse the \"diagnose()\" method on the CmdStanMCMC object to see further information.\n"
     ]
    },
    {
     "name": "stdout",
     "output_type": "stream",
     "text": [
      "\n"
     ]
    },
    {
     "name": "stderr",
     "output_type": "stream",
     "text": [
      "04:35:39 - cmdstanpy - INFO - CmdStan start processing\n"
     ]
    },
    {
     "data": {
      "application/vnd.jupyter.widget-view+json": {
       "model_id": "32a97dd937f6491a8fb48e11ffb3e8f8",
       "version_major": 2,
       "version_minor": 0
      },
      "text/plain": [
       "chain 1 |          | 00:00 Status"
      ]
     },
     "metadata": {},
     "output_type": "display_data"
    },
    {
     "data": {
      "application/vnd.jupyter.widget-view+json": {
       "model_id": "abb916754b4747b3ba98bc14104fbca1",
       "version_major": 2,
       "version_minor": 0
      },
      "text/plain": [
       "chain 2 |          | 00:00 Status"
      ]
     },
     "metadata": {},
     "output_type": "display_data"
    },
    {
     "data": {
      "application/vnd.jupyter.widget-view+json": {
       "model_id": "caea2756f69a4c14888b1a65800e4efa",
       "version_major": 2,
       "version_minor": 0
      },
      "text/plain": [
       "chain 3 |          | 00:00 Status"
      ]
     },
     "metadata": {},
     "output_type": "display_data"
    },
    {
     "data": {
      "application/vnd.jupyter.widget-view+json": {
       "model_id": "75281b9ff1bd4faaae256cf368cf247a",
       "version_major": 2,
       "version_minor": 0
      },
      "text/plain": [
       "chain 4 |          | 00:00 Status"
      ]
     },
     "metadata": {},
     "output_type": "display_data"
    },
    {
     "name": "stdout",
     "output_type": "stream",
     "text": [
      "                                                                                                                                                                                                                                                                                                                                                                                                                                                                                                "
     ]
    },
    {
     "name": "stderr",
     "output_type": "stream",
     "text": [
      "04:35:46 - cmdstanpy - INFO - CmdStan done processing.\n",
      "04:35:46 - cmdstanpy - WARNING - Non-fatal error during sampling:\n",
      "Exception: normal_id_glm_lpdf: Scale vector is 0, but must be positive finite! (in 'prophet.stan', line 137, column 2 to line 142, column 4)\n",
      "Exception: normal_id_glm_lpdf: Scale vector is 0, but must be positive finite! (in 'prophet.stan', line 137, column 2 to line 142, column 4)\n",
      "Exception: normal_id_glm_lpdf: Scale vector is 0, but must be positive finite! (in 'prophet.stan', line 137, column 2 to line 142, column 4)\n",
      "\tException: normal_id_glm_lpdf: Matrix of independent variables is inf, but must be finite! (in 'prophet.stan', line 137, column 2 to line 142, column 4)\n",
      "Exception: normal_id_glm_lpdf: Scale vector is 0, but must be positive finite! (in 'prophet.stan', line 137, column 2 to line 142, column 4)\n",
      "Consider re-running with show_console=True if the above output is unclear!\n",
      "04:35:46 - cmdstanpy - WARNING - Some chains may have failed to converge.\n",
      "\tChain 1 had 121 iterations at max treedepth (80.7%)\n",
      "\tChain 2 had 106 iterations at max treedepth (70.7%)\n",
      "\tChain 3 had 122 iterations at max treedepth (81.3%)\n",
      "\tChain 4 had 122 iterations at max treedepth (81.3%)\n",
      "\tUse the \"diagnose()\" method on the CmdStanMCMC object to see further information.\n"
     ]
    },
    {
     "name": "stdout",
     "output_type": "stream",
     "text": [
      "\n"
     ]
    },
    {
     "name": "stderr",
     "output_type": "stream",
     "text": [
      "04:35:47 - cmdstanpy - INFO - CmdStan start processing\n"
     ]
    },
    {
     "data": {
      "application/vnd.jupyter.widget-view+json": {
       "model_id": "82cbbc2217ef4d6aa9b7dcd48c8b3ef7",
       "version_major": 2,
       "version_minor": 0
      },
      "text/plain": [
       "chain 1 |          | 00:00 Status"
      ]
     },
     "metadata": {},
     "output_type": "display_data"
    },
    {
     "data": {
      "application/vnd.jupyter.widget-view+json": {
       "model_id": "0778a3a4afd2443f8521a5f520308387",
       "version_major": 2,
       "version_minor": 0
      },
      "text/plain": [
       "chain 2 |          | 00:00 Status"
      ]
     },
     "metadata": {},
     "output_type": "display_data"
    },
    {
     "data": {
      "application/vnd.jupyter.widget-view+json": {
       "model_id": "fb13bfea8a9b4a3b84ac7f13a4e32510",
       "version_major": 2,
       "version_minor": 0
      },
      "text/plain": [
       "chain 3 |          | 00:00 Status"
      ]
     },
     "metadata": {},
     "output_type": "display_data"
    },
    {
     "data": {
      "application/vnd.jupyter.widget-view+json": {
       "model_id": "684053e016854204a50c36935ebb25fe",
       "version_major": 2,
       "version_minor": 0
      },
      "text/plain": [
       "chain 4 |          | 00:00 Status"
      ]
     },
     "metadata": {},
     "output_type": "display_data"
    },
    {
     "name": "stdout",
     "output_type": "stream",
     "text": [
      "                                                                                                                                                                                                                                                                                                                                                                                                                                                                                                "
     ]
    },
    {
     "name": "stderr",
     "output_type": "stream",
     "text": [
      "04:35:54 - cmdstanpy - INFO - CmdStan done processing.\n",
      "04:35:54 - cmdstanpy - WARNING - Non-fatal error during sampling:\n",
      "Exception: normal_id_glm_lpdf: Scale vector is 0, but must be positive finite! (in 'prophet.stan', line 137, column 2 to line 142, column 4)\n",
      "\tException: normal_id_glm_lpdf: Matrix of independent variables is inf, but must be finite! (in 'prophet.stan', line 137, column 2 to line 142, column 4)\n",
      "Exception: normal_id_glm_lpdf: Scale vector is 0, but must be positive finite! (in 'prophet.stan', line 137, column 2 to line 142, column 4)\n",
      "Exception: normal_id_glm_lpdf: Scale vector is 0, but must be positive finite! (in 'prophet.stan', line 137, column 2 to line 142, column 4)\n",
      "\tException: normal_id_glm_lpdf: Matrix of independent variables is inf, but must be finite! (in 'prophet.stan', line 137, column 2 to line 142, column 4)\n",
      "Exception: normal_id_glm_lpdf: Scale vector is 0, but must be positive finite! (in 'prophet.stan', line 137, column 2 to line 142, column 4)\n",
      "\tException: normal_id_glm_lpdf: Matrix of independent variables is inf, but must be finite! (in 'prophet.stan', line 137, column 2 to line 142, column 4)\n",
      "Consider re-running with show_console=True if the above output is unclear!\n",
      "04:35:54 - cmdstanpy - WARNING - Some chains may have failed to converge.\n",
      "\tChain 1 had 117 iterations at max treedepth (78.0%)\n",
      "\tChain 2 had 132 iterations at max treedepth (88.0%)\n",
      "\tChain 3 had 114 iterations at max treedepth (76.0%)\n",
      "\tChain 4 had 115 iterations at max treedepth (76.7%)\n",
      "\tUse the \"diagnose()\" method on the CmdStanMCMC object to see further information.\n"
     ]
    },
    {
     "name": "stdout",
     "output_type": "stream",
     "text": [
      "\n"
     ]
    },
    {
     "name": "stderr",
     "output_type": "stream",
     "text": [
      "04:35:55 - cmdstanpy - INFO - CmdStan start processing\n"
     ]
    },
    {
     "data": {
      "application/vnd.jupyter.widget-view+json": {
       "model_id": "15c52f777dc44af981662d980c577679",
       "version_major": 2,
       "version_minor": 0
      },
      "text/plain": [
       "chain 1 |          | 00:00 Status"
      ]
     },
     "metadata": {},
     "output_type": "display_data"
    },
    {
     "data": {
      "application/vnd.jupyter.widget-view+json": {
       "model_id": "52a4bc7dfc5e496c995c4649f4170395",
       "version_major": 2,
       "version_minor": 0
      },
      "text/plain": [
       "chain 2 |          | 00:00 Status"
      ]
     },
     "metadata": {},
     "output_type": "display_data"
    },
    {
     "data": {
      "application/vnd.jupyter.widget-view+json": {
       "model_id": "7fe79270fba240559c83cf96bd50ef48",
       "version_major": 2,
       "version_minor": 0
      },
      "text/plain": [
       "chain 3 |          | 00:00 Status"
      ]
     },
     "metadata": {},
     "output_type": "display_data"
    },
    {
     "data": {
      "application/vnd.jupyter.widget-view+json": {
       "model_id": "022b1500c2574f1ba720c8f2c97d19b1",
       "version_major": 2,
       "version_minor": 0
      },
      "text/plain": [
       "chain 4 |          | 00:00 Status"
      ]
     },
     "metadata": {},
     "output_type": "display_data"
    },
    {
     "name": "stdout",
     "output_type": "stream",
     "text": [
      "                                                                                                                                                                                                                                                                                                                                                                                                                                                                                                "
     ]
    },
    {
     "name": "stderr",
     "output_type": "stream",
     "text": [
      "04:36:02 - cmdstanpy - INFO - CmdStan done processing.\n",
      "04:36:02 - cmdstanpy - WARNING - Non-fatal error during sampling:\n",
      "Exception: normal_id_glm_lpdf: Scale vector is 0, but must be positive finite! (in 'prophet.stan', line 137, column 2 to line 142, column 4)\n",
      "Exception: normal_id_glm_lpdf: Scale vector is 0, but must be positive finite! (in 'prophet.stan', line 137, column 2 to line 142, column 4)\n",
      "\tException: normal_id_glm_lpdf: Matrix of independent variables is inf, but must be finite! (in 'prophet.stan', line 137, column 2 to line 142, column 4)\n",
      "Exception: normal_id_glm_lpdf: Scale vector is 0, but must be positive finite! (in 'prophet.stan', line 137, column 2 to line 142, column 4)\n",
      "Exception: normal_id_glm_lpdf: Scale vector is 0, but must be positive finite! (in 'prophet.stan', line 137, column 2 to line 142, column 4)\n",
      "\tException: normal_id_glm_lpdf: Matrix of independent variables is inf, but must be finite! (in 'prophet.stan', line 137, column 2 to line 142, column 4)\n",
      "Consider re-running with show_console=True if the above output is unclear!\n",
      "04:36:02 - cmdstanpy - WARNING - Some chains may have failed to converge.\n",
      "\tChain 1 had 120 iterations at max treedepth (80.0%)\n",
      "\tChain 2 had 119 iterations at max treedepth (79.3%)\n",
      "\tChain 3 had 120 iterations at max treedepth (80.0%)\n",
      "\tChain 4 had 126 iterations at max treedepth (84.0%)\n",
      "\tUse the \"diagnose()\" method on the CmdStanMCMC object to see further information.\n"
     ]
    },
    {
     "name": "stdout",
     "output_type": "stream",
     "text": [
      "\n"
     ]
    },
    {
     "name": "stderr",
     "output_type": "stream",
     "text": [
      "04:36:03 - cmdstanpy - INFO - CmdStan start processing\n"
     ]
    },
    {
     "data": {
      "application/vnd.jupyter.widget-view+json": {
       "model_id": "92f962b02b3847c4ae73ab70560e4c56",
       "version_major": 2,
       "version_minor": 0
      },
      "text/plain": [
       "chain 1 |          | 00:00 Status"
      ]
     },
     "metadata": {},
     "output_type": "display_data"
    },
    {
     "data": {
      "application/vnd.jupyter.widget-view+json": {
       "model_id": "5a1b15c042c84f279509a96b76c284f7",
       "version_major": 2,
       "version_minor": 0
      },
      "text/plain": [
       "chain 2 |          | 00:00 Status"
      ]
     },
     "metadata": {},
     "output_type": "display_data"
    },
    {
     "data": {
      "application/vnd.jupyter.widget-view+json": {
       "model_id": "56d7699581ae4d98ad4618d86bfda721",
       "version_major": 2,
       "version_minor": 0
      },
      "text/plain": [
       "chain 3 |          | 00:00 Status"
      ]
     },
     "metadata": {},
     "output_type": "display_data"
    },
    {
     "data": {
      "application/vnd.jupyter.widget-view+json": {
       "model_id": "f062a18202cb48ab8fda847a981c68d5",
       "version_major": 2,
       "version_minor": 0
      },
      "text/plain": [
       "chain 4 |          | 00:00 Status"
      ]
     },
     "metadata": {},
     "output_type": "display_data"
    },
    {
     "name": "stdout",
     "output_type": "stream",
     "text": [
      "                                                                                                                                                                                                                                                                                                                                                                                                                                                                                                "
     ]
    },
    {
     "name": "stderr",
     "output_type": "stream",
     "text": [
      "04:36:10 - cmdstanpy - INFO - CmdStan done processing.\n",
      "04:36:10 - cmdstanpy - WARNING - Non-fatal error during sampling:\n",
      "Exception: normal_id_glm_lpdf: Scale vector is 0, but must be positive finite! (in 'prophet.stan', line 137, column 2 to line 142, column 4)\n",
      "Exception: normal_id_glm_lpdf: Scale vector is 0, but must be positive finite! (in 'prophet.stan', line 137, column 2 to line 142, column 4)\n",
      "\tException: normal_id_glm_lpdf: Matrix of independent variables is inf, but must be finite! (in 'prophet.stan', line 137, column 2 to line 142, column 4)\n",
      "Exception: normal_id_glm_lpdf: Scale vector is 0, but must be positive finite! (in 'prophet.stan', line 137, column 2 to line 142, column 4)\n",
      "Exception: normal_id_glm_lpdf: Scale vector is 0, but must be positive finite! (in 'prophet.stan', line 137, column 2 to line 142, column 4)\n",
      "Consider re-running with show_console=True if the above output is unclear!\n",
      "04:36:10 - cmdstanpy - WARNING - Some chains may have failed to converge.\n",
      "\tChain 1 had 117 iterations at max treedepth (78.0%)\n",
      "\tChain 2 had 117 iterations at max treedepth (78.0%)\n",
      "\tChain 3 had 115 iterations at max treedepth (76.7%)\n",
      "\tChain 4 had 101 iterations at max treedepth (67.3%)\n",
      "\tUse the \"diagnose()\" method on the CmdStanMCMC object to see further information.\n"
     ]
    },
    {
     "name": "stdout",
     "output_type": "stream",
     "text": [
      "\n"
     ]
    },
    {
     "name": "stderr",
     "output_type": "stream",
     "text": [
      "04:36:10 - cmdstanpy - INFO - CmdStan start processing\n"
     ]
    },
    {
     "data": {
      "application/vnd.jupyter.widget-view+json": {
       "model_id": "2e5eb9b0014849848d36f93f832050fa",
       "version_major": 2,
       "version_minor": 0
      },
      "text/plain": [
       "chain 1 |          | 00:00 Status"
      ]
     },
     "metadata": {},
     "output_type": "display_data"
    },
    {
     "data": {
      "application/vnd.jupyter.widget-view+json": {
       "model_id": "21ba1dfa600e48bc8d121eaa3f624640",
       "version_major": 2,
       "version_minor": 0
      },
      "text/plain": [
       "chain 2 |          | 00:00 Status"
      ]
     },
     "metadata": {},
     "output_type": "display_data"
    },
    {
     "data": {
      "application/vnd.jupyter.widget-view+json": {
       "model_id": "085c504395f24e3584db3cac95ca03bb",
       "version_major": 2,
       "version_minor": 0
      },
      "text/plain": [
       "chain 3 |          | 00:00 Status"
      ]
     },
     "metadata": {},
     "output_type": "display_data"
    },
    {
     "data": {
      "application/vnd.jupyter.widget-view+json": {
       "model_id": "8a7654e9e27f4846afb94774f4ac5146",
       "version_major": 2,
       "version_minor": 0
      },
      "text/plain": [
       "chain 4 |          | 00:00 Status"
      ]
     },
     "metadata": {},
     "output_type": "display_data"
    },
    {
     "name": "stdout",
     "output_type": "stream",
     "text": [
      "                                                                                                                                                                                                                                                                                                                                                                                                                                                                                                "
     ]
    },
    {
     "name": "stderr",
     "output_type": "stream",
     "text": [
      "04:36:17 - cmdstanpy - INFO - CmdStan done processing.\n",
      "04:36:17 - cmdstanpy - WARNING - Non-fatal error during sampling:\n",
      "Exception: normal_id_glm_lpdf: Scale vector is 0, but must be positive finite! (in 'prophet.stan', line 137, column 2 to line 142, column 4)\n",
      "Exception: normal_id_glm_lpdf: Scale vector is 0, but must be positive finite! (in 'prophet.stan', line 137, column 2 to line 142, column 4)\n",
      "\tException: normal_id_glm_lpdf: Matrix of independent variables is inf, but must be finite! (in 'prophet.stan', line 137, column 2 to line 142, column 4)\n",
      "Exception: normal_id_glm_lpdf: Scale vector is 0, but must be positive finite! (in 'prophet.stan', line 137, column 2 to line 142, column 4)\n",
      "Exception: normal_id_glm_lpdf: Scale vector is 0, but must be positive finite! (in 'prophet.stan', line 137, column 2 to line 142, column 4)\n",
      "Consider re-running with show_console=True if the above output is unclear!\n",
      "04:36:17 - cmdstanpy - WARNING - Some chains may have failed to converge.\n",
      "\tChain 1 had 115 iterations at max treedepth (76.7%)\n",
      "\tChain 2 had 109 iterations at max treedepth (72.7%)\n",
      "\tChain 3 had 113 iterations at max treedepth (75.3%)\n",
      "\tChain 4 had 115 iterations at max treedepth (76.7%)\n",
      "\tUse the \"diagnose()\" method on the CmdStanMCMC object to see further information.\n"
     ]
    },
    {
     "name": "stdout",
     "output_type": "stream",
     "text": [
      "\n"
     ]
    },
    {
     "name": "stderr",
     "output_type": "stream",
     "text": [
      "04:36:18 - cmdstanpy - INFO - CmdStan start processing\n"
     ]
    },
    {
     "data": {
      "application/vnd.jupyter.widget-view+json": {
       "model_id": "de4881a5344a4135b2b092b4c044f17f",
       "version_major": 2,
       "version_minor": 0
      },
      "text/plain": [
       "chain 1 |          | 00:00 Status"
      ]
     },
     "metadata": {},
     "output_type": "display_data"
    },
    {
     "data": {
      "application/vnd.jupyter.widget-view+json": {
       "model_id": "ff62b2a6db5a4fc89593f88753c4d1a7",
       "version_major": 2,
       "version_minor": 0
      },
      "text/plain": [
       "chain 2 |          | 00:00 Status"
      ]
     },
     "metadata": {},
     "output_type": "display_data"
    },
    {
     "data": {
      "application/vnd.jupyter.widget-view+json": {
       "model_id": "d789500113364f29835ec7b5c3bcca4e",
       "version_major": 2,
       "version_minor": 0
      },
      "text/plain": [
       "chain 3 |          | 00:00 Status"
      ]
     },
     "metadata": {},
     "output_type": "display_data"
    },
    {
     "data": {
      "application/vnd.jupyter.widget-view+json": {
       "model_id": "2df962839b6a454ba7e57f7ff844b2ea",
       "version_major": 2,
       "version_minor": 0
      },
      "text/plain": [
       "chain 4 |          | 00:00 Status"
      ]
     },
     "metadata": {},
     "output_type": "display_data"
    },
    {
     "name": "stdout",
     "output_type": "stream",
     "text": [
      "                                                                                                                                                                                                                                                                                                                                                                                                                                                                                                "
     ]
    },
    {
     "name": "stderr",
     "output_type": "stream",
     "text": [
      "04:36:25 - cmdstanpy - INFO - CmdStan done processing.\n",
      "04:36:25 - cmdstanpy - WARNING - Non-fatal error during sampling:\n",
      "Exception: normal_id_glm_lpdf: Scale vector is 0, but must be positive finite! (in 'prophet.stan', line 137, column 2 to line 142, column 4)\n",
      "\tException: normal_id_glm_lpdf: Matrix of independent variables is inf, but must be finite! (in 'prophet.stan', line 137, column 2 to line 142, column 4)\n",
      "Exception: normal_id_glm_lpdf: Scale vector is 0, but must be positive finite! (in 'prophet.stan', line 137, column 2 to line 142, column 4)\n",
      "Exception: normal_id_glm_lpdf: Scale vector is 0, but must be positive finite! (in 'prophet.stan', line 137, column 2 to line 142, column 4)\n",
      "\tException: normal_id_glm_lpdf: Matrix of independent variables is inf, but must be finite! (in 'prophet.stan', line 137, column 2 to line 142, column 4)\n",
      "Exception: normal_id_glm_lpdf: Scale vector is 0, but must be positive finite! (in 'prophet.stan', line 137, column 2 to line 142, column 4)\n",
      "\tException: normal_id_glm_lpdf: Matrix of independent variables is inf, but must be finite! (in 'prophet.stan', line 137, column 2 to line 142, column 4)\n",
      "Consider re-running with show_console=True if the above output is unclear!\n",
      "04:36:25 - cmdstanpy - WARNING - Some chains may have failed to converge.\n",
      "\tChain 1 had 106 iterations at max treedepth (70.7%)\n",
      "\tChain 2 had 115 iterations at max treedepth (76.7%)\n",
      "\tChain 3 had 116 iterations at max treedepth (77.3%)\n",
      "\tChain 4 had 112 iterations at max treedepth (74.7%)\n",
      "\tUse the \"diagnose()\" method on the CmdStanMCMC object to see further information.\n"
     ]
    },
    {
     "name": "stdout",
     "output_type": "stream",
     "text": [
      "\n"
     ]
    },
    {
     "name": "stderr",
     "output_type": "stream",
     "text": [
      "04:36:25 - cmdstanpy - INFO - CmdStan start processing\n"
     ]
    },
    {
     "data": {
      "application/vnd.jupyter.widget-view+json": {
       "model_id": "52fc9f6b94c842f9bbfd9a971163b167",
       "version_major": 2,
       "version_minor": 0
      },
      "text/plain": [
       "chain 1 |          | 00:00 Status"
      ]
     },
     "metadata": {},
     "output_type": "display_data"
    },
    {
     "data": {
      "application/vnd.jupyter.widget-view+json": {
       "model_id": "5f29c935bacb4dad94176c69f60da6da",
       "version_major": 2,
       "version_minor": 0
      },
      "text/plain": [
       "chain 2 |          | 00:00 Status"
      ]
     },
     "metadata": {},
     "output_type": "display_data"
    },
    {
     "data": {
      "application/vnd.jupyter.widget-view+json": {
       "model_id": "aea2d7f2907543bd936c11bffc8896aa",
       "version_major": 2,
       "version_minor": 0
      },
      "text/plain": [
       "chain 3 |          | 00:00 Status"
      ]
     },
     "metadata": {},
     "output_type": "display_data"
    },
    {
     "data": {
      "application/vnd.jupyter.widget-view+json": {
       "model_id": "27aa9d5548fd4adfb81f05e6f1263135",
       "version_major": 2,
       "version_minor": 0
      },
      "text/plain": [
       "chain 4 |          | 00:00 Status"
      ]
     },
     "metadata": {},
     "output_type": "display_data"
    },
    {
     "name": "stdout",
     "output_type": "stream",
     "text": [
      "                                                                                                                                                                                                                                                                                                                                                                                                                                                                                                "
     ]
    },
    {
     "name": "stderr",
     "output_type": "stream",
     "text": [
      "04:36:32 - cmdstanpy - INFO - CmdStan done processing.\n",
      "04:36:32 - cmdstanpy - WARNING - Non-fatal error during sampling:\n",
      "Exception: normal_id_glm_lpdf: Scale vector is 0, but must be positive finite! (in 'prophet.stan', line 137, column 2 to line 142, column 4)\n",
      "Exception: normal_id_glm_lpdf: Scale vector is 0, but must be positive finite! (in 'prophet.stan', line 137, column 2 to line 142, column 4)\n",
      "Exception: normal_id_glm_lpdf: Scale vector is 0, but must be positive finite! (in 'prophet.stan', line 137, column 2 to line 142, column 4)\n",
      "Exception: normal_id_glm_lpdf: Scale vector is 0, but must be positive finite! (in 'prophet.stan', line 137, column 2 to line 142, column 4)\n",
      "Consider re-running with show_console=True if the above output is unclear!\n",
      "04:36:32 - cmdstanpy - WARNING - Some chains may have failed to converge.\n",
      "\tChain 1 had 117 iterations at max treedepth (78.0%)\n",
      "\tChain 2 had 125 iterations at max treedepth (83.3%)\n",
      "\tChain 3 had 106 iterations at max treedepth (70.7%)\n",
      "\tChain 4 had 119 iterations at max treedepth (79.3%)\n",
      "\tUse the \"diagnose()\" method on the CmdStanMCMC object to see further information.\n"
     ]
    },
    {
     "name": "stdout",
     "output_type": "stream",
     "text": [
      "\n"
     ]
    },
    {
     "name": "stderr",
     "output_type": "stream",
     "text": [
      "04:36:33 - cmdstanpy - INFO - CmdStan start processing\n"
     ]
    },
    {
     "data": {
      "application/vnd.jupyter.widget-view+json": {
       "model_id": "ce23b0ed2da9470bad5b68704cc07adf",
       "version_major": 2,
       "version_minor": 0
      },
      "text/plain": [
       "chain 1 |          | 00:00 Status"
      ]
     },
     "metadata": {},
     "output_type": "display_data"
    },
    {
     "data": {
      "application/vnd.jupyter.widget-view+json": {
       "model_id": "55e521792e4244ada7dc6e61dab3471f",
       "version_major": 2,
       "version_minor": 0
      },
      "text/plain": [
       "chain 2 |          | 00:00 Status"
      ]
     },
     "metadata": {},
     "output_type": "display_data"
    },
    {
     "data": {
      "application/vnd.jupyter.widget-view+json": {
       "model_id": "296e0a97535f448cbb21751ee9a96160",
       "version_major": 2,
       "version_minor": 0
      },
      "text/plain": [
       "chain 3 |          | 00:00 Status"
      ]
     },
     "metadata": {},
     "output_type": "display_data"
    },
    {
     "data": {
      "application/vnd.jupyter.widget-view+json": {
       "model_id": "0a1369c4e68e417e810e9756dd9fbb18",
       "version_major": 2,
       "version_minor": 0
      },
      "text/plain": [
       "chain 4 |          | 00:00 Status"
      ]
     },
     "metadata": {},
     "output_type": "display_data"
    }
   ],
   "source": [
    "\n",
    "data_lag = series.iloc[:200, :].copy()\n",
    "data_train = series.iloc[200:400, :].copy()\n",
    "data_test = series.iloc[400:, :].copy()\n",
    "\n",
    "data_joint = pandas.concat((data_lag, data_train, data_test), axis=0, ignore_index=True)\n",
    "\n",
    "fold_n = data_train.shape[0] + data_test.shape[0]\n",
    "preds = []\n",
    "for j in range(fold_n):\n",
    "    y_sub = data_joint.iloc[i:data_lag.shape[0]+i].copy()\n",
    "    y_pred = data_joint.iloc[[data_lag.shape[0]+i]].copy()\n",
    "    \n",
    "    m = Prophet(seasonality_mode='additive', interval_width=0.90, mcmc_samples=300, changepoint_prior_scale=0.005, changepoint_range=1.0)\n",
    "    m.fit(y_sub)\n",
    "\n",
    "    predictions = m.predict(y_pred)\n",
    "    preds.append(predictions)\n",
    "preds = pandas.concat(preds, axis=0, ignore_index=True)\n"
   ]
  },
  {
   "cell_type": "code",
   "execution_count": null,
   "id": "723b6ae4-14ab-4dc4-bee6-c96e95408e38",
   "metadata": {},
   "outputs": [],
   "source": []
  },
  {
   "cell_type": "code",
   "execution_count": null,
   "id": "6f48548a-d96d-495c-8e9b-01f2f07aa771",
   "metadata": {},
   "outputs": [],
   "source": []
  },
  {
   "cell_type": "code",
   "execution_count": null,
   "id": "5f15a7e0-b303-4a25-bc2c-3f54cf49b413",
   "metadata": {},
   "outputs": [],
   "source": []
  },
  {
   "cell_type": "code",
   "execution_count": null,
   "id": "ec1a9812-0cad-4d47-9e3f-c530ca90020f",
   "metadata": {},
   "outputs": [],
   "source": []
  },
  {
   "cell_type": "code",
   "execution_count": null,
   "id": "792aa254-4088-4cc6-a23d-983e71c2831b",
   "metadata": {},
   "outputs": [],
   "source": []
  },
  {
   "cell_type": "code",
   "execution_count": null,
   "id": "2686e180-6777-4943-9538-58cb76eba218",
   "metadata": {},
   "outputs": [],
   "source": []
  },
  {
   "cell_type": "code",
   "execution_count": null,
   "id": "b3eed2fb-b2ab-4bc5-af16-086a37603276",
   "metadata": {},
   "outputs": [],
   "source": []
  },
  {
   "cell_type": "code",
   "execution_count": null,
   "id": "5c881dfa-7072-40e2-8866-7f18413952b5",
   "metadata": {},
   "outputs": [],
   "source": []
  },
  {
   "cell_type": "code",
   "execution_count": null,
   "id": "ac8effe2-0f9c-400e-b3cf-ce3cc68df2c0",
   "metadata": {},
   "outputs": [],
   "source": []
  },
  {
   "cell_type": "code",
   "execution_count": null,
   "id": "8b273fc8-559a-4cd5-8495-c1390cf19148",
   "metadata": {},
   "outputs": [],
   "source": []
  },
  {
   "cell_type": "code",
   "execution_count": null,
   "id": "8625672e-9b49-49e0-8900-c723b54fabfb",
   "metadata": {},
   "outputs": [],
   "source": []
  },
  {
   "cell_type": "code",
   "execution_count": null,
   "id": "45180fcf-28b6-42df-903a-b33febcd80c4",
   "metadata": {},
   "outputs": [],
   "source": []
  },
  {
   "cell_type": "code",
   "execution_count": 726,
   "id": "880ff509-8d35-46da-96d7-3cf2e344c372",
   "metadata": {},
   "outputs": [],
   "source": [
    "# from prophet.plot import plot_plotly, plot_components_plotly\n",
    "\n",
    "# plot_plotly(m, forecast)"
   ]
  },
  {
   "cell_type": "code",
   "execution_count": 460,
   "id": "d4df799b-69f4-4178-8c51-5e09dd378991",
   "metadata": {},
   "outputs": [],
   "source": [
    "# plot_components_plotly(m, forecast)"
   ]
  },
  {
   "cell_type": "code",
   "execution_count": null,
   "id": "93f18729-3896-4084-9961-c7e60bb654fc",
   "metadata": {},
   "outputs": [],
   "source": []
  }
 ],
 "metadata": {
  "kernelspec": {
   "display_name": "Python 3 (ipykernel)",
   "language": "python",
   "name": "python3"
  },
  "language_info": {
   "codemirror_mode": {
    "name": "ipython",
    "version": 3
   },
   "file_extension": ".py",
   "mimetype": "text/x-python",
   "name": "python",
   "nbconvert_exporter": "python",
   "pygments_lexer": "ipython3",
   "version": "3.10.10"
  }
 },
 "nbformat": 4,
 "nbformat_minor": 5
}
