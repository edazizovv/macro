{
 "cells": [
  {
   "cell_type": "code",
   "execution_count": 1,
   "id": "96c5bc35-7502-49b1-9fea-bafd546e1b3d",
   "metadata": {},
   "outputs": [],
   "source": [
    "# alpha vantage api key: 3QX34FK3JTICGMLN"
   ]
  },
  {
   "cell_type": "code",
   "execution_count": 2,
   "id": "b8f98889-244e-46ed-b10c-0f3628059168",
   "metadata": {},
   "outputs": [],
   "source": [
    "API_KEY = '3QX34FK3JTICGMLN'"
   ]
  },
  {
   "cell_type": "code",
   "execution_count": 17,
   "id": "44a7efc9-1505-4157-ade5-16570cbbbef9",
   "metadata": {
    "scrolled": true
   },
   "outputs": [
    {
     "name": "stdout",
     "output_type": "stream",
     "text": [
      "{}\n"
     ]
    }
   ],
   "source": [
    "import requests\n",
    "\n",
    "ticker = 'SPX'\n",
    "# replace the \"demo\" apikey below with your own key from https://www.alphavantage.co/support/#api-key\n",
    "url = 'https://www.alphavantage.co/query?function=EARNINGS&symbol={1}&apikey={0}'.format(API_KEY, ticker)\n",
    "r = requests.get(url)\n",
    "data = r.json()\n",
    "\n",
    "print(data)"
   ]
  },
  {
   "cell_type": "code",
   "execution_count": 10,
   "id": "15039aad-8342-40c4-9b2a-0a671daf72c1",
   "metadata": {},
   "outputs": [],
   "source": [
    "dated = pandas.DataFrame(data=[[x['reportedDate'], x['reportedEPS'], x['estimatedEPS']] for x in data['quarterlyEarnings']],\n",
    "                         columns=['reported_date', 'reported_eps', 'estimated_eps'])"
   ]
  },
  {
   "cell_type": "code",
   "execution_count": 4,
   "id": "514afcff-d008-481b-a0ec-71c80d6b740b",
   "metadata": {},
   "outputs": [],
   "source": [
    "import pandas"
   ]
  },
  {
   "cell_type": "code",
   "execution_count": 11,
   "id": "7132040f-cdf6-421e-9f75-450bacef1a24",
   "metadata": {},
   "outputs": [
    {
     "data": {
      "text/html": [
       "<div>\n",
       "<style scoped>\n",
       "    .dataframe tbody tr th:only-of-type {\n",
       "        vertical-align: middle;\n",
       "    }\n",
       "\n",
       "    .dataframe tbody tr th {\n",
       "        vertical-align: top;\n",
       "    }\n",
       "\n",
       "    .dataframe thead th {\n",
       "        text-align: right;\n",
       "    }\n",
       "</style>\n",
       "<table border=\"1\" class=\"dataframe\">\n",
       "  <thead>\n",
       "    <tr style=\"text-align: right;\">\n",
       "      <th></th>\n",
       "      <th>reported_date</th>\n",
       "      <th>reported_eps</th>\n",
       "      <th>estimated_eps</th>\n",
       "    </tr>\n",
       "  </thead>\n",
       "  <tbody>\n",
       "    <tr>\n",
       "      <th>0</th>\n",
       "      <td>2023-10-25</td>\n",
       "      <td>2.2</td>\n",
       "      <td>2.13</td>\n",
       "    </tr>\n",
       "    <tr>\n",
       "      <th>1</th>\n",
       "      <td>2023-07-19</td>\n",
       "      <td>2.18</td>\n",
       "      <td>2.01</td>\n",
       "    </tr>\n",
       "    <tr>\n",
       "      <th>2</th>\n",
       "      <td>2023-04-19</td>\n",
       "      <td>1.36</td>\n",
       "      <td>1.26</td>\n",
       "    </tr>\n",
       "    <tr>\n",
       "      <th>3</th>\n",
       "      <td>2023-01-25</td>\n",
       "      <td>3.6</td>\n",
       "      <td>3.6</td>\n",
       "    </tr>\n",
       "    <tr>\n",
       "      <th>4</th>\n",
       "      <td>2022-10-19</td>\n",
       "      <td>1.81</td>\n",
       "      <td>1.77</td>\n",
       "    </tr>\n",
       "    <tr>\n",
       "      <th>...</th>\n",
       "      <td>...</td>\n",
       "      <td>...</td>\n",
       "      <td>...</td>\n",
       "    </tr>\n",
       "    <tr>\n",
       "      <th>106</th>\n",
       "      <td>1997-04-23</td>\n",
       "      <td>0.59</td>\n",
       "      <td>0.58</td>\n",
       "    </tr>\n",
       "    <tr>\n",
       "      <th>107</th>\n",
       "      <td>1997-01-21</td>\n",
       "      <td>0.98</td>\n",
       "      <td>0.99</td>\n",
       "    </tr>\n",
       "    <tr>\n",
       "      <th>108</th>\n",
       "      <td>1996-10-21</td>\n",
       "      <td>0.61</td>\n",
       "      <td>0.61</td>\n",
       "    </tr>\n",
       "    <tr>\n",
       "      <th>109</th>\n",
       "      <td>1996-07-25</td>\n",
       "      <td>0.63</td>\n",
       "      <td>0.61</td>\n",
       "    </tr>\n",
       "    <tr>\n",
       "      <th>110</th>\n",
       "      <td>1996-04-17</td>\n",
       "      <td>0.55</td>\n",
       "      <td>0.6</td>\n",
       "    </tr>\n",
       "  </tbody>\n",
       "</table>\n",
       "<p>111 rows × 3 columns</p>\n",
       "</div>"
      ],
      "text/plain": [
       "    reported_date reported_eps estimated_eps\n",
       "0      2023-10-25          2.2          2.13\n",
       "1      2023-07-19         2.18          2.01\n",
       "2      2023-04-19         1.36          1.26\n",
       "3      2023-01-25          3.6           3.6\n",
       "4      2022-10-19         1.81          1.77\n",
       "..            ...          ...           ...\n",
       "106    1997-04-23         0.59          0.58\n",
       "107    1997-01-21         0.98          0.99\n",
       "108    1996-10-21         0.61          0.61\n",
       "109    1996-07-25         0.63          0.61\n",
       "110    1996-04-17         0.55           0.6\n",
       "\n",
       "[111 rows x 3 columns]"
      ]
     },
     "execution_count": 11,
     "metadata": {},
     "output_type": "execute_result"
    }
   ],
   "source": [
    "dated"
   ]
  },
  {
   "cell_type": "code",
   "execution_count": null,
   "id": "d8f2c3dd-6637-4238-8017-add5af054070",
   "metadata": {},
   "outputs": [],
   "source": []
  },
  {
   "cell_type": "code",
   "execution_count": null,
   "id": "5b099d3f-fd38-4bf7-a2cc-c7a60683d79b",
   "metadata": {},
   "outputs": [],
   "source": []
  },
  {
   "cell_type": "code",
   "execution_count": 15,
   "id": "c9dd6910-0b2a-4581-9f57-9b2f885c2c39",
   "metadata": {},
   "outputs": [
    {
     "name": "stdout",
     "output_type": "stream",
     "text": [
      "{'bestMatches': [{'1. symbol': 'SPY', '2. name': 'SPDR S&P 500 ETF Trust', '3. type': 'ETF', '4. region': 'United States', '5. marketOpen': '09:30', '6. marketClose': '16:00', '7. timezone': 'UTC-04', '8. currency': 'USD', '9. matchScore': '1.0000'}, {'1. symbol': 'SPY1.FRK', '2. name': 'SSgA SPDR ETFs Europe I Public Limited Company - SPDR S&P 500 Low Volatility UCITS ETF', '3. type': 'ETF', '4. region': 'Frankfurt', '5. marketOpen': '08:00', '6. marketClose': '20:00', '7. timezone': 'UTC+02', '8. currency': 'EUR', '9. matchScore': '0.6667'}, {'1. symbol': 'SPY2.FRK', '2. name': 'SSgA SPDR ETFs Europe I Public Limited Company - SPDR Dow Jones Global Real Estate UCITS ETF', '3. type': 'ETF', '4. region': 'Frankfurt', '5. marketOpen': '08:00', '6. marketClose': '20:00', '7. timezone': 'UTC+02', '8. currency': 'EUR', '9. matchScore': '0.6667'}, {'1. symbol': 'SPY4.FRK', '2. name': 'SSgA SPDR S&P 400 US Mid Cap', '3. type': 'ETF', '4. region': 'Frankfurt', '5. marketOpen': '08:00', '6. marketClose': '20:00', '7. timezone': 'UTC+02', '8. currency': 'EUR', '9. matchScore': '0.6667'}, {'1. symbol': 'SPY4.LON', '2. name': 'SSgA SPDR ETFs Europe I Public Limited Company - SPDR S&P 400 US Mid Cap UCITS ETF', '3. type': 'ETF', '4. region': 'United Kingdom', '5. marketOpen': '08:00', '6. marketClose': '16:30', '7. timezone': 'UTC+01', '8. currency': 'USD', '9. matchScore': '0.6667'}, {'1. symbol': 'SPY1.DEX', '2. name': 'SPDR® S&P 500 Low Volatility UCITS ETF', '3. type': 'ETF', '4. region': 'XETRA', '5. marketOpen': '08:00', '6. marketClose': '20:00', '7. timezone': 'UTC+02', '8. currency': 'EUR', '9. matchScore': '0.6000'}, {'1. symbol': 'SPY2.DEX', '2. name': 'SPDR® Dow Jones Global Real Estate UCITS ETF USD Cap', '3. type': 'ETF', '4. region': 'XETRA', '5. marketOpen': '08:00', '6. marketClose': '20:00', '7. timezone': 'UTC+02', '8. currency': 'EUR', '9. matchScore': '0.6000'}, {'1. symbol': 'SPY4.DEX', '2. name': 'SSgA SPDR S&P 400 US Mid Cap', '3. type': 'ETF', '4. region': 'XETRA', '5. marketOpen': '08:00', '6. marketClose': '20:00', '7. timezone': 'UTC+02', '8. currency': 'EUR', '9. matchScore': '0.6000'}, {'1. symbol': 'SPY4.PAR', '2. name': 'SSgA SPDR S&P 400 US Mid Cap', '3. type': 'ETF', '4. region': 'Paris', '5. marketOpen': '09:00', '6. marketClose': '17:30', '7. timezone': 'UTC+02', '8. currency': 'EUR', '9. matchScore': '0.6000'}, {'1. symbol': 'SPY5.DEX', '2. name': 'SPDR® S&P 500 UCITS ETF', '3. type': 'ETF', '4. region': 'XETRA', '5. marketOpen': '08:00', '6. marketClose': '20:00', '7. timezone': 'UTC+02', '8. currency': 'EUR', '9. matchScore': '0.6000'}]}\n"
     ]
    }
   ],
   "source": [
    "import requests\n",
    "\n",
    "keywords = 'SPY'\n",
    "# replace the \"demo\" apikey below with your own key from https://www.alphavantage.co/support/#api-key\n",
    "url = 'https://www.alphavantage.co/query?function=SYMBOL_SEARCH&keywords={1}&apikey={0}'.format(API_KEY, keywords)\n",
    "r = requests.get(url)\n",
    "data = r.json()\n",
    "\n",
    "print(data)"
   ]
  },
  {
   "cell_type": "code",
   "execution_count": null,
   "id": "4f97d205-ae55-443f-b53d-a7710ebed8e8",
   "metadata": {},
   "outputs": [],
   "source": []
  }
 ],
 "metadata": {
  "kernelspec": {
   "display_name": "Python 3 (ipykernel)",
   "language": "python",
   "name": "python3"
  },
  "language_info": {
   "codemirror_mode": {
    "name": "ipython",
    "version": 3
   },
   "file_extension": ".py",
   "mimetype": "text/x-python",
   "name": "python",
   "nbconvert_exporter": "python",
   "pygments_lexer": "ipython3",
   "version": "3.10.10"
  }
 },
 "nbformat": 4,
 "nbformat_minor": 5
}
