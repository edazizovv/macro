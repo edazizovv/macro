{
 "cells": [
  {
   "cell_type": "code",
   "execution_count": 1,
   "id": "1d9aa238-dd18-4491-be38-afe001d7cf65",
   "metadata": {},
   "outputs": [
    {
     "name": "stderr",
     "output_type": "stream",
     "text": [
      "C:\\TET\\env\\macrox\\lib\\site-packages\\bitsandbytes\\cextension.py:34: UserWarning: The installed version of bitsandbytes was compiled without GPU support. 8-bit optimizers, 8-bit multiplication, and GPU quantization are unavailable.\n",
      "  warn(\"The installed version of bitsandbytes was compiled without GPU support. \"\n"
     ]
    },
    {
     "name": "stdout",
     "output_type": "stream",
     "text": [
      "'NoneType' object has no attribute 'cadam32bit_grad_fp32'\n"
     ]
    }
   ],
   "source": [
    "#\n",
    "import pandas\n",
    "from statsmodels.tsa.seasonal import MSTL\n",
    "from matplotlib import pyplot\n",
    "\n",
    "#\n",
    "import lightning.pytorch as pl\n",
    "from lightning.pytorch.callbacks import EarlyStopping\n",
    "import pandas as pd\n",
    "import torch\n",
    "\n",
    "from pytorch_forecasting import Baseline, NBeats, TimeSeriesDataSet\n",
    "from pytorch_forecasting.data import NaNLabelEncoder\n",
    "from pytorch_forecasting.data.examples import generate_ar_data\n",
    "from pytorch_forecasting.metrics import SMAPE\n",
    "\n",
    "#\n"
   ]
  },
  {
   "cell_type": "code",
   "execution_count": 2,
   "id": "a1993a9d-92c7-47ba-9b0e-6e0f4de3f7d6",
   "metadata": {},
   "outputs": [],
   "source": [
    "from pytorch_lightning import loggers as pl_loggers\n",
    "tensorboard = pl_loggers.TensorBoardLogger('./')"
   ]
  },
  {
   "cell_type": "code",
   "execution_count": 3,
   "id": "d85a12a8-f654-4808-89dc-a5aff56cb3c5",
   "metadata": {},
   "outputs": [
    {
     "data": {
      "text/html": [
       "<div>\n",
       "<style scoped>\n",
       "    .dataframe tbody tr th:only-of-type {\n",
       "        vertical-align: middle;\n",
       "    }\n",
       "\n",
       "    .dataframe tbody tr th {\n",
       "        vertical-align: top;\n",
       "    }\n",
       "\n",
       "    .dataframe thead th {\n",
       "        text-align: right;\n",
       "    }\n",
       "</style>\n",
       "<table border=\"1\" class=\"dataframe\">\n",
       "  <thead>\n",
       "    <tr style=\"text-align: right;\">\n",
       "      <th></th>\n",
       "      <th>ds</th>\n",
       "      <th>y</th>\n",
       "    </tr>\n",
       "  </thead>\n",
       "  <tbody>\n",
       "    <tr>\n",
       "      <th>662</th>\n",
       "      <td>1970-02-01</td>\n",
       "      <td>45.800</td>\n",
       "    </tr>\n",
       "    <tr>\n",
       "      <th>663</th>\n",
       "      <td>1970-03-01</td>\n",
       "      <td>46.000</td>\n",
       "    </tr>\n",
       "    <tr>\n",
       "      <th>664</th>\n",
       "      <td>1970-04-01</td>\n",
       "      <td>46.100</td>\n",
       "    </tr>\n",
       "    <tr>\n",
       "      <th>665</th>\n",
       "      <td>1970-05-01</td>\n",
       "      <td>46.200</td>\n",
       "    </tr>\n",
       "    <tr>\n",
       "      <th>666</th>\n",
       "      <td>1970-06-01</td>\n",
       "      <td>46.400</td>\n",
       "    </tr>\n",
       "    <tr>\n",
       "      <th>...</th>\n",
       "      <td>...</td>\n",
       "      <td>...</td>\n",
       "    </tr>\n",
       "    <tr>\n",
       "      <th>1301</th>\n",
       "      <td>2023-05-01</td>\n",
       "      <td>396.726</td>\n",
       "    </tr>\n",
       "    <tr>\n",
       "      <th>1302</th>\n",
       "      <td>2023-06-01</td>\n",
       "      <td>398.593</td>\n",
       "    </tr>\n",
       "    <tr>\n",
       "      <th>1303</th>\n",
       "      <td>2023-07-01</td>\n",
       "      <td>400.210</td>\n",
       "    </tr>\n",
       "    <tr>\n",
       "      <th>1304</th>\n",
       "      <td>2023-08-01</td>\n",
       "      <td>402.247</td>\n",
       "    </tr>\n",
       "    <tr>\n",
       "      <th>1305</th>\n",
       "      <td>2023-09-01</td>\n",
       "      <td>404.487</td>\n",
       "    </tr>\n",
       "  </tbody>\n",
       "</table>\n",
       "<p>644 rows × 2 columns</p>\n",
       "</div>"
      ],
      "text/plain": [
       "             ds        y\n",
       "662  1970-02-01   45.800\n",
       "663  1970-03-01   46.000\n",
       "664  1970-04-01   46.100\n",
       "665  1970-05-01   46.200\n",
       "666  1970-06-01   46.400\n",
       "...         ...      ...\n",
       "1301 2023-05-01  396.726\n",
       "1302 2023-06-01  398.593\n",
       "1303 2023-07-01  400.210\n",
       "1304 2023-08-01  402.247\n",
       "1305 2023-09-01  404.487\n",
       "\n",
       "[644 rows x 2 columns]"
      ]
     },
     "execution_count": 3,
     "metadata": {},
     "output_type": "execute_result"
    }
   ],
   "source": [
    "# driver = 'JTU5300QUL'\n",
    "# driver = 'QUSR628BIS'\n",
    "# driver = 'RAILFRTCARLOADSD11'\n",
    "# driver = 'FRGSHPUSM649NCIS'\n",
    "# driver = 'TSIFRGHT'\n",
    "# driver = 'AIRRTMFMD11'\n",
    "driver = 'CUUR0000SEHA'\n",
    "series = pandas.read_csv('./data/{0}.csv'.format(driver))\n",
    "# series = data[[driver]].copy()\n",
    "# series = series.reset_index().rename(columns={'jx': 'ds', driver: 'y'})\n",
    "series = series.rename(columns={'DATE': 'ds', driver: 'y'})\n",
    "series['ds'] = pandas.to_datetime(series['ds'])\n",
    "series['y'] = series['y'].apply(func=lambda x: pandas.NA if x == '.' else x)\n",
    "series['y'] = series['y'].ffill()\n",
    "series['y'] = pandas.to_numeric(series['y'])\n",
    "series = series[series['ds'] > '1970-01-01']\n",
    "# series['y'] = series['y'].pct_change()\n",
    "# series = series[series['ds'] > '2000-01-01']\n",
    "series"
   ]
  },
  {
   "cell_type": "code",
   "execution_count": 4,
   "id": "1bbaabf9-2196-4280-8bd8-974bebfd9eb5",
   "metadata": {},
   "outputs": [],
   "source": [
    "# series.set_index('ds').iloc[80:120, :].plot(style='.')  # '.-'"
   ]
  },
  {
   "cell_type": "code",
   "execution_count": 5,
   "id": "fbec7102-a620-4990-81d7-c65d36c6b6a8",
   "metadata": {},
   "outputs": [
    {
     "data": {
      "text/plain": [
       "<Axes: xlabel='ds'>"
      ]
     },
     "execution_count": 5,
     "metadata": {},
     "output_type": "execute_result"
    },
    {
     "data": {
      "image/png": "[encoded data removed]",
      "text/plain": [
       "<Figure size 640x480 with 1 Axes>"
      ]
     },
     "metadata": {},
     "output_type": "display_data"
    }
   ],
   "source": [
    "series.set_index('ds').plot(style='.')  # '.-'"
   ]
  },
  {
   "cell_type": "code",
   "execution_count": 6,
   "id": "8d237f49-68e2-45df-af85-e77b090b2fbd",
   "metadata": {},
   "outputs": [],
   "source": [
    "# create dataset and dataloaders\n",
    "max_encoder_length = 60\n",
    "max_prediction_length = 5\n",
    "\n",
    "# training_cutoff = (series.shape[0] - 1) - max_prediction_length\n",
    "training_cutoff = int(series.shape[0] / 2)\n",
    "series['time_idx'] = list(range(series.shape[0]))\n",
    "series['group'] = 0\n",
    "\n",
    "context_length = max_encoder_length\n",
    "prediction_length = max_prediction_length\n",
    "\n",
    "training = TimeSeriesDataSet(\n",
    "    series.iloc[:training_cutoff, :],\n",
    "    time_idx=\"time_idx\",\n",
    "    target=\"y\",\n",
    "    # categorical_encoders={\"series\": NaNLabelEncoder().fit(data.series)},\n",
    "    group_ids=[\"group\"],\n",
    "    # only unknown variable is \"value\" - and N-Beats can also not take any additional variables\n",
    "    time_varying_unknown_reals=[\"y\"],\n",
    "    max_encoder_length=context_length,\n",
    "    max_prediction_length=prediction_length,\n",
    ")\n",
    "\n",
    "validation = TimeSeriesDataSet.from_dataset(training, series, min_prediction_idx=training_cutoff)\n",
    "batch_size = 128\n",
    "train_dataloader = training.to_dataloader(train=True, batch_size=batch_size, num_workers=0)\n",
    "val_dataloader = validation.to_dataloader(train=False, batch_size=batch_size, num_workers=0)"
   ]
  },
  {
   "cell_type": "code",
   "execution_count": 7,
   "id": "238feca5-740e-421d-bfe2-269836fbe698",
   "metadata": {},
   "outputs": [
    {
     "name": "stderr",
     "output_type": "stream",
     "text": [
      "GPU available: False, used: False\n",
      "TPU available: False, using: 0 TPU cores\n",
      "IPU available: False, using: 0 IPUs\n",
      "HPU available: False, using: 0 HPUs\n",
      "C:\\TET\\env\\macrox\\lib\\site-packages\\lightning\\pytorch\\utilities\\parsing.py:198: Attribute 'loss' is an instance of `nn.Module` and is already saved during checkpointing. It is recommended to ignore them using `self.save_hyperparameters(ignore=['loss'])`.\n",
      "C:\\TET\\env\\macrox\\lib\\site-packages\\lightning\\pytorch\\utilities\\parsing.py:198: Attribute 'logging_metrics' is an instance of `nn.Module` and is already saved during checkpointing. It is recommended to ignore them using `self.save_hyperparameters(ignore=['logging_metrics'])`.\n",
      "C:\\TET\\env\\macrox\\lib\\site-packages\\pytorch_forecasting\\models\\nbeats\\sub_modules.py:154: UserWarning: Creating a tensor from a list of numpy.ndarrays is extremely slow. Please consider converting the list to a single numpy.ndarray with numpy.array() before converting to a tensor. (Triggered internally at ..\\torch\\csrc\\utils\\tensor_new.cpp:264.)\n",
      "  coefficients = torch.tensor([backcast_linspace**i for i in range(thetas_dim)], dtype=torch.float32)\n"
     ]
    }
   ],
   "source": [
    "# pl.seed_everything(42)\n",
    "trainer = pl.Trainer(accelerator=\"auto\", gradient_clip_val=0.01)\n",
    "net = NBeats.from_dataset(training, learning_rate=3e-2, weight_decay=1e-2, widths=[32, 512], backcast_loss_ratio=0.1)"
   ]
  },
  {
   "cell_type": "code",
   "execution_count": 8,
   "id": "79999cf9-9be4-4003-8378-6e212f5cb496",
   "metadata": {},
   "outputs": [
    {
     "name": "stderr",
     "output_type": "stream",
     "text": [
      "C:\\TET\\env\\macrox\\lib\\site-packages\\lightning\\pytorch\\loops\\utilities.py:73: `max_epochs` was not set. Setting it to 1000 epochs. To train without an epoch limit, set `max_epochs=-1`.\n",
      "C:\\TET\\env\\macrox\\lib\\site-packages\\lightning\\pytorch\\trainer\\connectors\\data_connector.py:441: The 'train_dataloader' does not have many workers which may be a bottleneck. Consider increasing the value of the `num_workers` argument` to `num_workers=11` in the `DataLoader` to improve performance.\n",
      "C:\\TET\\env\\macrox\\lib\\site-packages\\lightning\\pytorch\\loops\\fit_loop.py:293: The number of training batches (2) is smaller than the logging interval Trainer(log_every_n_steps=50). Set a lower value for log_every_n_steps if you want to see logs for the training epoch.\n",
      "C:\\TET\\env\\macrox\\lib\\site-packages\\lightning\\pytorch\\trainer\\connectors\\data_connector.py:441: The 'val_dataloader' does not have many workers which may be a bottleneck. Consider increasing the value of the `num_workers` argument` to `num_workers=11` in the `DataLoader` to improve performance.\n"
     ]
    },
    {
     "data": {
      "application/vnd.jupyter.widget-view+json": {
       "model_id": "24463a6b8eca40619151142e7fd6f6f8",
       "version_major": 2,
       "version_minor": 0
      },
      "text/plain": [
       "Finding best initial lr:   0%|          | 0/100 [00:00<?, ?it/s]"
      ]
     },
     "metadata": {},
     "output_type": "display_data"
    },
    {
     "name": "stderr",
     "output_type": "stream",
     "text": [
      "`Trainer.fit` stopped: `max_steps=100` reached.\n",
      "Learning rate set to 0.007079457843841375\n",
      "Restoring states from the checkpoint path at C:\\TET\\macro\\.lr_find_510c871e-1633-4f5b-a55d-a9976d099468.ckpt\n",
      "Restored all states from the checkpoint at C:\\TET\\macro\\.lr_find_510c871e-1633-4f5b-a55d-a9976d099468.ckpt\n"
     ]
    },
    {
     "name": "stdout",
     "output_type": "stream",
     "text": [
      "suggested learning rate: 0.007079457843841375\n"
     ]
    },
    {
     "data": {
      "image/png": "[encoded data removed]",
      "text/plain": [
       "<Figure size 640x480 with 1 Axes>"
      ]
     },
     "metadata": {},
     "output_type": "display_data"
    },
    {
     "name": "stderr",
     "output_type": "stream",
     "text": [
      "C:\\Users\\Edward\\AppData\\Local\\Temp\\ipykernel_10456\\330161667.py:7: UserWarning: FigureCanvasAgg is non-interactive, and thus cannot be shown\n",
      "  fig.show()\n"
     ]
    }
   ],
   "source": [
    "# find optimal learning rate\n",
    "from lightning.pytorch.tuner import Tuner\n",
    "\n",
    "res = Tuner(trainer).lr_find(net, train_dataloaders=train_dataloader, val_dataloaders=val_dataloader, min_lr=1e-5)\n",
    "print(f\"suggested learning rate: {res.suggestion()}\")\n",
    "fig = res.plot(show=True, suggest=True)\n",
    "fig.show()\n",
    "net.hparams.learning_rate = res.suggestion()"
   ]
  },
  {
   "cell_type": "code",
   "execution_count": 9,
   "id": "4c99c75b-4e48-4d6f-8e0c-94ef8c6cd551",
   "metadata": {},
   "outputs": [
    {
     "name": "stderr",
     "output_type": "stream",
     "text": [
      "GPU available: False, used: False\n",
      "TPU available: False, using: 0 TPU cores\n",
      "IPU available: False, using: 0 IPUs\n",
      "HPU available: False, using: 0 HPUs\n",
      "C:\\TET\\env\\macrox\\lib\\site-packages\\lightning\\pytorch\\utilities\\parsing.py:198: Attribute 'loss' is an instance of `nn.Module` and is already saved during checkpointing. It is recommended to ignore them using `self.save_hyperparameters(ignore=['loss'])`.\n",
      "C:\\TET\\env\\macrox\\lib\\site-packages\\lightning\\pytorch\\utilities\\parsing.py:198: Attribute 'logging_metrics' is an instance of `nn.Module` and is already saved during checkpointing. It is recommended to ignore them using `self.save_hyperparameters(ignore=['logging_metrics'])`.\n",
      "\n",
      "  | Name            | Type       | Params\n",
      "-----------------------------------------------\n",
      "0 | loss            | MASE       | 0     \n",
      "1 | logging_metrics | ModuleList | 0     \n",
      "2 | net_blocks      | ModuleList | 1.7 M \n",
      "-----------------------------------------------\n",
      "1.7 M     Trainable params\n",
      "0         Non-trainable params\n",
      "1.7 M     Total params\n",
      "6.759     Total estimated model params size (MB)\n"
     ]
    },
    {
     "data": {
      "application/vnd.jupyter.widget-view+json": {
       "model_id": "",
       "version_major": 2,
       "version_minor": 0
      },
      "text/plain": [
       "Sanity Checking: |                                                                               | 0/? [00:00<…"
      ]
     },
     "metadata": {},
     "output_type": "display_data"
    },
    {
     "data": {
      "application/vnd.jupyter.widget-view+json": {
       "model_id": "e2d0458d24ff49b6847d79e461f7e556",
       "version_major": 2,
       "version_minor": 0
      },
      "text/plain": [
       "Training: |                                                                                      | 0/? [00:00<…"
      ]
     },
     "metadata": {},
     "output_type": "display_data"
    },
    {
     "data": {
      "application/vnd.jupyter.widget-view+json": {
       "model_id": "",
       "version_major": 2,
       "version_minor": 0
      },
      "text/plain": [
       "Validation: |                                                                                    | 0/? [00:00<…"
      ]
     },
     "metadata": {},
     "output_type": "display_data"
    },
    {
     "data": {
      "application/vnd.jupyter.widget-view+json": {
       "model_id": "",
       "version_major": 2,
       "version_minor": 0
      },
      "text/plain": [
       "Validation: |                                                                                    | 0/? [00:00<…"
      ]
     },
     "metadata": {},
     "output_type": "display_data"
    },
    {
     "data": {
      "application/vnd.jupyter.widget-view+json": {
       "model_id": "",
       "version_major": 2,
       "version_minor": 0
      },
      "text/plain": [
       "Validation: |                                                                                    | 0/? [00:00<…"
      ]
     },
     "metadata": {},
     "output_type": "display_data"
    },
    {
     "data": {
      "application/vnd.jupyter.widget-view+json": {
       "model_id": "",
       "version_major": 2,
       "version_minor": 0
      },
      "text/plain": [
       "Validation: |                                                                                    | 0/? [00:00<…"
      ]
     },
     "metadata": {},
     "output_type": "display_data"
    },
    {
     "data": {
      "application/vnd.jupyter.widget-view+json": {
       "model_id": "",
       "version_major": 2,
       "version_minor": 0
      },
      "text/plain": [
       "Validation: |                                                                                    | 0/? [00:00<…"
      ]
     },
     "metadata": {},
     "output_type": "display_data"
    },
    {
     "data": {
      "application/vnd.jupyter.widget-view+json": {
       "model_id": "",
       "version_major": 2,
       "version_minor": 0
      },
      "text/plain": [
       "Validation: |                                                                                    | 0/? [00:00<…"
      ]
     },
     "metadata": {},
     "output_type": "display_data"
    },
    {
     "data": {
      "application/vnd.jupyter.widget-view+json": {
       "model_id": "",
       "version_major": 2,
       "version_minor": 0
      },
      "text/plain": [
       "Validation: |                                                                                    | 0/? [00:00<…"
      ]
     },
     "metadata": {},
     "output_type": "display_data"
    },
    {
     "data": {
      "application/vnd.jupyter.widget-view+json": {
       "model_id": "",
       "version_major": 2,
       "version_minor": 0
      },
      "text/plain": [
       "Validation: |                                                                                    | 0/? [00:00<…"
      ]
     },
     "metadata": {},
     "output_type": "display_data"
    },
    {
     "data": {
      "application/vnd.jupyter.widget-view+json": {
       "model_id": "",
       "version_major": 2,
       "version_minor": 0
      },
      "text/plain": [
       "Validation: |                                                                                    | 0/? [00:00<…"
      ]
     },
     "metadata": {},
     "output_type": "display_data"
    },
    {
     "data": {
      "application/vnd.jupyter.widget-view+json": {
       "model_id": "",
       "version_major": 2,
       "version_minor": 0
      },
      "text/plain": [
       "Validation: |                                                                                    | 0/? [00:00<…"
      ]
     },
     "metadata": {},
     "output_type": "display_data"
    },
    {
     "data": {
      "application/vnd.jupyter.widget-view+json": {
       "model_id": "",
       "version_major": 2,
       "version_minor": 0
      },
      "text/plain": [
       "Validation: |                                                                                    | 0/? [00:00<…"
      ]
     },
     "metadata": {},
     "output_type": "display_data"
    },
    {
     "data": {
      "application/vnd.jupyter.widget-view+json": {
       "model_id": "",
       "version_major": 2,
       "version_minor": 0
      },
      "text/plain": [
       "Validation: |                                                                                    | 0/? [00:00<…"
      ]
     },
     "metadata": {},
     "output_type": "display_data"
    },
    {
     "data": {
      "application/vnd.jupyter.widget-view+json": {
       "model_id": "",
       "version_major": 2,
       "version_minor": 0
      },
      "text/plain": [
       "Validation: |                                                                                    | 0/? [00:00<…"
      ]
     },
     "metadata": {},
     "output_type": "display_data"
    },
    {
     "data": {
      "application/vnd.jupyter.widget-view+json": {
       "model_id": "",
       "version_major": 2,
       "version_minor": 0
      },
      "text/plain": [
       "Validation: |                                                                                    | 0/? [00:00<…"
      ]
     },
     "metadata": {},
     "output_type": "display_data"
    },
    {
     "data": {
      "application/vnd.jupyter.widget-view+json": {
       "model_id": "",
       "version_major": 2,
       "version_minor": 0
      },
      "text/plain": [
       "Validation: |                                                                                    | 0/? [00:00<…"
      ]
     },
     "metadata": {},
     "output_type": "display_data"
    },
    {
     "data": {
      "application/vnd.jupyter.widget-view+json": {
       "model_id": "",
       "version_major": 2,
       "version_minor": 0
      },
      "text/plain": [
       "Validation: |                                                                                    | 0/? [00:00<…"
      ]
     },
     "metadata": {},
     "output_type": "display_data"
    },
    {
     "data": {
      "application/vnd.jupyter.widget-view+json": {
       "model_id": "",
       "version_major": 2,
       "version_minor": 0
      },
      "text/plain": [
       "Validation: |                                                                                    | 0/? [00:00<…"
      ]
     },
     "metadata": {},
     "output_type": "display_data"
    },
    {
     "data": {
      "application/vnd.jupyter.widget-view+json": {
       "model_id": "",
       "version_major": 2,
       "version_minor": 0
      },
      "text/plain": [
       "Validation: |                                                                                    | 0/? [00:00<…"
      ]
     },
     "metadata": {},
     "output_type": "display_data"
    },
    {
     "data": {
      "application/vnd.jupyter.widget-view+json": {
       "model_id": "",
       "version_major": 2,
       "version_minor": 0
      },
      "text/plain": [
       "Validation: |                                                                                    | 0/? [00:00<…"
      ]
     },
     "metadata": {},
     "output_type": "display_data"
    },
    {
     "data": {
      "application/vnd.jupyter.widget-view+json": {
       "model_id": "",
       "version_major": 2,
       "version_minor": 0
      },
      "text/plain": [
       "Validation: |                                                                                    | 0/? [00:00<…"
      ]
     },
     "metadata": {},
     "output_type": "display_data"
    },
    {
     "data": {
      "application/vnd.jupyter.widget-view+json": {
       "model_id": "",
       "version_major": 2,
       "version_minor": 0
      },
      "text/plain": [
       "Validation: |                                                                                    | 0/? [00:00<…"
      ]
     },
     "metadata": {},
     "output_type": "display_data"
    },
    {
     "data": {
      "application/vnd.jupyter.widget-view+json": {
       "model_id": "",
       "version_major": 2,
       "version_minor": 0
      },
      "text/plain": [
       "Validation: |                                                                                    | 0/? [00:00<…"
      ]
     },
     "metadata": {},
     "output_type": "display_data"
    },
    {
     "data": {
      "application/vnd.jupyter.widget-view+json": {
       "model_id": "",
       "version_major": 2,
       "version_minor": 0
      },
      "text/plain": [
       "Validation: |                                                                                    | 0/? [00:00<…"
      ]
     },
     "metadata": {},
     "output_type": "display_data"
    },
    {
     "data": {
      "application/vnd.jupyter.widget-view+json": {
       "model_id": "",
       "version_major": 2,
       "version_minor": 0
      },
      "text/plain": [
       "Validation: |                                                                                    | 0/? [00:00<…"
      ]
     },
     "metadata": {},
     "output_type": "display_data"
    },
    {
     "data": {
      "application/vnd.jupyter.widget-view+json": {
       "model_id": "",
       "version_major": 2,
       "version_minor": 0
      },
      "text/plain": [
       "Validation: |                                                                                    | 0/? [00:00<…"
      ]
     },
     "metadata": {},
     "output_type": "display_data"
    },
    {
     "data": {
      "application/vnd.jupyter.widget-view+json": {
       "model_id": "",
       "version_major": 2,
       "version_minor": 0
      },
      "text/plain": [
       "Validation: |                                                                                    | 0/? [00:00<…"
      ]
     },
     "metadata": {},
     "output_type": "display_data"
    },
    {
     "data": {
      "application/vnd.jupyter.widget-view+json": {
       "model_id": "",
       "version_major": 2,
       "version_minor": 0
      },
      "text/plain": [
       "Validation: |                                                                                    | 0/? [00:00<…"
      ]
     },
     "metadata": {},
     "output_type": "display_data"
    },
    {
     "data": {
      "application/vnd.jupyter.widget-view+json": {
       "model_id": "",
       "version_major": 2,
       "version_minor": 0
      },
      "text/plain": [
       "Validation: |                                                                                    | 0/? [00:00<…"
      ]
     },
     "metadata": {},
     "output_type": "display_data"
    },
    {
     "data": {
      "application/vnd.jupyter.widget-view+json": {
       "model_id": "",
       "version_major": 2,
       "version_minor": 0
      },
      "text/plain": [
       "Validation: |                                                                                    | 0/? [00:00<…"
      ]
     },
     "metadata": {},
     "output_type": "display_data"
    },
    {
     "data": {
      "application/vnd.jupyter.widget-view+json": {
       "model_id": "",
       "version_major": 2,
       "version_minor": 0
      },
      "text/plain": [
       "Validation: |                                                                                    | 0/? [00:00<…"
      ]
     },
     "metadata": {},
     "output_type": "display_data"
    },
    {
     "data": {
      "application/vnd.jupyter.widget-view+json": {
       "model_id": "",
       "version_major": 2,
       "version_minor": 0
      },
      "text/plain": [
       "Validation: |                                                                                    | 0/? [00:00<…"
      ]
     },
     "metadata": {},
     "output_type": "display_data"
    },
    {
     "data": {
      "application/vnd.jupyter.widget-view+json": {
       "model_id": "",
       "version_major": 2,
       "version_minor": 0
      },
      "text/plain": [
       "Validation: |                                                                                    | 0/? [00:00<…"
      ]
     },
     "metadata": {},
     "output_type": "display_data"
    },
    {
     "data": {
      "application/vnd.jupyter.widget-view+json": {
       "model_id": "",
       "version_major": 2,
       "version_minor": 0
      },
      "text/plain": [
       "Validation: |                                                                                    | 0/? [00:00<…"
      ]
     },
     "metadata": {},
     "output_type": "display_data"
    },
    {
     "data": {
      "application/vnd.jupyter.widget-view+json": {
       "model_id": "",
       "version_major": 2,
       "version_minor": 0
      },
      "text/plain": [
       "Validation: |                                                                                    | 0/? [00:00<…"
      ]
     },
     "metadata": {},
     "output_type": "display_data"
    },
    {
     "data": {
      "application/vnd.jupyter.widget-view+json": {
       "model_id": "",
       "version_major": 2,
       "version_minor": 0
      },
      "text/plain": [
       "Validation: |                                                                                    | 0/? [00:00<…"
      ]
     },
     "metadata": {},
     "output_type": "display_data"
    },
    {
     "data": {
      "application/vnd.jupyter.widget-view+json": {
       "model_id": "",
       "version_major": 2,
       "version_minor": 0
      },
      "text/plain": [
       "Validation: |                                                                                    | 0/? [00:00<…"
      ]
     },
     "metadata": {},
     "output_type": "display_data"
    },
    {
     "data": {
      "application/vnd.jupyter.widget-view+json": {
       "model_id": "",
       "version_major": 2,
       "version_minor": 0
      },
      "text/plain": [
       "Validation: |                                                                                    | 0/? [00:00<…"
      ]
     },
     "metadata": {},
     "output_type": "display_data"
    },
    {
     "data": {
      "application/vnd.jupyter.widget-view+json": {
       "model_id": "",
       "version_major": 2,
       "version_minor": 0
      },
      "text/plain": [
       "Validation: |                                                                                    | 0/? [00:00<…"
      ]
     },
     "metadata": {},
     "output_type": "display_data"
    },
    {
     "data": {
      "application/vnd.jupyter.widget-view+json": {
       "model_id": "",
       "version_major": 2,
       "version_minor": 0
      },
      "text/plain": [
       "Validation: |                                                                                    | 0/? [00:00<…"
      ]
     },
     "metadata": {},
     "output_type": "display_data"
    },
    {
     "data": {
      "application/vnd.jupyter.widget-view+json": {
       "model_id": "",
       "version_major": 2,
       "version_minor": 0
      },
      "text/plain": [
       "Validation: |                                                                                    | 0/? [00:00<…"
      ]
     },
     "metadata": {},
     "output_type": "display_data"
    },
    {
     "data": {
      "application/vnd.jupyter.widget-view+json": {
       "model_id": "",
       "version_major": 2,
       "version_minor": 0
      },
      "text/plain": [
       "Validation: |                                                                                    | 0/? [00:00<…"
      ]
     },
     "metadata": {},
     "output_type": "display_data"
    },
    {
     "data": {
      "application/vnd.jupyter.widget-view+json": {
       "model_id": "",
       "version_major": 2,
       "version_minor": 0
      },
      "text/plain": [
       "Validation: |                                                                                    | 0/? [00:00<…"
      ]
     },
     "metadata": {},
     "output_type": "display_data"
    },
    {
     "data": {
      "application/vnd.jupyter.widget-view+json": {
       "model_id": "",
       "version_major": 2,
       "version_minor": 0
      },
      "text/plain": [
       "Validation: |                                                                                    | 0/? [00:00<…"
      ]
     },
     "metadata": {},
     "output_type": "display_data"
    },
    {
     "data": {
      "application/vnd.jupyter.widget-view+json": {
       "model_id": "",
       "version_major": 2,
       "version_minor": 0
      },
      "text/plain": [
       "Validation: |                                                                                    | 0/? [00:00<…"
      ]
     },
     "metadata": {},
     "output_type": "display_data"
    },
    {
     "data": {
      "application/vnd.jupyter.widget-view+json": {
       "model_id": "",
       "version_major": 2,
       "version_minor": 0
      },
      "text/plain": [
       "Validation: |                                                                                    | 0/? [00:00<…"
      ]
     },
     "metadata": {},
     "output_type": "display_data"
    },
    {
     "data": {
      "application/vnd.jupyter.widget-view+json": {
       "model_id": "",
       "version_major": 2,
       "version_minor": 0
      },
      "text/plain": [
       "Validation: |                                                                                    | 0/? [00:00<…"
      ]
     },
     "metadata": {},
     "output_type": "display_data"
    },
    {
     "data": {
      "application/vnd.jupyter.widget-view+json": {
       "model_id": "",
       "version_major": 2,
       "version_minor": 0
      },
      "text/plain": [
       "Validation: |                                                                                    | 0/? [00:00<…"
      ]
     },
     "metadata": {},
     "output_type": "display_data"
    },
    {
     "data": {
      "application/vnd.jupyter.widget-view+json": {
       "model_id": "2f23de7c0ef3491596d18e93387440c7",
       "version_major": 2,
       "version_minor": 0
      },
      "text/plain": [
       "Validation: |                                                                                    | 0/? [00:00<…"
      ]
     },
     "metadata": {},
     "output_type": "display_data"
    },
    {
     "data": {
      "application/vnd.jupyter.widget-view+json": {
       "model_id": "add914ebdc9f49c5813a08612b401363",
       "version_major": 2,
       "version_minor": 0
      },
      "text/plain": [
       "Validation: |                                                                                    | 0/? [00:00<…"
      ]
     },
     "metadata": {},
     "output_type": "display_data"
    },
    {
     "data": {
      "application/vnd.jupyter.widget-view+json": {
       "model_id": "5bb30aa9359e48b0826073f536bb56bd",
       "version_major": 2,
       "version_minor": 0
      },
      "text/plain": [
       "Validation: |                                                                                    | 0/? [00:00<…"
      ]
     },
     "metadata": {},
     "output_type": "display_data"
    },
    {
     "data": {
      "application/vnd.jupyter.widget-view+json": {
       "model_id": "7436e87aa5244f97a9eb206baf0d6718",
       "version_major": 2,
       "version_minor": 0
      },
      "text/plain": [
       "Validation: |                                                                                    | 0/? [00:00<…"
      ]
     },
     "metadata": {},
     "output_type": "display_data"
    },
    {
     "data": {
      "application/vnd.jupyter.widget-view+json": {
       "model_id": "40726c25339c4fe89ed4b1c1fdf8c859",
       "version_major": 2,
       "version_minor": 0
      },
      "text/plain": [
       "Validation: |                                                                                    | 0/? [00:00<…"
      ]
     },
     "metadata": {},
     "output_type": "display_data"
    },
    {
     "data": {
      "application/vnd.jupyter.widget-view+json": {
       "model_id": "0b65e5f85def46a2986d03d4d47e0f6a",
       "version_major": 2,
       "version_minor": 0
      },
      "text/plain": [
       "Validation: |                                                                                    | 0/? [00:00<…"
      ]
     },
     "metadata": {},
     "output_type": "display_data"
    },
    {
     "data": {
      "application/vnd.jupyter.widget-view+json": {
       "model_id": "3ae78411bdb042c38d5ece3bcdce782a",
       "version_major": 2,
       "version_minor": 0
      },
      "text/plain": [
       "Validation: |                                                                                    | 0/? [00:00<…"
      ]
     },
     "metadata": {},
     "output_type": "display_data"
    },
    {
     "data": {
      "application/vnd.jupyter.widget-view+json": {
       "model_id": "6ab191b3b52a4ae99d87046f3c224bda",
       "version_major": 2,
       "version_minor": 0
      },
      "text/plain": [
       "Validation: |                                                                                    | 0/? [00:00<…"
      ]
     },
     "metadata": {},
     "output_type": "display_data"
    },
    {
     "data": {
      "application/vnd.jupyter.widget-view+json": {
       "model_id": "8093078127e84808a05b90af945b8c72",
       "version_major": 2,
       "version_minor": 0
      },
      "text/plain": [
       "Validation: |                                                                                    | 0/? [00:00<…"
      ]
     },
     "metadata": {},
     "output_type": "display_data"
    },
    {
     "data": {
      "application/vnd.jupyter.widget-view+json": {
       "model_id": "2cedcff244ab457eb839b1495bb65a9f",
       "version_major": 2,
       "version_minor": 0
      },
      "text/plain": [
       "Validation: |                                                                                    | 0/? [00:00<…"
      ]
     },
     "metadata": {},
     "output_type": "display_data"
    },
    {
     "data": {
      "application/vnd.jupyter.widget-view+json": {
       "model_id": "ff2b67d60db148ca9f96ace16f8a4c3e",
       "version_major": 2,
       "version_minor": 0
      },
      "text/plain": [
       "Validation: |                                                                                    | 0/? [00:00<…"
      ]
     },
     "metadata": {},
     "output_type": "display_data"
    },
    {
     "data": {
      "application/vnd.jupyter.widget-view+json": {
       "model_id": "0c624449b7a947de9433ff232da336e4",
       "version_major": 2,
       "version_minor": 0
      },
      "text/plain": [
       "Validation: |                                                                                    | 0/? [00:00<…"
      ]
     },
     "metadata": {},
     "output_type": "display_data"
    },
    {
     "data": {
      "application/vnd.jupyter.widget-view+json": {
       "model_id": "2d0b768314d44367867dd427cf656418",
       "version_major": 2,
       "version_minor": 0
      },
      "text/plain": [
       "Validation: |                                                                                    | 0/? [00:00<…"
      ]
     },
     "metadata": {},
     "output_type": "display_data"
    },
    {
     "data": {
      "application/vnd.jupyter.widget-view+json": {
       "model_id": "24b6e126f1ca4379b972cb9c1a13b541",
       "version_major": 2,
       "version_minor": 0
      },
      "text/plain": [
       "Validation: |                                                                                    | 0/? [00:00<…"
      ]
     },
     "metadata": {},
     "output_type": "display_data"
    },
    {
     "data": {
      "application/vnd.jupyter.widget-view+json": {
       "model_id": "b8efe21e199a4c939a530d6821d55ae8",
       "version_major": 2,
       "version_minor": 0
      },
      "text/plain": [
       "Validation: |                                                                                    | 0/? [00:00<…"
      ]
     },
     "metadata": {},
     "output_type": "display_data"
    },
    {
     "data": {
      "application/vnd.jupyter.widget-view+json": {
       "model_id": "26f690e4e99645e19edf85675bfeb595",
       "version_major": 2,
       "version_minor": 0
      },
      "text/plain": [
       "Validation: |                                                                                    | 0/? [00:00<…"
      ]
     },
     "metadata": {},
     "output_type": "display_data"
    },
    {
     "data": {
      "application/vnd.jupyter.widget-view+json": {
       "model_id": "8638ff9fc4a74bf5b440edb330f7db2a",
       "version_major": 2,
       "version_minor": 0
      },
      "text/plain": [
       "Validation: |                                                                                    | 0/? [00:00<…"
      ]
     },
     "metadata": {},
     "output_type": "display_data"
    },
    {
     "data": {
      "application/vnd.jupyter.widget-view+json": {
       "model_id": "5d258a0b88c14039859a50746c68b494",
       "version_major": 2,
       "version_minor": 0
      },
      "text/plain": [
       "Validation: |                                                                                    | 0/? [00:00<…"
      ]
     },
     "metadata": {},
     "output_type": "display_data"
    },
    {
     "data": {
      "application/vnd.jupyter.widget-view+json": {
       "model_id": "1b18044b54c04f3ca361da0bd2ab4658",
       "version_major": 2,
       "version_minor": 0
      },
      "text/plain": [
       "Validation: |                                                                                    | 0/? [00:00<…"
      ]
     },
     "metadata": {},
     "output_type": "display_data"
    },
    {
     "data": {
      "application/vnd.jupyter.widget-view+json": {
       "model_id": "f51672d272f4412bb4ce4cce5854eb6a",
       "version_major": 2,
       "version_minor": 0
      },
      "text/plain": [
       "Validation: |                                                                                    | 0/? [00:00<…"
      ]
     },
     "metadata": {},
     "output_type": "display_data"
    },
    {
     "data": {
      "application/vnd.jupyter.widget-view+json": {
       "model_id": "815a869de37241f6809c96ee19517230",
       "version_major": 2,
       "version_minor": 0
      },
      "text/plain": [
       "Validation: |                                                                                    | 0/? [00:00<…"
      ]
     },
     "metadata": {},
     "output_type": "display_data"
    },
    {
     "data": {
      "application/vnd.jupyter.widget-view+json": {
       "model_id": "f558f87c9fc04516930bba8754130926",
       "version_major": 2,
       "version_minor": 0
      },
      "text/plain": [
       "Validation: |                                                                                    | 0/? [00:00<…"
      ]
     },
     "metadata": {},
     "output_type": "display_data"
    },
    {
     "data": {
      "application/vnd.jupyter.widget-view+json": {
       "model_id": "110bf17d5e774c1dad4f66782f283179",
       "version_major": 2,
       "version_minor": 0
      },
      "text/plain": [
       "Validation: |                                                                                    | 0/? [00:00<…"
      ]
     },
     "metadata": {},
     "output_type": "display_data"
    },
    {
     "data": {
      "application/vnd.jupyter.widget-view+json": {
       "model_id": "a494fcc3bd264140a7124c7459f4a69b",
       "version_major": 2,
       "version_minor": 0
      },
      "text/plain": [
       "Validation: |                                                                                    | 0/? [00:00<…"
      ]
     },
     "metadata": {},
     "output_type": "display_data"
    },
    {
     "data": {
      "application/vnd.jupyter.widget-view+json": {
       "model_id": "36fdcddb5f5649c088b0cd983743bc29",
       "version_major": 2,
       "version_minor": 0
      },
      "text/plain": [
       "Validation: |                                                                                    | 0/? [00:00<…"
      ]
     },
     "metadata": {},
     "output_type": "display_data"
    },
    {
     "data": {
      "application/vnd.jupyter.widget-view+json": {
       "model_id": "95aedbc339294f089cc2b00b93bc1a3d",
       "version_major": 2,
       "version_minor": 0
      },
      "text/plain": [
       "Validation: |                                                                                    | 0/? [00:00<…"
      ]
     },
     "metadata": {},
     "output_type": "display_data"
    },
    {
     "data": {
      "application/vnd.jupyter.widget-view+json": {
       "model_id": "d0f8e9491d8c48c8a90ef54e09f6ae8b",
       "version_major": 2,
       "version_minor": 0
      },
      "text/plain": [
       "Validation: |                                                                                    | 0/? [00:00<…"
      ]
     },
     "metadata": {},
     "output_type": "display_data"
    },
    {
     "data": {
      "application/vnd.jupyter.widget-view+json": {
       "model_id": "8041320272464397bf614b5c02c29533",
       "version_major": 2,
       "version_minor": 0
      },
      "text/plain": [
       "Validation: |                                                                                    | 0/? [00:00<…"
      ]
     },
     "metadata": {},
     "output_type": "display_data"
    },
    {
     "data": {
      "application/vnd.jupyter.widget-view+json": {
       "model_id": "d0fc857be275489b8629191533521250",
       "version_major": 2,
       "version_minor": 0
      },
      "text/plain": [
       "Validation: |                                                                                    | 0/? [00:00<…"
      ]
     },
     "metadata": {},
     "output_type": "display_data"
    },
    {
     "data": {
      "application/vnd.jupyter.widget-view+json": {
       "model_id": "0fd9e030892844f0a9a112be4c2beb28",
       "version_major": 2,
       "version_minor": 0
      },
      "text/plain": [
       "Validation: |                                                                                    | 0/? [00:00<…"
      ]
     },
     "metadata": {},
     "output_type": "display_data"
    },
    {
     "data": {
      "application/vnd.jupyter.widget-view+json": {
       "model_id": "8a4d0e8dfd524072a5f42930a5477d1f",
       "version_major": 2,
       "version_minor": 0
      },
      "text/plain": [
       "Validation: |                                                                                    | 0/? [00:00<…"
      ]
     },
     "metadata": {},
     "output_type": "display_data"
    },
    {
     "data": {
      "application/vnd.jupyter.widget-view+json": {
       "model_id": "d411ff8115bb40ba994f7df032c0df99",
       "version_major": 2,
       "version_minor": 0
      },
      "text/plain": [
       "Validation: |                                                                                    | 0/? [00:00<…"
      ]
     },
     "metadata": {},
     "output_type": "display_data"
    },
    {
     "data": {
      "application/vnd.jupyter.widget-view+json": {
       "model_id": "3661b6993a6c4f6e8d244a8d99918522",
       "version_major": 2,
       "version_minor": 0
      },
      "text/plain": [
       "Validation: |                                                                                    | 0/? [00:00<…"
      ]
     },
     "metadata": {},
     "output_type": "display_data"
    },
    {
     "data": {
      "application/vnd.jupyter.widget-view+json": {
       "model_id": "5387c35253d24ea1880ba40b3d258ec3",
       "version_major": 2,
       "version_minor": 0
      },
      "text/plain": [
       "Validation: |                                                                                    | 0/? [00:00<…"
      ]
     },
     "metadata": {},
     "output_type": "display_data"
    },
    {
     "data": {
      "application/vnd.jupyter.widget-view+json": {
       "model_id": "b71baf3149184055b487eccff9e4a8ca",
       "version_major": 2,
       "version_minor": 0
      },
      "text/plain": [
       "Validation: |                                                                                    | 0/? [00:00<…"
      ]
     },
     "metadata": {},
     "output_type": "display_data"
    },
    {
     "data": {
      "application/vnd.jupyter.widget-view+json": {
       "model_id": "639a9e5eaf4a41adb609a0eb5fc7589c",
       "version_major": 2,
       "version_minor": 0
      },
      "text/plain": [
       "Validation: |                                                                                    | 0/? [00:00<…"
      ]
     },
     "metadata": {},
     "output_type": "display_data"
    },
    {
     "data": {
      "application/vnd.jupyter.widget-view+json": {
       "model_id": "e811aceab4e74023ae73ee16055b0ab3",
       "version_major": 2,
       "version_minor": 0
      },
      "text/plain": [
       "Validation: |                                                                                    | 0/? [00:00<…"
      ]
     },
     "metadata": {},
     "output_type": "display_data"
    },
    {
     "data": {
      "application/vnd.jupyter.widget-view+json": {
       "model_id": "fb602a9721044ea88bda98b1b24282f9",
       "version_major": 2,
       "version_minor": 0
      },
      "text/plain": [
       "Validation: |                                                                                    | 0/? [00:00<…"
      ]
     },
     "metadata": {},
     "output_type": "display_data"
    },
    {
     "data": {
      "application/vnd.jupyter.widget-view+json": {
       "model_id": "d16bacce95b24f5ba93772f1d432c8e9",
       "version_major": 2,
       "version_minor": 0
      },
      "text/plain": [
       "Validation: |                                                                                    | 0/? [00:00<…"
      ]
     },
     "metadata": {},
     "output_type": "display_data"
    },
    {
     "data": {
      "application/vnd.jupyter.widget-view+json": {
       "model_id": "f1ac930b65124aac91f3e3fb4548604a",
       "version_major": 2,
       "version_minor": 0
      },
      "text/plain": [
       "Validation: |                                                                                    | 0/? [00:00<…"
      ]
     },
     "metadata": {},
     "output_type": "display_data"
    },
    {
     "data": {
      "application/vnd.jupyter.widget-view+json": {
       "model_id": "561578c79e5048eb85c7d11d2b8b818c",
       "version_major": 2,
       "version_minor": 0
      },
      "text/plain": [
       "Validation: |                                                                                    | 0/? [00:00<…"
      ]
     },
     "metadata": {},
     "output_type": "display_data"
    },
    {
     "data": {
      "application/vnd.jupyter.widget-view+json": {
       "model_id": "0ea302e6dbd843b38df3e87332c7a7dd",
       "version_major": 2,
       "version_minor": 0
      },
      "text/plain": [
       "Validation: |                                                                                    | 0/? [00:00<…"
      ]
     },
     "metadata": {},
     "output_type": "display_data"
    },
    {
     "data": {
      "application/vnd.jupyter.widget-view+json": {
       "model_id": "8231c4fb608441d4a845e3a8b8c6dff0",
       "version_major": 2,
       "version_minor": 0
      },
      "text/plain": [
       "Validation: |                                                                                    | 0/? [00:00<…"
      ]
     },
     "metadata": {},
     "output_type": "display_data"
    },
    {
     "data": {
      "application/vnd.jupyter.widget-view+json": {
       "model_id": "598677fd380748e2b021df1d43138649",
       "version_major": 2,
       "version_minor": 0
      },
      "text/plain": [
       "Validation: |                                                                                    | 0/? [00:00<…"
      ]
     },
     "metadata": {},
     "output_type": "display_data"
    },
    {
     "data": {
      "application/vnd.jupyter.widget-view+json": {
       "model_id": "564732795aab4ee6b967cc7f46259f47",
       "version_major": 2,
       "version_minor": 0
      },
      "text/plain": [
       "Validation: |                                                                                    | 0/? [00:00<…"
      ]
     },
     "metadata": {},
     "output_type": "display_data"
    },
    {
     "data": {
      "application/vnd.jupyter.widget-view+json": {
       "model_id": "43ef4a8097264d648df45153366d84a6",
       "version_major": 2,
       "version_minor": 0
      },
      "text/plain": [
       "Validation: |                                                                                    | 0/? [00:00<…"
      ]
     },
     "metadata": {},
     "output_type": "display_data"
    },
    {
     "data": {
      "application/vnd.jupyter.widget-view+json": {
       "model_id": "f31a6f77b58e4d3e8c6ee474542e4461",
       "version_major": 2,
       "version_minor": 0
      },
      "text/plain": [
       "Validation: |                                                                                    | 0/? [00:00<…"
      ]
     },
     "metadata": {},
     "output_type": "display_data"
    },
    {
     "data": {
      "application/vnd.jupyter.widget-view+json": {
       "model_id": "9749ce85b7fd49f6b6e73abc369c2ca3",
       "version_major": 2,
       "version_minor": 0
      },
      "text/plain": [
       "Validation: |                                                                                    | 0/? [00:00<…"
      ]
     },
     "metadata": {},
     "output_type": "display_data"
    },
    {
     "data": {
      "application/vnd.jupyter.widget-view+json": {
       "model_id": "4984ea75ea324c9d9e3ba1b20299164d",
       "version_major": 2,
       "version_minor": 0
      },
      "text/plain": [
       "Validation: |                                                                                    | 0/? [00:00<…"
      ]
     },
     "metadata": {},
     "output_type": "display_data"
    },
    {
     "data": {
      "application/vnd.jupyter.widget-view+json": {
       "model_id": "e5b969b6f2d74a8f9a7eabce0a6fa5d7",
       "version_major": 2,
       "version_minor": 0
      },
      "text/plain": [
       "Validation: |                                                                                    | 0/? [00:00<…"
      ]
     },
     "metadata": {},
     "output_type": "display_data"
    },
    {
     "data": {
      "application/vnd.jupyter.widget-view+json": {
       "model_id": "22b96623f011435bafab9eb3fc193452",
       "version_major": 2,
       "version_minor": 0
      },
      "text/plain": [
       "Validation: |                                                                                    | 0/? [00:00<…"
      ]
     },
     "metadata": {},
     "output_type": "display_data"
    },
    {
     "data": {
      "application/vnd.jupyter.widget-view+json": {
       "model_id": "cb79b79a1d3e40bda8831e9c09ea5887",
       "version_major": 2,
       "version_minor": 0
      },
      "text/plain": [
       "Validation: |                                                                                    | 0/? [00:00<…"
      ]
     },
     "metadata": {},
     "output_type": "display_data"
    },
    {
     "data": {
      "application/vnd.jupyter.widget-view+json": {
       "model_id": "a12a5bd32b8a4084b0463a390f6de5ca",
       "version_major": 2,
       "version_minor": 0
      },
      "text/plain": [
       "Validation: |                                                                                    | 0/? [00:00<…"
      ]
     },
     "metadata": {},
     "output_type": "display_data"
    },
    {
     "data": {
      "application/vnd.jupyter.widget-view+json": {
       "model_id": "a96722d077fa45958d5934cb2dc02634",
       "version_major": 2,
       "version_minor": 0
      },
      "text/plain": [
       "Validation: |                                                                                    | 0/? [00:00<…"
      ]
     },
     "metadata": {},
     "output_type": "display_data"
    },
    {
     "data": {
      "application/vnd.jupyter.widget-view+json": {
       "model_id": "45a1ccae650043358cb2b70077f60fb7",
       "version_major": 2,
       "version_minor": 0
      },
      "text/plain": [
       "Validation: |                                                                                    | 0/? [00:00<…"
      ]
     },
     "metadata": {},
     "output_type": "display_data"
    },
    {
     "data": {
      "application/vnd.jupyter.widget-view+json": {
       "model_id": "74c7bed8b87f43fe97c00e7c149afa7b",
       "version_major": 2,
       "version_minor": 0
      },
      "text/plain": [
       "Validation: |                                                                                    | 0/? [00:00<…"
      ]
     },
     "metadata": {},
     "output_type": "display_data"
    },
    {
     "data": {
      "application/vnd.jupyter.widget-view+json": {
       "model_id": "452f8d688d4d4da1b1eb8173dfe043d7",
       "version_major": 2,
       "version_minor": 0
      },
      "text/plain": [
       "Validation: |                                                                                    | 0/? [00:00<…"
      ]
     },
     "metadata": {},
     "output_type": "display_data"
    },
    {
     "data": {
      "application/vnd.jupyter.widget-view+json": {
       "model_id": "a047577cc6b84a10ad6a6570d304c79f",
       "version_major": 2,
       "version_minor": 0
      },
      "text/plain": [
       "Validation: |                                                                                    | 0/? [00:00<…"
      ]
     },
     "metadata": {},
     "output_type": "display_data"
    },
    {
     "data": {
      "application/vnd.jupyter.widget-view+json": {
       "model_id": "742c3a4aa335451291bbbd24fd9380fe",
       "version_major": 2,
       "version_minor": 0
      },
      "text/plain": [
       "Validation: |                                                                                    | 0/? [00:00<…"
      ]
     },
     "metadata": {},
     "output_type": "display_data"
    },
    {
     "data": {
      "application/vnd.jupyter.widget-view+json": {
       "model_id": "79e00ebf45104f32bf809432798980b9",
       "version_major": 2,
       "version_minor": 0
      },
      "text/plain": [
       "Validation: |                                                                                    | 0/? [00:00<…"
      ]
     },
     "metadata": {},
     "output_type": "display_data"
    },
    {
     "data": {
      "application/vnd.jupyter.widget-view+json": {
       "model_id": "41f4b65d2289491d98524491cd76be32",
       "version_major": 2,
       "version_minor": 0
      },
      "text/plain": [
       "Validation: |                                                                                    | 0/? [00:00<…"
      ]
     },
     "metadata": {},
     "output_type": "display_data"
    },
    {
     "data": {
      "application/vnd.jupyter.widget-view+json": {
       "model_id": "1053e3bed633462280eb037515a88a1d",
       "version_major": 2,
       "version_minor": 0
      },
      "text/plain": [
       "Validation: |                                                                                    | 0/? [00:00<…"
      ]
     },
     "metadata": {},
     "output_type": "display_data"
    },
    {
     "data": {
      "application/vnd.jupyter.widget-view+json": {
       "model_id": "c098eff93d474924bff70cf981dc4f80",
       "version_major": 2,
       "version_minor": 0
      },
      "text/plain": [
       "Validation: |                                                                                    | 0/? [00:00<…"
      ]
     },
     "metadata": {},
     "output_type": "display_data"
    },
    {
     "data": {
      "application/vnd.jupyter.widget-view+json": {
       "model_id": "0b34cd76c9664aab94a9b3d37cf91702",
       "version_major": 2,
       "version_minor": 0
      },
      "text/plain": [
       "Validation: |                                                                                    | 0/? [00:00<…"
      ]
     },
     "metadata": {},
     "output_type": "display_data"
    },
    {
     "data": {
      "application/vnd.jupyter.widget-view+json": {
       "model_id": "1bf55d22b9e44eceb2f90685c0f3f770",
       "version_major": 2,
       "version_minor": 0
      },
      "text/plain": [
       "Validation: |                                                                                    | 0/? [00:00<…"
      ]
     },
     "metadata": {},
     "output_type": "display_data"
    },
    {
     "data": {
      "application/vnd.jupyter.widget-view+json": {
       "model_id": "e405880eeab54865ab48bb3270710210",
       "version_major": 2,
       "version_minor": 0
      },
      "text/plain": [
       "Validation: |                                                                                    | 0/? [00:00<…"
      ]
     },
     "metadata": {},
     "output_type": "display_data"
    },
    {
     "data": {
      "application/vnd.jupyter.widget-view+json": {
       "model_id": "2891e4e18c044471b5dcb1d4c96d9239",
       "version_major": 2,
       "version_minor": 0
      },
      "text/plain": [
       "Validation: |                                                                                    | 0/? [00:00<…"
      ]
     },
     "metadata": {},
     "output_type": "display_data"
    },
    {
     "data": {
      "application/vnd.jupyter.widget-view+json": {
       "model_id": "c7b345c4cbbe4a79b17dc1209ca21c0b",
       "version_major": 2,
       "version_minor": 0
      },
      "text/plain": [
       "Validation: |                                                                                    | 0/? [00:00<…"
      ]
     },
     "metadata": {},
     "output_type": "display_data"
    },
    {
     "data": {
      "application/vnd.jupyter.widget-view+json": {
       "model_id": "8aa8e5cb560145ed8063a33530590454",
       "version_major": 2,
       "version_minor": 0
      },
      "text/plain": [
       "Validation: |                                                                                    | 0/? [00:00<…"
      ]
     },
     "metadata": {},
     "output_type": "display_data"
    },
    {
     "data": {
      "application/vnd.jupyter.widget-view+json": {
       "model_id": "173ead1656ca45aba855426af6237dc1",
       "version_major": 2,
       "version_minor": 0
      },
      "text/plain": [
       "Validation: |                                                                                    | 0/? [00:00<…"
      ]
     },
     "metadata": {},
     "output_type": "display_data"
    },
    {
     "data": {
      "application/vnd.jupyter.widget-view+json": {
       "model_id": "2183ee9c6bf8492cb31e4f8a2d401346",
       "version_major": 2,
       "version_minor": 0
      },
      "text/plain": [
       "Validation: |                                                                                    | 0/? [00:00<…"
      ]
     },
     "metadata": {},
     "output_type": "display_data"
    },
    {
     "data": {
      "application/vnd.jupyter.widget-view+json": {
       "model_id": "7c69901d0f3f4b709700b7c2ab6aff1c",
       "version_major": 2,
       "version_minor": 0
      },
      "text/plain": [
       "Validation: |                                                                                    | 0/? [00:00<…"
      ]
     },
     "metadata": {},
     "output_type": "display_data"
    },
    {
     "data": {
      "application/vnd.jupyter.widget-view+json": {
       "model_id": "d9972573b6f646b39551ff5da2f86af5",
       "version_major": 2,
       "version_minor": 0
      },
      "text/plain": [
       "Validation: |                                                                                    | 0/? [00:00<…"
      ]
     },
     "metadata": {},
     "output_type": "display_data"
    },
    {
     "data": {
      "application/vnd.jupyter.widget-view+json": {
       "model_id": "52ab9fa08add40939f121328870730b5",
       "version_major": 2,
       "version_minor": 0
      },
      "text/plain": [
       "Validation: |                                                                                    | 0/? [00:00<…"
      ]
     },
     "metadata": {},
     "output_type": "display_data"
    },
    {
     "data": {
      "application/vnd.jupyter.widget-view+json": {
       "model_id": "e1038063610f467b96c2771b5d92b7ee",
       "version_major": 2,
       "version_minor": 0
      },
      "text/plain": [
       "Validation: |                                                                                    | 0/? [00:00<…"
      ]
     },
     "metadata": {},
     "output_type": "display_data"
    },
    {
     "data": {
      "application/vnd.jupyter.widget-view+json": {
       "model_id": "518f48b380de4482a1c3a98f2aba95e9",
       "version_major": 2,
       "version_minor": 0
      },
      "text/plain": [
       "Validation: |                                                                                    | 0/? [00:00<…"
      ]
     },
     "metadata": {},
     "output_type": "display_data"
    },
    {
     "data": {
      "application/vnd.jupyter.widget-view+json": {
       "model_id": "7f4197abb6fb4a06832e1b2a417f2aad",
       "version_major": 2,
       "version_minor": 0
      },
      "text/plain": [
       "Validation: |                                                                                    | 0/? [00:00<…"
      ]
     },
     "metadata": {},
     "output_type": "display_data"
    },
    {
     "data": {
      "application/vnd.jupyter.widget-view+json": {
       "model_id": "ef0151925ba0440abad098c7953c985a",
       "version_major": 2,
       "version_minor": 0
      },
      "text/plain": [
       "Validation: |                                                                                    | 0/? [00:00<…"
      ]
     },
     "metadata": {},
     "output_type": "display_data"
    },
    {
     "data": {
      "application/vnd.jupyter.widget-view+json": {
       "model_id": "decb056537124015a7e16b96e90aa5bf",
       "version_major": 2,
       "version_minor": 0
      },
      "text/plain": [
       "Validation: |                                                                                    | 0/? [00:00<…"
      ]
     },
     "metadata": {},
     "output_type": "display_data"
    },
    {
     "data": {
      "application/vnd.jupyter.widget-view+json": {
       "model_id": "90b550bf394042029bed1c2f9c706dd4",
       "version_major": 2,
       "version_minor": 0
      },
      "text/plain": [
       "Validation: |                                                                                    | 0/? [00:00<…"
      ]
     },
     "metadata": {},
     "output_type": "display_data"
    },
    {
     "data": {
      "application/vnd.jupyter.widget-view+json": {
       "model_id": "5546fc0270234ac2931a510e5e50e305",
       "version_major": 2,
       "version_minor": 0
      },
      "text/plain": [
       "Validation: |                                                                                    | 0/? [00:00<…"
      ]
     },
     "metadata": {},
     "output_type": "display_data"
    },
    {
     "data": {
      "application/vnd.jupyter.widget-view+json": {
       "model_id": "0a262cb58ba341afbb439132b12bba44",
       "version_major": 2,
       "version_minor": 0
      },
      "text/plain": [
       "Validation: |                                                                                    | 0/? [00:00<…"
      ]
     },
     "metadata": {},
     "output_type": "display_data"
    },
    {
     "data": {
      "application/vnd.jupyter.widget-view+json": {
       "model_id": "6793a50310c74e39a26a3d110efa5300",
       "version_major": 2,
       "version_minor": 0
      },
      "text/plain": [
       "Validation: |                                                                                    | 0/? [00:00<…"
      ]
     },
     "metadata": {},
     "output_type": "display_data"
    },
    {
     "data": {
      "application/vnd.jupyter.widget-view+json": {
       "model_id": "53e05caf25724271b39dea1966b18c80",
       "version_major": 2,
       "version_minor": 0
      },
      "text/plain": [
       "Validation: |                                                                                    | 0/? [00:00<…"
      ]
     },
     "metadata": {},
     "output_type": "display_data"
    },
    {
     "data": {
      "application/vnd.jupyter.widget-view+json": {
       "model_id": "bd4f778794bd4b8dbf3c416dbe305f38",
       "version_major": 2,
       "version_minor": 0
      },
      "text/plain": [
       "Validation: |                                                                                    | 0/? [00:00<…"
      ]
     },
     "metadata": {},
     "output_type": "display_data"
    },
    {
     "data": {
      "application/vnd.jupyter.widget-view+json": {
       "model_id": "01b90f9307194720aefbb0978911f7c4",
       "version_major": 2,
       "version_minor": 0
      },
      "text/plain": [
       "Validation: |                                                                                    | 0/? [00:00<…"
      ]
     },
     "metadata": {},
     "output_type": "display_data"
    },
    {
     "data": {
      "application/vnd.jupyter.widget-view+json": {
       "model_id": "8e7e9482e3d8435f9a1b67338ffb61d7",
       "version_major": 2,
       "version_minor": 0
      },
      "text/plain": [
       "Validation: |                                                                                    | 0/? [00:00<…"
      ]
     },
     "metadata": {},
     "output_type": "display_data"
    },
    {
     "data": {
      "application/vnd.jupyter.widget-view+json": {
       "model_id": "26234b1e3ead44e695c107a785300019",
       "version_major": 2,
       "version_minor": 0
      },
      "text/plain": [
       "Validation: |                                                                                    | 0/? [00:00<…"
      ]
     },
     "metadata": {},
     "output_type": "display_data"
    }
   ],
   "source": [
    "early_stop_callback = EarlyStopping(monitor=\"val_loss\", min_delta=1e-4, patience=10, verbose=False, mode=\"min\")\n",
    "trainer = pl.Trainer(\n",
    "    max_epochs=500,\n",
    "    accelerator=\"auto\",\n",
    "    enable_model_summary=True,\n",
    "    gradient_clip_val=0.01,\n",
    "    callbacks=[early_stop_callback],\n",
    "    limit_train_batches=150,\n",
    "    # logger=tensorboard\n",
    ")\n",
    "\n",
    "\n",
    "net = NBeats.from_dataset(\n",
    "    training,\n",
    "    learning_rate=1e-3,\n",
    "    log_interval=10,\n",
    "    log_val_interval=1,\n",
    "    weight_decay=1e-2,\n",
    "    stack_types = ['trend', 'seasonality'],\n",
    "    widths=[32, 512],\n",
    "    backcast_loss_ratio=1.0,\n",
    "    # logger=tensorboard\n",
    ")\n",
    "\n",
    "trainer.fit(\n",
    "    net,\n",
    "    train_dataloaders=train_dataloader,\n",
    "    val_dataloaders=val_dataloader,\n",
    "    # logger=tensorboard\n",
    ")"
   ]
  },
  {
   "cell_type": "code",
   "execution_count": 10,
   "id": "85e4b98f-d4df-4b8a-8fa8-f78ad76cc74f",
   "metadata": {},
   "outputs": [],
   "source": [
    "best_model_path = trainer.checkpoint_callback.best_model_path\n",
    "best_model = NBeats.load_from_checkpoint(best_model_path)"
   ]
  },
  {
   "cell_type": "code",
   "execution_count": 11,
   "id": "29ebe6c4-6b12-417a-991e-55c9452d151a",
   "metadata": {},
   "outputs": [
    {
     "name": "stderr",
     "output_type": "stream",
     "text": [
      "C:\\TET\\env\\macrox\\lib\\site-packages\\lightning\\pytorch\\trainer\\connectors\\data_connector.py:441: The 'predict_dataloader' does not have many workers which may be a bottleneck. Consider increasing the value of the `num_workers` argument` to `num_workers=11` in the `DataLoader` to improve performance.\n"
     ]
    },
    {
     "data": {
      "text/plain": [
       "tensor(1.1173)"
      ]
     },
     "execution_count": 11,
     "metadata": {},
     "output_type": "execute_result"
    }
   ],
   "source": [
    "actuals = torch.cat([y[0] for x, y in iter(val_dataloader)])\n",
    "predictions = best_model.predict(val_dataloader)\n",
    "(actuals - predictions).abs().mean()"
   ]
  },
  {
   "cell_type": "code",
   "execution_count": 43,
   "id": "b1204a91-f99c-4eb1-bb47-051792700e85",
   "metadata": {},
   "outputs": [],
   "source": [
    "raw_predictions = best_model.predict(val_dataloader, mode=\"raw\", return_x=True, return_y=False)"
   ]
  },
  {
   "cell_type": "code",
   "execution_count": 13,
   "id": "c19454d7-046c-4464-b77e-d39c87a48974",
   "metadata": {},
   "outputs": [
    {
     "data": {
      "image/png": "[encoded data removed]",
      "text/plain": [
       "<Figure size 640x480 with 1 Axes>"
      ]
     },
     "execution_count": 13,
     "metadata": {},
     "output_type": "execute_result"
    },
    {
     "data": {
      "image/png": "[encoded data removed]",
      "text/plain": [
       "<Figure size 640x480 with 1 Axes>"
      ]
     },
     "metadata": {},
     "output_type": "display_data"
    }
   ],
   "source": [
    "best_model.plot_prediction(raw_predictions.x, raw_predictions.output, idx=-100, add_loss_to_title=True)"
   ]
  },
  {
   "cell_type": "code",
   "execution_count": 14,
   "id": "475f3d19-4341-433c-80d5-813c7b4e0475",
   "metadata": {},
   "outputs": [
    {
     "data": {
      "image/png": "[encoded data removed]",
      "text/plain": [
       "<Figure size 600x800 with 2 Axes>"
      ]
     },
     "execution_count": 14,
     "metadata": {},
     "output_type": "execute_result"
    },
    {
     "data": {
      "image/png": "[encoded data removed]",
      "text/plain": [
       "<Figure size 600x800 with 2 Axes>"
      ]
     },
     "metadata": {},
     "output_type": "display_data"
    }
   ],
   "source": [
    "best_model.plot_interpretation(raw_predictions.x, raw_predictions.output, idx=100)"
   ]
  },
  {
   "cell_type": "code",
   "execution_count": 39,
   "id": "b9859c5c-7264-4b82-ba52-9f94ba61e4ca",
   "metadata": {},
   "outputs": [
    {
     "data": {
      "text/plain": [
       "NBeats(\n",
       "  \t\"backcast_loss_ratio\":           1.0\n",
       "  \t\"context_length\":                60\n",
       "  \t\"dropout\":                       0.1\n",
       "  \t\"expansion_coefficient_lengths\": [3, 7]\n",
       "  \t\"learning_rate\":                 0.001\n",
       "  \t\"log_gradient_flow\":             False\n",
       "  \t\"log_interval\":                  10\n",
       "  \t\"log_val_interval\":              1\n",
       "  \t\"logging_metrics\":               ModuleList(\n",
       "  \t  (0): SMAPE()\n",
       "  \t  (1): MAE()\n",
       "  \t  (2): RMSE()\n",
       "  \t  (3): MAPE()\n",
       "  \t  (4): MASE()\n",
       "  \t)\n",
       "  \t\"loss\":                          MASE()\n",
       "  \t\"monotone_constaints\":           {}\n",
       "  \t\"num_block_layers\":              [3, 3]\n",
       "  \t\"num_blocks\":                    [3, 3]\n",
       "  \t\"optimizer\":                     Ranger\n",
       "  \t\"optimizer_params\":              None\n",
       "  \t\"output_transformer\":            EncoderNormalizer(\n",
       "  \t\tmethod='standard',\n",
       "  \t\tcenter=True,\n",
       "  \t\tmax_length=None,\n",
       "  \t\ttransformation='relu',\n",
       "  \t\tmethod_kwargs={}\n",
       "  \t)\n",
       "  \t\"prediction_length\":             5\n",
       "  \t\"reduce_on_plateau_min_lr\":      1e-05\n",
       "  \t\"reduce_on_plateau_patience\":    1000\n",
       "  \t\"reduce_on_plateau_reduction\":   2.0\n",
       "  \t\"sharing\":                       [True, True]\n",
       "  \t\"stack_types\":                   ['trend', 'seasonality']\n",
       "  \t\"weight_decay\":                  0.01\n",
       "  \t\"widths\":                        [32, 512]\n",
       "  (loss): MASE()\n",
       "  (logging_metrics): ModuleList(\n",
       "    (0): SMAPE()\n",
       "    (1): MAE()\n",
       "    (2): RMSE()\n",
       "    (3): MAPE()\n",
       "    (4): MASE()\n",
       "  )\n",
       "  (net_blocks): ModuleList(\n",
       "    (0-2): 3 x NBEATSTrendBlock(\n",
       "      (fc): Sequential(\n",
       "        (0): Linear(in_features=60, out_features=32, bias=True)\n",
       "        (1): ReLU()\n",
       "        (2): Sequential(\n",
       "          (0): Dropout(p=0.1, inplace=False)\n",
       "          (1): Linear(in_features=32, out_features=32, bias=True)\n",
       "        )\n",
       "        (3): ReLU()\n",
       "        (4): Sequential(\n",
       "          (0): Dropout(p=0.1, inplace=False)\n",
       "          (1): Linear(in_features=32, out_features=32, bias=True)\n",
       "        )\n",
       "        (5): ReLU()\n",
       "      )\n",
       "      (theta_f_fc): Linear(in_features=32, out_features=3, bias=False)\n",
       "      (theta_b_fc): Linear(in_features=32, out_features=3, bias=False)\n",
       "    )\n",
       "    (3-5): 3 x NBEATSSeasonalBlock(\n",
       "      (fc): Sequential(\n",
       "        (0): Linear(in_features=60, out_features=512, bias=True)\n",
       "        (1): ReLU()\n",
       "        (2): Sequential(\n",
       "          (0): Dropout(p=0.1, inplace=False)\n",
       "          (1): Linear(in_features=512, out_features=512, bias=True)\n",
       "        )\n",
       "        (3): ReLU()\n",
       "        (4): Sequential(\n",
       "          (0): Dropout(p=0.1, inplace=False)\n",
       "          (1): Linear(in_features=512, out_features=512, bias=True)\n",
       "        )\n",
       "        (5): ReLU()\n",
       "      )\n",
       "      (theta_f_fc): Linear(in_features=512, out_features=5, bias=False)\n",
       "      (theta_b_fc): Linear(in_features=512, out_features=5, bias=False)\n",
       "    )\n",
       "  )\n",
       ")"
      ]
     },
     "execution_count": 39,
     "metadata": {},
     "output_type": "execute_result"
    }
   ],
   "source": [
    "net"
   ]
  },
  {
   "cell_type": "code",
   "execution_count": 15,
   "id": "723b6ae4-14ab-4dc4-bee6-c96e95408e38",
   "metadata": {},
   "outputs": [
    {
     "data": {
      "text/plain": [
       "Prediction(output=Output(prediction=tensor([[163.8442, 163.9321, 164.4521, 165.0176, 165.1958],\n",
       "        [164.1666, 164.2569, 164.7950, 165.3854, 165.5821],\n",
       "        [164.5014, 164.5971, 165.1479, 165.7479, 165.9426],\n",
       "        ...,\n",
       "        [390.9784, 392.6306, 395.8621, 398.0815, 397.3728],\n",
       "        [394.1223, 395.8336, 399.2107, 401.5454, 400.8240],\n",
       "        [397.1190, 398.8510, 402.3515, 404.8136, 404.1188]]), backcast=tensor([[158.8777, 159.3240, 159.2007,  ..., 164.9252, 164.7444, 164.2288],\n",
       "        [159.2000, 159.6465, 159.5124,  ..., 165.2870, 165.0959, 164.5634],\n",
       "        [159.5039, 159.9551, 159.8131,  ..., 165.6499, 165.4501, 164.9046],\n",
       "        ...,\n",
       "        [376.6084, 377.6385, 375.7230,  ..., 397.1777, 395.0813, 392.1530],\n",
       "        [379.3580, 380.4427, 378.4405,  ..., 400.6316, 398.4427, 395.3702],\n",
       "        [381.8782, 383.0515, 380.9971,  ..., 403.9207, 401.6734, 398.4648]]), trend=tensor([[151.8671, 151.9963, 152.1245,  ..., 157.9413, 158.0070, 158.0717],\n",
       "        [152.1844, 152.3141, 152.4428,  ..., 158.3032, 158.3698, 158.4354],\n",
       "        [152.4568, 152.5880, 152.7180,  ..., 158.6338, 158.7009, 158.7670],\n",
       "        ...,\n",
       "        [338.5490, 338.9899, 339.4276,  ..., 359.7813, 360.0221, 360.2596],\n",
       "        [339.6742, 340.1297, 340.5819,  ..., 361.6127, 361.8615, 362.1070],\n",
       "        [340.7938, 341.2646, 341.7320,  ..., 363.4719, 363.7292, 363.9831]]), seasonality=tensor([[160.8940, 161.2110, 160.9594,  ..., 160.3941, 160.8940, 161.0074],\n",
       "        [161.2122, 161.5290, 161.2662,  ..., 160.6885, 161.2122, 161.3434],\n",
       "        [161.5604, 161.8805, 161.6084,  ..., 161.0275, 161.5604, 161.6890],\n",
       "        ...,\n",
       "        [382.7929, 383.3822, 381.0290,  ..., 380.8143, 382.7929, 381.8467],\n",
       "        [385.7013, 386.3304, 383.8760,  ..., 383.6154, 385.7013, 384.7344],\n",
       "        [388.4040, 389.1065, 386.5847,  ..., 386.1992, 388.4040, 387.4554]]), generic=tensor([[153.8833, 153.8833, 153.8833,  ..., 153.8833, 153.8833, 153.8833],\n",
       "        [154.1967, 154.1967, 154.1967,  ..., 154.1967, 154.1967, 154.1967],\n",
       "        [154.5134, 154.5134, 154.5134,  ..., 154.5134, 154.5134, 154.5134],\n",
       "        ...,\n",
       "        [344.7336, 344.7336, 344.7336,  ..., 344.7336, 344.7336, 344.7336],\n",
       "        [346.0174, 346.0174, 346.0174,  ..., 346.0174, 346.0174, 346.0174],\n",
       "        [347.3196, 347.3196, 347.3196,  ..., 347.3196, 347.3196, 347.3196]])), x={'encoder_cat': tensor([], size=(318, 60, 0), dtype=torch.int64), 'encoder_cont': tensor([[[-1.5974],\n",
       "         [-1.5606],\n",
       "         [-1.5238],\n",
       "         ...,\n",
       "         [ 1.6587],\n",
       "         [ 1.7323],\n",
       "         [ 1.8059]],\n",
       "\n",
       "        [[-1.6086],\n",
       "         [-1.5720],\n",
       "         [-1.4257],\n",
       "         ...,\n",
       "         [ 1.6647],\n",
       "         [ 1.7378],\n",
       "         [ 1.7927]],\n",
       "\n",
       "        [[-1.6204],\n",
       "         [-1.4750],\n",
       "         [-1.5114],\n",
       "         ...,\n",
       "         [ 1.6701],\n",
       "         [ 1.7247],\n",
       "         [ 1.7974]],\n",
       "\n",
       "        ...,\n",
       "\n",
       "        [[-1.4983],\n",
       "         [-1.4526],\n",
       "         [-1.4148],\n",
       "         ...,\n",
       "         [ 2.1249],\n",
       "         [ 2.2663],\n",
       "         [ 2.4101]],\n",
       "\n",
       "        [[-1.4732],\n",
       "         [-1.4366],\n",
       "         [-1.3949],\n",
       "         ...,\n",
       "         [ 2.1329],\n",
       "         [ 2.2723],\n",
       "         [ 2.3614]],\n",
       "\n",
       "        [[-1.4580],\n",
       "         [-1.4175],\n",
       "         [-1.3670],\n",
       "         ...,\n",
       "         [ 2.1418],\n",
       "         [ 2.2283],\n",
       "         [ 2.3255]]]), 'encoder_target': tensor([[145.2000, 145.4000, 145.6000,  ..., 162.9000, 163.3000, 163.7000],\n",
       "        [145.4000, 145.6000, 146.4000,  ..., 163.3000, 163.7000, 164.0000],\n",
       "        [145.6000, 146.4000, 146.2000,  ..., 163.7000, 164.0000, 164.4000],\n",
       "        ...,\n",
       "        [315.8830, 316.7630, 317.4900,  ..., 385.6490, 388.3720, 391.1410],\n",
       "        [316.7630, 317.4900, 318.3180,  ..., 388.3720, 391.1410, 392.9100],\n",
       "        [317.4900, 318.3180, 319.3510,  ..., 391.1410, 392.9100, 394.8980]]), 'encoder_lengths': tensor([60, 60, 60, 60, 60, 60, 60, 60, 60, 60, 60, 60, 60, 60, 60, 60, 60, 60,\n",
       "        60, 60, 60, 60, 60, 60, 60, 60, 60, 60, 60, 60, 60, 60, 60, 60, 60, 60,\n",
       "        60, 60, 60, 60, 60, 60, 60, 60, 60, 60, 60, 60, 60, 60, 60, 60, 60, 60,\n",
       "        60, 60, 60, 60, 60, 60, 60, 60, 60, 60, 60, 60, 60, 60, 60, 60, 60, 60,\n",
       "        60, 60, 60, 60, 60, 60, 60, 60, 60, 60, 60, 60, 60, 60, 60, 60, 60, 60,\n",
       "        60, 60, 60, 60, 60, 60, 60, 60, 60, 60, 60, 60, 60, 60, 60, 60, 60, 60,\n",
       "        60, 60, 60, 60, 60, 60, 60, 60, 60, 60, 60, 60, 60, 60, 60, 60, 60, 60,\n",
       "        60, 60, 60, 60, 60, 60, 60, 60, 60, 60, 60, 60, 60, 60, 60, 60, 60, 60,\n",
       "        60, 60, 60, 60, 60, 60, 60, 60, 60, 60, 60, 60, 60, 60, 60, 60, 60, 60,\n",
       "        60, 60, 60, 60, 60, 60, 60, 60, 60, 60, 60, 60, 60, 60, 60, 60, 60, 60,\n",
       "        60, 60, 60, 60, 60, 60, 60, 60, 60, 60, 60, 60, 60, 60, 60, 60, 60, 60,\n",
       "        60, 60, 60, 60, 60, 60, 60, 60, 60, 60, 60, 60, 60, 60, 60, 60, 60, 60,\n",
       "        60, 60, 60, 60, 60, 60, 60, 60, 60, 60, 60, 60, 60, 60, 60, 60, 60, 60,\n",
       "        60, 60, 60, 60, 60, 60, 60, 60, 60, 60, 60, 60, 60, 60, 60, 60, 60, 60,\n",
       "        60, 60, 60, 60, 60, 60, 60, 60, 60, 60, 60, 60, 60, 60, 60, 60, 60, 60,\n",
       "        60, 60, 60, 60, 60, 60, 60, 60, 60, 60, 60, 60, 60, 60, 60, 60, 60, 60,\n",
       "        60, 60, 60, 60, 60, 60, 60, 60, 60, 60, 60, 60, 60, 60, 60, 60, 60, 60,\n",
       "        60, 60, 60, 60, 60, 60, 60, 60, 60, 60, 60, 60]), 'decoder_cat': tensor([], size=(318, 5, 0), dtype=torch.int64), 'decoder_cont': tensor([[[1.8611],\n",
       "         [1.9347],\n",
       "         [2.0083],\n",
       "         [2.0635],\n",
       "         [2.1370]],\n",
       "\n",
       "        [[1.8658],\n",
       "         [1.9390],\n",
       "         [1.9938],\n",
       "         [2.0670],\n",
       "         [2.1401]],\n",
       "\n",
       "        [[1.8701],\n",
       "         [1.9246],\n",
       "         [1.9974],\n",
       "         [2.0701],\n",
       "         [2.1610]],\n",
       "\n",
       "        ...,\n",
       "\n",
       "        [[2.5019],\n",
       "         [2.6052],\n",
       "         [2.7001],\n",
       "         [2.7971],\n",
       "         [2.8811]],\n",
       "\n",
       "        [[2.4615],\n",
       "         [2.5536],\n",
       "         [2.6476],\n",
       "         [2.7290],\n",
       "         [2.8316]],\n",
       "\n",
       "        [[2.4148],\n",
       "         [2.5061],\n",
       "         [2.5851],\n",
       "         [2.6847],\n",
       "         [2.7941]]]), 'decoder_target': tensor([[164.0000, 164.4000, 164.8000, 165.1000, 165.5000],\n",
       "        [164.4000, 164.8000, 165.1000, 165.5000, 165.9000],\n",
       "        [164.8000, 165.1000, 165.5000, 165.9000, 166.4000],\n",
       "        ...,\n",
       "        [392.9100, 394.8980, 396.7260, 398.5930, 400.2100],\n",
       "        [394.8980, 396.7260, 398.5930, 400.2100, 402.2470],\n",
       "        [396.7260, 398.5930, 400.2100, 402.2470, 404.4870]]), 'decoder_lengths': tensor([5, 5, 5, 5, 5, 5, 5, 5, 5, 5, 5, 5, 5, 5, 5, 5, 5, 5, 5, 5, 5, 5, 5, 5,\n",
       "        5, 5, 5, 5, 5, 5, 5, 5, 5, 5, 5, 5, 5, 5, 5, 5, 5, 5, 5, 5, 5, 5, 5, 5,\n",
       "        5, 5, 5, 5, 5, 5, 5, 5, 5, 5, 5, 5, 5, 5, 5, 5, 5, 5, 5, 5, 5, 5, 5, 5,\n",
       "        5, 5, 5, 5, 5, 5, 5, 5, 5, 5, 5, 5, 5, 5, 5, 5, 5, 5, 5, 5, 5, 5, 5, 5,\n",
       "        5, 5, 5, 5, 5, 5, 5, 5, 5, 5, 5, 5, 5, 5, 5, 5, 5, 5, 5, 5, 5, 5, 5, 5,\n",
       "        5, 5, 5, 5, 5, 5, 5, 5, 5, 5, 5, 5, 5, 5, 5, 5, 5, 5, 5, 5, 5, 5, 5, 5,\n",
       "        5, 5, 5, 5, 5, 5, 5, 5, 5, 5, 5, 5, 5, 5, 5, 5, 5, 5, 5, 5, 5, 5, 5, 5,\n",
       "        5, 5, 5, 5, 5, 5, 5, 5, 5, 5, 5, 5, 5, 5, 5, 5, 5, 5, 5, 5, 5, 5, 5, 5,\n",
       "        5, 5, 5, 5, 5, 5, 5, 5, 5, 5, 5, 5, 5, 5, 5, 5, 5, 5, 5, 5, 5, 5, 5, 5,\n",
       "        5, 5, 5, 5, 5, 5, 5, 5, 5, 5, 5, 5, 5, 5, 5, 5, 5, 5, 5, 5, 5, 5, 5, 5,\n",
       "        5, 5, 5, 5, 5, 5, 5, 5, 5, 5, 5, 5, 5, 5, 5, 5, 5, 5, 5, 5, 5, 5, 5, 5,\n",
       "        5, 5, 5, 5, 5, 5, 5, 5, 5, 5, 5, 5, 5, 5, 5, 5, 5, 5, 5, 5, 5, 5, 5, 5,\n",
       "        5, 5, 5, 5, 5, 5, 5, 5, 5, 5, 5, 5, 5, 5, 5, 5, 5, 5, 5, 5, 5, 5, 5, 5,\n",
       "        5, 5, 5, 5, 5, 5]), 'decoder_time_idx': tensor([[322, 323, 324, 325, 326],\n",
       "        [323, 324, 325, 326, 327],\n",
       "        [324, 325, 326, 327, 328],\n",
       "        ...,\n",
       "        [637, 638, 639, 640, 641],\n",
       "        [638, 639, 640, 641, 642],\n",
       "        [639, 640, 641, 642, 643]]), 'groups': tensor([[0],\n",
       "        [0],\n",
       "        [0],\n",
       "        [0],\n",
       "        [0],\n",
       "        [0],\n",
       "        [0],\n",
       "        [0],\n",
       "        [0],\n",
       "        [0],\n",
       "        [0],\n",
       "        [0],\n",
       "        [0],\n",
       "        [0],\n",
       "        [0],\n",
       "        [0],\n",
       "        [0],\n",
       "        [0],\n",
       "        [0],\n",
       "        [0],\n",
       "        [0],\n",
       "        [0],\n",
       "        [0],\n",
       "        [0],\n",
       "        [0],\n",
       "        [0],\n",
       "        [0],\n",
       "        [0],\n",
       "        [0],\n",
       "        [0],\n",
       "        [0],\n",
       "        [0],\n",
       "        [0],\n",
       "        [0],\n",
       "        [0],\n",
       "        [0],\n",
       "        [0],\n",
       "        [0],\n",
       "        [0],\n",
       "        [0],\n",
       "        [0],\n",
       "        [0],\n",
       "        [0],\n",
       "        [0],\n",
       "        [0],\n",
       "        [0],\n",
       "        [0],\n",
       "        [0],\n",
       "        [0],\n",
       "        [0],\n",
       "        [0],\n",
       "        [0],\n",
       "        [0],\n",
       "        [0],\n",
       "        [0],\n",
       "        [0],\n",
       "        [0],\n",
       "        [0],\n",
       "        [0],\n",
       "        [0],\n",
       "        [0],\n",
       "        [0],\n",
       "        [0],\n",
       "        [0],\n",
       "        [0],\n",
       "        [0],\n",
       "        [0],\n",
       "        [0],\n",
       "        [0],\n",
       "        [0],\n",
       "        [0],\n",
       "        [0],\n",
       "        [0],\n",
       "        [0],\n",
       "        [0],\n",
       "        [0],\n",
       "        [0],\n",
       "        [0],\n",
       "        [0],\n",
       "        [0],\n",
       "        [0],\n",
       "        [0],\n",
       "        [0],\n",
       "        [0],\n",
       "        [0],\n",
       "        [0],\n",
       "        [0],\n",
       "        [0],\n",
       "        [0],\n",
       "        [0],\n",
       "        [0],\n",
       "        [0],\n",
       "        [0],\n",
       "        [0],\n",
       "        [0],\n",
       "        [0],\n",
       "        [0],\n",
       "        [0],\n",
       "        [0],\n",
       "        [0],\n",
       "        [0],\n",
       "        [0],\n",
       "        [0],\n",
       "        [0],\n",
       "        [0],\n",
       "        [0],\n",
       "        [0],\n",
       "        [0],\n",
       "        [0],\n",
       "        [0],\n",
       "        [0],\n",
       "        [0],\n",
       "        [0],\n",
       "        [0],\n",
       "        [0],\n",
       "        [0],\n",
       "        [0],\n",
       "        [0],\n",
       "        [0],\n",
       "        [0],\n",
       "        [0],\n",
       "        [0],\n",
       "        [0],\n",
       "        [0],\n",
       "        [0],\n",
       "        [0],\n",
       "        [0],\n",
       "        [0],\n",
       "        [0],\n",
       "        [0],\n",
       "        [0],\n",
       "        [0],\n",
       "        [0],\n",
       "        [0],\n",
       "        [0],\n",
       "        [0],\n",
       "        [0],\n",
       "        [0],\n",
       "        [0],\n",
       "        [0],\n",
       "        [0],\n",
       "        [0],\n",
       "        [0],\n",
       "        [0],\n",
       "        [0],\n",
       "        [0],\n",
       "        [0],\n",
       "        [0],\n",
       "        [0],\n",
       "        [0],\n",
       "        [0],\n",
       "        [0],\n",
       "        [0],\n",
       "        [0],\n",
       "        [0],\n",
       "        [0],\n",
       "        [0],\n",
       "        [0],\n",
       "        [0],\n",
       "        [0],\n",
       "        [0],\n",
       "        [0],\n",
       "        [0],\n",
       "        [0],\n",
       "        [0],\n",
       "        [0],\n",
       "        [0],\n",
       "        [0],\n",
       "        [0],\n",
       "        [0],\n",
       "        [0],\n",
       "        [0],\n",
       "        [0],\n",
       "        [0],\n",
       "        [0],\n",
       "        [0],\n",
       "        [0],\n",
       "        [0],\n",
       "        [0],\n",
       "        [0],\n",
       "        [0],\n",
       "        [0],\n",
       "        [0],\n",
       "        [0],\n",
       "        [0],\n",
       "        [0],\n",
       "        [0],\n",
       "        [0],\n",
       "        [0],\n",
       "        [0],\n",
       "        [0],\n",
       "        [0],\n",
       "        [0],\n",
       "        [0],\n",
       "        [0],\n",
       "        [0],\n",
       "        [0],\n",
       "        [0],\n",
       "        [0],\n",
       "        [0],\n",
       "        [0],\n",
       "        [0],\n",
       "        [0],\n",
       "        [0],\n",
       "        [0],\n",
       "        [0],\n",
       "        [0],\n",
       "        [0],\n",
       "        [0],\n",
       "        [0],\n",
       "        [0],\n",
       "        [0],\n",
       "        [0],\n",
       "        [0],\n",
       "        [0],\n",
       "        [0],\n",
       "        [0],\n",
       "        [0],\n",
       "        [0],\n",
       "        [0],\n",
       "        [0],\n",
       "        [0],\n",
       "        [0],\n",
       "        [0],\n",
       "        [0],\n",
       "        [0],\n",
       "        [0],\n",
       "        [0],\n",
       "        [0],\n",
       "        [0],\n",
       "        [0],\n",
       "        [0],\n",
       "        [0],\n",
       "        [0],\n",
       "        [0],\n",
       "        [0],\n",
       "        [0],\n",
       "        [0],\n",
       "        [0],\n",
       "        [0],\n",
       "        [0],\n",
       "        [0],\n",
       "        [0],\n",
       "        [0],\n",
       "        [0],\n",
       "        [0],\n",
       "        [0],\n",
       "        [0],\n",
       "        [0],\n",
       "        [0],\n",
       "        [0],\n",
       "        [0],\n",
       "        [0],\n",
       "        [0],\n",
       "        [0],\n",
       "        [0],\n",
       "        [0],\n",
       "        [0],\n",
       "        [0],\n",
       "        [0],\n",
       "        [0],\n",
       "        [0],\n",
       "        [0],\n",
       "        [0],\n",
       "        [0],\n",
       "        [0],\n",
       "        [0],\n",
       "        [0],\n",
       "        [0],\n",
       "        [0],\n",
       "        [0],\n",
       "        [0],\n",
       "        [0],\n",
       "        [0],\n",
       "        [0],\n",
       "        [0],\n",
       "        [0],\n",
       "        [0],\n",
       "        [0],\n",
       "        [0],\n",
       "        [0],\n",
       "        [0],\n",
       "        [0],\n",
       "        [0],\n",
       "        [0],\n",
       "        [0],\n",
       "        [0],\n",
       "        [0],\n",
       "        [0],\n",
       "        [0],\n",
       "        [0],\n",
       "        [0],\n",
       "        [0],\n",
       "        [0],\n",
       "        [0],\n",
       "        [0],\n",
       "        [0],\n",
       "        [0],\n",
       "        [0],\n",
       "        [0],\n",
       "        [0],\n",
       "        [0],\n",
       "        [0],\n",
       "        [0],\n",
       "        [0],\n",
       "        [0],\n",
       "        [0],\n",
       "        [0],\n",
       "        [0],\n",
       "        [0],\n",
       "        [0],\n",
       "        [0],\n",
       "        [0],\n",
       "        [0],\n",
       "        [0],\n",
       "        [0],\n",
       "        [0],\n",
       "        [0]]), 'target_scale': tensor([[153.8833,   5.4359],\n",
       "        [154.1967,   5.4686],\n",
       "        [154.5134,   5.5006],\n",
       "        [154.8333,   5.5317],\n",
       "        [155.1450,   5.5751],\n",
       "        [155.4667,   5.6069],\n",
       "        [155.7934,   5.6347],\n",
       "        [156.1233,   5.6669],\n",
       "        [156.4533,   5.7030],\n",
       "        [156.7917,   5.7347],\n",
       "        [157.1350,   5.7673],\n",
       "        [157.4717,   5.8144],\n",
       "        [157.8067,   5.8733],\n",
       "        [158.1483,   5.9247],\n",
       "        [158.4917,   5.9763],\n",
       "        [158.8383,   6.0254],\n",
       "        [159.1917,   6.0661],\n",
       "        [159.5417,   6.1148],\n",
       "        [159.8950,   6.1606],\n",
       "        [160.2517,   6.2149],\n",
       "        [160.6150,   6.2662],\n",
       "        [160.9817,   6.3255],\n",
       "        [161.3550,   6.3872],\n",
       "        [161.7300,   6.4529],\n",
       "        [162.1116,   6.5205],\n",
       "        [162.4950,   6.5857],\n",
       "        [162.8800,   6.6486],\n",
       "        [163.2600,   6.7140],\n",
       "        [163.6400,   6.7798],\n",
       "        [164.0250,   6.8383],\n",
       "        [164.4150,   6.8834],\n",
       "        [164.8100,   6.9205],\n",
       "        [165.2033,   6.9605],\n",
       "        [165.5933,   7.0060],\n",
       "        [165.9833,   7.0574],\n",
       "        [166.3767,   7.1038],\n",
       "        [166.7800,   7.1682],\n",
       "        [167.1900,   7.2270],\n",
       "        [167.6067,   7.2972],\n",
       "        [168.0250,   7.3630],\n",
       "        [168.4467,   7.4276],\n",
       "        [168.8683,   7.4847],\n",
       "        [169.2934,   7.5347],\n",
       "        [169.7217,   7.5832],\n",
       "        [170.1550,   7.6389],\n",
       "        [170.5950,   7.6987],\n",
       "        [171.0417,   7.7623],\n",
       "        [171.4950,   7.8351],\n",
       "        [171.9533,   7.9136],\n",
       "        [172.4200,   7.9979],\n",
       "        [172.8900,   8.0838],\n",
       "        [173.3650,   8.1742],\n",
       "        [173.8483,   8.2636],\n",
       "        [174.3367,   8.3507],\n",
       "        [174.8333,   8.4418],\n",
       "        [175.3317,   8.5354],\n",
       "        [175.8333,   8.6345],\n",
       "        [176.3433,   8.7367],\n",
       "        [176.8600,   8.8442],\n",
       "        [177.3833,   8.9565],\n",
       "        [177.9133,   9.0732],\n",
       "        [178.4534,   9.1944],\n",
       "        [178.9967,   9.3124],\n",
       "        [179.5450,   9.4301],\n",
       "        [180.0967,   9.5383],\n",
       "        [180.6467,   9.6334],\n",
       "        [181.1950,   9.7157],\n",
       "        [181.7433,   9.7947],\n",
       "        [182.2933,   9.8676],\n",
       "        [182.8417,   9.9342],\n",
       "        [183.3900,   9.9976],\n",
       "        [183.9417,  10.0583],\n",
       "        [184.4967,  10.1215],\n",
       "        [185.0533,  10.1787],\n",
       "        [185.6167,  10.2385],\n",
       "        [186.1800,  10.2888],\n",
       "        [186.7433,  10.3298],\n",
       "        [187.3067,  10.3617],\n",
       "        [187.8700,  10.3844],\n",
       "        [188.4267,  10.3981],\n",
       "        [188.9833,  10.4087],\n",
       "        [189.5383,  10.4190],\n",
       "        [190.0917,  10.4290],\n",
       "        [190.6417,  10.4308],\n",
       "        [191.1917,  10.4352],\n",
       "        [191.7417,  10.4317],\n",
       "        [192.2917,  10.4200],\n",
       "        [192.8450,  10.4001],\n",
       "        [193.3983,  10.3719],\n",
       "        [193.9533,  10.3377],\n",
       "        [194.5117,  10.2947],\n",
       "        [195.0716,  10.2452],\n",
       "        [195.6333,  10.1892],\n",
       "        [196.2000,  10.1315],\n",
       "        [196.7666,  10.0697],\n",
       "        [197.3333,   9.9979],\n",
       "        [197.8900,   9.9348],\n",
       "        [198.4500,   9.8733],\n",
       "        [199.0067,   9.8199],\n",
       "        [199.5650,   9.7598],\n",
       "        [200.1233,   9.6959],\n",
       "        [200.6850,   9.6218],\n",
       "        [201.2467,   9.5374],\n",
       "        [201.8067,   9.4458],\n",
       "        [202.3667,   9.3618],\n",
       "        [202.9233,   9.2801],\n",
       "        [203.4783,   9.2037],\n",
       "        [204.0317,   9.1390],\n",
       "        [204.5850,   9.0829],\n",
       "        [205.1333,   9.0331],\n",
       "        [205.6783,   8.9804],\n",
       "        [206.2233,   8.9370],\n",
       "        [206.7683,   8.9031],\n",
       "        [207.3133,   8.8725],\n",
       "        [207.8567,   8.8547],\n",
       "        [208.4033,   8.8466],\n",
       "        [208.9517,   8.8512],\n",
       "        [209.5033,   8.8779],\n",
       "        [210.0567,   8.9234],\n",
       "        [210.6116,   8.9874],\n",
       "        [211.1683,   9.0696],\n",
       "        [211.7283,   9.1789],\n",
       "        [212.2918,   9.2963],\n",
       "        [212.8591,   9.4284],\n",
       "        [213.4307,   9.5633],\n",
       "        [214.0053,   9.6860],\n",
       "        [214.5845,   9.7997],\n",
       "        [215.1640,   9.9080],\n",
       "        [215.7462,  10.0156],\n",
       "        [216.3314,  10.1171],\n",
       "        [216.9207,  10.2204],\n",
       "        [217.5179,  10.3385],\n",
       "        [218.1208,  10.4719],\n",
       "        [218.7308,  10.6117],\n",
       "        [219.3399,  10.7590],\n",
       "        [219.9504,  10.8947],\n",
       "        [220.5633,  11.0215],\n",
       "        [221.1795,  11.1412],\n",
       "        [221.7945,  11.2454],\n",
       "        [222.4202,  11.3447],\n",
       "        [223.0497,  11.4429],\n",
       "        [223.6844,  11.5425],\n",
       "        [224.3231,  11.6411],\n",
       "        [224.9724,  11.7388],\n",
       "        [225.6254,  11.8397],\n",
       "        [226.2817,  11.9315],\n",
       "        [226.9429,  12.0172],\n",
       "        [227.6013,  12.0883],\n",
       "        [228.2587,  12.1429],\n",
       "        [228.9120,  12.1819],\n",
       "        [229.5598,  12.2034],\n",
       "        [230.1996,  12.2043],\n",
       "        [230.8295,  12.1824],\n",
       "        [231.4484,  12.1475],\n",
       "        [232.0578,  12.0927],\n",
       "        [232.6592,  12.0159],\n",
       "        [233.2540,  11.9192],\n",
       "        [233.8390,  11.8140],\n",
       "        [234.4164,  11.6989],\n",
       "        [234.9834,  11.5655],\n",
       "        [235.5432,  11.4184],\n",
       "        [236.0934,  11.2549],\n",
       "        [236.6355,  11.0721],\n",
       "        [237.1721,  10.8730],\n",
       "        [237.6992,  10.6678],\n",
       "        [238.2163,  10.4464],\n",
       "        [238.7291,  10.2198],\n",
       "        [239.2344,   9.9898],\n",
       "        [239.7397,   9.7646],\n",
       "        [240.2478,   9.5371],\n",
       "        [240.7587,   9.3012],\n",
       "        [241.2625,   9.0615],\n",
       "        [241.7599,   8.8188],\n",
       "        [242.2486,   8.5647],\n",
       "        [242.7285,   8.3048],\n",
       "        [243.1983,   8.0437],\n",
       "        [243.6631,   7.7876],\n",
       "        [244.1265,   7.5546],\n",
       "        [244.5853,   7.3358],\n",
       "        [245.0461,   7.1422],\n",
       "        [245.5039,   6.9679],\n",
       "        [245.9571,   6.8252],\n",
       "        [246.4055,   6.6956],\n",
       "        [246.8463,   6.5832],\n",
       "        [247.2808,   6.4796],\n",
       "        [247.7132,   6.3738],\n",
       "        [248.1412,   6.2679],\n",
       "        [248.5635,   6.1564],\n",
       "        [248.9864,   6.0610],\n",
       "        [249.4092,   5.9750],\n",
       "        [249.8319,   5.9112],\n",
       "        [250.2581,   5.9021],\n",
       "        [250.6780,   5.9237],\n",
       "        [251.0946,   5.9746],\n",
       "        [251.5088,   6.0428],\n",
       "        [251.9243,   6.1174],\n",
       "        [252.3401,   6.2008],\n",
       "        [252.7486,   6.2797],\n",
       "        [253.1612,   6.3611],\n",
       "        [253.5656,   6.4516],\n",
       "        [253.9675,   6.5558],\n",
       "        [254.3729,   6.6910],\n",
       "        [254.7764,   6.8400],\n",
       "        [255.1782,   7.0129],\n",
       "        [255.5785,   7.2025],\n",
       "        [255.9853,   7.4120],\n",
       "        [256.3910,   7.6292],\n",
       "        [256.7982,   7.8392],\n",
       "        [257.2123,   8.0542],\n",
       "        [257.6323,   8.2676],\n",
       "        [258.0597,   8.4775],\n",
       "        [258.4968,   8.6811],\n",
       "        [258.9510,   8.8860],\n",
       "        [259.4180,   9.0897],\n",
       "        [259.9019,   9.2943],\n",
       "        [260.4035,   9.4997],\n",
       "        [260.9241,   9.7114],\n",
       "        [261.4554,   9.9176],\n",
       "        [261.9958,  10.1169],\n",
       "        [262.5520,  10.3068],\n",
       "        [263.1194,  10.4885],\n",
       "        [263.6958,  10.6492],\n",
       "        [264.2845,  10.7941],\n",
       "        [264.8850,  10.9307],\n",
       "        [265.5011,  11.0683],\n",
       "        [266.1352,  11.1973],\n",
       "        [266.7841,  11.3366],\n",
       "        [267.4476,  11.4789],\n",
       "        [268.1144,  11.6279],\n",
       "        [268.7847,  11.7820],\n",
       "        [269.4588,  11.9356],\n",
       "        [270.1413,  12.0803],\n",
       "        [270.8304,  12.2148],\n",
       "        [271.5296,  12.3317],\n",
       "        [272.2403,  12.4385],\n",
       "        [272.9622,  12.5352],\n",
       "        [273.6918,  12.6323],\n",
       "        [274.4236,  12.7439],\n",
       "        [275.1625,  12.8613],\n",
       "        [275.9083,  13.0074],\n",
       "        [276.6620,  13.1650],\n",
       "        [277.4211,  13.3352],\n",
       "        [278.1837,  13.4963],\n",
       "        [278.9508,  13.6475],\n",
       "        [279.7225,  13.7838],\n",
       "        [280.4984,  13.9029],\n",
       "        [281.2842,  14.0124],\n",
       "        [282.0826,  14.1093],\n",
       "        [282.8837,  14.2046],\n",
       "        [283.6971,  14.3083],\n",
       "        [284.5112,  14.4087],\n",
       "        [285.3244,  14.5336],\n",
       "        [286.1462,  14.6643],\n",
       "        [286.9763,  14.8041],\n",
       "        [287.8111,  14.9382],\n",
       "        [288.6447,  15.0535],\n",
       "        [289.4791,  15.1540],\n",
       "        [290.3255,  15.2374],\n",
       "        [291.1743,  15.3094],\n",
       "        [292.0312,  15.3667],\n",
       "        [292.8957,  15.4212],\n",
       "        [293.7648,  15.4925],\n",
       "        [294.6381,  15.5573],\n",
       "        [295.5158,  15.6270],\n",
       "        [296.4037,  15.7062],\n",
       "        [297.2892,  15.7865],\n",
       "        [298.1771,  15.8564],\n",
       "        [299.0707,  15.9089],\n",
       "        [299.9712,  15.9651],\n",
       "        [300.8809,  16.0208],\n",
       "        [301.7912,  16.0604],\n",
       "        [302.7133,  16.1031],\n",
       "        [303.6360,  16.1468],\n",
       "        [304.5625,  16.1902],\n",
       "        [305.4930,  16.2420],\n",
       "        [306.4213,  16.2928],\n",
       "        [307.3496,  16.3556],\n",
       "        [308.2815,  16.4144],\n",
       "        [309.2191,  16.4693],\n",
       "        [310.1562,  16.5164],\n",
       "        [311.0960,  16.5568],\n",
       "        [312.0382,  16.5741],\n",
       "        [312.9810,  16.5752],\n",
       "        [313.9188,  16.5586],\n",
       "        [314.8498,  16.5378],\n",
       "        [315.7727,  16.5063],\n",
       "        [316.6827,  16.4715],\n",
       "        [317.5859,  16.4373],\n",
       "        [318.4811,  16.3900],\n",
       "        [319.3687,  16.3295],\n",
       "        [320.2479,  16.2512],\n",
       "        [321.1223,  16.1592],\n",
       "        [321.9928,  16.0518],\n",
       "        [322.8610,  15.9300],\n",
       "        [323.7273,  15.8041],\n",
       "        [324.5928,  15.6759],\n",
       "        [325.4529,  15.5438],\n",
       "        [326.3161,  15.4263],\n",
       "        [327.1877,  15.3316],\n",
       "        [328.0626,  15.2747],\n",
       "        [328.9449,  15.2484],\n",
       "        [329.8315,  15.2451],\n",
       "        [330.7360,  15.2643],\n",
       "        [331.6596,  15.3086],\n",
       "        [332.5965,  15.3613],\n",
       "        [333.5544,  15.4333],\n",
       "        [334.5334,  15.5428],\n",
       "        [335.5436,  15.7126],\n",
       "        [336.5815,  15.9293],\n",
       "        [337.6449,  16.2164],\n",
       "        [338.7499,  16.5743],\n",
       "        [339.8822,  16.9963],\n",
       "        [341.0470,  17.4877],\n",
       "        [342.2428,  18.0442],\n",
       "        [343.4692,  18.6375],\n",
       "        [344.7336,  19.2556],\n",
       "        [346.0174,  19.8578],\n",
       "        [347.3196,  20.4597]])}, index=None, decoder_lengths=None, y=None)"
      ]
     },
     "execution_count": 15,
     "metadata": {},
     "output_type": "execute_result"
    }
   ],
   "source": [
    "raw_predictions"
   ]
  },
  {
   "cell_type": "code",
   "execution_count": 41,
   "id": "8b0c5405-8732-40ec-a348-4ea105077b49",
   "metadata": {},
   "outputs": [
    {
     "data": {
      "text/plain": [
       "('output', 'x', 'index', 'decoder_lengths', 'y')"
      ]
     },
     "execution_count": 41,
     "metadata": {},
     "output_type": "execute_result"
    }
   ],
   "source": [
    "raw_predictions.keys()"
   ]
  },
  {
   "cell_type": "code",
   "execution_count": 16,
   "id": "d86df8f4-33ac-4402-af21-fa31d7656652",
   "metadata": {},
   "outputs": [
    {
     "data": {
      "text/plain": [
       "['encoder_cat',\n",
       " 'encoder_cont',\n",
       " 'encoder_target',\n",
       " 'encoder_lengths',\n",
       " 'decoder_cat',\n",
       " 'decoder_cont',\n",
       " 'decoder_target',\n",
       " 'decoder_lengths',\n",
       " 'decoder_time_idx',\n",
       " 'groups',\n",
       " 'target_scale']"
      ]
     },
     "execution_count": 16,
     "metadata": {},
     "output_type": "execute_result"
    }
   ],
   "source": [
    "list(raw_predictions.x.keys())"
   ]
  },
  {
   "cell_type": "code",
   "execution_count": 21,
   "id": "f7960fac-50c9-4447-9da8-8010bea2b30e",
   "metadata": {},
   "outputs": [
    {
     "data": {
      "text/plain": [
       "tensor([[153.8833,   5.4359],\n",
       "        [154.1967,   5.4686],\n",
       "        [154.5134,   5.5006],\n",
       "        [154.8333,   5.5317],\n",
       "        [155.1450,   5.5751],\n",
       "        [155.4667,   5.6069],\n",
       "        [155.7934,   5.6347],\n",
       "        [156.1233,   5.6669],\n",
       "        [156.4533,   5.7030],\n",
       "        [156.7917,   5.7347],\n",
       "        [157.1350,   5.7673],\n",
       "        [157.4717,   5.8144],\n",
       "        [157.8067,   5.8733],\n",
       "        [158.1483,   5.9247],\n",
       "        [158.4917,   5.9763],\n",
       "        [158.8383,   6.0254],\n",
       "        [159.1917,   6.0661],\n",
       "        [159.5417,   6.1148],\n",
       "        [159.8950,   6.1606],\n",
       "        [160.2517,   6.2149],\n",
       "        [160.6150,   6.2662],\n",
       "        [160.9817,   6.3255],\n",
       "        [161.3550,   6.3872],\n",
       "        [161.7300,   6.4529],\n",
       "        [162.1116,   6.5205],\n",
       "        [162.4950,   6.5857],\n",
       "        [162.8800,   6.6486],\n",
       "        [163.2600,   6.7140],\n",
       "        [163.6400,   6.7798],\n",
       "        [164.0250,   6.8383],\n",
       "        [164.4150,   6.8834],\n",
       "        [164.8100,   6.9205],\n",
       "        [165.2033,   6.9605],\n",
       "        [165.5933,   7.0060],\n",
       "        [165.9833,   7.0574],\n",
       "        [166.3767,   7.1038],\n",
       "        [166.7800,   7.1682],\n",
       "        [167.1900,   7.2270],\n",
       "        [167.6067,   7.2972],\n",
       "        [168.0250,   7.3630],\n",
       "        [168.4467,   7.4276],\n",
       "        [168.8683,   7.4847],\n",
       "        [169.2934,   7.5347],\n",
       "        [169.7217,   7.5832],\n",
       "        [170.1550,   7.6389],\n",
       "        [170.5950,   7.6987],\n",
       "        [171.0417,   7.7623],\n",
       "        [171.4950,   7.8351],\n",
       "        [171.9533,   7.9136],\n",
       "        [172.4200,   7.9979],\n",
       "        [172.8900,   8.0838],\n",
       "        [173.3650,   8.1742],\n",
       "        [173.8483,   8.2636],\n",
       "        [174.3367,   8.3507],\n",
       "        [174.8333,   8.4418],\n",
       "        [175.3317,   8.5354],\n",
       "        [175.8333,   8.6345],\n",
       "        [176.3433,   8.7367],\n",
       "        [176.8600,   8.8442],\n",
       "        [177.3833,   8.9565],\n",
       "        [177.9133,   9.0732],\n",
       "        [178.4534,   9.1944],\n",
       "        [178.9967,   9.3124],\n",
       "        [179.5450,   9.4301],\n",
       "        [180.0967,   9.5383],\n",
       "        [180.6467,   9.6334],\n",
       "        [181.1950,   9.7157],\n",
       "        [181.7433,   9.7947],\n",
       "        [182.2933,   9.8676],\n",
       "        [182.8417,   9.9342],\n",
       "        [183.3900,   9.9976],\n",
       "        [183.9417,  10.0583],\n",
       "        [184.4967,  10.1215],\n",
       "        [185.0533,  10.1787],\n",
       "        [185.6167,  10.2385],\n",
       "        [186.1800,  10.2888],\n",
       "        [186.7433,  10.3298],\n",
       "        [187.3067,  10.3617],\n",
       "        [187.8700,  10.3844],\n",
       "        [188.4267,  10.3981],\n",
       "        [188.9833,  10.4087],\n",
       "        [189.5383,  10.4190],\n",
       "        [190.0917,  10.4290],\n",
       "        [190.6417,  10.4308],\n",
       "        [191.1917,  10.4352],\n",
       "        [191.7417,  10.4317],\n",
       "        [192.2917,  10.4200],\n",
       "        [192.8450,  10.4001],\n",
       "        [193.3983,  10.3719],\n",
       "        [193.9533,  10.3377],\n",
       "        [194.5117,  10.2947],\n",
       "        [195.0716,  10.2452],\n",
       "        [195.6333,  10.1892],\n",
       "        [196.2000,  10.1315],\n",
       "        [196.7666,  10.0697],\n",
       "        [197.3333,   9.9979],\n",
       "        [197.8900,   9.9348],\n",
       "        [198.4500,   9.8733],\n",
       "        [199.0067,   9.8199],\n",
       "        [199.5650,   9.7598],\n",
       "        [200.1233,   9.6959],\n",
       "        [200.6850,   9.6218],\n",
       "        [201.2467,   9.5374],\n",
       "        [201.8067,   9.4458],\n",
       "        [202.3667,   9.3618],\n",
       "        [202.9233,   9.2801],\n",
       "        [203.4783,   9.2037],\n",
       "        [204.0317,   9.1390],\n",
       "        [204.5850,   9.0829],\n",
       "        [205.1333,   9.0331],\n",
       "        [205.6783,   8.9804],\n",
       "        [206.2233,   8.9370],\n",
       "        [206.7683,   8.9031],\n",
       "        [207.3133,   8.8725],\n",
       "        [207.8567,   8.8547],\n",
       "        [208.4033,   8.8466],\n",
       "        [208.9517,   8.8512],\n",
       "        [209.5033,   8.8779],\n",
       "        [210.0567,   8.9234],\n",
       "        [210.6116,   8.9874],\n",
       "        [211.1683,   9.0696],\n",
       "        [211.7283,   9.1789],\n",
       "        [212.2918,   9.2963],\n",
       "        [212.8591,   9.4284],\n",
       "        [213.4307,   9.5633],\n",
       "        [214.0053,   9.6860],\n",
       "        [214.5845,   9.7997],\n",
       "        [215.1640,   9.9080],\n",
       "        [215.7462,  10.0156],\n",
       "        [216.3314,  10.1171],\n",
       "        [216.9207,  10.2204],\n",
       "        [217.5179,  10.3385],\n",
       "        [218.1208,  10.4719],\n",
       "        [218.7308,  10.6117],\n",
       "        [219.3399,  10.7590],\n",
       "        [219.9504,  10.8947],\n",
       "        [220.5633,  11.0215],\n",
       "        [221.1795,  11.1412],\n",
       "        [221.7945,  11.2454],\n",
       "        [222.4202,  11.3447],\n",
       "        [223.0497,  11.4429],\n",
       "        [223.6844,  11.5425],\n",
       "        [224.3231,  11.6411],\n",
       "        [224.9724,  11.7388],\n",
       "        [225.6254,  11.8397],\n",
       "        [226.2817,  11.9315],\n",
       "        [226.9429,  12.0172],\n",
       "        [227.6013,  12.0883],\n",
       "        [228.2587,  12.1429],\n",
       "        [228.9120,  12.1819],\n",
       "        [229.5598,  12.2034],\n",
       "        [230.1996,  12.2043],\n",
       "        [230.8295,  12.1824],\n",
       "        [231.4484,  12.1475],\n",
       "        [232.0578,  12.0927],\n",
       "        [232.6592,  12.0159],\n",
       "        [233.2540,  11.9192],\n",
       "        [233.8390,  11.8140],\n",
       "        [234.4164,  11.6989],\n",
       "        [234.9834,  11.5655],\n",
       "        [235.5432,  11.4184],\n",
       "        [236.0934,  11.2549],\n",
       "        [236.6355,  11.0721],\n",
       "        [237.1721,  10.8730],\n",
       "        [237.6992,  10.6678],\n",
       "        [238.2163,  10.4464],\n",
       "        [238.7291,  10.2198],\n",
       "        [239.2344,   9.9898],\n",
       "        [239.7397,   9.7646],\n",
       "        [240.2478,   9.5371],\n",
       "        [240.7587,   9.3012],\n",
       "        [241.2625,   9.0615],\n",
       "        [241.7599,   8.8188],\n",
       "        [242.2486,   8.5647],\n",
       "        [242.7285,   8.3048],\n",
       "        [243.1983,   8.0437],\n",
       "        [243.6631,   7.7876],\n",
       "        [244.1265,   7.5546],\n",
       "        [244.5853,   7.3358],\n",
       "        [245.0461,   7.1422],\n",
       "        [245.5039,   6.9679],\n",
       "        [245.9571,   6.8252],\n",
       "        [246.4055,   6.6956],\n",
       "        [246.8463,   6.5832],\n",
       "        [247.2808,   6.4796],\n",
       "        [247.7132,   6.3738],\n",
       "        [248.1412,   6.2679],\n",
       "        [248.5635,   6.1564],\n",
       "        [248.9864,   6.0610],\n",
       "        [249.4092,   5.9750],\n",
       "        [249.8319,   5.9112],\n",
       "        [250.2581,   5.9021],\n",
       "        [250.6780,   5.9237],\n",
       "        [251.0946,   5.9746],\n",
       "        [251.5088,   6.0428],\n",
       "        [251.9243,   6.1174],\n",
       "        [252.3401,   6.2008],\n",
       "        [252.7486,   6.2797],\n",
       "        [253.1612,   6.3611],\n",
       "        [253.5656,   6.4516],\n",
       "        [253.9675,   6.5558],\n",
       "        [254.3729,   6.6910],\n",
       "        [254.7764,   6.8400],\n",
       "        [255.1782,   7.0129],\n",
       "        [255.5785,   7.2025],\n",
       "        [255.9853,   7.4120],\n",
       "        [256.3910,   7.6292],\n",
       "        [256.7982,   7.8392],\n",
       "        [257.2123,   8.0542],\n",
       "        [257.6323,   8.2676],\n",
       "        [258.0597,   8.4775],\n",
       "        [258.4968,   8.6811],\n",
       "        [258.9510,   8.8860],\n",
       "        [259.4180,   9.0897],\n",
       "        [259.9019,   9.2943],\n",
       "        [260.4035,   9.4997],\n",
       "        [260.9241,   9.7114],\n",
       "        [261.4554,   9.9176],\n",
       "        [261.9958,  10.1169],\n",
       "        [262.5520,  10.3068],\n",
       "        [263.1194,  10.4885],\n",
       "        [263.6958,  10.6492],\n",
       "        [264.2845,  10.7941],\n",
       "        [264.8850,  10.9307],\n",
       "        [265.5011,  11.0683],\n",
       "        [266.1352,  11.1973],\n",
       "        [266.7841,  11.3366],\n",
       "        [267.4476,  11.4789],\n",
       "        [268.1144,  11.6279],\n",
       "        [268.7847,  11.7820],\n",
       "        [269.4588,  11.9356],\n",
       "        [270.1413,  12.0803],\n",
       "        [270.8304,  12.2148],\n",
       "        [271.5296,  12.3317],\n",
       "        [272.2403,  12.4385],\n",
       "        [272.9622,  12.5352],\n",
       "        [273.6918,  12.6323],\n",
       "        [274.4236,  12.7439],\n",
       "        [275.1625,  12.8613],\n",
       "        [275.9083,  13.0074],\n",
       "        [276.6620,  13.1650],\n",
       "        [277.4211,  13.3352],\n",
       "        [278.1837,  13.4963],\n",
       "        [278.9508,  13.6475],\n",
       "        [279.7225,  13.7838],\n",
       "        [280.4984,  13.9029],\n",
       "        [281.2842,  14.0124],\n",
       "        [282.0826,  14.1093],\n",
       "        [282.8837,  14.2046],\n",
       "        [283.6971,  14.3083],\n",
       "        [284.5112,  14.4087],\n",
       "        [285.3244,  14.5336],\n",
       "        [286.1462,  14.6643],\n",
       "        [286.9763,  14.8041],\n",
       "        [287.8111,  14.9382],\n",
       "        [288.6447,  15.0535],\n",
       "        [289.4791,  15.1540],\n",
       "        [290.3255,  15.2374],\n",
       "        [291.1743,  15.3094],\n",
       "        [292.0312,  15.3667],\n",
       "        [292.8957,  15.4212],\n",
       "        [293.7648,  15.4925],\n",
       "        [294.6381,  15.5573],\n",
       "        [295.5158,  15.6270],\n",
       "        [296.4037,  15.7062],\n",
       "        [297.2892,  15.7865],\n",
       "        [298.1771,  15.8564],\n",
       "        [299.0707,  15.9089],\n",
       "        [299.9712,  15.9651],\n",
       "        [300.8809,  16.0208],\n",
       "        [301.7912,  16.0604],\n",
       "        [302.7133,  16.1031],\n",
       "        [303.6360,  16.1468],\n",
       "        [304.5625,  16.1902],\n",
       "        [305.4930,  16.2420],\n",
       "        [306.4213,  16.2928],\n",
       "        [307.3496,  16.3556],\n",
       "        [308.2815,  16.4144],\n",
       "        [309.2191,  16.4693],\n",
       "        [310.1562,  16.5164],\n",
       "        [311.0960,  16.5568],\n",
       "        [312.0382,  16.5741],\n",
       "        [312.9810,  16.5752],\n",
       "        [313.9188,  16.5586],\n",
       "        [314.8498,  16.5378],\n",
       "        [315.7727,  16.5063],\n",
       "        [316.6827,  16.4715],\n",
       "        [317.5859,  16.4373],\n",
       "        [318.4811,  16.3900],\n",
       "        [319.3687,  16.3295],\n",
       "        [320.2479,  16.2512],\n",
       "        [321.1223,  16.1592],\n",
       "        [321.9928,  16.0518],\n",
       "        [322.8610,  15.9300],\n",
       "        [323.7273,  15.8041],\n",
       "        [324.5928,  15.6759],\n",
       "        [325.4529,  15.5438],\n",
       "        [326.3161,  15.4263],\n",
       "        [327.1877,  15.3316],\n",
       "        [328.0626,  15.2747],\n",
       "        [328.9449,  15.2484],\n",
       "        [329.8315,  15.2451],\n",
       "        [330.7360,  15.2643],\n",
       "        [331.6596,  15.3086],\n",
       "        [332.5965,  15.3613],\n",
       "        [333.5544,  15.4333],\n",
       "        [334.5334,  15.5428],\n",
       "        [335.5436,  15.7126],\n",
       "        [336.5815,  15.9293],\n",
       "        [337.6449,  16.2164],\n",
       "        [338.7499,  16.5743],\n",
       "        [339.8822,  16.9963],\n",
       "        [341.0470,  17.4877],\n",
       "        [342.2428,  18.0442],\n",
       "        [343.4692,  18.6375],\n",
       "        [344.7336,  19.2556],\n",
       "        [346.0174,  19.8578],\n",
       "        [347.3196,  20.4597]])"
      ]
     },
     "execution_count": 21,
     "metadata": {},
     "output_type": "execute_result"
    }
   ],
   "source": [
    "raw_predictions.x['target_scale']"
   ]
  },
  {
   "cell_type": "code",
   "execution_count": 18,
   "id": "03023f3a-a2ae-48ef-a597-1e0029ca4165",
   "metadata": {},
   "outputs": [
    {
     "data": {
      "text/plain": [
       "tensor([[164.0000, 164.4000, 164.8000, 165.1000, 165.5000],\n",
       "        [164.4000, 164.8000, 165.1000, 165.5000, 165.9000],\n",
       "        [164.8000, 165.1000, 165.5000, 165.9000, 166.4000],\n",
       "        ...,\n",
       "        [392.9100, 394.8980, 396.7260, 398.5930, 400.2100],\n",
       "        [394.8980, 396.7260, 398.5930, 400.2100, 402.2470],\n",
       "        [396.7260, 398.5930, 400.2100, 402.2470, 404.4870]])"
      ]
     },
     "execution_count": 18,
     "metadata": {},
     "output_type": "execute_result"
    }
   ],
   "source": [
    "raw_predictions.x['decoder_target']"
   ]
  },
  {
   "cell_type": "code",
   "execution_count": 77,
   "id": "e345a628-1c9a-49d5-bdbb-c0a155243652",
   "metadata": {},
   "outputs": [
    {
     "data": {
      "text/plain": [
       "['prediction', 'backcast', 'trend', 'seasonality', 'generic']"
      ]
     },
     "execution_count": 77,
     "metadata": {},
     "output_type": "execute_result"
    }
   ],
   "source": [
    "list(raw_predictions.output.keys())"
   ]
  },
  {
   "cell_type": "code",
   "execution_count": 81,
   "id": "3f1399bd-8324-41f6-84e1-917da0fbd201",
   "metadata": {},
   "outputs": [
    {
     "data": {
      "text/plain": [
       "tensor([[145.2000, 145.4000, 145.6000,  ..., 162.9000, 163.3000, 163.7000],\n",
       "        [145.4000, 145.6000, 146.4000,  ..., 163.3000, 163.7000, 164.0000],\n",
       "        [145.6000, 146.4000, 146.2000,  ..., 163.7000, 164.0000, 164.4000],\n",
       "        ...,\n",
       "        [315.8830, 316.7630, 317.4900,  ..., 385.6490, 388.3720, 391.1410],\n",
       "        [316.7630, 317.4900, 318.3180,  ..., 388.3720, 391.1410, 392.9100],\n",
       "        [317.4900, 318.3180, 319.3510,  ..., 391.1410, 392.9100, 394.8980]])"
      ]
     },
     "execution_count": 81,
     "metadata": {},
     "output_type": "execute_result"
    }
   ],
   "source": [
    "raw_predictions.x['encoder_target']"
   ]
  },
  {
   "cell_type": "code",
   "execution_count": 49,
   "id": "4326097b-455c-4feb-8b8e-e2c1d7d4e982",
   "metadata": {},
   "outputs": [
    {
     "data": {
      "text/plain": [
       "tensor([[163.8442, 163.9321, 164.4521, 165.0176, 165.1958],\n",
       "        [164.1666, 164.2569, 164.7950, 165.3854, 165.5821],\n",
       "        [164.5014, 164.5971, 165.1479, 165.7479, 165.9426],\n",
       "        ...,\n",
       "        [390.9784, 392.6306, 395.8621, 398.0815, 397.3728],\n",
       "        [394.1223, 395.8336, 399.2107, 401.5454, 400.8240],\n",
       "        [397.1190, 398.8510, 402.3515, 404.8136, 404.1188]])"
      ]
     },
     "execution_count": 49,
     "metadata": {},
     "output_type": "execute_result"
    }
   ],
   "source": [
    "raw_predictions.output['prediction']"
   ]
  },
  {
   "cell_type": "code",
   "execution_count": 55,
   "id": "dd85a969-29e2-4548-b5ee-c7559202067d",
   "metadata": {},
   "outputs": [
    {
     "data": {
      "text/plain": [
       "tensor([[158.8777, 159.3240, 159.2007,  ..., 164.9252, 164.7444, 164.2288],\n",
       "        [159.2000, 159.6465, 159.5124,  ..., 165.2870, 165.0959, 164.5634],\n",
       "        [159.5039, 159.9551, 159.8131,  ..., 165.6499, 165.4501, 164.9046],\n",
       "        ...,\n",
       "        [376.6084, 377.6385, 375.7230,  ..., 397.1777, 395.0813, 392.1530],\n",
       "        [379.3580, 380.4427, 378.4405,  ..., 400.6316, 398.4427, 395.3702],\n",
       "        [381.8782, 383.0515, 380.9971,  ..., 403.9207, 401.6734, 398.4648]])"
      ]
     },
     "execution_count": 55,
     "metadata": {},
     "output_type": "execute_result"
    }
   ],
   "source": [
    "raw_predictions.output['backcast']"
   ]
  },
  {
   "cell_type": "code",
   "execution_count": 56,
   "id": "e96309f5-e2d0-45c0-a482-cb2f8ab68921",
   "metadata": {},
   "outputs": [
    {
     "data": {
      "text/plain": [
       "tensor([[151.8671, 151.9963, 152.1245,  ..., 157.9413, 158.0070, 158.0717],\n",
       "        [152.1844, 152.3141, 152.4428,  ..., 158.3032, 158.3698, 158.4354],\n",
       "        [152.4568, 152.5880, 152.7180,  ..., 158.6338, 158.7009, 158.7670],\n",
       "        ...,\n",
       "        [338.5490, 338.9899, 339.4276,  ..., 359.7813, 360.0221, 360.2596],\n",
       "        [339.6742, 340.1297, 340.5819,  ..., 361.6127, 361.8615, 362.1070],\n",
       "        [340.7938, 341.2646, 341.7320,  ..., 363.4719, 363.7292, 363.9831]])"
      ]
     },
     "execution_count": 56,
     "metadata": {},
     "output_type": "execute_result"
    }
   ],
   "source": [
    "raw_predictions.output['trend']"
   ]
  },
  {
   "cell_type": "code",
   "execution_count": 57,
   "id": "c23d8270-13f0-4d01-9d5d-d51286271d85",
   "metadata": {},
   "outputs": [
    {
     "data": {
      "text/plain": [
       "tensor([[160.8940, 161.2110, 160.9594,  ..., 160.3941, 160.8940, 161.0074],\n",
       "        [161.2122, 161.5290, 161.2662,  ..., 160.6885, 161.2122, 161.3434],\n",
       "        [161.5604, 161.8805, 161.6084,  ..., 161.0275, 161.5604, 161.6890],\n",
       "        ...,\n",
       "        [382.7929, 383.3822, 381.0290,  ..., 380.8143, 382.7929, 381.8467],\n",
       "        [385.7013, 386.3304, 383.8760,  ..., 383.6154, 385.7013, 384.7344],\n",
       "        [388.4040, 389.1065, 386.5847,  ..., 386.1992, 388.4040, 387.4554]])"
      ]
     },
     "execution_count": 57,
     "metadata": {},
     "output_type": "execute_result"
    }
   ],
   "source": [
    "raw_predictions.output['seasonality']"
   ]
  },
  {
   "cell_type": "code",
   "execution_count": 58,
   "id": "e102ce16-65eb-4b72-8f34-9e41d166658a",
   "metadata": {},
   "outputs": [
    {
     "data": {
      "text/plain": [
       "tensor([[153.8833, 153.8833, 153.8833,  ..., 153.8833, 153.8833, 153.8833],\n",
       "        [154.1967, 154.1967, 154.1967,  ..., 154.1967, 154.1967, 154.1967],\n",
       "        [154.5134, 154.5134, 154.5134,  ..., 154.5134, 154.5134, 154.5134],\n",
       "        ...,\n",
       "        [344.7336, 344.7336, 344.7336,  ..., 344.7336, 344.7336, 344.7336],\n",
       "        [346.0174, 346.0174, 346.0174,  ..., 346.0174, 346.0174, 346.0174],\n",
       "        [347.3196, 347.3196, 347.3196,  ..., 347.3196, 347.3196, 347.3196]])"
      ]
     },
     "execution_count": 58,
     "metadata": {},
     "output_type": "execute_result"
    }
   ],
   "source": [
    "raw_predictions.output['generic']"
   ]
  },
  {
   "cell_type": "code",
   "execution_count": 53,
   "id": "62ec7c4a-baae-432d-bf4b-c34e9c5745be",
   "metadata": {},
   "outputs": [
    {
     "data": {
      "text/plain": [
       "tensor([[157.2036, 157.2329, 157.4063, 157.5948, 157.6541],\n",
       "        [157.5200, 157.5501, 157.7294, 157.9262, 157.9918],\n",
       "        [157.8427, 157.8746, 158.0582, 158.2582, 158.3231],\n",
       "        ...,\n",
       "        [360.1485, 360.6992, 361.7765, 362.5162, 362.2800],\n",
       "        [362.0523, 362.6228, 363.7485, 364.5267, 364.2863],\n",
       "        [363.9194, 364.4967, 365.6636, 366.4843, 366.2527]])"
      ]
     },
     "execution_count": 53,
     "metadata": {},
     "output_type": "execute_result"
    }
   ],
   "source": [
    "zz = ((raw_predictions.output['trend'] + raw_predictions.output['seasonality'] + raw_predictions.output['generic']) / 3)[:, 60:]\n",
    "zz"
   ]
  },
  {
   "cell_type": "code",
   "execution_count": 64,
   "id": "1a4e1c71-e7c7-4e0f-b878-f3c01627ff2f",
   "metadata": {},
   "outputs": [
    {
     "data": {
      "text/plain": [
       "tensor([[ 3.9235,  3.9913,  4.0580,  4.1237,  4.1883],\n",
       "        [ 3.9701,  4.0388,  4.1065,  4.1731,  4.2388],\n",
       "        [ 3.9831,  4.0523,  4.1204,  4.1875,  4.2536],\n",
       "        ...,\n",
       "        [14.5565, 14.8038, 15.0477, 15.2885, 15.5261],\n",
       "        [15.0876, 15.3431, 15.5953, 15.8441, 16.0896],\n",
       "        [15.6273, 15.8915, 16.1523, 16.4096, 16.6634]])"
      ]
     },
     "execution_count": 64,
     "metadata": {},
     "output_type": "execute_result"
    }
   ],
   "source": [
    "gg = ((raw_predictions.output['prediction'] - raw_predictions.output['seasonality'][:, 60:]))\n",
    "gg"
   ]
  },
  {
   "cell_type": "code",
   "execution_count": 68,
   "id": "7f62d864-5caf-425f-8912-1ceb54a27b59",
   "metadata": {},
   "outputs": [
    {
     "data": {
      "text/plain": [
       "tensor([[ -2.1138,  -2.0662,  -2.4528,  -2.8869,  -2.9358],\n",
       "        [ -2.0297,  -1.9826,  -2.3853,  -2.8424,  -2.9079],\n",
       "        [ -2.0218,  -1.9791,  -2.3937,  -2.8595,  -2.9220],\n",
       "        ...,\n",
       "        [-17.1318, -18.2895, -21.0330, -22.7708, -21.5871],\n",
       "        [-17.9296, -19.1299, -22.0027, -23.8398, -22.6274],\n",
       "        [-18.5446, -19.7482, -22.7273, -24.6748, -23.4723]])"
      ]
     },
     "execution_count": 68,
     "metadata": {},
     "output_type": "execute_result"
    }
   ],
   "source": [
    "xx = ((raw_predictions.output['trend'] - raw_predictions.output['seasonality']))[:, 60:]\n",
    "xx"
   ]
  },
  {
   "cell_type": "code",
   "execution_count": 74,
   "id": "2bad94c7-b66d-415b-baf3-5f602a4bde4c",
   "metadata": {},
   "outputs": [
    {
     "data": {
      "text/plain": [
       "tensor([[ 4.0793,  4.4592,  4.4059,  4.2061,  4.4926],\n",
       "        [ 4.2035,  4.5819,  4.4115,  4.2878,  4.5566],\n",
       "        [ 4.2817,  4.5552,  4.4725,  4.3396,  4.7110],\n",
       "        ...,\n",
       "        [16.4881, 17.0712, 15.9117, 15.8000, 18.3633],\n",
       "        [15.8634, 16.2356, 14.9776, 14.5087, 17.5126],\n",
       "        [15.2344, 15.6336, 14.0108, 13.8430, 17.0316]])"
      ]
     },
     "execution_count": 74,
     "metadata": {},
     "output_type": "execute_result"
    }
   ],
   "source": [
    "dd = ((raw_predictions.x['decoder_target'] - raw_predictions.output['seasonality'][:, 60:]))\n",
    "dd"
   ]
  },
  {
   "cell_type": "code",
   "execution_count": 79,
   "id": "e3ffb0d5-593c-4b9d-a205-2e40cfe5b8e0",
   "metadata": {},
   "outputs": [
    {
     "data": {
      "text/plain": [
       "tensor([[ 0.1558,  0.4679,  0.3479,  0.0824,  0.3042],\n",
       "        [ 0.2334,  0.5431,  0.3050,  0.1146,  0.3179],\n",
       "        [ 0.2986,  0.5029,  0.3521,  0.1521,  0.4574],\n",
       "        ...,\n",
       "        [ 1.9316,  2.2674,  0.8640,  0.5115,  2.8372],\n",
       "        [ 0.7757,  0.8925, -0.6177, -1.3354,  1.4230],\n",
       "        [-0.3930, -0.2580, -2.1415, -2.5666,  0.3682]])"
      ]
     },
     "execution_count": 79,
     "metadata": {},
     "output_type": "execute_result"
    }
   ],
   "source": [
    "ll = ((raw_predictions.x['decoder_target'] - raw_predictions.output['prediction']))\n",
    "ll"
   ]
  },
  {
   "cell_type": "code",
   "execution_count": 71,
   "id": "a937e2a0-64ff-4d3e-9fea-b82b48864614",
   "metadata": {},
   "outputs": [
    {
     "data": {
      "text/plain": [
       "[<matplotlib.lines.Line2D at 0x19183ed6e30>]"
      ]
     },
     "execution_count": 71,
     "metadata": {},
     "output_type": "execute_result"
    },
    {
     "data": {
      "image/png": "[encoded data removed]",
      "text/plain": [
       "<Figure size 640x480 with 1 Axes>"
      ]
     },
     "metadata": {},
     "output_type": "display_data"
    }
   ],
   "source": [
    "pyplot.plot(range(raw_predictions.output['trend'][:, 0].shape[0]),raw_predictions.output['trend'][:, 60], 'blue')\n",
    "pyplot.plot(range(raw_predictions.output['seasonality'][:, 0].shape[0]), raw_predictions.output['seasonality'][:, 60], 'orange')"
   ]
  },
  {
   "cell_type": "code",
   "execution_count": 80,
   "id": "ab959900-1893-4dc1-9946-111807d35036",
   "metadata": {},
   "outputs": [
    {
     "data": {
      "text/plain": [
       "[<matplotlib.lines.Line2D at 0x191851b0760>]"
      ]
     },
     "execution_count": 80,
     "metadata": {},
     "output_type": "execute_result"
    },
    {
     "data": {
      "image/png": "[encoded data removed]",
      "text/plain": [
       "<Figure size 640x480 with 1 Axes>"
      ]
     },
     "metadata": {},
     "output_type": "display_data"
    }
   ],
   "source": [
    "pyplot.plot(range(xx[:, 0].shape[0]), -xx[:, 0], 'pink')\n",
    "pyplot.plot(range(dd[:, 0].shape[0]), dd[:, 0], 'orange')\n",
    "pyplot.plot(range(ll[:, 0].shape[0]), ll[:, 0], 'blue')"
   ]
  },
  {
   "cell_type": "code",
   "execution_count": 65,
   "id": "97e7c43d-8b55-4349-b7aa-290552711764",
   "metadata": {},
   "outputs": [
    {
     "data": {
      "text/plain": [
       "[<matplotlib.lines.Line2D at 0x19183d4c8e0>]"
      ]
     },
     "execution_count": 65,
     "metadata": {},
     "output_type": "execute_result"
    },
    {
     "data": {
      "image/png": "[encoded data removed]",
      "text/plain": [
       "<Figure size 640x480 with 1 Axes>"
      ]
     },
     "metadata": {},
     "output_type": "display_data"
    }
   ],
   "source": [
    "from matplotlib import pyplot\n",
    "# pyplot.plot(range(raw_predictions.output['prediction'][:, 0].shape[0]), raw_predictions.output['prediction'][:, 0], 'blue')\n",
    "# pyplot.plot(range(raw_predictions.x['decoder_target'][:, 0].shape[0]), raw_predictions.x['decoder_target'][:, 0], 'orange')\n",
    "# pyplot.plot(range(zz[:, 0].shape[0]), zz[:, 0], 'pink')\n",
    "## pyplot.plot(range(raw_predictions.output['trend'][:, 0].shape[0]),raw_predictions.output['trend'][:, 60], 'blue')\n",
    "## pyplot.plot(range(raw_predictions.output['seasonality'][:, 0].shape[0]), raw_predictions.output['seasonality'][:, 60], 'orange')\n",
    "## pyplot.plot(range(raw_predictions.output['generic'][:, 0].shape[0]), raw_predictions.output['generic'][:, 60], 'pink')\n",
    "pyplot.plot(range(gg[:, 0].shape[0]), gg[:, 0], 'pink')\n",
    "pyplot.plot(range(gg[:, 0].shape[0]), gg[:, 0], 'pink')"
   ]
  },
  {
   "cell_type": "code",
   "execution_count": 22,
   "id": "78b16251-a836-4dca-8216-403c3597a00f",
   "metadata": {},
   "outputs": [
    {
     "data": {
      "text/plain": [
       "[<matplotlib.lines.Line2D at 0x19180c042e0>]"
      ]
     },
     "execution_count": 22,
     "metadata": {},
     "output_type": "execute_result"
    },
    {
     "data": {
      "image/png": "[encoded data removed]",
      "text/plain": [
       "<Figure size 640x480 with 1 Axes>"
      ]
     },
     "metadata": {},
     "output_type": "display_data"
    }
   ],
   "source": [
    "from matplotlib import pyplot\n",
    "# pyplot.plot(range(raw_predictions.x['decoder_target'][:, 0].shape[0]), raw_predictions.x['decoder_target'][:, 0], 'blue')\n",
    "pyplot.plot(range(raw_predictions.output['prediction'][100, :].shape[0]), raw_predictions.output['prediction'][100, :], 'blue')\n",
    "pyplot.plot(range(raw_predictions.x['decoder_target'][100, :].shape[0]), raw_predictions.x['decoder_target'][100, :], 'orange')\n",
    "pyplot.plot(range(raw_predictions.output['trend'][100, :].shape[0]), raw_predictions.output['trend'][100, :], 'pink')\n",
    "pyplot.plot(range(raw_predictions.output['seasonality'][100, :].shape[0]), raw_predictions.output['seasonality'][100, :], 'green')"
   ]
  },
  {
   "cell_type": "code",
   "execution_count": 23,
   "id": "6b60fa08-84bd-4af8-b8ff-d6e01b0394e1",
   "metadata": {},
   "outputs": [
    {
     "data": {
      "text/plain": [
       "tensor([312.7610, 313.3967, 314.0172, 314.7319, 315.3571, 316.0848, 316.7762,\n",
       "        317.5127, 318.2298, 318.9925, 319.8154, 320.6085, 321.3655, 322.0821,\n",
       "        322.8190, 323.5709, 324.3419, 325.0690, 325.8168, 326.5878, 327.3939,\n",
       "        328.2267, 329.1160, 329.9854, 330.8948, 331.7211, 332.5475, 333.3441,\n",
       "        334.0964, 334.8568, 335.5590, 336.2953, 337.0067, 337.6674, 338.3698,\n",
       "        339.0707, 339.9149, 340.7592, 341.7480, 342.6965, 343.6287, 344.5319,\n",
       "        345.4082, 346.3056, 347.2695, 348.2730, 349.3064, 350.4042, 351.4927,\n",
       "        352.6396, 353.7395, 354.9360, 356.1415, 357.3290, 358.5522, 359.7773,\n",
       "        360.9716, 362.2028, 363.4467, 364.7007, 365.9600, 367.2292, 368.4381,\n",
       "        369.6211, 370.7578, 371.7708, 372.6988, 373.6188, 374.5377, 375.4108,\n",
       "        376.2493, 377.0879, 377.9680, 378.8165, 379.7429, 380.6227, 381.5355,\n",
       "        382.4144, 383.2914, 384.1625, 385.0768, 385.9569, 386.9291, 387.8558,\n",
       "        388.8408, 389.7797, 390.7352, 391.7430, 392.7038, 393.7745, 394.8692,\n",
       "        395.9948, 397.1540, 398.4326, 399.6606, 400.8710, 402.0621, 403.2757,\n",
       "        404.4125, 405.5901, 406.8113, 407.9639, 409.1063, 410.2839, 411.4903,\n",
       "        412.6821, 413.8924, 415.1317, 416.3776, 417.6093, 418.7694, 419.9054,\n",
       "        421.1061, 422.3336, 423.5758, 424.8305, 426.1715, 427.5945, 428.9942,\n",
       "        430.4573, 431.9808, 433.4752, 434.9674, 436.5148, 437.9871, 439.3382,\n",
       "        440.6587, 441.8757, 443.0534, 444.1697, 445.3157, 446.4959, 447.7319,\n",
       "        449.0402, 450.2819, 451.4344, 452.5896, 453.7098, 454.6683, 455.7894,\n",
       "        456.9258, 458.0489, 459.1746, 460.4182, 461.6771, 462.8386, 464.0442,\n",
       "        465.1679, 466.2163, 467.1786, 468.1030, 468.9147, 469.6654, 470.3910,\n",
       "        471.0620, 471.7091, 472.3234, 472.8964, 473.5045, 474.1404, 474.8173,\n",
       "        475.5327, 476.2848, 477.0748, 477.9152, 478.7805, 479.7026, 480.6357,\n",
       "        481.6558, 482.7639, 483.9061, 485.0412, 486.1719, 487.2956, 488.3566,\n",
       "        489.4193, 490.5652, 491.7759, 492.9875, 494.3721, 495.7381, 497.1519,\n",
       "        498.4934, 499.7532, 500.9301, 502.0880, 503.1628, 504.1609, 505.2278,\n",
       "        506.2898, 507.4301, 508.6335, 509.8120, 510.9924, 512.0674, 513.0436,\n",
       "        514.0283, 514.8243, 515.6735, 516.4949, 517.2832, 518.1620, 518.9872,\n",
       "        519.8568, 520.7589, 521.6467, 522.5227, 523.3476, 524.1347, 524.9824,\n",
       "        525.8564, 526.7654, 527.7884, 528.8475, 530.0059, 531.1693, 532.4558,\n",
       "        533.7220, 534.8311, 536.0009, 537.2473, 538.4502, 539.5955, 540.9078,\n",
       "        542.3306, 543.7511, 545.2559, 546.9224, 548.4645, 549.9131, 551.3441,\n",
       "        552.7974, 554.1756, 555.5518, 557.0484, 558.5173, 560.0172, 561.5981,\n",
       "        563.1827, 564.8831, 566.5591, 568.3011, 569.9389, 571.4546, 573.0067,\n",
       "        574.4753, 575.9634, 577.5732, 579.1566, 580.8617, 582.4039, 584.0736,\n",
       "        585.7841, 587.4162, 589.1072, 590.6920, 592.2549, 593.8013, 595.3707,\n",
       "        597.0071, 598.6741, 600.4429, 602.2475, 603.9899, 605.8099, 607.5281,\n",
       "        609.2212, 610.9053, 612.7631, 614.6918, 616.5380, 618.5386, 620.6024,\n",
       "        622.6140, 624.6038, 626.5171, 628.4681, 630.2991, 632.1091, 633.9768,\n",
       "        635.8534, 637.5963, 639.3564, 641.0596, 642.7150, 644.2504, 645.6545,\n",
       "        647.0504, 648.3331, 649.6236, 650.8665, 652.0591, 653.3116, 654.6542,\n",
       "        656.0421, 657.5411, 659.1138, 660.8480, 662.6539, 664.7341, 667.0560,\n",
       "        669.4136, 671.9872, 674.7501, 677.6160, 680.6009, 683.8739, 687.5171,\n",
       "        691.2721, 695.2141, 699.4753, 703.7589, 708.1036, 712.5519, 716.9539,\n",
       "        721.3419, 725.3754, 729.1978])"
      ]
     },
     "execution_count": 23,
     "metadata": {},
     "output_type": "execute_result"
    }
   ],
   "source": [
    "raw_predictions.output['seasonality'][:, 0] + raw_predictions.output['trend'][:, 0]"
   ]
  },
  {
   "cell_type": "code",
   "execution_count": 24,
   "id": "192e260f-a57b-4e3e-a668-eac03e789907",
   "metadata": {},
   "outputs": [
    {
     "data": {
      "text/plain": [
       "tensor([163.8442, 164.1666, 164.5014, 164.9557, 165.3163, 165.7310, 166.0994,\n",
       "        166.5372, 166.9408, 167.4069, 167.9066, 168.3979, 168.8519, 169.2765,\n",
       "        169.7129, 170.1345, 170.5807, 171.0055, 171.4553, 171.9393, 172.4362,\n",
       "        172.9507, 173.5097, 174.0378, 174.5909, 175.0939, 175.6014, 176.0665,\n",
       "        176.5034, 176.9456, 177.3399, 177.7422, 178.1386, 178.5124, 178.9053,\n",
       "        179.2770, 179.7824, 180.2796, 180.8654, 181.4237, 181.9777, 182.4632,\n",
       "        182.9678, 183.4655, 184.0338, 184.6492, 185.2916, 185.9884, 186.6931,\n",
       "        187.4242, 188.1277, 188.8854, 189.6586, 190.3984, 191.1839, 191.9664,\n",
       "        192.7282, 193.5082, 194.3348, 195.1488, 195.9896, 196.8287, 197.6072,\n",
       "        198.3711, 199.0611, 199.6488, 200.1343, 200.6495, 201.1198, 201.5521,\n",
       "        201.9591, 202.3923, 202.8399, 203.2439, 203.7104, 204.1199, 204.5140,\n",
       "        204.9003, 205.2865, 205.6169, 206.0220, 206.4258, 206.8862, 207.2777,\n",
       "        207.7554, 208.1699, 208.5705, 209.0176, 209.4243, 209.8729, 210.3652,\n",
       "        210.8631, 211.3633, 211.9424, 212.5291, 213.0619, 213.6005, 214.1679,\n",
       "        214.7127, 215.2475, 215.8081, 216.3076, 216.7952, 217.3124, 217.8637,\n",
       "        218.4127, 218.9606, 219.5884, 220.1906, 220.7675, 221.3067, 221.8432,\n",
       "        222.4260, 223.0564, 223.7162, 224.4164, 225.1902, 226.0535, 226.9138,\n",
       "        227.8058, 228.7963, 229.7723, 230.7506, 231.7765, 232.7741, 233.6532,\n",
       "        234.4925, 235.2788, 236.0192, 236.6911, 237.4104, 238.1579, 238.9449,\n",
       "        239.7859, 240.5475, 241.2467, 241.8930, 242.5277, 243.0183, 243.6033,\n",
       "        244.2197, 244.8509, 245.4863, 246.2278, 246.9429, 247.5859, 248.2633,\n",
       "        248.8586, 249.3562, 249.7647, 250.1437, 250.3790, 250.5614, 250.7324,\n",
       "        250.8543, 250.9172, 250.9338, 250.9344, 250.8974, 250.8521, 250.8132,\n",
       "        250.7587, 250.7099, 250.7074, 250.7437, 250.7736, 250.8787, 251.0408,\n",
       "        251.2285, 251.5604, 251.9253, 252.2245, 252.5814, 252.9188, 253.2070,\n",
       "        253.5019, 253.8563, 254.2958, 254.7794, 255.4026, 256.0820, 256.7797,\n",
       "        257.4905, 258.1693, 258.7654, 259.3874, 259.9553, 260.4779, 261.0580,\n",
       "        261.6423, 262.2896, 263.0230, 263.7793, 264.5175, 265.1974, 265.8562,\n",
       "        266.4421, 266.9194, 267.3994, 267.9194, 268.4200, 269.0541, 269.6618,\n",
       "        270.2985, 271.0144, 271.7205, 272.4136, 273.0476, 273.6819, 274.3684,\n",
       "        275.0681, 275.7544, 276.5891, 277.3723, 278.2743, 279.1837, 280.1242,\n",
       "        280.9897, 281.7768, 282.5803, 283.3988, 284.1774, 284.9400, 285.7904,\n",
       "        286.7163, 287.6630, 288.6611, 289.7253, 290.7194, 291.6306, 292.5007,\n",
       "        293.3670, 294.1857, 294.9818, 295.8820, 296.7452, 297.6775, 298.6537,\n",
       "        299.6010, 300.6957, 301.7582, 302.8533, 303.8335, 304.7432, 305.6440,\n",
       "        306.4429, 307.2925, 308.2500, 309.1350, 310.1747, 311.1068, 312.0984,\n",
       "        313.0887, 314.0755, 315.0645, 315.9301, 316.7348, 317.5517, 318.3654,\n",
       "        319.1817, 320.0619, 321.0762, 322.0754, 323.0442, 324.0520, 324.9919,\n",
       "        325.8629, 326.7457, 327.7111, 328.7273, 329.7079, 330.7770, 331.9183,\n",
       "        333.0233, 334.1196, 335.1995, 336.2438, 337.2597, 338.2401, 339.1855,\n",
       "        340.1543, 340.9897, 341.8499, 342.6414, 343.4123, 344.0688, 344.5842,\n",
       "        345.1414, 345.6004, 345.9947, 346.3296, 346.6406, 346.9858, 347.3618,\n",
       "        347.8119, 348.3669, 348.9200, 349.6160, 350.4360, 351.4820, 352.7209,\n",
       "        354.0397, 355.5192, 357.1645, 358.9044, 360.7484, 362.9030, 365.4718,\n",
       "        368.0938, 370.9662, 374.1003, 377.3371, 380.6760, 384.1566, 387.5869,\n",
       "        390.9784, 394.1223, 397.1190])"
      ]
     },
     "execution_count": 24,
     "metadata": {},
     "output_type": "execute_result"
    }
   ],
   "source": [
    "raw_predictions.output['prediction'][:, 0]"
   ]
  },
  {
   "cell_type": "code",
   "execution_count": 107,
   "id": "ba47b1e4-fb46-4114-9110-43e6550e584c",
   "metadata": {},
   "outputs": [
    {
     "data": {
      "text/plain": [
       "[<matplotlib.lines.Line2D at 0x25f7a2c22f0>]"
      ]
     },
     "execution_count": 107,
     "metadata": {},
     "output_type": "execute_result"
    },
    {
     "data": {
      "image/png": "[encoded data removed]",
      "text/plain": [
       "<Figure size 640x480 with 1 Axes>"
      ]
     },
     "metadata": {},
     "output_type": "display_data"
    }
   ],
   "source": [
    "from matplotlib import pyplot\n",
    "# pyplot.plot(range(raw_predictions.x['decoder_target'][:, 0].shape[0]), raw_predictions.x['decoder_target'][:, 0], 'blue')\n",
    "pyplot.plot(range(raw_predictions.output['prediction'][:, 0].shape[0]), raw_predictions.output['prediction'][:, 0], 'blue')\n",
    "pyplot.plot(range(raw_predictions.x['decoder_target'][:, 0].shape[0]), raw_predictions.x['decoder_target'][:, 0], 'orange')\n",
    "pyplot.plot(range(raw_predictions.output['trend'][:, 0].shape[0]), raw_predictions.output['trend'][:, 0], 'pink')\n",
    "pyplot.plot(range(raw_predictions.output['seasonality'][:, 0].shape[0]), raw_predictions.output['seasonality'][:, 0], 'green')"
   ]
  },
  {
   "cell_type": "code",
   "execution_count": 108,
   "id": "638203cc-60c3-4e2d-a747-ed23826e1759",
   "metadata": {},
   "outputs": [
    {
     "data": {
      "text/plain": [
       "[<matplotlib.lines.Line2D at 0x25f7a2c3250>]"
      ]
     },
     "execution_count": 108,
     "metadata": {},
     "output_type": "execute_result"
    },
    {
     "data": {
      "image/png": "[encoded data removed]",
      "text/plain": [
       "<Figure size 640x480 with 1 Axes>"
      ]
     },
     "metadata": {},
     "output_type": "display_data"
    }
   ],
   "source": [
    "from matplotlib import pyplot\n",
    "zz = raw_predictions.x['decoder_target'][:, 0] - raw_predictions.output['prediction'][:, 0]\n",
    "# pyplot.plot(range(raw_predictions.x['decoder_target'][:, 0].shape[0]), raw_predictions.x['decoder_target'][:, 0], 'blue')\n",
    "pyplot.plot(range(zz.shape[0]), zz, 'blue')"
   ]
  },
  {
   "cell_type": "code",
   "execution_count": null,
   "id": "bc6f7890-1de1-4657-8d12-aa15693771b5",
   "metadata": {},
   "outputs": [],
   "source": [
    "from matplotlib import pyplot\n",
    "# pyplot.plot(range(raw_predictions.x['decoder_target'][:, 0].shape[0]), raw_predictions.x['decoder_target'][:, 0], 'blue')\n",
    "pyplot.plot(range(raw_predictions.output['prediction'][:, 0].shape[0]), raw_predictions.x['decoder_target'][:, 0], 'blue')\n",
    "pyplot.plot(range(raw_predictions.x['decoder_target'][:, 0].shape[0]), raw_predictions.x['decoder_target'][:, 0], 'orange')"
   ]
  },
  {
   "cell_type": "code",
   "execution_count": 57,
   "id": "6f48548a-d96d-495c-8e9b-01f2f07aa771",
   "metadata": {},
   "outputs": [
    {
     "data": {
      "text/plain": [
       "Output(prediction=tensor([[164.0527, 164.2372, 164.6983, 165.1500, 165.3002],\n",
       "        [164.3962, 164.5624, 165.0236, 165.4981, 165.6815],\n",
       "        [164.8470, 165.0133, 165.4955, 165.9961, 166.1913],\n",
       "        ...,\n",
       "        [392.7722, 394.8297, 398.3586, 400.7689, 400.2346],\n",
       "        [395.7813, 397.9120, 401.6141, 404.1754, 403.6642],\n",
       "        [398.6786, 400.8518, 404.6781, 407.3624, 406.8915]]), backcast=tensor([[150.1886, 150.7416, 150.8863,  ..., 164.4964, 164.4588, 164.2003],\n",
       "        [150.4366, 151.0084, 151.1657,  ..., 164.8550, 164.8288, 164.5642],\n",
       "        [150.8352, 151.4224, 151.5713,  ..., 165.3614, 165.3253, 165.0355],\n",
       "        ...,\n",
       "        [351.4965, 352.9008, 351.4919,  ..., 398.1756, 396.1758, 393.5344],\n",
       "        [353.6341, 355.0822, 353.5785,  ..., 401.5211, 399.4121, 396.6163],\n",
       "        [355.4882, 356.9886, 355.4360,  ..., 404.6512, 402.4777, 399.5741]]), trend=tensor([[144.3243, 144.6628, 144.9979,  ..., 159.1492, 159.2857, 159.4190],\n",
       "        [144.5578, 144.8985, 145.2358,  ..., 159.4818, 159.6193, 159.7535],\n",
       "        [144.8186, 145.1617, 145.5015,  ..., 159.8414, 159.9796, 160.1145],\n",
       "        ...,\n",
       "        [313.5888, 314.6980, 315.7966,  ..., 362.4062, 362.8612, 363.3057],\n",
       "        [314.0998, 315.2371, 316.3636,  ..., 364.1739, 364.6410, 365.0974],\n",
       "        [314.5446, 315.7117, 316.8677,  ..., 365.9392, 366.4189, 366.8876]]), seasonality=tensor([[159.7476, 159.9622, 159.7717,  ..., 159.4324, 159.7476, 159.7646],\n",
       "        [160.0754, 160.3066, 160.1265,  ..., 159.7385, 160.0754, 160.1247],\n",
       "        [160.5299, 160.7740, 160.5832,  ..., 160.1675, 160.5299, 160.5902],\n",
       "        ...,\n",
       "        [382.6413, 382.9364, 380.4288,  ..., 380.6860, 382.6413, 381.6625],\n",
       "        [385.5518, 385.8625, 383.2323,  ..., 383.4576, 385.5518, 384.5843],\n",
       "        [388.2632, 388.5966, 385.8879,  ..., 386.0585, 388.2632, 387.3236]]), generic=tensor([[153.8833, 153.8833, 153.8833,  ..., 153.8833, 153.8833, 153.8833],\n",
       "        [154.1967, 154.1967, 154.1967,  ..., 154.1967, 154.1967, 154.1967],\n",
       "        [154.5134, 154.5134, 154.5134,  ..., 154.5134, 154.5134, 154.5134],\n",
       "        ...,\n",
       "        [344.7336, 344.7336, 344.7336,  ..., 344.7336, 344.7336, 344.7336],\n",
       "        [346.0174, 346.0174, 346.0174,  ..., 346.0174, 346.0174, 346.0174],\n",
       "        [347.3196, 347.3196, 347.3196,  ..., 347.3196, 347.3196, 347.3196]]))"
      ]
     },
     "execution_count": 57,
     "metadata": {},
     "output_type": "execute_result"
    }
   ],
   "source": [
    "raw_predictions[0]"
   ]
  },
  {
   "cell_type": "code",
   "execution_count": 59,
   "id": "5f15a7e0-b303-4a25-bc2c-3f54cf49b413",
   "metadata": {},
   "outputs": [
    {
     "data": {
      "text/plain": [
       "tensor([164.0527, 164.3962, 164.8470, 165.2058, 165.5145, 165.8465, 166.2726,\n",
       "        166.7547, 167.2781, 167.7080, 168.1843, 168.5955, 169.0370, 169.4830,\n",
       "        169.9226, 170.3514, 170.8365, 171.2900, 171.6886, 172.1864, 172.6157,\n",
       "        173.1649, 173.7583, 174.3338, 174.9007, 175.3765, 175.8014, 176.2320,\n",
       "        176.6825, 177.1271, 177.5358, 177.9465, 178.3116, 178.6727, 179.0506,\n",
       "        179.4048, 179.9511, 180.4598, 181.0876, 181.6603, 182.2265, 182.7000,\n",
       "        183.1817, 183.7001, 184.3167, 185.0140, 185.7258, 186.4660, 187.1940,\n",
       "        187.9142, 188.6581, 189.3603, 190.1078, 190.8146, 191.6119, 192.3666,\n",
       "        193.1613, 193.9832, 194.8313, 195.6121, 196.4079, 197.1970, 197.9304,\n",
       "        198.6323, 199.2945, 199.8359, 200.2948, 200.7561, 201.1972, 201.5886,\n",
       "        202.0177, 202.4330, 202.8760, 203.2596, 203.7366, 204.1541, 204.5235,\n",
       "        204.9247, 205.3471, 205.7631, 206.2193, 206.7391, 207.2243, 207.6791,\n",
       "        208.1548, 208.5729, 208.9810, 209.4169, 209.8678, 210.3112, 210.7997,\n",
       "        211.2768, 211.8388, 212.4300, 213.0166, 213.5364, 214.0191, 214.5484,\n",
       "        215.0718, 215.5876, 216.1040, 216.6263, 217.1477, 217.6332, 218.2103,\n",
       "        218.7335, 219.3109, 219.8959, 220.5262, 221.0789, 221.5817, 222.1249,\n",
       "        222.7159, 223.3228, 223.9910, 224.7669, 225.5456, 226.4655, 227.4037,\n",
       "        228.3554, 229.2882, 230.3163, 231.2913, 232.3234, 233.2710, 234.1342,\n",
       "        234.8970, 235.6406, 236.3499, 237.0041, 237.6723, 238.4085, 239.2195,\n",
       "        240.0643, 240.8042, 241.4330, 241.9968, 242.5302, 242.9952, 243.6026,\n",
       "        244.2932, 245.0095, 245.7520, 246.5376, 247.2610, 247.8908, 248.5359,\n",
       "        249.0704, 249.5208, 249.9622, 250.2934, 250.5878, 250.8188, 251.0490,\n",
       "        251.1897, 251.2501, 251.2726, 251.2833, 251.3169, 251.2937, 251.3303,\n",
       "        251.4014, 251.4262, 251.5082, 251.6175, 251.7238, 251.8685, 252.0645,\n",
       "        252.3040, 252.6082, 252.9507, 253.2869, 253.5952, 253.8590, 254.1212,\n",
       "        254.3534, 254.6519, 255.0868, 255.5674, 256.1393, 256.7709, 257.4084,\n",
       "        258.0707, 258.6691, 259.1876, 259.6458, 260.0971, 260.5358, 261.1130,\n",
       "        261.7310, 262.3979, 263.2210, 263.9360, 264.5598, 265.1161, 265.6948,\n",
       "        266.2300, 266.7436, 267.3775, 267.9484, 268.6082, 269.3915, 270.1536,\n",
       "        270.9625, 271.6863, 272.4561, 273.0461, 273.6046, 274.2085, 274.8709,\n",
       "        275.5131, 276.2784, 277.1968, 278.0876, 278.9626, 279.8747, 280.7408,\n",
       "        281.6152, 282.3730, 283.1963, 284.0188, 284.6519, 285.4244, 286.2305,\n",
       "        287.1516, 288.1289, 289.2415, 290.2917, 291.2227, 292.0912, 292.8910,\n",
       "        293.6927, 294.4863, 295.2950, 296.2139, 297.1013, 298.1108, 299.0905,\n",
       "        300.0631, 301.1897, 302.2916, 303.3804, 304.3048, 305.1382, 305.9781,\n",
       "        306.7655, 307.6754, 308.6507, 309.6186, 310.6703, 311.6304, 312.6071,\n",
       "        313.5823, 314.5738, 315.4952, 316.3263, 317.0345, 317.8492, 318.6425,\n",
       "        319.5356, 320.5288, 321.6465, 322.5920, 323.5499, 324.5853, 325.5066,\n",
       "        326.3128, 327.2069, 328.1603, 329.2487, 330.2748, 331.4457, 332.5900,\n",
       "        333.7152, 334.8782, 335.9650, 336.9213, 337.8478, 338.8143, 339.6973,\n",
       "        340.6487, 341.5298, 342.3736, 343.0893, 343.7717, 344.3133, 344.8144,\n",
       "        345.3163, 345.7008, 346.0868, 346.4160, 346.7453, 347.1363, 347.5520,\n",
       "        348.1002, 348.7245, 349.3505, 350.1234, 351.0897, 352.2170, 353.5035,\n",
       "        354.8923, 356.5154, 358.4042, 360.3277, 362.3965, 364.7639, 367.4606,\n",
       "        370.2410, 373.2502, 376.3807, 379.5132, 382.8191, 386.1290, 389.4766,\n",
       "        392.7722, 395.7813, 398.6786])"
      ]
     },
     "execution_count": 59,
     "metadata": {},
     "output_type": "execute_result"
    }
   ],
   "source": [
    "\n",
    "xx = pandas.DataFrame(data={'yhat': raw_predictions[0][0][:, 0],\n",
    "                            'y': "
   ]
  },
  {
   "cell_type": "code",
   "execution_count": null,
   "id": "ec1a9812-0cad-4d47-9e3f-c530ca90020f",
   "metadata": {},
   "outputs": [],
   "source": []
  },
  {
   "cell_type": "code",
   "execution_count": null,
   "id": "792aa254-4088-4cc6-a23d-983e71c2831b",
   "metadata": {},
   "outputs": [],
   "source": []
  },
  {
   "cell_type": "code",
   "execution_count": null,
   "id": "2686e180-6777-4943-9538-58cb76eba218",
   "metadata": {},
   "outputs": [],
   "source": []
  },
  {
   "cell_type": "code",
   "execution_count": null,
   "id": "b3eed2fb-b2ab-4bc5-af16-086a37603276",
   "metadata": {},
   "outputs": [],
   "source": [
    "from sklearn.metrics import r2_score\n",
    "from functional import SomersD as somersd"
   ]
  },
  {
   "cell_type": "code",
   "execution_count": null,
   "id": "5c881dfa-7072-40e2-8866-7f18413952b5",
   "metadata": {},
   "outputs": [],
   "source": [
    "r2_score(y_true=predictions['y'].values, y_pred=predictions['yhat'].values)"
   ]
  },
  {
   "cell_type": "code",
   "execution_count": null,
   "id": "ac8effe2-0f9c-400e-b3cf-ce3cc68df2c0",
   "metadata": {},
   "outputs": [],
   "source": [
    "somersd(x=predictions['y'].values, y=predictions['yhat'].values)"
   ]
  },
  {
   "cell_type": "code",
   "execution_count": 793,
   "id": "8b273fc8-559a-4cd5-8495-c1390cf19148",
   "metadata": {},
   "outputs": [
    {
     "data": {
      "text/plain": [
       "<Axes: xlabel='ds'>"
      ]
     },
     "execution_count": 793,
     "metadata": {},
     "output_type": "execute_result"
    },
    {
     "data": {
      "image/png": "[encoded data removed]",
      "text/plain": [
       "<Figure size 640x480 with 1 Axes>"
      ]
     },
     "metadata": {},
     "output_type": "display_data"
    }
   ],
   "source": [
    "predictions.set_index('ds')[['resid']].plot()"
   ]
  },
  {
   "cell_type": "code",
   "execution_count": 794,
   "id": "8625672e-9b49-49e0-8900-c723b54fabfb",
   "metadata": {},
   "outputs": [
    {
     "data": {
      "text/plain": [
       "<Axes: >"
      ]
     },
     "execution_count": 794,
     "metadata": {},
     "output_type": "execute_result"
    },
    {
     "data": {
      "image/png": "[encoded data removed]",
      "text/plain": [
       "<Figure size 640x480 with 2 Axes>"
      ]
     },
     "metadata": {},
     "output_type": "display_data"
    }
   ],
   "source": [
    "predictions['rex'] = predictions['y'] - predictions[''] - predictions['trend'] - predictions['yearly']\n",
    "ax = predictions.set_index('ds')[['rex']].plot()\n",
    "predictions.set_index('ds')[['y']].plot(secondary_y=True, ax=ax)"
   ]
  },
  {
   "cell_type": "code",
   "execution_count": 795,
   "id": "45180fcf-28b6-42df-903a-b33febcd80c4",
   "metadata": {},
   "outputs": [
    {
     "data": {
      "text/plain": [
       "Index(['ds', 'y', 'trend', 'yhat_lower', 'yhat_upper', 'trend_lower',\n",
       "       'trend_upper', '', '_lower', '_upper', 'additive_terms',\n",
       "       'additive_terms_lower', 'additive_terms_upper', 'yearly',\n",
       "       'yearly_lower', 'yearly_upper', 'multiplicative_terms',\n",
       "       'multiplicative_terms_lower', 'multiplicative_terms_upper', 'yhat',\n",
       "       'resid', 'rex'],\n",
       "      dtype='object')"
      ]
     },
     "execution_count": 795,
     "metadata": {},
     "output_type": "execute_result"
    }
   ],
   "source": [
    "predictions.columns"
   ]
  },
  {
   "cell_type": "code",
   "execution_count": 726,
   "id": "880ff509-8d35-46da-96d7-3cf2e344c372",
   "metadata": {},
   "outputs": [],
   "source": [
    "# from prophet.plot import plot_plotly, plot_components_plotly\n",
    "\n",
    "# plot_plotly(m, forecast)"
   ]
  },
  {
   "cell_type": "code",
   "execution_count": 460,
   "id": "d4df799b-69f4-4178-8c51-5e09dd378991",
   "metadata": {},
   "outputs": [],
   "source": [
    "# plot_components_plotly(m, forecast)"
   ]
  },
  {
   "cell_type": "code",
   "execution_count": null,
   "id": "93f18729-3896-4084-9961-c7e60bb654fc",
   "metadata": {},
   "outputs": [],
   "source": []
  }
 ],
 "metadata": {
  "kernelspec": {
   "display_name": "Python 3 (ipykernel)",
   "language": "python",
   "name": "python3"
  },
  "language_info": {
   "codemirror_mode": {
    "name": "ipython",
    "version": 3
   },
   "file_extension": ".py",
   "mimetype": "text/x-python",
   "name": "python",
   "nbconvert_exporter": "python",
   "pygments_lexer": "ipython3",
   "version": "3.10.10"
  }
 },
 "nbformat": 4,
 "nbformat_minor": 5
}
